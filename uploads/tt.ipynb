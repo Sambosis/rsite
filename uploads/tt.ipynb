{
 "cells": [
  {
   "cell_type": "code",
   "execution_count": 6,
   "metadata": {},
   "outputs": [],
   "source": [
    "import pandas as pd\n",
    "df = pd.read_csv('uaset.csv')\n",
    "# drop rows with NaN values for  CUST \n",
    "df = df.dropna(subset=['CUST'])\n",
    "# NEW STOP = FIRST 2 CHARACTERS OF NEW STOP CONVERTED TO INTEGER\n",
    "df['NEW STOP'] = df['NEW STOP'].str[:2].astype(int)\n"
   ]
  },
  {
   "cell_type": "code",
   "execution_count": 10,
   "metadata": {},
   "outputs": [
    {
     "name": "stdout",
     "output_type": "stream",
     "text": [
      "        BR  RT  DAY   STOP  NEW BR  NEW RT  NEW DAY  NEW STOP         CUST  \\\n",
      "0    650.0   1    1     01   650.0       1        1         1  236500003.0   \n",
      "1    650.0   1    1     03   650.0       1        1         3   65047797.0   \n",
      "2    650.0   1    1     04   650.0       1        1         4     650643.0   \n",
      "3    650.0   1    1     05   650.0       1        1         5     650470.0   \n",
      "4    650.0   1    1  02,04   650.0       1        1         2  146500016.0   \n",
      "..     ...  ..  ...    ...     ...     ...      ...       ...          ...   \n",
      "346  650.0   3   17     05   650.0       3       17         5  236500026.0   \n",
      "347  650.0   3   17     06   650.0       3       17         6     650691.0   \n",
      "348  650.0   3   17     07   650.0       3       17         7    6501010.0   \n",
      "349  650.0   3   18     02   650.0       3       18         2  216500023.0   \n",
      "350  650.0   3   18     03   650.0       3       18         3  216500036.0   \n",
      "\n",
      "                  CUST NAME  ...           CITY         ZIP    EST DATE  \\\n",
      "0    LAS ESPERANZAS CAFE 3   ...      BALTIMORE       21224  01/03/2023   \n",
      "1           BOULEVARD DINER  ...        DUNDALK       21222  04/04/2002   \n",
      "2        FRIENDLY'S DUNDALK  ...        DUNDALK       21222  04/15/2010   \n",
      "3      SCOOZZI'S RESTAURANT  ...        DUNDALK       21222  04/15/2008   \n",
      "4    JIMMY'S FAMOUS SEAFOOD  ...      BALTIMORE  21224-6244  05/01/2014   \n",
      "..                      ...  ...            ...         ...         ...   \n",
      "346               PHO DENA   ...       PASADENA  21122-4455  09/21/2023   \n",
      "347     FRIENDLY'S PASADENA  ...       PASADENA       21122  08/24/2010   \n",
      "348                LIFE PHO  ...  SEVERNA PARK        21146  05/07/2013   \n",
      "349          APRIL'S TABLE   ...   SEVERNA PARK       21146  07/01/2021   \n",
      "350             THE SOCIAL   ...  SEVERNA PARK        21146  10/07/2021   \n",
      "\n",
      "    BIG 5 AVG COMP AVG   Latitude  Longitude  Machine  Companion  Stop ID  \n",
      "0      353.95     0.00  39.288900 -76.536066   353.95       0.00        0  \n",
      "1     2026.13   830.97  39.270776 -76.503539  2026.13     830.97        1  \n",
      "2      230.63    87.98  39.273241 -76.502502   230.63      87.98        2  \n",
      "3      399.00     0.00  39.279620 -76.502158   399.00       0.00        3  \n",
      "4     2044.16    91.13  39.272453 -76.535265  2044.16      91.13        4  \n",
      "..        ...      ...        ...        ...      ...        ...      ...  \n",
      "346    246.00     0.00  39.122647 -76.516454   246.00       0.00      346  \n",
      "347    204.45    74.89  39.122456 -76.515626   204.45      74.89      347  \n",
      "348    309.98     0.00  39.084673 -76.552625   309.98       0.00      348  \n",
      "349    260.00     0.00  39.074664 -76.548509   260.00       0.00      349  \n",
      "350    407.81     0.00  39.101924 -76.565523   407.81       0.00      350  \n",
      "\n",
      "[351 rows x 22 columns]\n"
     ]
    }
   ],
   "source": [
    "df.to_csv('aa.csv', index=False)\n",
    "print(df)\n"
   ]
  }
 ],
 "metadata": {
  "kernelspec": {
   "display_name": "Python 3",
   "language": "python",
   "name": "python3"
  },
  "language_info": {
   "codemirror_mode": {
    "name": "ipython",
    "version": 3
   },
   "file_extension": ".py",
   "mimetype": "text/x-python",
   "name": "python",
   "nbconvert_exporter": "python",
   "pygments_lexer": "ipython3",
   "version": "3.10.13"
  }
 },
 "nbformat": 4,
 "nbformat_minor": 2
}
