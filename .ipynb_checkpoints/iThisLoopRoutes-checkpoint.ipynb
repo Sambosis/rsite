{
 "cells": [
  {
   "cell_type": "markdown",
   "metadata": {},
   "source": [
    "# Boring Definition"
   ]
  },
  {
   "cell_type": "code",
   "execution_count": 1,
   "metadata": {
    "notebookRunGroups": {
     "groupValue": "1"
    }
   },
   "outputs": [
    {
     "data": {
      "text/html": [
       "<pre style=\"white-space:pre;overflow-x:auto;line-height:normal;font-family:Menlo,'DejaVu Sans Mono',consolas,'Courier New',monospace\">Updating coordinates<span style=\"color: #808000; text-decoration-color: #808000\">...</span>\n",
       "</pre>\n"
      ],
      "text/plain": [
       "Updating coordinates\u001b[33m...\u001b[0m\n"
      ]
     },
     "metadata": {},
     "output_type": "display_data"
    },
    {
     "name": "stderr",
     "output_type": "stream",
     "text": [
      "100%|██████████| 354/354 [00:00<00:00, 2012.52it/s]\n"
     ]
    },
    {
     "data": {
      "text/html": [
       "<pre style=\"white-space:pre;overflow-x:auto;line-height:normal;font-family:Menlo,'DejaVu Sans Mono',consolas,'Courier New',monospace\">     <span style=\"color: #008080; text-decoration-color: #008080; font-weight: bold\">0</span>    <span style=\"color: #008080; text-decoration-color: #008080; font-weight: bold\">1</span>    <span style=\"color: #008080; text-decoration-color: #008080; font-weight: bold\">2</span>    <span style=\"color: #008080; text-decoration-color: #008080; font-weight: bold\">3</span>    <span style=\"color: #008080; text-decoration-color: #008080; font-weight: bold\">4</span>    <span style=\"color: #008080; text-decoration-color: #008080; font-weight: bold\">5</span>    <span style=\"color: #008080; text-decoration-color: #008080; font-weight: bold\">6</span>    <span style=\"color: #008080; text-decoration-color: #008080; font-weight: bold\">7</span>    <span style=\"color: #008080; text-decoration-color: #008080; font-weight: bold\">8</span>    <span style=\"color: #008080; text-decoration-color: #008080; font-weight: bold\">9</span>    <span style=\"color: #808000; text-decoration-color: #808000\">...</span>  <span style=\"color: #008080; text-decoration-color: #008080; font-weight: bold\">344</span>  <span style=\"color: #008080; text-decoration-color: #008080; font-weight: bold\">345</span>  <span style=\"color: #008080; text-decoration-color: #008080; font-weight: bold\">346</span>  \\\n",
       "<span style=\"color: #008080; text-decoration-color: #008080; font-weight: bold\">0</span>      <span style=\"color: #008080; text-decoration-color: #008080; font-weight: bold\">0</span>    <span style=\"color: #008080; text-decoration-color: #008080; font-weight: bold\">1</span>    <span style=\"color: #008080; text-decoration-color: #008080; font-weight: bold\">1</span>    <span style=\"color: #008080; text-decoration-color: #008080; font-weight: bold\">1</span>    <span style=\"color: #008080; text-decoration-color: #008080; font-weight: bold\">1</span>    <span style=\"color: #008080; text-decoration-color: #008080; font-weight: bold\">1</span>    <span style=\"color: #008080; text-decoration-color: #008080; font-weight: bold\">1</span>    <span style=\"color: #008080; text-decoration-color: #008080; font-weight: bold\">1</span>    <span style=\"color: #008080; text-decoration-color: #008080; font-weight: bold\">1</span>    <span style=\"color: #008080; text-decoration-color: #008080; font-weight: bold\">1</span>  <span style=\"color: #808000; text-decoration-color: #808000\">...</span>    <span style=\"color: #008080; text-decoration-color: #008080; font-weight: bold\">1</span>    <span style=\"color: #008080; text-decoration-color: #008080; font-weight: bold\">1</span>    <span style=\"color: #008080; text-decoration-color: #008080; font-weight: bold\">1</span>   \n",
       "<span style=\"color: #008080; text-decoration-color: #008080; font-weight: bold\">1</span>      <span style=\"color: #008080; text-decoration-color: #008080; font-weight: bold\">1</span>    <span style=\"color: #008080; text-decoration-color: #008080; font-weight: bold\">0</span>    <span style=\"color: #008080; text-decoration-color: #008080; font-weight: bold\">6</span>   <span style=\"color: #008080; text-decoration-color: #008080; font-weight: bold\">20</span>   <span style=\"color: #008080; text-decoration-color: #008080; font-weight: bold\">32</span>   <span style=\"color: #008080; text-decoration-color: #008080; font-weight: bold\">41</span>  <span style=\"color: #008080; text-decoration-color: #008080; font-weight: bold\">113</span>  <span style=\"color: #008080; text-decoration-color: #008080; font-weight: bold\">112</span>   <span style=\"color: #008080; text-decoration-color: #008080; font-weight: bold\">44</span>   <span style=\"color: #008080; text-decoration-color: #008080; font-weight: bold\">48</span>  <span style=\"color: #808000; text-decoration-color: #808000\">...</span>  <span style=\"color: #008080; text-decoration-color: #008080; font-weight: bold\">380</span>  <span style=\"color: #008080; text-decoration-color: #008080; font-weight: bold\">415</span>  <span style=\"color: #008080; text-decoration-color: #008080; font-weight: bold\">388</span>   \n",
       "<span style=\"color: #008080; text-decoration-color: #008080; font-weight: bold\">2</span>      <span style=\"color: #008080; text-decoration-color: #008080; font-weight: bold\">1</span>  <span style=\"color: #008080; text-decoration-color: #008080; font-weight: bold\">116</span>    <span style=\"color: #008080; text-decoration-color: #008080; font-weight: bold\">0</span>   <span style=\"color: #008080; text-decoration-color: #008080; font-weight: bold\">16</span>   <span style=\"color: #008080; text-decoration-color: #008080; font-weight: bold\">28</span>   <span style=\"color: #008080; text-decoration-color: #008080; font-weight: bold\">37</span>  <span style=\"color: #008080; text-decoration-color: #008080; font-weight: bold\">118</span>  <span style=\"color: #008080; text-decoration-color: #008080; font-weight: bold\">117</span>   <span style=\"color: #008080; text-decoration-color: #008080; font-weight: bold\">42</span>   <span style=\"color: #008080; text-decoration-color: #008080; font-weight: bold\">45</span>  <span style=\"color: #808000; text-decoration-color: #808000\">...</span>  <span style=\"color: #008080; text-decoration-color: #008080; font-weight: bold\">380</span>  <span style=\"color: #008080; text-decoration-color: #008080; font-weight: bold\">419</span>  <span style=\"color: #008080; text-decoration-color: #008080; font-weight: bold\">391</span>   \n",
       "<span style=\"color: #008080; text-decoration-color: #008080; font-weight: bold\">3</span>      <span style=\"color: #008080; text-decoration-color: #008080; font-weight: bold\">1</span>  <span style=\"color: #008080; text-decoration-color: #008080; font-weight: bold\">130</span>  <span style=\"color: #008080; text-decoration-color: #008080; font-weight: bold\">126</span>    <span style=\"color: #008080; text-decoration-color: #008080; font-weight: bold\">0</span>   <span style=\"color: #008080; text-decoration-color: #008080; font-weight: bold\">13</span>   <span style=\"color: #008080; text-decoration-color: #008080; font-weight: bold\">22</span>  <span style=\"color: #008080; text-decoration-color: #008080; font-weight: bold\">130</span>  <span style=\"color: #008080; text-decoration-color: #008080; font-weight: bold\">130</span>   <span style=\"color: #008080; text-decoration-color: #008080; font-weight: bold\">31</span>   <span style=\"color: #008080; text-decoration-color: #008080; font-weight: bold\">29</span>  <span style=\"color: #808000; text-decoration-color: #808000\">...</span>  <span style=\"color: #008080; text-decoration-color: #008080; font-weight: bold\">370</span>  <span style=\"color: #008080; text-decoration-color: #008080; font-weight: bold\">419</span>  <span style=\"color: #008080; text-decoration-color: #008080; font-weight: bold\">390</span>   \n",
       "<span style=\"color: #008080; text-decoration-color: #008080; font-weight: bold\">4</span>      <span style=\"color: #008080; text-decoration-color: #008080; font-weight: bold\">1</span>  <span style=\"color: #008080; text-decoration-color: #008080; font-weight: bold\">142</span>  <span style=\"color: #008080; text-decoration-color: #008080; font-weight: bold\">138</span>  <span style=\"color: #008080; text-decoration-color: #008080; font-weight: bold\">123</span>    <span style=\"color: #008080; text-decoration-color: #008080; font-weight: bold\">0</span>    <span style=\"color: #008080; text-decoration-color: #008080; font-weight: bold\">9</span>  <span style=\"color: #008080; text-decoration-color: #008080; font-weight: bold\">142</span>  <span style=\"color: #008080; text-decoration-color: #008080; font-weight: bold\">142</span>  <span style=\"color: #008080; text-decoration-color: #008080; font-weight: bold\">137</span>   <span style=\"color: #008080; text-decoration-color: #008080; font-weight: bold\">18</span>  <span style=\"color: #808000; text-decoration-color: #808000\">...</span>  <span style=\"color: #008080; text-decoration-color: #008080; font-weight: bold\">363</span>  <span style=\"color: #008080; text-decoration-color: #008080; font-weight: bold\">421</span>  <span style=\"color: #008080; text-decoration-color: #008080; font-weight: bold\">391</span>   \n",
       "..   <span style=\"color: #808000; text-decoration-color: #808000\">...</span>  <span style=\"color: #808000; text-decoration-color: #808000\">...</span>  <span style=\"color: #808000; text-decoration-color: #808000\">...</span>  <span style=\"color: #808000; text-decoration-color: #808000\">...</span>  <span style=\"color: #808000; text-decoration-color: #808000\">...</span>  <span style=\"color: #808000; text-decoration-color: #808000\">...</span>  <span style=\"color: #808000; text-decoration-color: #808000\">...</span>  <span style=\"color: #808000; text-decoration-color: #808000\">...</span>  <span style=\"color: #808000; text-decoration-color: #808000\">...</span>  <span style=\"color: #808000; text-decoration-color: #808000\">...</span>  <span style=\"color: #808000; text-decoration-color: #808000\">...</span>  <span style=\"color: #808000; text-decoration-color: #808000\">...</span>  <span style=\"color: #808000; text-decoration-color: #808000\">...</span>  <span style=\"color: #808000; text-decoration-color: #808000\">...</span>   \n",
       "<span style=\"color: #008080; text-decoration-color: #008080; font-weight: bold\">349</span>    <span style=\"color: #008080; text-decoration-color: #008080; font-weight: bold\">1</span>  <span style=\"color: #008080; text-decoration-color: #008080; font-weight: bold\">273</span>  <span style=\"color: #008080; text-decoration-color: #008080; font-weight: bold\">277</span>  <span style=\"color: #008080; text-decoration-color: #008080; font-weight: bold\">275</span>  <span style=\"color: #008080; text-decoration-color: #008080; font-weight: bold\">276</span>  <span style=\"color: #008080; text-decoration-color: #008080; font-weight: bold\">276</span>  <span style=\"color: #008080; text-decoration-color: #008080; font-weight: bold\">271</span>  <span style=\"color: #008080; text-decoration-color: #008080; font-weight: bold\">272</span>  <span style=\"color: #008080; text-decoration-color: #008080; font-weight: bold\">251</span>  <span style=\"color: #008080; text-decoration-color: #008080; font-weight: bold\">269</span>  <span style=\"color: #808000; text-decoration-color: #808000\">...</span>  <span style=\"color: #008080; text-decoration-color: #008080; font-weight: bold\">177</span>  <span style=\"color: #008080; text-decoration-color: #008080; font-weight: bold\">158</span>  <span style=\"color: #008080; text-decoration-color: #008080; font-weight: bold\">117</span>   \n",
       "<span style=\"color: #008080; text-decoration-color: #008080; font-weight: bold\">350</span>    <span style=\"color: #008080; text-decoration-color: #008080; font-weight: bold\">1</span>  <span style=\"color: #008080; text-decoration-color: #008080; font-weight: bold\">273</span>  <span style=\"color: #008080; text-decoration-color: #008080; font-weight: bold\">277</span>  <span style=\"color: #008080; text-decoration-color: #008080; font-weight: bold\">275</span>  <span style=\"color: #008080; text-decoration-color: #008080; font-weight: bold\">276</span>  <span style=\"color: #008080; text-decoration-color: #008080; font-weight: bold\">276</span>  <span style=\"color: #008080; text-decoration-color: #008080; font-weight: bold\">271</span>  <span style=\"color: #008080; text-decoration-color: #008080; font-weight: bold\">272</span>  <span style=\"color: #008080; text-decoration-color: #008080; font-weight: bold\">251</span>  <span style=\"color: #008080; text-decoration-color: #008080; font-weight: bold\">269</span>  <span style=\"color: #808000; text-decoration-color: #808000\">...</span>  <span style=\"color: #008080; text-decoration-color: #008080; font-weight: bold\">177</span>  <span style=\"color: #008080; text-decoration-color: #008080; font-weight: bold\">158</span>  <span style=\"color: #008080; text-decoration-color: #008080; font-weight: bold\">117</span>   \n",
       "<span style=\"color: #008080; text-decoration-color: #008080; font-weight: bold\">351</span>    <span style=\"color: #008080; text-decoration-color: #008080; font-weight: bold\">1</span>  <span style=\"color: #008080; text-decoration-color: #008080; font-weight: bold\">292</span>  <span style=\"color: #008080; text-decoration-color: #008080; font-weight: bold\">296</span>  <span style=\"color: #008080; text-decoration-color: #008080; font-weight: bold\">296</span>  <span style=\"color: #008080; text-decoration-color: #008080; font-weight: bold\">298</span>  <span style=\"color: #008080; text-decoration-color: #008080; font-weight: bold\">299</span>  <span style=\"color: #008080; text-decoration-color: #008080; font-weight: bold\">290</span>  <span style=\"color: #008080; text-decoration-color: #008080; font-weight: bold\">291</span>  <span style=\"color: #008080; text-decoration-color: #008080; font-weight: bold\">273</span>  <span style=\"color: #008080; text-decoration-color: #008080; font-weight: bold\">292</span>  <span style=\"color: #808000; text-decoration-color: #808000\">...</span>  <span style=\"color: #008080; text-decoration-color: #008080; font-weight: bold\">208</span>  <span style=\"color: #008080; text-decoration-color: #008080; font-weight: bold\">127</span>   <span style=\"color: #008080; text-decoration-color: #008080; font-weight: bold\">25</span>   \n",
       "<span style=\"color: #008080; text-decoration-color: #008080; font-weight: bold\">352</span>    <span style=\"color: #008080; text-decoration-color: #008080; font-weight: bold\">1</span>  <span style=\"color: #008080; text-decoration-color: #008080; font-weight: bold\">292</span>  <span style=\"color: #008080; text-decoration-color: #008080; font-weight: bold\">296</span>  <span style=\"color: #008080; text-decoration-color: #008080; font-weight: bold\">296</span>  <span style=\"color: #008080; text-decoration-color: #008080; font-weight: bold\">298</span>  <span style=\"color: #008080; text-decoration-color: #008080; font-weight: bold\">299</span>  <span style=\"color: #008080; text-decoration-color: #008080; font-weight: bold\">290</span>  <span style=\"color: #008080; text-decoration-color: #008080; font-weight: bold\">291</span>  <span style=\"color: #008080; text-decoration-color: #008080; font-weight: bold\">273</span>  <span style=\"color: #008080; text-decoration-color: #008080; font-weight: bold\">292</span>  <span style=\"color: #808000; text-decoration-color: #808000\">...</span>  <span style=\"color: #008080; text-decoration-color: #008080; font-weight: bold\">208</span>  <span style=\"color: #008080; text-decoration-color: #008080; font-weight: bold\">127</span>   <span style=\"color: #008080; text-decoration-color: #008080; font-weight: bold\">25</span>   \n",
       "<span style=\"color: #008080; text-decoration-color: #008080; font-weight: bold\">353</span>    <span style=\"color: #008080; text-decoration-color: #008080; font-weight: bold\">1</span>  <span style=\"color: #008080; text-decoration-color: #008080; font-weight: bold\">273</span>  <span style=\"color: #008080; text-decoration-color: #008080; font-weight: bold\">277</span>  <span style=\"color: #008080; text-decoration-color: #008080; font-weight: bold\">275</span>  <span style=\"color: #008080; text-decoration-color: #008080; font-weight: bold\">276</span>  <span style=\"color: #008080; text-decoration-color: #008080; font-weight: bold\">276</span>  <span style=\"color: #008080; text-decoration-color: #008080; font-weight: bold\">271</span>  <span style=\"color: #008080; text-decoration-color: #008080; font-weight: bold\">272</span>  <span style=\"color: #008080; text-decoration-color: #008080; font-weight: bold\">251</span>  <span style=\"color: #008080; text-decoration-color: #008080; font-weight: bold\">269</span>  <span style=\"color: #808000; text-decoration-color: #808000\">...</span>  <span style=\"color: #008080; text-decoration-color: #008080; font-weight: bold\">177</span>  <span style=\"color: #008080; text-decoration-color: #008080; font-weight: bold\">158</span>  <span style=\"color: #008080; text-decoration-color: #008080; font-weight: bold\">117</span>   \n",
       "\n",
       "     <span style=\"color: #008080; text-decoration-color: #008080; font-weight: bold\">347</span>  <span style=\"color: #008080; text-decoration-color: #008080; font-weight: bold\">348</span>  <span style=\"color: #008080; text-decoration-color: #008080; font-weight: bold\">349</span>  <span style=\"color: #008080; text-decoration-color: #008080; font-weight: bold\">350</span>  <span style=\"color: #008080; text-decoration-color: #008080; font-weight: bold\">351</span>  <span style=\"color: #008080; text-decoration-color: #008080; font-weight: bold\">352</span>  <span style=\"color: #008080; text-decoration-color: #008080; font-weight: bold\">353</span>  \n",
       "<span style=\"color: #008080; text-decoration-color: #008080; font-weight: bold\">0</span>      <span style=\"color: #008080; text-decoration-color: #008080; font-weight: bold\">1</span>    <span style=\"color: #008080; text-decoration-color: #008080; font-weight: bold\">1</span>    <span style=\"color: #008080; text-decoration-color: #008080; font-weight: bold\">1</span>    <span style=\"color: #008080; text-decoration-color: #008080; font-weight: bold\">1</span>    <span style=\"color: #008080; text-decoration-color: #008080; font-weight: bold\">1</span>    <span style=\"color: #008080; text-decoration-color: #008080; font-weight: bold\">1</span>    <span style=\"color: #008080; text-decoration-color: #008080; font-weight: bold\">1</span>  \n",
       "<span style=\"color: #008080; text-decoration-color: #008080; font-weight: bold\">1</span>    <span style=\"color: #008080; text-decoration-color: #008080; font-weight: bold\">386</span>  <span style=\"color: #008080; text-decoration-color: #008080; font-weight: bold\">366</span>  <span style=\"color: #008080; text-decoration-color: #008080; font-weight: bold\">383</span>  <span style=\"color: #008080; text-decoration-color: #008080; font-weight: bold\">383</span>  <span style=\"color: #008080; text-decoration-color: #008080; font-weight: bold\">402</span>  <span style=\"color: #008080; text-decoration-color: #008080; font-weight: bold\">402</span>  <span style=\"color: #008080; text-decoration-color: #008080; font-weight: bold\">383</span>  \n",
       "<span style=\"color: #008080; text-decoration-color: #008080; font-weight: bold\">2</span>    <span style=\"color: #008080; text-decoration-color: #008080; font-weight: bold\">390</span>  <span style=\"color: #008080; text-decoration-color: #008080; font-weight: bold\">369</span>  <span style=\"color: #008080; text-decoration-color: #008080; font-weight: bold\">387</span>  <span style=\"color: #008080; text-decoration-color: #008080; font-weight: bold\">387</span>  <span style=\"color: #008080; text-decoration-color: #008080; font-weight: bold\">406</span>  <span style=\"color: #008080; text-decoration-color: #008080; font-weight: bold\">406</span>  <span style=\"color: #008080; text-decoration-color: #008080; font-weight: bold\">387</span>  \n",
       "<span style=\"color: #008080; text-decoration-color: #008080; font-weight: bold\">3</span>    <span style=\"color: #008080; text-decoration-color: #008080; font-weight: bold\">389</span>  <span style=\"color: #008080; text-decoration-color: #008080; font-weight: bold\">367</span>  <span style=\"color: #008080; text-decoration-color: #008080; font-weight: bold\">385</span>  <span style=\"color: #008080; text-decoration-color: #008080; font-weight: bold\">385</span>  <span style=\"color: #008080; text-decoration-color: #008080; font-weight: bold\">406</span>  <span style=\"color: #008080; text-decoration-color: #008080; font-weight: bold\">406</span>  <span style=\"color: #008080; text-decoration-color: #008080; font-weight: bold\">385</span>  \n",
       "<span style=\"color: #008080; text-decoration-color: #008080; font-weight: bold\">4</span>    <span style=\"color: #008080; text-decoration-color: #008080; font-weight: bold\">390</span>  <span style=\"color: #008080; text-decoration-color: #008080; font-weight: bold\">367</span>  <span style=\"color: #008080; text-decoration-color: #008080; font-weight: bold\">386</span>  <span style=\"color: #008080; text-decoration-color: #008080; font-weight: bold\">386</span>  <span style=\"color: #008080; text-decoration-color: #008080; font-weight: bold\">408</span>  <span style=\"color: #008080; text-decoration-color: #008080; font-weight: bold\">408</span>  <span style=\"color: #008080; text-decoration-color: #008080; font-weight: bold\">386</span>  \n",
       "..   <span style=\"color: #808000; text-decoration-color: #808000\">...</span>  <span style=\"color: #808000; text-decoration-color: #808000\">...</span>  <span style=\"color: #808000; text-decoration-color: #808000\">...</span>  <span style=\"color: #808000; text-decoration-color: #808000\">...</span>  <span style=\"color: #808000; text-decoration-color: #808000\">...</span>  <span style=\"color: #808000; text-decoration-color: #808000\">...</span>  <span style=\"color: #808000; text-decoration-color: #808000\">...</span>  \n",
       "<span style=\"color: #008080; text-decoration-color: #008080; font-weight: bold\">349</span>  <span style=\"color: #008080; text-decoration-color: #008080; font-weight: bold\">117</span>   <span style=\"color: #008080; text-decoration-color: #008080; font-weight: bold\">26</span>    <span style=\"color: #008080; text-decoration-color: #008080; font-weight: bold\">0</span>    <span style=\"color: #008080; text-decoration-color: #008080; font-weight: bold\">1</span>  <span style=\"color: #008080; text-decoration-color: #008080; font-weight: bold\">142</span>  <span style=\"color: #008080; text-decoration-color: #008080; font-weight: bold\">142</span>    <span style=\"color: #008080; text-decoration-color: #008080; font-weight: bold\">1</span>  \n",
       "<span style=\"color: #008080; text-decoration-color: #008080; font-weight: bold\">350</span>  <span style=\"color: #008080; text-decoration-color: #008080; font-weight: bold\">117</span>   <span style=\"color: #008080; text-decoration-color: #008080; font-weight: bold\">26</span>    <span style=\"color: #008080; text-decoration-color: #008080; font-weight: bold\">1</span>    <span style=\"color: #008080; text-decoration-color: #008080; font-weight: bold\">0</span>  <span style=\"color: #008080; text-decoration-color: #008080; font-weight: bold\">142</span>  <span style=\"color: #008080; text-decoration-color: #008080; font-weight: bold\">142</span>    <span style=\"color: #008080; text-decoration-color: #008080; font-weight: bold\">1</span>  \n",
       "<span style=\"color: #008080; text-decoration-color: #008080; font-weight: bold\">351</span>   <span style=\"color: #008080; text-decoration-color: #008080; font-weight: bold\">26</span>   <span style=\"color: #008080; text-decoration-color: #008080; font-weight: bold\">58</span>   <span style=\"color: #008080; text-decoration-color: #008080; font-weight: bold\">32</span>   <span style=\"color: #008080; text-decoration-color: #008080; font-weight: bold\">32</span>    <span style=\"color: #008080; text-decoration-color: #008080; font-weight: bold\">0</span>    <span style=\"color: #008080; text-decoration-color: #008080; font-weight: bold\">1</span>   <span style=\"color: #008080; text-decoration-color: #008080; font-weight: bold\">32</span>  \n",
       "<span style=\"color: #008080; text-decoration-color: #008080; font-weight: bold\">352</span>   <span style=\"color: #008080; text-decoration-color: #008080; font-weight: bold\">26</span>   <span style=\"color: #008080; text-decoration-color: #008080; font-weight: bold\">58</span>   <span style=\"color: #008080; text-decoration-color: #008080; font-weight: bold\">32</span>   <span style=\"color: #008080; text-decoration-color: #008080; font-weight: bold\">32</span>    <span style=\"color: #008080; text-decoration-color: #008080; font-weight: bold\">1</span>    <span style=\"color: #008080; text-decoration-color: #008080; font-weight: bold\">0</span>   <span style=\"color: #008080; text-decoration-color: #008080; font-weight: bold\">32</span>  \n",
       "<span style=\"color: #008080; text-decoration-color: #008080; font-weight: bold\">353</span>  <span style=\"color: #008080; text-decoration-color: #008080; font-weight: bold\">117</span>   <span style=\"color: #008080; text-decoration-color: #008080; font-weight: bold\">26</span>    <span style=\"color: #008080; text-decoration-color: #008080; font-weight: bold\">1</span>    <span style=\"color: #008080; text-decoration-color: #008080; font-weight: bold\">1</span>  <span style=\"color: #008080; text-decoration-color: #008080; font-weight: bold\">142</span>  <span style=\"color: #008080; text-decoration-color: #008080; font-weight: bold\">142</span>    <span style=\"color: #008080; text-decoration-color: #008080; font-weight: bold\">0</span>  \n",
       "\n",
       "<span style=\"font-weight: bold\">[</span><span style=\"color: #008080; text-decoration-color: #008080; font-weight: bold\">354</span> rows x <span style=\"color: #008080; text-decoration-color: #008080; font-weight: bold\">354</span> columns<span style=\"font-weight: bold\">]</span>\n",
       "</pre>\n"
      ],
      "text/plain": [
       "     \u001b[1;36m0\u001b[0m    \u001b[1;36m1\u001b[0m    \u001b[1;36m2\u001b[0m    \u001b[1;36m3\u001b[0m    \u001b[1;36m4\u001b[0m    \u001b[1;36m5\u001b[0m    \u001b[1;36m6\u001b[0m    \u001b[1;36m7\u001b[0m    \u001b[1;36m8\u001b[0m    \u001b[1;36m9\u001b[0m    \u001b[33m...\u001b[0m  \u001b[1;36m344\u001b[0m  \u001b[1;36m345\u001b[0m  \u001b[1;36m346\u001b[0m  \\\n",
       "\u001b[1;36m0\u001b[0m      \u001b[1;36m0\u001b[0m    \u001b[1;36m1\u001b[0m    \u001b[1;36m1\u001b[0m    \u001b[1;36m1\u001b[0m    \u001b[1;36m1\u001b[0m    \u001b[1;36m1\u001b[0m    \u001b[1;36m1\u001b[0m    \u001b[1;36m1\u001b[0m    \u001b[1;36m1\u001b[0m    \u001b[1;36m1\u001b[0m  \u001b[33m...\u001b[0m    \u001b[1;36m1\u001b[0m    \u001b[1;36m1\u001b[0m    \u001b[1;36m1\u001b[0m   \n",
       "\u001b[1;36m1\u001b[0m      \u001b[1;36m1\u001b[0m    \u001b[1;36m0\u001b[0m    \u001b[1;36m6\u001b[0m   \u001b[1;36m20\u001b[0m   \u001b[1;36m32\u001b[0m   \u001b[1;36m41\u001b[0m  \u001b[1;36m113\u001b[0m  \u001b[1;36m112\u001b[0m   \u001b[1;36m44\u001b[0m   \u001b[1;36m48\u001b[0m  \u001b[33m...\u001b[0m  \u001b[1;36m380\u001b[0m  \u001b[1;36m415\u001b[0m  \u001b[1;36m388\u001b[0m   \n",
       "\u001b[1;36m2\u001b[0m      \u001b[1;36m1\u001b[0m  \u001b[1;36m116\u001b[0m    \u001b[1;36m0\u001b[0m   \u001b[1;36m16\u001b[0m   \u001b[1;36m28\u001b[0m   \u001b[1;36m37\u001b[0m  \u001b[1;36m118\u001b[0m  \u001b[1;36m117\u001b[0m   \u001b[1;36m42\u001b[0m   \u001b[1;36m45\u001b[0m  \u001b[33m...\u001b[0m  \u001b[1;36m380\u001b[0m  \u001b[1;36m419\u001b[0m  \u001b[1;36m391\u001b[0m   \n",
       "\u001b[1;36m3\u001b[0m      \u001b[1;36m1\u001b[0m  \u001b[1;36m130\u001b[0m  \u001b[1;36m126\u001b[0m    \u001b[1;36m0\u001b[0m   \u001b[1;36m13\u001b[0m   \u001b[1;36m22\u001b[0m  \u001b[1;36m130\u001b[0m  \u001b[1;36m130\u001b[0m   \u001b[1;36m31\u001b[0m   \u001b[1;36m29\u001b[0m  \u001b[33m...\u001b[0m  \u001b[1;36m370\u001b[0m  \u001b[1;36m419\u001b[0m  \u001b[1;36m390\u001b[0m   \n",
       "\u001b[1;36m4\u001b[0m      \u001b[1;36m1\u001b[0m  \u001b[1;36m142\u001b[0m  \u001b[1;36m138\u001b[0m  \u001b[1;36m123\u001b[0m    \u001b[1;36m0\u001b[0m    \u001b[1;36m9\u001b[0m  \u001b[1;36m142\u001b[0m  \u001b[1;36m142\u001b[0m  \u001b[1;36m137\u001b[0m   \u001b[1;36m18\u001b[0m  \u001b[33m...\u001b[0m  \u001b[1;36m363\u001b[0m  \u001b[1;36m421\u001b[0m  \u001b[1;36m391\u001b[0m   \n",
       "..   \u001b[33m...\u001b[0m  \u001b[33m...\u001b[0m  \u001b[33m...\u001b[0m  \u001b[33m...\u001b[0m  \u001b[33m...\u001b[0m  \u001b[33m...\u001b[0m  \u001b[33m...\u001b[0m  \u001b[33m...\u001b[0m  \u001b[33m...\u001b[0m  \u001b[33m...\u001b[0m  \u001b[33m...\u001b[0m  \u001b[33m...\u001b[0m  \u001b[33m...\u001b[0m  \u001b[33m...\u001b[0m   \n",
       "\u001b[1;36m349\u001b[0m    \u001b[1;36m1\u001b[0m  \u001b[1;36m273\u001b[0m  \u001b[1;36m277\u001b[0m  \u001b[1;36m275\u001b[0m  \u001b[1;36m276\u001b[0m  \u001b[1;36m276\u001b[0m  \u001b[1;36m271\u001b[0m  \u001b[1;36m272\u001b[0m  \u001b[1;36m251\u001b[0m  \u001b[1;36m269\u001b[0m  \u001b[33m...\u001b[0m  \u001b[1;36m177\u001b[0m  \u001b[1;36m158\u001b[0m  \u001b[1;36m117\u001b[0m   \n",
       "\u001b[1;36m350\u001b[0m    \u001b[1;36m1\u001b[0m  \u001b[1;36m273\u001b[0m  \u001b[1;36m277\u001b[0m  \u001b[1;36m275\u001b[0m  \u001b[1;36m276\u001b[0m  \u001b[1;36m276\u001b[0m  \u001b[1;36m271\u001b[0m  \u001b[1;36m272\u001b[0m  \u001b[1;36m251\u001b[0m  \u001b[1;36m269\u001b[0m  \u001b[33m...\u001b[0m  \u001b[1;36m177\u001b[0m  \u001b[1;36m158\u001b[0m  \u001b[1;36m117\u001b[0m   \n",
       "\u001b[1;36m351\u001b[0m    \u001b[1;36m1\u001b[0m  \u001b[1;36m292\u001b[0m  \u001b[1;36m296\u001b[0m  \u001b[1;36m296\u001b[0m  \u001b[1;36m298\u001b[0m  \u001b[1;36m299\u001b[0m  \u001b[1;36m290\u001b[0m  \u001b[1;36m291\u001b[0m  \u001b[1;36m273\u001b[0m  \u001b[1;36m292\u001b[0m  \u001b[33m...\u001b[0m  \u001b[1;36m208\u001b[0m  \u001b[1;36m127\u001b[0m   \u001b[1;36m25\u001b[0m   \n",
       "\u001b[1;36m352\u001b[0m    \u001b[1;36m1\u001b[0m  \u001b[1;36m292\u001b[0m  \u001b[1;36m296\u001b[0m  \u001b[1;36m296\u001b[0m  \u001b[1;36m298\u001b[0m  \u001b[1;36m299\u001b[0m  \u001b[1;36m290\u001b[0m  \u001b[1;36m291\u001b[0m  \u001b[1;36m273\u001b[0m  \u001b[1;36m292\u001b[0m  \u001b[33m...\u001b[0m  \u001b[1;36m208\u001b[0m  \u001b[1;36m127\u001b[0m   \u001b[1;36m25\u001b[0m   \n",
       "\u001b[1;36m353\u001b[0m    \u001b[1;36m1\u001b[0m  \u001b[1;36m273\u001b[0m  \u001b[1;36m277\u001b[0m  \u001b[1;36m275\u001b[0m  \u001b[1;36m276\u001b[0m  \u001b[1;36m276\u001b[0m  \u001b[1;36m271\u001b[0m  \u001b[1;36m272\u001b[0m  \u001b[1;36m251\u001b[0m  \u001b[1;36m269\u001b[0m  \u001b[33m...\u001b[0m  \u001b[1;36m177\u001b[0m  \u001b[1;36m158\u001b[0m  \u001b[1;36m117\u001b[0m   \n",
       "\n",
       "     \u001b[1;36m347\u001b[0m  \u001b[1;36m348\u001b[0m  \u001b[1;36m349\u001b[0m  \u001b[1;36m350\u001b[0m  \u001b[1;36m351\u001b[0m  \u001b[1;36m352\u001b[0m  \u001b[1;36m353\u001b[0m  \n",
       "\u001b[1;36m0\u001b[0m      \u001b[1;36m1\u001b[0m    \u001b[1;36m1\u001b[0m    \u001b[1;36m1\u001b[0m    \u001b[1;36m1\u001b[0m    \u001b[1;36m1\u001b[0m    \u001b[1;36m1\u001b[0m    \u001b[1;36m1\u001b[0m  \n",
       "\u001b[1;36m1\u001b[0m    \u001b[1;36m386\u001b[0m  \u001b[1;36m366\u001b[0m  \u001b[1;36m383\u001b[0m  \u001b[1;36m383\u001b[0m  \u001b[1;36m402\u001b[0m  \u001b[1;36m402\u001b[0m  \u001b[1;36m383\u001b[0m  \n",
       "\u001b[1;36m2\u001b[0m    \u001b[1;36m390\u001b[0m  \u001b[1;36m369\u001b[0m  \u001b[1;36m387\u001b[0m  \u001b[1;36m387\u001b[0m  \u001b[1;36m406\u001b[0m  \u001b[1;36m406\u001b[0m  \u001b[1;36m387\u001b[0m  \n",
       "\u001b[1;36m3\u001b[0m    \u001b[1;36m389\u001b[0m  \u001b[1;36m367\u001b[0m  \u001b[1;36m385\u001b[0m  \u001b[1;36m385\u001b[0m  \u001b[1;36m406\u001b[0m  \u001b[1;36m406\u001b[0m  \u001b[1;36m385\u001b[0m  \n",
       "\u001b[1;36m4\u001b[0m    \u001b[1;36m390\u001b[0m  \u001b[1;36m367\u001b[0m  \u001b[1;36m386\u001b[0m  \u001b[1;36m386\u001b[0m  \u001b[1;36m408\u001b[0m  \u001b[1;36m408\u001b[0m  \u001b[1;36m386\u001b[0m  \n",
       "..   \u001b[33m...\u001b[0m  \u001b[33m...\u001b[0m  \u001b[33m...\u001b[0m  \u001b[33m...\u001b[0m  \u001b[33m...\u001b[0m  \u001b[33m...\u001b[0m  \u001b[33m...\u001b[0m  \n",
       "\u001b[1;36m349\u001b[0m  \u001b[1;36m117\u001b[0m   \u001b[1;36m26\u001b[0m    \u001b[1;36m0\u001b[0m    \u001b[1;36m1\u001b[0m  \u001b[1;36m142\u001b[0m  \u001b[1;36m142\u001b[0m    \u001b[1;36m1\u001b[0m  \n",
       "\u001b[1;36m350\u001b[0m  \u001b[1;36m117\u001b[0m   \u001b[1;36m26\u001b[0m    \u001b[1;36m1\u001b[0m    \u001b[1;36m0\u001b[0m  \u001b[1;36m142\u001b[0m  \u001b[1;36m142\u001b[0m    \u001b[1;36m1\u001b[0m  \n",
       "\u001b[1;36m351\u001b[0m   \u001b[1;36m26\u001b[0m   \u001b[1;36m58\u001b[0m   \u001b[1;36m32\u001b[0m   \u001b[1;36m32\u001b[0m    \u001b[1;36m0\u001b[0m    \u001b[1;36m1\u001b[0m   \u001b[1;36m32\u001b[0m  \n",
       "\u001b[1;36m352\u001b[0m   \u001b[1;36m26\u001b[0m   \u001b[1;36m58\u001b[0m   \u001b[1;36m32\u001b[0m   \u001b[1;36m32\u001b[0m    \u001b[1;36m1\u001b[0m    \u001b[1;36m0\u001b[0m   \u001b[1;36m32\u001b[0m  \n",
       "\u001b[1;36m353\u001b[0m  \u001b[1;36m117\u001b[0m   \u001b[1;36m26\u001b[0m    \u001b[1;36m1\u001b[0m    \u001b[1;36m1\u001b[0m  \u001b[1;36m142\u001b[0m  \u001b[1;36m142\u001b[0m    \u001b[1;36m0\u001b[0m  \n",
       "\n",
       "\u001b[1m[\u001b[0m\u001b[1;36m354\u001b[0m rows x \u001b[1;36m354\u001b[0m columns\u001b[1m]\u001b[0m\n"
      ]
     },
     "metadata": {},
     "output_type": "display_data"
    }
   ],
   "source": [
    "# The Beginning\n",
    "# Define the functios and load the data.\n",
    "import collections\n",
    "from rich import inspect\n",
    "from rich import print\n",
    "from rich.console import Console\n",
    "import time\n",
    "import csv\n",
    "from IPython.display import Image, display\n",
    "import datetime\n",
    "import io\n",
    "import math\n",
    "import matplotlib.colors as mcolors\n",
    "import matplotlib.pyplot as plt\n",
    "import networkx as nx\n",
    "import numpy as np\n",
    "import openpyxl\n",
    "import pandas as pd\n",
    "import requests\n",
    "import seaborn as sns\n",
    "import warnings\n",
    "from rich import print\n",
    "from rich.console import Console\n",
    "from rich.table import Table\n",
    "from rich.progress import track\n",
    "from rich.panel import Panel\n",
    "from rich.text import Text\n",
    "from rich import box\n",
    "from rich import color\n",
    "from folium import FeatureGroup, Tooltip\n",
    "from folium.features import DivIcon\n",
    "from folium.plugins import FastMarkerCluster, Fullscreen\n",
    "from haversine import haversine, Unit\n",
    "from IPython.display import HTML\n",
    "# import display for terminal to show the map\n",
    "from IPython.display import display\n",
    "from math import ceil\n",
    "from openpyxl import Workbook\n",
    "from openpyxl.styles import Font, PatternFill\n",
    "from ortools.constraint_solver import pywrapcp, routing_enums_pb2\n",
    "from regex import F\n",
    "from requests.structures import CaseInsensitiveDict\n",
    "from scipy.spatial import ConvexHull\n",
    "from tqdm import tqdm\n",
    "from urllib import response\n",
    "from urllib.parse import quote_plus\n",
    "import folium\n",
    "import os\n",
    "import webbrowser\n",
    "import time\n",
    "from selenium import webdriver\n",
    "from PIL import Image, ImageSequence\n",
    "import os\n",
    "from IPython.display import HTML, display\n",
    "import pandas as pd\n",
    "import matplotlib.pyplot as plt\n",
    "import imageio\n",
    "import numpy as np  # For colormap or random color generation\n",
    "# Function to convert HTML maps to images\n",
    "import pandas as pd\n",
    "import matplotlib.pyplot as plt\n",
    "from IPython.display import Image, display\n",
    "# Prime the Solver With a First Run\n",
    "from time import sleep\n",
    "import weakref\n",
    "from IPython.core.display import HTML\n",
    "from rich.console import Console\n",
    "from rich.table import Table\n",
    "from rich.layout import Layout\n",
    "from rich.columns import Columns\n",
    "from rich.panel import Panel\n",
    "\n",
    "console = Console()\n",
    "table = Table()\n",
    "\n",
    "warnings.simplefilter(action=\"ignore\", category=FutureWarning)\n",
    "# # FunctionF Definitions\n",
    "EARTH_RADIUS = 6371.0\n",
    "\n",
    "\n",
    "def create_final_route_frame(dataset, output_directory='route_snapshots'):\n",
    "    \"\"\"\n",
    "    Creates the final frame of a route visualization.\n",
    "\n",
    "    Args:\n",
    "        dataset (pd.DataFrame): A DataFrame containing route data with columns:\n",
    "            'Latitude', 'Longitude', 'NEW RT', 'NEW DAY', 'NEW STOP'\n",
    "\n",
    "    Returns:\n",
    "        matplotlib.figure.Figure: The Matplotlib figure object representing the final frame.\n",
    "    \"\"\"\n",
    "    sorted_dataset = dataset.sort_values(by=['NEW DAY', 'NEW STOP'])\n",
    "    # Make sure the output directory exists\n",
    "    if not os.path.exists(output_directory):\n",
    "        os.makedirs(output_directory)\n",
    "\n",
    "    # Assign a unique color to each route\n",
    "    unique_routes = sorted_dataset['NEW RT'].unique()\n",
    "    colors = plt.cm.viridis(np.linspace(0, 1, len(unique_routes)))\n",
    "    route_colors = {rt: clr for rt, clr in zip(unique_routes, colors)}\n",
    "\n",
    "    # Determine global latitude and longitude ranges\n",
    "    lat_min, lat_max = sorted_dataset['Latitude'].min(\n",
    "    ), sorted_dataset['Latitude'].max()\n",
    "    lon_min, lon_max = sorted_dataset['Longitude'].min(\n",
    "    ), sorted_dataset['Longitude'].max()\n",
    "\n",
    "    # Initialize a dictionary to store cumulative route points\n",
    "    cumulative_route_points = {rt: pd.DataFrame(\n",
    "        columns=['Latitude', 'Longitude']) for rt in unique_routes}\n",
    "\n",
    "    # Extract the last day and stop\n",
    "    # last_day, last_stop = sorted_dataset.iloc[-1][['NEW DAY', 'NEW STOP']]\n",
    "\n",
    "   # Get max values for day and stop for the final frame\n",
    "    max_day = sorted_dataset['NEW DAY'].max()\n",
    "    max_stop = sorted_dataset['NEW STOP'].max()\n",
    "\n",
    "    # Create the final figure\n",
    "    plt.figure(figsize=[8, 6])\n",
    "\n",
    "    for rt in unique_routes:\n",
    "        # Get all data for the route\n",
    "        rt_data = sorted_dataset[sorted_dataset['NEW RT'] == rt]\n",
    "        if not rt_data.empty:\n",
    "            cumulative_route_points[rt] = rt_data[[\n",
    "                'Latitude', 'Longitude']].drop_duplicates()  # Cumulative points\n",
    "            plt.plot(cumulative_route_points[rt]['Longitude'], cumulative_route_points[rt]['Latitude'],\n",
    "                     '-o', color=route_colors[rt], markersize=5, linewidth=2, label=f'Route {rt}')\n",
    "    now = datetime.datetime.now()\n",
    "    plt.title(f'Final Routes {now}')  # Title for final frame\n",
    "    plt.xlabel('Longitude')\n",
    "    plt.ylabel('Latitude')\n",
    "    plt.xlim(lon_min - 0.05, lon_max + 0.05)\n",
    "    plt.ylim(lat_min - 0.05, lat_max + 0.05)\n",
    "    # plt.legend()\n",
    "    now = datetime.datetime.now()\n",
    "    filename = os.path.join(output_directory, f'route_snapshot_{now}.png')\n",
    "    plt.savefig(filename)\n",
    "    # plt.show()\n",
    "\n",
    "    plt.close()\n",
    "    return filename  # Return the filename of the saved image\n",
    "\n",
    "\n",
    "def create_video_from_filenames(filenames, output_filename='route_animation.mp4', fps=10):\n",
    "    \"\"\"\n",
    "    Creates a video from a list of image filenames.\n",
    "\n",
    "    Args:\n",
    "        filenames (list of str): A list of filenames of the images to include in the video.\n",
    "        output_filename (str): The filename for the video to be saved as.\n",
    "        fps (int): Frames per second for the video.\n",
    "    \"\"\"\n",
    "    import imageio\n",
    "\n",
    "    # Create the MP4 animation\n",
    "    with imageio.get_writer(output_filename, fps=fps) as writer:\n",
    "        for filename in filenames:\n",
    "            image = imageio.imread(filename)\n",
    "            writer.append_data(image)\n",
    "\n",
    "    print(f'Video saved as {output_filename}')\n",
    "\n",
    "\n",
    "def create_route_animation(dataset, output_filename='route_day_stop_animation.mp4'):\n",
    "    \"\"\"\n",
    "    Creates an animated map visualization of routes over time.\n",
    "\n",
    "    Args:\n",
    "        dataset (pd.DataFrame): A DataFrame containing route data with columns:\n",
    "            'Latitude', 'Longitude', 'NEW RT', 'NEW DAY', 'NEW STOP'\n",
    "        output_filename (str, optional): The filename for the MP4 output. \n",
    "                \"\"\"\n",
    "    sorted_dataset = dataset.sort_values(by=['NEW DAY', 'NEW STOP'])\n",
    "    # Assign a unique color to each route\n",
    "    unique_routes = sorted_dataset['NEW RT'].unique()\n",
    "    # Change colormap as needed\n",
    "    colors = plt.cm.viridis(np.linspace(0, 1, len(unique_routes)))\n",
    "    route_colors = {rt: clr for rt, clr in zip(unique_routes, colors)}\n",
    "\n",
    "    #  latitude and longitude ranges\n",
    "    lat_min, lat_max = sorted_dataset['Latitude'].min(\n",
    "    ), sorted_dataset['Latitude'].max()\n",
    "    lon_min, lon_max = sorted_dataset['Longitude'].min(\n",
    "    ), sorted_dataset['Longitude'].max()\n",
    "\n",
    "    # Initialize a dictionary to store cumulative route points\n",
    "    cumulative_route_points = {rt: pd.DataFrame(\n",
    "        columns=['Latitude', 'Longitude']) for rt in unique_routes}\n",
    "\n",
    "    filenames = []  # To store the names of the plot files\n",
    "\n",
    "    # Iterate through each day and stop\n",
    "    for (day, stop), group in sorted_dataset.groupby(['NEW DAY', 'NEW STOP']):\n",
    "        plt.figure(figsize=[8, 6])  # Set figure size as needed\n",
    "\n",
    "        for rt in unique_routes:\n",
    "            # Filter for current route up to the current stop\n",
    "            rt_data = sorted_dataset[(sorted_dataset['NEW RT'] == rt) & (\n",
    "                sorted_dataset['NEW DAY'] <= day) & (sorted_dataset['NEW STOP'] <= stop)]\n",
    "            if not rt_data.empty:\n",
    "                cumulative_route_points[rt] = pd.concat([cumulative_route_points[rt], rt_data[[\n",
    "                                                        'Latitude', 'Longitude']]], ignore_index=True).drop_duplicates()\n",
    "                plt.plot(cumulative_route_points[rt]['Longitude'], cumulative_route_points[rt]['Latitude'],\n",
    "                         '-o', color=route_colors[rt], markersize=5, linewidth=2, label=f'Route {rt}')\n",
    "\n",
    "        plt.title(f'Up to Day {day}, Stop {stop}')\n",
    "        plt.xlabel('Longitude')\n",
    "        plt.ylabel('Latitude')\n",
    "        plt.xlim(lon_min - 0.01, lon_max + 0.01)\n",
    "        plt.ylim(lat_min - 0.01, lat_max + 0.01)\n",
    "        plt.legend()\n",
    "\n",
    "        # Save the frame\n",
    "        filename = f'map_day{day}_stop{stop}.png'\n",
    "        plt.savefig(filename)\n",
    "        filenames.append(filename)\n",
    "        plt.close()\n",
    "\n",
    "    # Create the MP4 animation\n",
    "    # Adjust FPS as needed\n",
    "    with imageio.get_writer('route_day_stop_animation.mp4', fps=14) as writer:\n",
    "        for filename in filenames:\n",
    "            image = imageio.imread(filename)\n",
    "            writer.append_data(image)\n",
    "\n",
    "    # Optionally, clean up the individual PNG files\n",
    "    for filename in filenames:\n",
    "        os.remove(filename)\n",
    "\n",
    "    # To display the video in Jupyter Notebook\n",
    "    video_path = 'route_day_stop_animation.mp4'\n",
    "    display(HTML(f\"\"\"\n",
    "        <video controls>\n",
    "            <source src=\"{video_path}\" type=\"video/mp4\">\n",
    "        </video>\n",
    "        \"\"\")\n",
    "            )\n",
    "\n",
    "\n",
    "def html_to_image(html_files, output_dir='maps_images', width=800, height=600):\n",
    "    # Setup Selenium webdriver\n",
    "    options = webdriver.ChromeOptions()\n",
    "    options.add_argument(f'--window-size={width},{height}')\n",
    "    driver = webdriver.Chrome(options=options)\n",
    "\n",
    "    if not os.path.exists(output_dir):\n",
    "        os.makedirs(output_dir)\n",
    "\n",
    "    image_files = []\n",
    "\n",
    "    for html_file in html_files:\n",
    "        # Open the HTML file\n",
    "        driver.get(f\"file://{os.path.abspath(html_file)}\")\n",
    "        # time.sleep(1)  # Wait for the map to load\n",
    "\n",
    "        # Define the output image path\n",
    "        output_image = f\"{output_dir}/{os.path.basename(html_file).replace('.html', '.png')}\"\n",
    "        image_files.append(output_image)\n",
    "\n",
    "        # Take screenshot\n",
    "        driver.save_screenshot(output_image)\n",
    "\n",
    "    driver.quit()\n",
    "    return image_files\n",
    "\n",
    "\n",
    "def create_animation(image_files, output_file='map_animation.gif', duration=1000):\n",
    "    images = [Image.open(image_file).convert(\n",
    "        \"P\", palette=Image.ADAPTIVE) for image_file in image_files]\n",
    "    images[0].save(output_file, save_all=True,\n",
    "                   append_images=images[1:], duration=duration, loop=0)\n",
    "\n",
    "\n",
    "def routes_by_days_to_html(dataset):\n",
    "    # Starting the HTML content\n",
    "    html_content = \"\"\"\n",
    "    <html>\n",
    "    <head>\n",
    "    <style>\n",
    "        table {\n",
    "            width: 100%;\n",
    "            border-collapse: collapse;\n",
    "            table-layout: fixed; /* Add fixed table layout */\n",
    "        }\n",
    "        th, td {\n",
    "            border: 1px solid black;\n",
    "            padding: 8px;\n",
    "            text-align: left;\n",
    "            overflow: hidden; /* Ensures the content fits the cell */\n",
    "            word-wrap: break-word; /* Ensures words do not exceed the cell width */\n",
    "        }\n",
    "        th {\n",
    "            background-color: #f2f2f2;\n",
    "        }\n",
    "    </style>\n",
    "    </head>\n",
    "    <body>\n",
    "    \"\"\"\n",
    "    # Get unique routes from the dataset\n",
    "    unique_routes = sorted(dataset[\"NEW RT\"].unique())\n",
    "\n",
    "    # Iterate over each unique route\n",
    "    for route in unique_routes:\n",
    "        html_content += f\"<h2>Route {route} Summary:</h2>\"\n",
    "\n",
    "        # Subset the data for the current route\n",
    "        subset_data = dataset[dataset[\"NEW RT\"] == route].sort_values(\n",
    "            [\"NEW DAY\", \"NEW STOP\"]\n",
    "        )\n",
    "\n",
    "        # Find the maximum number of days for this route\n",
    "        max_day = subset_data[\"NEW DAY\"].max()\n",
    "\n",
    "        # Iterate over each group of days\n",
    "        num_groups = ceil(max_day / 5)\n",
    "        for group in range(num_groups):\n",
    "            day_start = group * 5 + 1\n",
    "            day_end = min((group + 1) * 5, max_day)\n",
    "            day_headers = [\n",
    "                f\"Day {day_num}\" for day_num in range(day_start, day_start + 5)\n",
    "            ]  # Ensure 5 headers per group\n",
    "\n",
    "            # Start a new table for each group of days\n",
    "            html_content += (\n",
    "                \"<table><tr>\"\n",
    "                + \"\".join([f\"<th>{header}</th>\" for header in day_headers])\n",
    "                + \"</tr>\"\n",
    "            )\n",
    "\n",
    "            # Determine the maximum number of stops in any day within this group for formatting\n",
    "            max_stops = 0\n",
    "            for day_num in range(day_start, day_end + 1):\n",
    "                day_length = subset_data[subset_data[\"NEW DAY\"]\n",
    "                                         == day_num].shape[0]\n",
    "                if day_length > max_stops:\n",
    "                    max_stops = day_length\n",
    "\n",
    "            # Print customer names for each day in the group\n",
    "            for stop_num in range(1, max_stops + 1):\n",
    "                html_content += \"<tr>\"\n",
    "                # Include empty cells if fewer than 5 days in the group\n",
    "                for day_num in range(day_start, day_start + 5):\n",
    "                    day_data = subset_data[subset_data[\"NEW DAY\"] == day_num]\n",
    "                    if stop_num <= day_data.shape[0]:\n",
    "                        cust_name = (\n",
    "                            day_data.iloc[stop_num - 1][\"CUST NAME\"]\n",
    "                            if stop_num <= day_data.shape[0]\n",
    "                            else \"\"\n",
    "                        )\n",
    "                        html_content += f\"<td>{stop_num}. {cust_name}</td>\"\n",
    "                    else:\n",
    "                        # Empty cell for days with fewer stops or if the day does not exist\n",
    "                        html_content += \"<td></td>\"\n",
    "                html_content += \"</tr>\"\n",
    "            html_content += \"</table><br>\"  # Close the table and add a space\n",
    "\n",
    "    html_content += \"</body></html>\"\n",
    "\n",
    "    # Writing the HTML content to a file\n",
    "    with open(\"routes_summary.html\", \"w\") as html_file:\n",
    "        html_file.write(html_content)\n",
    "    m = HTML(html_content)\n",
    "    # display(m)\n",
    "    return m\n",
    "\n",
    "\n",
    "def print_route_statistics(dataset):\n",
    "    # Group the data by 'NEW RT' and calculate the required statistics\n",
    "    route_stats = (\n",
    "        dataset.groupby(\"NEW RT\")\n",
    "        .agg(\n",
    "            total_BIG_5_AVG=(\"BIG 5 AVG\", \"sum\"),\n",
    "            total_COMP_AVG=(\"COMP AVG\", \"sum\"),\n",
    "            number_of_NEW_DAY=(\"NEW DAY\", \"nunique\"),\n",
    "            number_of_NEW_STOP=(\"NEW STOP\", \"count\"),\n",
    "            average_NEW_DIST=(\"NEW DIST\", \"mean\"),\n",
    "        )\n",
    "        .reset_index()\n",
    "    )\n",
    "\n",
    "    # Calculate Average Stops per day for each route\n",
    "    route_stats[\"average_stops_per_day\"] = (\n",
    "        route_stats[\"number_of_NEW_STOP\"] / route_stats[\"number_of_NEW_DAY\"]\n",
    "    )\n",
    "\n",
    "    # Print the statistics in a user-friendly way\n",
    "    for _, row in route_stats.iterrows():\n",
    "        print(f\"Route {int(row['NEW RT'])}:\", (\"***\" * 35))\n",
    "        print(\n",
    "            f\"  BIG 5:\\t${row['total_BIG_5_AVG']:,.2f}\\tRT Days:\\t{int(row['number_of_NEW_DAY'])}\\tStops/Day:\\t{row['average_stops_per_day']:.1f}\\tBig 5/Stop:\\t${row['total_BIG_5_AVG']/row['number_of_NEW_STOP']:,.2f}\"\n",
    "        )\n",
    "        print(\n",
    "            f\"  COMP: \\t${row['total_COMP_AVG']:,.2f}\\t# of Stops:\\t{int(row['number_of_NEW_STOP'])}\\tDist/Day:\\t{row['average_NEW_DIST']:.1f}\\tComp/Stop:\\t${row['total_COMP_AVG']/row['number_of_NEW_STOP']:,.2f}\\n\"\n",
    "        )\n",
    "\n",
    "\n",
    "def autosize_columns(worksheet):\n",
    "    for column in worksheet.columns:\n",
    "        max_length = 0\n",
    "        for cell in column:\n",
    "            try:\n",
    "                if len(str(cell.value)) > max_length:\n",
    "                    max_length = len(cell.value)\n",
    "            except:\n",
    "                pass\n",
    "        adjusted_width = max_length + 21\n",
    "        worksheet.column_dimensions[cell.column_letter].width = adjusted_width\n",
    "    return worksheet\n",
    "\n",
    "\n",
    "def create_excel_by_routes(dataset):\n",
    "    # now create the\n",
    "\n",
    "    # Create a new Excel workbook and remove the default sheet\n",
    "    wb = Workbook()\n",
    "    wb.remove(wb.active)\n",
    "\n",
    "    # Get unique routes from the dataset\n",
    "    unique_routes = dataset[\"NEW RT\"].unique()\n",
    "\n",
    "    # Iterate over each unique route\n",
    "    for route in unique_routes:\n",
    "        # Create a new sheet for this route\n",
    "        ws = wb.create_sheet(title=f\"Route {route}\")\n",
    "\n",
    "        # Subset the data for the current route\n",
    "        subset_data = dataset[dataset[\"NEW RT\"] == route].sort_values(\n",
    "            [\"NEW DAY\", \"NEW STOP\"]\n",
    "        )\n",
    "\n",
    "        # Find the maximum number of days for this route to define how many headers we need\n",
    "        max_day = subset_data[\"NEW DAY\"].max()\n",
    "        # Calculate the number of header groups (Days 1-5, 6-10, etc.)\n",
    "        num_groups = ceil(max_day / 5)\n",
    "\n",
    "        # Set the initial row\n",
    "        start_row = 1\n",
    "\n",
    "        # Iterate over each group of days\n",
    "        for group in range(num_groups):\n",
    "            # Calculate the range of days for this group\n",
    "            day_start = group * 5 + 1\n",
    "            day_end = min((group + 1) * 5, max_day)\n",
    "\n",
    "            # Write the day headers for this group\n",
    "            for day_num in range(day_start, day_end + 1):\n",
    "                col = day_num - group * 5\n",
    "                ws.cell(row=start_row, column=col, value=f\"Day {day_num}\")\n",
    "\n",
    "            # Populate the customer names under each day\n",
    "            for day_num in range(day_start, day_end + 1):\n",
    "                # Filter the subset for this day\n",
    "                day_data = subset_data[subset_data[\"NEW DAY\"] == day_num]\n",
    "                # Write each customer name in this day's column\n",
    "                row_num = start_row + 1  # Starting row for customer names\n",
    "                for _, row in day_data.iterrows():\n",
    "                    col = day_num - group * 5  # Adjust column based on group\n",
    "                    ws.cell(row=row_num, column=col, value=row[\"CUST NAME\"])\n",
    "                    row_num += 1  # Move to the next row for the next customer\n",
    "\n",
    "            # Update the starting row for the next group of days\n",
    "            if not day_data.empty:\n",
    "                # Add extra space before the next group\n",
    "                start_row += len(day_data) + 2\n",
    "        ws = autosize_columns(ws)\n",
    "\n",
    "    # Save the workbook\n",
    "    wb.save(\"routes_by_days.xlsx\")\n",
    "\n",
    "\n",
    "def calculate_avg_diff(dataset):\n",
    "    avg_diff = 0\n",
    "    for i in range(len(dataset)):\n",
    "        avg_diff += abs(dataset[\"DAY\"].iloc[i] - dataset[\"NEW DAY\"].iloc[i])\n",
    "    avg_diff /= len(dataset)\n",
    "    return avg_diff\n",
    "\n",
    "\n",
    "def order_similar_to_prev(dataset):\n",
    "    # Step 1: Calculate the average 'DAY' for each 'NEW RT' and 'NEW DAY' combination\n",
    "    grouped_data = dataset.groupby([\"NEW RT\", \"NEW DAY\"])[\n",
    "        \"DAY\"].mean().reset_index()\n",
    "    grouped_data = grouped_data.rename(columns={\"DAY\": \"AVERAGE_DAY\"})\n",
    "\n",
    "    # Step 2: Sort these averages for each 'NEW RT' and reassign 'NEW DAY'\n",
    "    grouped_data.sort_values([\"NEW RT\", \"AVERAGE_DAY\"], inplace=True)\n",
    "    grouped_data[\"NEW_DAY_SORTED\"] = (\n",
    "        grouped_data.groupby(\"NEW RT\").cumcount() + 1\n",
    "    )  # Start from 1\n",
    "\n",
    "    # Merge the sorted 'NEW DAY' back to the original dataset\n",
    "    dataset = dataset.merge(\n",
    "        grouped_data[[\"NEW RT\", \"NEW DAY\", \"NEW_DAY_SORTED\"]],\n",
    "        on=[\"NEW RT\", \"NEW DAY\"],\n",
    "        how=\"left\",\n",
    "    )\n",
    "    dataset[\"NEW DAY\"] = dataset[\"NEW_DAY_SORTED\"]\n",
    "    dataset.drop(\"NEW_DAY_SORTED\", axis=1, inplace=True)\n",
    "    return dataset\n",
    "\n",
    "\n",
    "def print_starts_ends(data, dataset):\n",
    "    for start in data[\"starts\"]:\n",
    "        print(dataset.iloc[start][\"CUST NAME\"])\n",
    "    for endd in data[\"ends\"]:\n",
    "        print(dataset.iloc[endd][\"CUST NAME\"])\n",
    "\n",
    "\n",
    "def best_tracker(solution, filename):\n",
    "    current_obj = solution.ObjectiveValue()\n",
    "    try:\n",
    "        with open(filename, \"r\") as f:\n",
    "            lines = f.readlines()\n",
    "            if len(lines) >= 2:\n",
    "                prev_obj = int(lines[-1])\n",
    "                best_obj = int(lines[-2])\n",
    "            else:\n",
    "                prev_obj = current_obj\n",
    "                best_obj = current_obj\n",
    "    except FileNotFoundError:\n",
    "        prev_obj = current_obj\n",
    "        best_obj = current_obj\n",
    "\n",
    "    # Create a table object\n",
    "    table = Table(title=\"Best Tracker\", show_lines=True)\n",
    "\n",
    "    # Add columns to the table\n",
    "    table.add_column(\"Solution\", style=\"magenta\")\n",
    "    table.add_column(\"Distance\", style=\"cyan\")\n",
    "    scurrent_obj = \"{:,}\".format(current_obj)\n",
    "    sbest_obj = \"{:,}\".format(best_obj)\n",
    "    sprev_obj = \"{:,}\".format(prev_obj)\n",
    "\n",
    "    # Add rows to the table\n",
    "    table.add_row(\"Current\", scurrent_obj)\n",
    "    table.add_row(\"Best\", sbest_obj)\n",
    "    table.add_row(\"Last Run\", sprev_obj)\n",
    "\n",
    "    if best_obj > current_obj:\n",
    "        improvement = best_obj - current_obj\n",
    "        best_obj = current_obj\n",
    "        sbest_obj = \"{:,}\".format(best_obj)\n",
    "        simprovement = \"{:,}\".format(improvement)\n",
    "\n",
    "        table.add_row(\"WINNER!\", sbest_obj)\n",
    "        table.add_row(\"IMPROVEMENT AMOUNT\", str(simprovement))\n",
    "\n",
    "    else:\n",
    "        if prev_obj > current_obj:\n",
    "            improvement = prev_obj - current_obj\n",
    "            simprovement = \"{:,}\".format(improvement)\n",
    "            table.add_row(\"IMPROVEMENT AMOUNT\", str(simprovement))\n",
    "\n",
    "        else:\n",
    "            deterioration = current_obj - prev_obj\n",
    "            sdeterioration = \"{:,}\".format(deterioration)\n",
    "\n",
    "            table.add_row(\"WORSE BY\", str(sdeterioration))\n",
    "    print(table)\n",
    "\n",
    "    # After processing, update the file with the current and new best solutions\n",
    "    with open(filename, \"w\") as f:\n",
    "        f.write(f\"{best_obj}\\n{current_obj}\\n\")\n",
    "\n",
    "    return prev_obj, best_obj\n",
    "\n",
    "\n",
    "def set_days_for_routes(\n",
    "    dataset, min_stops=6, max_stops=10, distance_threshold=80, day_factor=2\n",
    "):\n",
    "    # Get unique routes from the dataset\n",
    "    unique_routes = dataset[\"NEW RT\"].unique()\n",
    "\n",
    "    # Iterate over each unique route\n",
    "    for route in unique_routes:\n",
    "        # Subset the data for the current route, sorted by NEW STOP to ensure order\n",
    "        subset_data = dataset[dataset[\"NEW RT\"]\n",
    "                              == route].sort_values(\"NEW STOP\")\n",
    "\n",
    "        # Initialize variables for splitting into days\n",
    "        current_day = 1\n",
    "        current_stop_in_day = 1\n",
    "        cumulative_distance = 0  # Continue tracking but not using for decision\n",
    "        stops_in_current_day = []\n",
    "\n",
    "        # Iterate over rows in the sorted subset data\n",
    "        for i, row in subset_data.iterrows():\n",
    "            # Add the stop to the current day's list\n",
    "            stops_in_current_day.append(i)\n",
    "            # Update the cumulative distance but not used for decision\n",
    "            cumulative_distance += row[\"NEW DIST\"]\n",
    "\n",
    "            # Check for splitting conditions based on stop count, individual distances, and cluster threshold\n",
    "            if len(stops_in_current_day) >= min_stops and (\n",
    "                len(stops_in_current_day) >= max_stops\n",
    "                or row[\"NEW DIST\"] > distance_threshold\n",
    "                or cumulative_distance > day_factor * distance_threshold\n",
    "            ):  # Added cluster threshold check for splitting\n",
    "\n",
    "                # Update the NEW DAY and NEW STOP values in the original dataset\n",
    "                for stop_index in stops_in_current_day:\n",
    "                    dataset.at[stop_index, \"NEW DAY\"] = current_day\n",
    "                    dataset.at[stop_index, \"NEW STOP\"] = current_stop_in_day\n",
    "                    current_stop_in_day += (\n",
    "                        1  # Increment the stop number for the current day\n",
    "                    )\n",
    "\n",
    "                # Reset variables for the new day\n",
    "                current_day += 1\n",
    "                stops_in_current_day = []\n",
    "                cumulative_distance = 0  # Reset but keep for tracking\n",
    "                current_stop_in_day = 1\n",
    "\n",
    "        # Check if there are remaining stops for the last day\n",
    "        if stops_in_current_day:\n",
    "            for stop_index in stops_in_current_day:\n",
    "                dataset.at[stop_index, \"NEW DAY\"] = current_day\n",
    "                dataset.at[stop_index, \"NEW STOP\"] = current_stop_in_day\n",
    "                current_stop_in_day += 1\n",
    "\n",
    "    # Return the updated dataset\n",
    "    return dataset\n",
    "\n",
    "\n",
    "def print_solution(data, manager, routing, solution, dataset):\n",
    "    total_distance = 0  # Total distance covered by all the vehicles\n",
    "    total_load = 0  # Total load carried by all the vehicles\n",
    "    total_load2 = 0  # Total load carried by all the vehicles\n",
    "    previous_index = routing.Start(0)\n",
    "    new_vehicle_assignment = (\n",
    "        {}\n",
    "    )  # Initialize a new dictionary to track vehicle assignments\n",
    "\n",
    "    for vehicle_id in range(data[\"num_vehicles\"]):\n",
    "        index = routing.Start(vehicle_id)\n",
    "        route_distance = 0  # Distance covered by the current vehicle\n",
    "        route_load = 0  # Load carried by the current vehicle\n",
    "        route_load2 = 0  # Load carried by the current vehicle\n",
    "        route_count = 0  # Count of stops made by the current vehicle\n",
    "        while not routing.IsEnd(index):\n",
    "            route_count += 1\n",
    "            node_index = manager.IndexToNode(index)  #\n",
    "            route_load += data[\"demands\"][node_index]\n",
    "            route_load2 += data[\"demands2\"][node_index]\n",
    "            new_vehicle_assignment[node_index] = (\n",
    "                # Assign vehicle to new_vehicle_assignment instead of data['Vehicle']\n",
    "                vehicle_id\n",
    "            )\n",
    "            previous_index = index\n",
    "            index = solution.Value(routing.NextVar(index))\n",
    "            route_distance += routing.GetArcCostForVehicle(\n",
    "                previous_index, index, vehicle_id\n",
    "            )\n",
    "        end_node_index = manager.IndexToNode(\n",
    "            index\n",
    "        )  # Convert the final routing index to your node index\n",
    "        # Since 'index' at this point should be the end node for the current vehicle\n",
    "        # Assign this end node to the corresponding vehicle\n",
    "        new_vehicle_assignment[end_node_index] = (\n",
    "            vehicle_id  # Assign the route to the end node\n",
    "        )\n",
    "        route_count += 1\n",
    "        route_load += data[\"demands\"][node_index]\n",
    "        route_load2 += data[\"demands2\"][node_index]\n",
    "        new_vehicle_assignment[node_index] = (\n",
    "            # Assign vehicle to new_vehicle_assignment instead of data['Vehicle']\n",
    "            vehicle_id\n",
    "        )\n",
    "\n",
    "        print(\n",
    "            \"Route {} has {} stops ({})\\nCompanion: ${:,.0f} ({})    Big 5: ${:,.0f} ({})\\nDistance: {}m\".format(\n",
    "                vehicle_id + 1,\n",
    "                route_count,\n",
    "                data[\"vehicle_capacities3\"][vehicle_id],\n",
    "                route_load,\n",
    "                data[\"vehicle_capacities\"][vehicle_id],\n",
    "                route_load2,\n",
    "                data[\"vehicle_capacities2\"][vehicle_id],\n",
    "                route_distance,\n",
    "            )\n",
    "        )\n",
    "\n",
    "        total_distance += route_distance\n",
    "        total_load += (\n",
    "            route_load  # Add the load carried by the vehicle to the total load\n",
    "        )\n",
    "        total_load2 += (\n",
    "            route_load2  # Add the load carried by the vehicle to the total load\n",
    "        )\n",
    "    print(\"Total Distance of all routes: {}m\".format(total_distance))\n",
    "    # Assign the values from new_vehicle_assignment to dataset['NEW RT']\n",
    "    # Convert new_vehicle_assignment dictionary to a pandas Series first, then add 1 to align with # At the end of your function, after completing assignments for all vehicles\n",
    "    dataset[\"NEW RT\"] = pd.Series(new_vehicle_assignment).map(\n",
    "        lambda x: x + 1\n",
    "    )  # Convert and correct route indices as needed\n",
    "\n",
    "    return dataset\n",
    "\n",
    "\n",
    "def assign_new_rts(data, manager, routing, solution, dataset):\n",
    "    new_vehicle_assignment = {}\n",
    "    new_stop_assignment = {}\n",
    "    new_dist_assignment = {}\n",
    "\n",
    "    for vehicle_id in range(data[\"num_vehicles\"]):\n",
    "        # print(f\"Vehicle {vehicle_id + 1}:\")\n",
    "        index = solution.Value(routing.NextVar(routing.Start(vehicle_id)))\n",
    "        stop = 1\n",
    "        # Start index for this vehicle\n",
    "        previous_index = routing.Start(vehicle_id)\n",
    "\n",
    "        while not routing.IsEnd(index):\n",
    "            node_index = manager.IndexToNode(index)\n",
    "\n",
    "            # Assignments for current stop\n",
    "            new_vehicle_assignment[node_index] = vehicle_id\n",
    "            new_stop_assignment[node_index] = int(stop)\n",
    "            # print(f\"Stop {stop}: {dataset.iloc[node_index]['CUST NAME']}\")\n",
    "            # print(f\"Index: {index}, Node Index: {node_index}, Stop: {stop}, Previous Index: {previous_index}\")\n",
    "\n",
    "            # Update distance if not at the start node\n",
    "            if not routing.IsStart(previous_index):\n",
    "                # Ensure the previous index and current index are within bounds of the distance matrix\n",
    "                if previous_index < len(data[\"distance_matrix\"]) and index < len(data[\"distance_matrix\"]):\n",
    "                    new_dist_value = data[\"distance_matrix\"][previous_index][index]\n",
    "                    new_dist_assignment[node_index] = new_dist_value\n",
    "\n",
    "            # Update for the next iteration\n",
    "            previous_index = index\n",
    "            index = solution.Value(routing.NextVar(index))\n",
    "            stop += 1\n",
    "\n",
    "        # Handle the final connection back to the depot, if necessary\n",
    "        if not routing.IsStart(previous_index) and routing.IsEnd(index):\n",
    "            # End node reached, assign default values or perform necessary finalization\n",
    "            # Using previous_index as end node\n",
    "            end_node_index = manager.IndexToNode(previous_index)\n",
    "            new_vehicle_assignment[end_node_index] = vehicle_id\n",
    "            new_stop_assignment[end_node_index] = stop\n",
    "            # No distance back to depot or handle appropriately\n",
    "            new_dist_assignment[end_node_index] = 0\n",
    "\n",
    "    # Update the dataset based on assignments\n",
    "    dataset[\"NEW RT\"] = pd.Series(new_vehicle_assignment).map(lambda x: x + 1)\n",
    "    dataset[\"NEW DAY\"] = pd.Series(new_vehicle_assignment).map(lambda x: x + 1)\n",
    "    dataset[\"NEW DIST\"] = pd.Series(new_dist_assignment)\n",
    "    dataset[\"NEW STOP\"] = pd.Series(new_stop_assignment)\n",
    "    dataset[\"NEW DIST\"] = dataset[\"NEW DIST\"].fillna(0)\n",
    "    dataset[\"NEW STOP\"] = dataset[\"NEW STOP\"].fillna(0)\n",
    "    dataset[\"NEW STOP\"] = dataset[\"NEW STOP\"].astype(int)\n",
    "    dataset[\"NEW DAY\"] = dataset[\"NEW DAY\"].fillna(0)\n",
    "    dataset[\"NEW DAY\"] = dataset[\"NEW DAY\"].astype(int)\n",
    "    return dataset\n",
    "\n",
    "\n",
    "def create_map_with_accessible_tooltips(dataset):\n",
    "    dataset = dataset.sort_values([\"NEW RT\", \"NEW DAY\"])\n",
    "\n",
    "    m = folium.Map(location=[39.7, -76.5], zoom_start=9, max_zoom=20)\n",
    "\n",
    "    vehicles = dataset[\"NEW RT\"].unique()\n",
    "    colors = list(mcolors.CSS4_COLORS.keys())[13: 13 + len(vehicles)]\n",
    "\n",
    "    color_map = dict(zip(vehicles, colors))\n",
    "\n",
    "    for vehicle in vehicles:\n",
    "        vehicle_data = dataset[dataset[\"NEW RT\"] == vehicle]\n",
    "        locations = vehicle_data[[\"Latitude\", \"Longitude\"]].values\n",
    "\n",
    "        route_group = FeatureGroup(name=f\"Route {vehicle}\")\n",
    "\n",
    "        # Group data by route-day to compute hulls separately\n",
    "        for (route, day), day_data in vehicle_data.groupby([\"NEW RT\", \"NEW DAY\"]):\n",
    "            locations = day_data[[\"Latitude\", \"Longitude\"]].values\n",
    "            # print(f\"Locations for route {route} day {day}:\\n{locations}\")\n",
    "            if len(locations) > 2:\n",
    "                try:\n",
    "\n",
    "                    hull = ConvexHull(locations, qhull_options=\"QJ\")\n",
    "                    hull_points = locations[hull.vertices]\n",
    "                    # print(f\"Hull points for route {route} day {day}:\\n{hull_points}\")\n",
    "                    # input(\"Press Enter to continue...\")\n",
    "                    folium.Polygon(\n",
    "                        locations=hull_points.tolist(),\n",
    "                        color=color_map[vehicle],\n",
    "                        fill=True,\n",
    "                        fill_color=color_map[vehicle],\n",
    "                        fill_opacity=0.3,\n",
    "                        weight=2,\n",
    "                    ).add_to(route_group)\n",
    "                except Exception as e:\n",
    "                    print(\n",
    "                        f\"Could not create a convex hull for vehicle {vehicle}: {e}\")\n",
    "\n",
    "                # Markers: (Same as before)\n",
    "                for index, row in day_data.iterrows():\n",
    "                    tooltip_html = f\"\"\"\n",
    "                    Route: {vehicle}, Day: {row['NEW DAY']}<br>\n",
    "                    Customer: {row['CUST NAME']}<br>\n",
    "                    Address: {row['ADDRESS']}<br>\n",
    "                    Sales: ${row['Machine']:,.2f}<br>\n",
    "                    Companion: ${row['Companion']:,.2f}\n",
    "                    \"\"\"\n",
    "                    folium.CircleMarker(\n",
    "                        location=[row[\"Latitude\"], row[\"Longitude\"]],\n",
    "                        tooltip=tooltip_html,\n",
    "                        color=color_map[vehicle],\n",
    "                        fill=True,\n",
    "                        fill_color=color_map[vehicle],\n",
    "                        radius=5,\n",
    "                    ).add_to(route_group)\n",
    "\n",
    "        route_group.add_to(m)\n",
    "\n",
    "    Fullscreen().add_to(m)\n",
    "    folium.LayerControl(collapsed=False).add_to(m)\n",
    "\n",
    "    # create map file name with time and date\n",
    "    now = datetime.datetime.now()\n",
    "    map_file = f\"./data/maps/nmap_with_accessible_tooltips {now.day}-{now.month}-{now.year} {now.hour}{now.minute}.html\"\n",
    "    m.save(map_file)\n",
    "    map_file = f\"./data/nmaaap_with_accessible_tooltips.html\"\n",
    "    m.save(map_file)\n",
    "    folium.LayerControl(collapsed=False).add_to(m)\n",
    "    # display(m)\n",
    "    return m\n",
    "\n",
    "\n",
    "def swap_route_days(dataset, rt1, rt2, day1, day2):\n",
    "    \"\"\"\n",
    "    Swap all stops between two route-day combinations within the dataset, including changing their route numbers.\n",
    "\n",
    "    Parameters:\n",
    "        dataset (pd.DataFrame): The dataset containing route information.\n",
    "        rt1, rt2 (int): The route numbers involved in the swap.\n",
    "        day1, day2 (int): The day numbers to be swapped between the routes.\n",
    "    \"\"\"\n",
    "    # Create a copy of the dataset to avoid modifying the original\n",
    "    updated_dataset = dataset.copy()\n",
    "\n",
    "    # Identify the index for each route-day combination\n",
    "    index_rt_day_1 = dataset[(dataset['NEW RT'] == rt1) & (\n",
    "        dataset['NEW DAY'] == day1)].index\n",
    "    index_rt_day_2 = dataset[(dataset['NEW RT'] == rt2) & (\n",
    "        dataset['NEW DAY'] == day2)].index\n",
    "\n",
    "    # Check if we have records to swap to avoid errors\n",
    "    if not index_rt_day_1.empty and not index_rt_day_2.empty:\n",
    "        # Swap the route numbers and days between the selected route-day combinations\n",
    "        updated_dataset.loc[index_rt_day_1, 'NEW RT'] = rt2\n",
    "        updated_dataset.loc[index_rt_day_2, 'NEW RT'] = rt1\n",
    "        updated_dataset.loc[index_rt_day_1, 'NEW DAY'] = day2\n",
    "        updated_dataset.loc[index_rt_day_2, 'NEW DAY'] = day1\n",
    "    else:\n",
    "        print(\"One of the routes/days to be swapped does not exist in the dataset.\")\n",
    "\n",
    "    return updated_dataset\n",
    "\n",
    "\n",
    "def move_route_stops(dataset, from_rt, from_day, to_rt, to_day, list_of_stops):\n",
    "    \"\"\"\n",
    "    Move specified stops from one route-day combination to another, \n",
    "    appending them to the end of the new route-day.\n",
    "\n",
    "    Parameters:\n",
    "        dataset (pd.DataFrame): The dataset containing route information.\n",
    "        from_rt, to_rt (int): The original and destination route numbers.\n",
    "        from_day, to_day (int): The original and destination day numbers.\n",
    "        list_of_stops (list): List of stops to be moved.\n",
    "    \"\"\"\n",
    "    # Create a copy of the dataset to avoid modifying the original\n",
    "    updated_dataset = dataset.copy()\n",
    "\n",
    "    # Filter for the stops to be moved\n",
    "    stops_to_move = updated_dataset[(updated_dataset['NEW RT'] == from_rt) &\n",
    "                                    (updated_dataset['NEW DAY'] == from_day) &\n",
    "                                    (updated_dataset['STOP'].isin(list_of_stops))]\n",
    "\n",
    "    # Check if there are stops to move\n",
    "    if not stops_to_move.empty:\n",
    "        # Update 'NEW RT' and 'NEW DAY' for these stops\n",
    "        updated_dataset.loc[stops_to_move.index, 'NEW RT'] = to_rt\n",
    "        updated_dataset.loc[stops_to_move.index, 'NEW DAY'] = to_day\n",
    "\n",
    "        # Assuming 'NEW STOP' indicates the ordering within the day\n",
    "        # Find the max 'NEW STOP' in the destination route-day to append these stops at the end\n",
    "        max_stop_in_destination = updated_dataset[(updated_dataset['NEW RT'] == to_rt) &\n",
    "                                                  (updated_dataset['NEW DAY'] == to_day)]['NEW STOP'].max()\n",
    "\n",
    "        # Update 'NEW STOP' for the moved stops, appending them to the end\n",
    "        # Start from 1 to add to the max\n",
    "        for i, stop in enumerate(sorted(list_of_stops), start=1):\n",
    "            updated_dataset.loc[(updated_dataset['STOP'] == stop) &\n",
    "                                (updated_dataset['NEW RT'] == to_rt) &\n",
    "                                (updated_dataset['NEW DAY'] == to_day), 'NEW STOP'] = max_stop_in_destination + i\n",
    "    else:\n",
    "        print(\"No matching stops found to move.\")\n",
    "\n",
    "    return updated_dataset\n",
    "\n",
    "\n",
    "def haversine_vectorized(latitudes, longitudes, depot_index=0, unit=\"kilometers\"):\n",
    "    \"\"\"\n",
    "    Vectorized version of the Haversine formula to calculate the pairwise distance matrix between two sets of geographical points.\n",
    "    Additionally incorporates custom logic to simulate the 'distance_callback' adjustments.\n",
    "    \"\"\"\n",
    "    # Convert latitude and longitude from degrees to radians\n",
    "    lat_rad = np.radians(latitudes)\n",
    "    lon_rad = np.radians(longitudes)\n",
    "\n",
    "    # Expand lat_rad and lon_rad into 2D arrays for broadcasting\n",
    "    lat_rad_matrix = np.expand_dims(lat_rad, axis=0)\n",
    "    lon_rad_matrix = np.expand_dims(lon_rad, axis=0)\n",
    "\n",
    "    # Compute pairwise differences\n",
    "    dlat = lat_rad_matrix - lat_rad_matrix.T\n",
    "    dlon = lon_rad_matrix - lon_rad_matrix.T\n",
    "\n",
    "    # Haversine formula\n",
    "    a = (\n",
    "        np.sin(dlat / 2.0) ** 2\n",
    "        + np.cos(lat_rad_matrix) * np.cos(lat_rad_matrix.T) *\n",
    "        np.sin(dlon / 2.0) ** 2\n",
    "    )\n",
    "    c = 2 * np.arctan2(np.sqrt(a), np.sqrt(1 - a))\n",
    "    distance_matrix = EARTH_RADIUS_KM * c  # Distance in kilometers\n",
    "\n",
    "    # Convert distance according to the unit\n",
    "    conversion_factors = {\n",
    "        \"miles\": 0.621371,\n",
    "        \"kilometers\": 1,\n",
    "        \"nautical miles\": 0.539957,\n",
    "    }\n",
    "    if unit in conversion_factors:\n",
    "        distance_matrix *= conversion_factors[unit]\n",
    "    else:\n",
    "        raise ValueError(\"Invalid unit\")\n",
    "\n",
    "    # Custom logic adjustment based on distance_callback rules\n",
    "    # Adding additional cost based on depot distances\n",
    "    for from_node in range(len(latitudes)):\n",
    "        from_depot_cost = distance_matrix[depot_index][from_node]\n",
    "        for to_node in range(len(latitudes)):\n",
    "            to_depot_cost = distance_matrix[depot_index][to_node]\n",
    "            if to_depot_cost > from_depot_cost:\n",
    "                distance_matrix[from_node][to_node] += 11\n",
    "    # set the first row and column to 0\n",
    "    distance_matrix[0] = 0\n",
    "    distance_matrix[:, 0] = 0\n",
    "    \n",
    "    return distance_matrix\n",
    "\n",
    "\n",
    "def create_distance_matrix(dataset):\n",
    "    # Example usage\n",
    "    latitudes = dataset[\"Latitude\"].to_numpy()\n",
    "    longitudes = dataset[\"Longitude\"].to_numpy()\n",
    "    # time the function\n",
    "    import time\n",
    "\n",
    "    start = time.time()\n",
    "    # print(\"Creating distance matrix...\")\n",
    "\n",
    "    distance_matrix = haversine_vectorized(\n",
    "        latitudes, longitudes, unit=\"kilometers\")\n",
    "    # calculate the time taken\n",
    "    end = time.time()\n",
    "    # print(f\"Time taken: {end - start} seconds\")\n",
    "    # Convert the distance matrix to a DataFrame if needed\n",
    "    distance_matrix = pd.DataFrame(\n",
    "        distance_matrix, index=dataset.index, columns=dataset.index\n",
    "    )\n",
    "    distance_matrix *= 10\n",
    "    distance_matrix += 0.9999\n",
    "    # multiply all values of distance_matrix by 2 and convert to int\n",
    "    distance_matrix = distance_matrix.astype(int)\n",
    "\n",
    "    # Create a boolean mask where all diagonal elements are False and others are True\n",
    "    mask = ~np.eye(distance_matrix.shape[0], dtype=bool)\n",
    "\n",
    "    # Add 1 to all elements that are not on the diagonal (mask is True) and are currently 0\n",
    "    distance_matrix = distance_matrix.mask(\n",
    "        mask & (distance_matrix == 0), distance_matrix + 1\n",
    "    )\n",
    "    distance_matrix = distance_matrix.astype(int)\n",
    "\n",
    "    distance_matrix.to_csv(\"distance_matrix.csv\", index=False)\n",
    "    # print(\"Distance matrix created.\")\n",
    "    return distance_matrix\n",
    "\n",
    "\n",
    "def find_unique_name_indexes(data_frame, custom_names):\n",
    "    \"\"\"\n",
    "    Finds the indexes of unique custom names in a DataFrame's 'CUST NAME' column.\n",
    "\n",
    "    Args:\n",
    "        data_frame: A Pandas DataFrame.\n",
    "        custom_names: A list of unique custom names to search for.\n",
    "\n",
    "    Returns:\n",
    "        A list of the indexes of the custom names in the DataFrame. If a name\n",
    "        is not found, its corresponding index in the result list will be None.\n",
    "    \"\"\"\n",
    "    result = []\n",
    "    for name in custom_names:\n",
    "        mask = data_frame['CUST NAME'] == name\n",
    "        index = data_frame.loc[mask].index.tolist()  # Get index as a list\n",
    "        result.append(index[0] if index else None)  # First index or None\n",
    "\n",
    "    return result\n",
    "\n",
    "\n",
    "def best_tracker_with_params(solution, filename, search_parameters):\n",
    "    current_obj = solution.ObjectiveValue()\n",
    "    try:\n",
    "        with open(filename, \"r\") as f:\n",
    "            lines = f.readlines()\n",
    "            if len(lines) >= 2:\n",
    "                prev_obj = int(lines[-1])\n",
    "                best_obj = int(lines[-2])\n",
    "            else:\n",
    "                prev_obj = current_obj\n",
    "                best_obj = current_obj\n",
    "    except FileNotFoundError:\n",
    "        prev_obj = current_obj\n",
    "        best_obj = current_obj\n",
    "\n",
    "    # Create a table object for best tracker\n",
    "    best_tracker_table = Table(title=\"Progress Tracker\", show_lines=True)\n",
    "    best_tracker_table.add_column(\"Solution\", style=\"magenta\")\n",
    "    best_tracker_table.add_column(\"Value\", style=\"cyan\")\n",
    "    best_tracker_table.add_row(\"[b]Current\", \"[b]{:,}\".format(current_obj))\n",
    "\n",
    "    best_tracker_table.add_row(\"Best\", \"{:,}\".format(best_obj))\n",
    "    best_tracker_table.add_row(\"Last Run\", \"{:,}\".format(prev_obj))\n",
    "\n",
    "    if best_obj > current_obj:\n",
    "        improvement = best_obj - current_obj\n",
    "        best_obj = current_obj\n",
    "        best_tracker_table.add_row(\n",
    "            \"[b]WINNER![/b]\", \"[b]{:,}\".format(best_obj))\n",
    "        best_tracker_table.add_row(\n",
    "            \"[b]IMPROVEMENT AMOUNT\", \"[b]{:,}\".format(improvement))\n",
    "    else:\n",
    "        if prev_obj > current_obj:\n",
    "            improvement = prev_obj - current_obj\n",
    "            best_tracker_table.add_row(\n",
    "                \"[b]IMPROVEMENT AMOUNT\", \"[b]{:,}\".format(improvement))\n",
    "        else:\n",
    "            deterioration = current_obj - prev_obj\n",
    "            best_tracker_table.add_row(\n",
    "                \"[b]WORSE BY\", \"[b]{:,}\".format(deterioration))\n",
    "    best_tracker_table.add_row(\"Explore Coefficient\", \"{:,}\".format(\n",
    "        search_parameters.multi_armed_bandit_compound_operator_exploration_coefficient))\n",
    "    best_tracker_table.add_row(\"Memory Coefficient\", \"{:1f}\".format(\n",
    "        search_parameters.multi_armed_bandit_compound_operator_memory_coefficient))\n",
    "    best_tracker_table.add_row(\"Solve Time (seconds)\", str(\n",
    "        search_parameters.time_limit.seconds))\n",
    "    # After processing, update the file with the current and new best solutions\n",
    "    with open(filename, \"w\") as f:\n",
    "        f.write(f\"{best_obj}\\n{current_obj}\\n\")\n",
    "    return best_tracker_table\n",
    "\n",
    "\n",
    "def process_solution(data, manager, routing, solution, dataset):\n",
    "    total_distance = 0\n",
    "    total_load = 0\n",
    "    total_load2 = 0\n",
    "    route_details = []\n",
    "    new_vehicle_assignment = {}  # This will map node index to vehicle ID\n",
    "\n",
    "    for vehicle_id in range(data[\"num_vehicles\"]):\n",
    "        index = routing.Start(vehicle_id)\n",
    "        route_distance = 0\n",
    "        route_load = 0\n",
    "        route_load2 = 0\n",
    "        route_count = 0\n",
    "        while not routing.IsEnd(index):\n",
    "            node_index = manager.IndexToNode(index)\n",
    "            route_load += data[\"demands\"][node_index]\n",
    "            route_load2 += data[\"demands2\"][node_index]\n",
    "            previous_index = index\n",
    "            index = solution.Value(routing.NextVar(index))\n",
    "            route_distance += routing.GetArcCostForVehicle(\n",
    "                previous_index, index, vehicle_id)\n",
    "            route_count += 1\n",
    "            # Assign the vehicle to the nodes it visits\n",
    "            # +1 for 1-indexed vehicle IDs\n",
    "            new_vehicle_assignment[node_index] = vehicle_id + 1\n",
    "\n",
    "        # Add the end node for each vehicle\n",
    "        new_vehicle_assignment[manager.IndexToNode(\n",
    "            index)] = vehicle_id + 1  # Assign end node\n",
    "\n",
    "        total_distance += route_distance\n",
    "        total_load += route_load\n",
    "        total_load2 += route_load2\n",
    "\n",
    "        # Collect route details for return\n",
    "        route_details.append({\n",
    "            'vehicle_id': vehicle_id + 1,\n",
    "            'stops': route_count,\n",
    "            'load': route_load,\n",
    "            'load2': route_load2,\n",
    "            'distance': route_distance\n",
    "        })\n",
    "\n",
    "    # Apply new vehicle assignments to dataset\n",
    "    # Ensure every index/node is in new_vehicle_assignment, then update 'NEW RT'\n",
    "    dataset['NEW RT'] = dataset.index.map(\n",
    "        lambda idx: new_vehicle_assignment.get(idx, np.nan))\n",
    "    dataset['NEW RT'] = dataset['NEW RT'].fillna(\n",
    "        method='ffill').fillna(method='bfill')\n",
    "\n",
    "    # Compile overall results\n",
    "    results = {\n",
    "        'dataset': dataset,\n",
    "        'total_distance': total_distance,\n",
    "        'total_load': total_load,\n",
    "        'total_load2': total_load2,\n",
    "        'route_details': route_details\n",
    "    }\n",
    "    return results\n",
    "\n",
    "\n",
    "def combined_tracker_and_statistics(solution, filename, dataset, data, manager, routing, search_parameters):\n",
    "    # Assuming you have other code here for setup...\n",
    "\n",
    "    # Now call your updated best tracker with parameters\n",
    "\n",
    "    # Assuming you have more code here for the rest of the function...\n",
    "    \"\"\"\n",
    "    Combines tracking of solution quality, route statistics, and solution specifics \n",
    "    into a comprehensive overview using Rich tables for readability and user-friendliness.\n",
    "\n",
    "    Args:\n",
    "        solution: The routing solution object.\n",
    "        filename: Name of the file used to track the best and previous objectives.\n",
    "        dataset: The dataset containing route information.\n",
    "        data: The data dictionary used in the routing problem.\n",
    "        manager: The index manager for the routing problem.\n",
    "        routing: The routing model instance.\n",
    "    \"\"\"\n",
    "\n",
    "    # returns a table of the best tracker\n",
    "    # sleep(1)\n",
    "    best_tracker_table = best_tracker_with_params(\n",
    "        solution, filename, search_parameters)\n",
    "\n",
    "    # Generate route statistics and integrate them into the dataset\n",
    "    route_data = process_solution(data, manager, routing, solution, dataset)\n",
    "\n",
    "    # Prepare the tables for display\n",
    "    stats_table = Table(title=\"Route Statistics\", show_lines=True)\n",
    "    # stats_table.add_column(\"Route ID\", style=\"magenta\")\n",
    "    stats_table.add_column(\"Total BIG 5 AVG\", style=\"cyan\", max_width=10)\n",
    "    stats_table.add_column(\"Total COMP AVG\", style=\"green\", max_width=7)\n",
    "    stats_table.add_column(\"Number of Days\", style=\"cyan\", max_width=6)\n",
    "    stats_table.add_column(\"Number of Stops\", style=\"green\", max_width=6)\n",
    "    # stats_table.add_column(\"Average Stops/Day\", style=\"red\",max_width=7)\n",
    "    stats_table.add_column(\"Ttl Distance\", style=\"cyan\", max_width=8)\n",
    "    # stats_table.add_column(\"BIG 5/Stop\", style=\"blue\",max_width=7)\n",
    "    stats_table.add_column(\"COMP / Stop\", style=\"green\", max_width=7)\n",
    "\n",
    "    # Populate route statistics table\n",
    "    route_stats = generate_route_statistics(dataset)\n",
    "    for _, row in route_stats.iterrows():\n",
    "        stats_table.add_row(\n",
    "            # f\"{int(row['NEW RT'])}\",\n",
    "            f\"${int(row['total_BIG_5_AVG']):,}\",\n",
    "            f\"${int(row['total_COMP_AVG']):,}\",\n",
    "            f\"{int(row['number_of_NEW_DAY'])}\",\n",
    "            f\"{int(row['number_of_NEW_STOP'])}\",\n",
    "            # f\"{row['average_stops_per_day']:.1f}\",\n",
    "            f\"{int(row['average_NEW_DIST']):,}\",\n",
    "            # f\"${row['total_BIG_5_AVG']/row['number_of_NEW_STOP']:,.2f}\",\n",
    "            f\"${int(row['total_COMP_AVG']/row['number_of_NEW_STOP'])}\"\n",
    "        )\n",
    "    console = Console()\n",
    "\n",
    "    panel1 = Panel(best_tracker_table, title=\"Best Tracker\")\n",
    "    panel2 = Panel(stats_table)\n",
    "    tables_side_by_side = Columns([best_tracker_table, stats_table])\n",
    "    # Print the tables\n",
    "    print(tables_side_by_side)\n",
    "    return dataset  # Return the modified dataset for potential further use\n",
    "\n",
    "\n",
    "def generate_route_statistics(dataset):\n",
    "    # Group the data by 'NEW RT' and calculate the required statistics\n",
    "    route_stats = (\n",
    "        dataset.groupby(\"NEW RT\")\n",
    "        .agg(\n",
    "            total_BIG_5_AVG=(\"BIG 5 AVG\", \"sum\"),\n",
    "            total_COMP_AVG=(\"COMP AVG\", \"sum\"),\n",
    "            number_of_NEW_DAY=(\"NEW DAY\", \"nunique\"),\n",
    "            number_of_NEW_STOP=(\"NEW STOP\", \"count\"),\n",
    "            average_NEW_DIST=(\"NEW DIST\", \"sum\"),\n",
    "        )\n",
    "        .reset_index()\n",
    "    )\n",
    "\n",
    "    # Calculate Average Stops per day for each route\n",
    "    route_stats[\"average_stops_per_day\"] = (\n",
    "        route_stats[\"number_of_NEW_STOP\"] / route_stats[\"number_of_NEW_DAY\"]\n",
    "    )\n",
    "    return route_stats\n",
    "\n",
    "\n",
    "# Constants\n",
    "EARTH_RADIUS_KM = 6371  # Earth's radius in kilometers\n",
    "R = 6371.0\n",
    "\n",
    "# Setup Dataset\n",
    "file_path = \"./data/uploads/\"\n",
    "file_name = \"P4reroute.xlsx\"\n",
    "# load reroute.xls into dataset, set the column headers to the first row of the dataset and drop the second row\n",
    "dataset = pd.read_excel(file_path + file_name)\n",
    "dataset = dataset.iloc[1:, 0:]\n",
    "dataset = dataset.reset_index(drop=True)\n",
    "depot = pd.read_csv(\"depot.csv\")\n",
    "dataset = pd.concat([depot, dataset]).reset_index(drop=True)\n",
    "# if dataset does not have a column named 'Latitude' then create it\n",
    "if \"Latitude\" not in dataset.columns:\n",
    "    dataset[\"Latitude\"] = np.nan\n",
    "# if dataset does not have a column named 'Longitude' then create it\n",
    "if \"Longitude\" not in dataset.columns:\n",
    "    dataset[\"Longitude\"] = np.nan\n",
    "\n",
    "try:\n",
    "    dataset[\"Machine\"] = dataset[\"BIG 5 AVG\"]\n",
    "    dataset[\"Companion\"] = dataset[\"COMP AVG\"]\n",
    "except Exception as e:\n",
    "    print(e)\n",
    "\n",
    "# Assuming 'dataset' is your DataFrame\n",
    "# Use regular expressions to remove any non-numeric characters from the 'NEW DAY' column\n",
    "dataset['DAY'] = dataset['DAY'].replace(\n",
    "    to_replace=[r'[^\\d]+'], value='', regex=True)\n",
    "\n",
    "# Convert the cleaned 'NEW DAY' values from strings to integers\n",
    "# Note: This will convert empty strings to NaN, which you might need to handle based on your use case\n",
    "dataset['DAY'] = pd.to_numeric(\n",
    "    dataset['DAY'], errors='coerce').fillna(0).astype(int)\n",
    "dataset[\"RT\"] = dataset[\"RT\"].astype(int)\n",
    "# split the 'ADDRESS' column by comma and keep only the first part\n",
    "dataset[\"ADDRESS\"] = dataset[\"ADDRESS\"].str.split(\",\").str[0]\n",
    "api_key = \"8dad1cc087374a6ba988e6371e45911b\"\n",
    "# Update Coordinates\n",
    "# Check for existing coordinates file\n",
    "if os.path.exists(\"./coordinates.csv\"):\n",
    "    # print(\"Coordinates file exists.\")\n",
    "    coordinates_df = (\n",
    "        pd.read_csv(\"./coordinates.csv\")\n",
    "        .drop_duplicates(subset=\"CUST\")\n",
    "        .reset_index(drop=True)\n",
    "    )\n",
    "    coordinates_df[\"CUST\"] = coordinates_df[\"CUST\"].astype(\n",
    "        str\n",
    "    )  # Convert the 'CUST' column to string\n",
    "else:\n",
    "    print(\"Creating new coordinates DataFrame...\")\n",
    "    coordinates_df = pd.DataFrame(columns=[\"CUST\", \"Latitude\", \"Longitude\"])\n",
    "print(\"Updating coordinates...\")\n",
    "# Iterate through the dataset\n",
    "for i in tqdm(range(len(dataset))):\n",
    "    cust = str(dataset.at[i, \"CUST\"])  # Ensure CUST is treated as a string\n",
    "\n",
    "    # Check if the customer is already in the coordinates DataFrame\n",
    "    if cust in coordinates_df[\"CUST\"].values:\n",
    "        # print(f\"Using existing coordinates for {dataset.at[i, 'CUST NAME']}\")\n",
    "        row = coordinates_df[coordinates_df[\"CUST\"] == cust]\n",
    "        dataset.at[i, \"Latitude\"] = row[\"Latitude\"].values[0]\n",
    "        dataset.at[i, \"Longitude\"] = row[\"Longitude\"].values[0]\n",
    "    else:\n",
    "        # Construct the address\n",
    "        name = dataset.at[i, \"CUST NAME\"]\n",
    "        house_number = dataset.at[i, \"HOUSE NUMBER\"]\n",
    "        address = dataset.at[i, \"ADDRESS\"]\n",
    "        city = dataset.at[i, \"CITY\"]\n",
    "        short_zip = str(dataset.at[i, \"ZIP\"])[:5]\n",
    "        print(\n",
    "            f\"Name: {name}, House Number: {house_number}, Address: {address}, City: {city}, ZIP: {short_zip}\")\n",
    "        print(f\"Quote Plus Name: {quote_plus(name)}\")\n",
    "        print(f\"Quote Plus House Number: {quote_plus(house_number)}\")\n",
    "        print(f\"Quote Plus Address: {quote_plus(address)}\")\n",
    "        print(f\"Quote Plus City: {quote_plus(city)}\")\n",
    "        print(f\"Quote Plus ZIP: {quote_plus(short_zip)}\")\n",
    "\n",
    "        # Encode components for URL\n",
    "        url = f\"https://api.geoapify.com/v1/geocode/search?name={quote_plus(name)}&housenumber={quote_plus(house_number)}&street={quote_plus(address)}&city={quote_plus(city)}&postcode={short_zip}&format=json&apiKey={api_key}\"\n",
    "        print(url)\n",
    "        # Make the request\n",
    "        resp = requests.get(url, headers={\"Accept\": \"application/json\"})\n",
    "\n",
    "        if resp.status_code == 200:\n",
    "            resp_query = resp.json()\n",
    "            if resp_query[\"results\"]:\n",
    "                lat, lon = (\n",
    "                    resp_query[\"results\"][0][\"lat\"],\n",
    "                    resp_query[\"results\"][0][\"lon\"],\n",
    "                )\n",
    "                dataset.at[i, \"Latitude\"] = lat\n",
    "                dataset.at[i, \"Longitude\"] = lon\n",
    "                # Append new coordinates to coordinates_df and the CSV file\n",
    "                new_row = pd.DataFrame(\n",
    "                    [[cust, lat, lon]], columns=[\n",
    "                        \"CUST\", \"Latitude\", \"Longitude\"]\n",
    "                )\n",
    "                coordinates_df = pd.concat(\n",
    "                    [coordinates_df, new_row], ignore_index=True)\n",
    "                new_row.to_csv(\"coordinates.csv\", mode=\"a\",\n",
    "                               header=False, index=False)\n",
    "                print(f\"Added coordinates for {name}\")\n",
    "            else:\n",
    "                print(f\"No results found for {name}\")\n",
    "        else:\n",
    "            print(\n",
    "                f\"Failed to get coordinates for {name}: HTTP {resp.status_code}\")\n",
    "dataset.to_csv(\"updated_dataset.csv\", index=False)\n",
    "# Save the updated coordinates DataFrame\n",
    "coordinates_df.to_csv(\"coordinates.csv\", index=False, mode=\"w\")\n",
    "# save dataset to csv\n",
    "\n",
    "distance_matrix = create_distance_matrix(dataset)\n",
    "latlong_df = dataset[[\"Latitude\", \"Longitude\"]]\n",
    "\n",
    "dataset_OG = dataset.copy()\n",
    "dataset_OG[\"NEW RT\"] = dataset[\"RT\"]\n",
    "dataset_OG[\"NEW DAY\"] = dataset[\"DAY\"]\n",
    "dataset_OG[\"NEW STOP\"] = dataset[\"STOP\"]\n",
    "print(distance_matrix)\n",
    "# Setup Dataset\n",
    "\n",
    "# load reroute.xls into dataset, set the column headers to the first row of the dataset and drop the second row\n",
    "# df = pd.read_excel(file_path + file_name)\n",
    "# df = df.iloc[1:, 0:]\n",
    "# df = df.dropna(subset=['NEW RT'])\n",
    "# df = df.reset_index(drop=True)\n",
    "# do we will assign the values of df \tBR\tRT\tDAY\tSTOP to the dataset rows with the mathing value of CUST\n",
    "# and then drop the rows with NaN in the CUST\n",
    "# assign dataset['BR'] and dataset['NEW BR'] to the value of df['NEW BR']\n",
    "\n",
    "# dataset['BR'] =  dataset['NEW BR'] = df['NEW BR']\n",
    "# dataset['RT'] =  dataset['NEW RT'] = df['NEW RT']\n",
    "# dataset['DAY'] = dataset['NEW DAY'] = df['NEW DAY']\n",
    "# dataset['STOP'] = dataset['NEW STOP'] = df['NEW STOP']\n",
    "\n",
    "# Rest of the code...\n",
    "\n",
    "\n",
    "dataset['NEW DAY'] = dataset['NEW DAY'].replace(\n",
    "    to_replace=[r'[^\\d]+'], value='', regex=True)\n",
    "\n",
    "# Convert the cleaned 'NEW DAY' values from strings to integers\n",
    "# Note: This will convert empty strings to NaN, which you might need to handle based on your use case\n",
    "dataset['NEW DAY'] = pd.to_numeric(\n",
    "    dataset['NEW DAY'], errors='coerce').fillna(0).astype(int)\n",
    "dataset[\"NEW RT\"] = dataset[\"NEW RT\"].fillna(0).astype(int)\n",
    "dataset['NEW STOP'] = dataset['NEW STOP'].fillna(0).astype(int)\n",
    "# Create a 'Stop ID' column using the row index\n",
    "dataset['Stop ID'] = dataset.index\n"
   ]
  },
  {
   "cell_type": "code",
   "execution_count": 2,
   "metadata": {
    "notebookRunGroups": {
     "groupValue": "1"
    }
   },
   "outputs": [],
   "source": [
    "def set_search_parameters(\n",
    "    search_parameters,\n",
    "    solve_minutes=1,\n",
    "    explore_coefficient=99999999,\n",
    "    memory_coefficient=0.09,\n",
    "    log_search=False,\n",
    "    seconds_per_iter=10,\n",
    "    solution_limit=999999,\n",
    "):\n",
    "    \"\"\"\n",
    "    Set the search parameters for the routing problem.\n",
    "\n",
    "    Args:\n",
    "        search_parameters: The search parameters object.\n",
    "        solve_minutes: The number of minutes to solve the problem (default: 1).\n",
    "        explore_coefficient: The exploration coefficient for the multi-armed bandit compound operator (default: 99999999).\n",
    "        memory_coefficient: The memory coefficient for the multi-armed bandit compound operator (default: 0.09).\n",
    "\n",
    "    Returns:\n",
    "        The updated search parameters object.\n",
    "    \"\"\"\n",
    "    F = pywrapcp.BOOL_FALSE\n",
    "    T = pywrapcp.BOOL_TRUE\n",
    "\n",
    "    search_parameters.local_search_operators.use_cross = pywrapcp.BOOL_TRUE\n",
    "    search_parameters.local_search_operators.use_relocate = pywrapcp.BOOL_TRUE\n",
    "    search_parameters.local_search_operators.use_exchange = pywrapcp.BOOL_TRUE\n",
    "    search_parameters.local_search_operators.use_cross_exchange = pywrapcp.BOOL_TRUE\n",
    "    search_parameters.local_search_operators.use_tsp_opt = pywrapcp.BOOL_TRUE\n",
    "    search_parameters.local_search_operators.use_or_opt = pywrapcp.BOOL_TRUE\n",
    "    search_parameters.local_search_operators.use_lin_kernighan = pywrapcp.BOOL_TRUE\n",
    "    search_parameters.local_search_operators.use_two_opt = pywrapcp.BOOL_TRUE\n",
    "    search_parameters.local_search_operators.use_relocate_neighbors = pywrapcp.BOOL_TRUE\n",
    "\n",
    "    search_parameters.local_search_operators.use_exchange_subtrip = pywrapcp.BOOL_TRUE\n",
    "    search_parameters.local_search_operators.use_exchange_pair = pywrapcp.BOOL_TRUE\n",
    "    search_parameters.local_search_operators.use_make_inactive = pywrapcp.BOOL_TRUE\n",
    "    search_parameters.local_search_operators.use_light_relocate_pair = pywrapcp.BOOL_TRUE\n",
    "    search_parameters.local_search_operators.use_relocate_subtrip = pywrapcp.BOOL_TRUE\n",
    "    search_parameters.local_search_operators.use_relocate_and_make_active = pywrapcp.BOOL_TRUE\n",
    "    search_parameters.local_search_operators.use_extended_swap_active = pywrapcp.BOOL_TRUE\n",
    "    search_parameters.local_search_operators.use_node_pair_swap_active = pywrapcp.BOOL_TRUE\n",
    "    search_parameters.local_search_operators.use_swap_active = pywrapcp.BOOL_TRUE\n",
    "    search_parameters.local_search_operators.use_make_chain_inactive = pywrapcp.BOOL_TRUE\n",
    "\n",
    "    search_parameters.local_search_operators.use_relocate_expensive_chain = pywrapcp.BOOL_TRUE\n",
    "    search_parameters.local_search_operators.use_full_path_lns = pywrapcp.BOOL_TRUE\n",
    "    search_parameters.local_search_operators.use_inactive_lns = pywrapcp.BOOL_TRUE\n",
    "    search_parameters.local_search_operators.use_tsp_lns = pywrapcp.BOOL_TRUE\n",
    "    search_parameters.local_search_operators.use_path_lns = pywrapcp.BOOL_TRUE\n",
    "    search_parameters.local_search_operators.use_full_path_lns = pywrapcp.BOOL_TRUE\n",
    "    search_parameters.local_search_operators.use_global_cheapest_insertion_close_nodes_lns = pywrapcp.BOOL_TRUE\n",
    "    search_parameters.local_search_operators.use_local_cheapest_insertion_close_nodes_lns = pywrapcp.BOOL_TRUE\n",
    "    search_parameters.local_search_operators.use_global_cheapest_insertion_expensive_chain_lns = pywrapcp.BOOL_TRUE\n",
    "    search_parameters.local_search_operators.use_local_cheapest_insertion_expensive_chain_lns = pywrapcp.BOOL_TRUE\n",
    "    search_parameters.local_search_operators.use_global_cheapest_insertion_path_lns = pywrapcp.BOOL_TRUE\n",
    "    search_parameters.local_search_operators.use_local_cheapest_insertion_path_lns = pywrapcp.BOOL_TRUE\n",
    "    search_parameters.use_multi_armed_bandit_concatenate_operators = pywrapcp.BOOL_TRUE\n",
    "\n",
    "    search_parameters.multi_armed_bandit_compound_operator_memory_coefficient = (\n",
    "        memory_coefficient)\n",
    "    search_parameters.multi_armed_bandit_compound_operator_exploration_coefficient = (\n",
    "        explore_coefficient)\n",
    "\n",
    "    search_parameters.relocate_expensive_chain_num_arcs_to_consider = 90\n",
    "    search_parameters.heuristic_expensive_chain_lns_num_arcs_to_consider = 99\n",
    "    search_parameters.heuristic_close_nodes_lns_num_nodes = 90\n",
    "    search_parameters.use_depth_first_search = pywrapcp.BOOL_TRUE\n",
    "    search_parameters.solution_limit = solution_limit\n",
    "    # search_parameters.time_limit.seconds = int(\n",
    "    #     solve_minutes * seconds_per_iter)  # compute_time.value\n",
    "    # search_parameters.lns_time_limit.nanos = 1\n",
    "    # search_parameters.number_of_solutions_to_collect = 3\n",
    "\n",
    "    search_parameters.lns_time_limit.seconds = 31\n",
    "    search_parameters.use_cp_sat = pywrapcp.BOOL_TRUE\n",
    "    search_parameters.fallback_to_cp_sat_size_threshold = 99\n",
    "    search_parameters.cheapest_insertion_first_solution_min_neighbors = 9\n",
    "    search_parameters.cheapest_insertion_first_solution_neighbors_ratio = 0.9\n",
    "    # search_parameters.secondary_ls_time_limit_ratio = 0.04\n",
    "    log_search = True\n",
    "    search_parameters.log_search = log_search\n",
    "    search_parameters.use_full_propagation = False\n",
    "    # search_parameters.log_cost_scaling_factor = 0.1\n",
    "    return search_parameters\n"
   ]
  },
  {
   "cell_type": "markdown",
   "metadata": {
    "notebookRunGroups": {
     "groupValue": "1"
    }
   },
   "source": [
    "# Prime the Routing Model"
   ]
  },
  {
   "cell_type": "code",
   "execution_count": null,
   "metadata": {},
   "outputs": [],
   "source": []
  },
  {
   "cell_type": "code",
   "execution_count": 3,
   "metadata": {
    "notebookRunGroups": {
     "groupValue": "1"
    }
   },
   "outputs": [],
   "source": [
    "def create_data_model(\n",
    "    dataset,\n",
    "    distance_matrix,\n",
    "    vehicle_capacities=[],\n",
    "    vehicle_capacities2=[],\n",
    "    vehicle_capacities3=[],\n",
    "    starts=[],\n",
    "    ends=[]\n",
    "):\n",
    "    max_stops_per_day = 9\n",
    "    max_comp_per_day = 1900\n",
    "    max_big5_per_day = 3500\n",
    "    data = {}\n",
    "    demands = dataset[\"Companion\"].tolist()\n",
    "    demands2 = dataset[\"Machine\"].tolist()\n",
    "    data[\"num_vehicles\"] = 50\n",
    "    data[\"distance_matrix\"] = distance_matrix.values.tolist()\n",
    "    data[\"demands\"] = [int(demand) for demand in demands]\n",
    "    data[\"demands2\"] = [int(demand) for demand in demands2]\n",
    "    data[\"demands3\"] = [1] * len(data[\"demands\"])\n",
    "    # data['vehicle_capacities']  = [int(dataset[\"COMP AVG\"].sum() / data['num_vehicles'])] * data['num_vehicles'] # comp target max for each route\n",
    "    # data['vehicle_capacities2'] = [int(dataset[\"BIG 5 AVG\"].sum() / data['num_vehicles'])] * data['num_vehicles'] # big 5 target max for each route\n",
    "    data['vehicle_capacities'] = [max_comp_per_day] * \\\n",
    "        data['num_vehicles']  # comp target max for each route\n",
    "    data['vehicle_capacities2'] = [max_big5_per_day] * \\\n",
    "        data['num_vehicles']  # big 5 target max for each route\n",
    "    # number of stops for each route[int(dataset[\"CUST\"].count() / data['num_vehicles'])]\n",
    "    data['vehicle_capacities3'] = [max_stops_per_day] * data['num_vehicles']\n",
    "    # data[\"vehicle_capacities\"] = [int(capacity)\n",
    "\n",
    "    cap_factor = 3.8\n",
    "    # data['vehicle_capacities'] = [int(15  * capacity) for capacity in data['vehicle_capacities']]\n",
    "    # data['vehicle_capacities2'] = [int(1.2 * capacity) for capacity in data['vehicle_capacities2']]\n",
    "    # data['vehicle_capacities3'] = [int(1.5 * capacity) for capacity in data['vehicle_capacities3']]\n",
    "    data[\"depot\"] = 0\n",
    "\n",
    "    return data\n"
   ]
  },
  {
   "cell_type": "code",
   "execution_count": 4,
   "metadata": {
    "notebookRunGroups": {
     "groupValue": "1"
    }
   },
   "outputs": [],
   "source": [
    "seconds_for_prime = 22\n",
    "test_runs = 0\n",
    "max_test_runs = 8\n",
    "explore_prime = 0\n",
    "relocate_expensive_arcs = 33\n",
    "heuristic_expensive_arcs = 33\n",
    "heuristic_close_nodes = 33\n",
    "memory_coefficient = 0.77\n",
    "max_distance = 1878\n",
    "solution_limit = 2900\n",
    "final_fig = [None] * solution_limit\n"
   ]
  },
  {
   "cell_type": "code",
   "execution_count": 5,
   "metadata": {
    "notebookRunGroups": {
     "groupValue": "1"
    }
   },
   "outputs": [
    {
     "data": {
      "text/html": [
       "<pre style=\"white-space:pre;overflow-x:auto;line-height:normal;font-family:Menlo,'DejaVu Sans Mono',consolas,'Courier New',monospace\">data: starting to solve\n",
       "</pre>\n"
      ],
      "text/plain": [
       "data: starting to solve\n"
      ]
     },
     "metadata": {},
     "output_type": "display_data"
    },
    {
     "name": "stderr",
     "output_type": "stream",
     "text": [
      "WARNING: All log messages before absl::InitializeLog() is called are written to STDERR\n",
      "I0000 00:00:1711738727.687000 1100508 search.cc:282] Start search (memory used = 399.40 MB)\n",
      "I0000 00:00:1711738727.691749 1100508 search.cc:282] Root node processed (time = 4 ms, constraints = 4799, memory used = 399.40 MB)\n",
      "I0000 00:00:1711738728.058831 1100508 search.cc:282] Solution #0 (24078, time = 371 ms, branches = 34, failures = 1, depth = 33, memory used = 400.82 MB, limit = 1%)\n",
      "I0000 00:00:1711738728.320682 1100508 search.cc:282] Solution #1 (23965, maximum = 24078, time = 633 ms, branches = 38, failures = 106, depth = 33, Relocate<1>, neighbors = 2591, filtered neighbors = 104, accepted neighbors = 1, memory used = 400.88 MB, limit = 2%)\n",
      "I0000 00:00:1711738728.411962 1100508 search.cc:282] Solution #2 (23697, maximum = 24078, time = 724 ms, branches = 43, failures = 144, depth = 33, Relocate<1>, neighbors = 2897, filtered neighbors = 141, accepted neighbors = 2, memory used = 400.88 MB, limit = 3%)\n",
      "I0000 00:00:1711738728.545796 1100508 search.cc:282] Solution #3 (23683, maximum = 24078, time = 858 ms, branches = 47, failures = 196, depth = 33, Relocate<1>, neighbors = 4982, filtered neighbors = 192, accepted neighbors = 3, memory used = 400.88 MB, limit = 3%)\n"
     ]
    },
    {
     "data": {
      "text/html": [
       "<pre style=\"white-space:pre;overflow-x:auto;line-height:normal;font-family:Menlo,'DejaVu Sans Mono',consolas,'Courier New',monospace\">Solution #<span style=\"color: #008080; text-decoration-color: #008080; font-weight: bold\">5</span>  found as: <span style=\"color: #008080; text-decoration-color: #008080; font-weight: bold\">23682</span> Progress: <span style=\"color: #008080; text-decoration-color: #008080; font-weight: bold\">4</span>%  Branches: <span style=\"color: #008080; text-decoration-color: #008080; font-weight: bold\">53</span> Accepted Neighbors: <span style=\"color: #008080; text-decoration-color: #008080; font-weight: bold\">4</span> Model Stamp <span style=\"color: #008080; text-decoration-color: #008080; font-weight: bold\">15448</span> Wall Time: <span style=\"color: #008080; text-decoration-color: #008080; font-weight: bold\">1221</span>\n",
       "</pre>\n"
      ],
      "text/plain": [
       "Solution #\u001b[1;36m5\u001b[0m  found as: \u001b[1;36m23682\u001b[0m Progress: \u001b[1;36m4\u001b[0m%  Branches: \u001b[1;36m53\u001b[0m Accepted Neighbors: \u001b[1;36m4\u001b[0m Model Stamp \u001b[1;36m15448\u001b[0m Wall Time: \u001b[1;36m1221\u001b[0m\n"
      ]
     },
     "metadata": {},
     "output_type": "display_data"
    },
    {
     "name": "stderr",
     "output_type": "stream",
     "text": [
      "I0000 00:00:1711738728.855467 1100508 search.cc:282] Solution #4 (23682, maximum = 24078, time = 1168 ms, branches = 53, failures = 324, depth = 33, Relocate<1>, neighbors = 7831, filtered neighbors = 319, accepted neighbors = 4, memory used = 400.88 MB, limit = 4%)\n",
      "I0000 00:00:1711738729.255764 1100508 search.cc:282] Solution #5 (23652, maximum = 24078, time = 1568 ms, branches = 57, failures = 494, depth = 33, Relocate<1>, neighbors = 9947, filtered neighbors = 488, accepted neighbors = 5, memory used = 400.88 MB, limit = 7%)\n",
      "I0000 00:00:1711738729.305182 1100508 search.cc:282] Solution #6 (23635, maximum = 24078, time = 1618 ms, branches = 62, failures = 515, depth = 33, Relocate<1>, neighbors = 9978, filtered neighbors = 508, accepted neighbors = 6, memory used = 400.88 MB, limit = 7%)\n",
      "I0000 00:00:1711738729.770544 1100508 search.cc:282] Solution #7 (23629, maximum = 24078, time = 2083 ms, branches = 66, failures = 705, depth = 33, Relocate<1>, neighbors = 15623, filtered neighbors = 697, accepted neighbors = 7, memory used = 400.88 MB, limit = 9%)\n",
      "I0000 00:00:1711738729.877522 1100508 search.cc:282] Solution #8 (23605, maximum = 24078, time = 2190 ms, branches = 73, failures = 751, depth = 33, Relocate<1>, neighbors = 15698, filtered neighbors = 742, accepted neighbors = 8, memory used = 400.88 MB, limit = 9%)\n"
     ]
    },
    {
     "data": {
      "text/html": [
       "<pre style=\"white-space:pre;overflow-x:auto;line-height:normal;font-family:Menlo,'DejaVu Sans Mono',consolas,'Courier New',monospace\">Solution #<span style=\"color: #008080; text-decoration-color: #008080; font-weight: bold\">10</span>  found as: <span style=\"color: #008080; text-decoration-color: #008080; font-weight: bold\">23558</span> Progress: <span style=\"color: #008080; text-decoration-color: #008080; font-weight: bold\">10</span>%  Branches: <span style=\"color: #008080; text-decoration-color: #008080; font-weight: bold\">77</span> Accepted Neighbors: <span style=\"color: #008080; text-decoration-color: #008080; font-weight: bold\">9</span> Model Stamp <span style=\"color: #008080; text-decoration-color: #008080; font-weight: bold\">16875</span> Wall Time: <span style=\"color: #008080; text-decoration-color: #008080; font-weight: bold\">2329</span>\n",
       "</pre>\n"
      ],
      "text/plain": [
       "Solution #\u001b[1;36m10\u001b[0m  found as: \u001b[1;36m23558\u001b[0m Progress: \u001b[1;36m10\u001b[0m%  Branches: \u001b[1;36m77\u001b[0m Accepted Neighbors: \u001b[1;36m9\u001b[0m Model Stamp \u001b[1;36m16875\u001b[0m Wall Time: \u001b[1;36m2329\u001b[0m\n"
      ]
     },
     "metadata": {},
     "output_type": "display_data"
    },
    {
     "name": "stderr",
     "output_type": "stream",
     "text": [
      "I0000 00:00:1711738729.964459 1100508 search.cc:282] Solution #9 (23558, maximum = 24078, time = 2277 ms, branches = 77, failures = 787, depth = 33, Relocate<1>, neighbors = 16001, filtered neighbors = 777, accepted neighbors = 9, memory used = 400.88 MB, limit = 10%)\n",
      "I0000 00:00:1711738730.245966 1100508 search.cc:282] Solution #10 (23557, maximum = 24078, time = 2558 ms, branches = 82, failures = 906, depth = 33, Relocate<1>, neighbors = 17882, filtered neighbors = 895, accepted neighbors = 10, memory used = 400.88 MB, limit = 11%)\n",
      "I0000 00:00:1711738730.966220 1100508 search.cc:282] Solution #11 (23488, maximum = 24078, time = 3279 ms, branches = 86, failures = 1216, depth = 33, Relocate<1>, neighbors = 21241, filtered neighbors = 1204, accepted neighbors = 11, memory used = 400.88 MB, limit = 14%)\n",
      "I0000 00:00:1711738731.876563 1100508 search.cc:282] Solution #12 (23476, maximum = 24078, time = 4189 ms, branches = 92, failures = 1607, depth = 33, Relocate<1>, neighbors = 23963, filtered neighbors = 1594, accepted neighbors = 12, memory used = 400.88 MB, limit = 18%)\n",
      "I0000 00:00:1711738732.009720 1100508 search.cc:282] Solution #13 (23428, maximum = 24078, time = 4322 ms, branches = 96, failures = 1663, depth = 33, Relocate<1>, neighbors = 24099, filtered neighbors = 1649, accepted neighbors = 13, memory used = 400.88 MB, limit = 19%)\n"
     ]
    },
    {
     "data": {
      "text/html": [
       "<pre style=\"white-space:pre;overflow-x:auto;line-height:normal;font-family:Menlo,'DejaVu Sans Mono',consolas,'Courier New',monospace\">Solution #<span style=\"color: #008080; text-decoration-color: #008080; font-weight: bold\">15</span>  found as: <span style=\"color: #008080; text-decoration-color: #008080; font-weight: bold\">23419</span> Progress: <span style=\"color: #008080; text-decoration-color: #008080; font-weight: bold\">22</span>%  Branches: <span style=\"color: #008080; text-decoration-color: #008080; font-weight: bold\">101</span> Accepted Neighbors: <span style=\"color: #008080; text-decoration-color: #008080; font-weight: bold\">14</span> Model Stamp <span style=\"color: #008080; text-decoration-color: #008080; font-weight: bold\">20480</span> Wall Time: <span style=\"color: #008080; text-decoration-color: #008080; font-weight: bold\">5103</span>\n",
       "</pre>\n"
      ],
      "text/plain": [
       "Solution #\u001b[1;36m15\u001b[0m  found as: \u001b[1;36m23419\u001b[0m Progress: \u001b[1;36m22\u001b[0m%  Branches: \u001b[1;36m101\u001b[0m Accepted Neighbors: \u001b[1;36m14\u001b[0m Model Stamp \u001b[1;36m20480\u001b[0m Wall Time: \u001b[1;36m5103\u001b[0m\n"
      ]
     },
     "metadata": {},
     "output_type": "display_data"
    },
    {
     "name": "stderr",
     "output_type": "stream",
     "text": [
      "I0000 00:00:1711738732.738328 1100508 search.cc:282] Solution #14 (23419, maximum = 24078, time = 5051 ms, branches = 101, failures = 1976, depth = 33, Relocate<1>, neighbors = 26774, filtered neighbors = 1961, accepted neighbors = 14, memory used = 400.88 MB, limit = 22%)\n",
      "I0000 00:00:1711738732.746984 1100508 search.cc:282] Solution #15 (23383, maximum = 24078, time = 5059 ms, branches = 105, failures = 1979, depth = 33, Relocate<1>, neighbors = 26776, filtered neighbors = 1963, accepted neighbors = 15, memory used = 400.88 MB, limit = 22%)\n",
      "I0000 00:00:1711738732.827764 1100508 search.cc:282] Solution #16 (23366, maximum = 24078, time = 5140 ms, branches = 113, failures = 2014, depth = 33, Relocate<1>, neighbors = 26862, filtered neighbors = 1997, accepted neighbors = 16, memory used = 400.88 MB, limit = 23%)\n",
      "I0000 00:00:1711738733.460313 1100508 search.cc:282] Solution #17 (23336, maximum = 24078, time = 5773 ms, branches = 117, failures = 2282, depth = 33, Relocate<1>, neighbors = 30308, filtered neighbors = 2264, accepted neighbors = 17, memory used = 400.88 MB, limit = 26%)\n",
      "I0000 00:00:1711738733.469328 1100508 search.cc:282] Solution #18 (23306, maximum = 24078, time = 5782 ms, branches = 122, failures = 2285, depth = 33, Relocate<1>, neighbors = 30310, filtered neighbors = 2266, accepted neighbors = 18, memory used = 400.88 MB, limit = 26%)\n"
     ]
    },
    {
     "data": {
      "text/html": [
       "<pre style=\"white-space:pre;overflow-x:auto;line-height:normal;font-family:Menlo,'DejaVu Sans Mono',consolas,'Courier New',monospace\">Solution #<span style=\"color: #008080; text-decoration-color: #008080; font-weight: bold\">20</span>  found as: <span style=\"color: #008080; text-decoration-color: #008080; font-weight: bold\">23236</span> Progress: <span style=\"color: #008080; text-decoration-color: #008080; font-weight: bold\">30</span>%  Branches: <span style=\"color: #008080; text-decoration-color: #008080; font-weight: bold\">126</span> Accepted Neighbors: <span style=\"color: #008080; text-decoration-color: #008080; font-weight: bold\">19</span> Model Stamp <span style=\"color: #008080; text-decoration-color: #008080; font-weight: bold\">22848</span> Wall Time: <span style=\"color: #008080; text-decoration-color: #008080; font-weight: bold\">6922</span>\n",
       "</pre>\n"
      ],
      "text/plain": [
       "Solution #\u001b[1;36m20\u001b[0m  found as: \u001b[1;36m23236\u001b[0m Progress: \u001b[1;36m30\u001b[0m%  Branches: \u001b[1;36m126\u001b[0m Accepted Neighbors: \u001b[1;36m19\u001b[0m Model Stamp \u001b[1;36m22848\u001b[0m Wall Time: \u001b[1;36m6922\u001b[0m\n"
      ]
     },
     "metadata": {},
     "output_type": "display_data"
    },
    {
     "name": "stderr",
     "output_type": "stream",
     "text": [
      "I0000 00:00:1711738734.556987 1100508 search.cc:282] Solution #19 (23236, maximum = 24078, time = 6869 ms, branches = 126, failures = 2752, depth = 33, Relocate<1>, neighbors = 36245, filtered neighbors = 2732, accepted neighbors = 19, memory used = 400.88 MB, limit = 30%)\n",
      "I0000 00:00:1711738735.171069 1100508 search.cc:282] Solution #20 (23231, maximum = 24078, time = 7483 ms, branches = 132, failures = 3015, depth = 33, Relocate<1>, neighbors = 39134, filtered neighbors = 2994, accepted neighbors = 20, memory used = 400.88 MB, limit = 33%)\n",
      "I0000 00:00:1711738736.122978 1100508 search.cc:282] Solution #21 (23221, maximum = 24078, time = 8435 ms, branches = 136, failures = 3404, depth = 33, Relocate<1>, neighbors = 43711, filtered neighbors = 3382, accepted neighbors = 21, memory used = 400.88 MB, limit = 38%)\n",
      "I0000 00:00:1711738736.440924 1100508 search.cc:282] Solution #22 (23208, maximum = 24078, time = 8753 ms, branches = 141, failures = 3539, depth = 33, Relocate<1>, neighbors = 44948, filtered neighbors = 3516, accepted neighbors = 22, memory used = 400.88 MB, limit = 39%)\n",
      "I0000 00:00:1711738736.784023 1100508 search.cc:282] Solution #23 (23146, maximum = 24078, time = 9096 ms, branches = 145, failures = 3685, depth = 33, Relocate<1>, neighbors = 45909, filtered neighbors = 3661, accepted neighbors = 23, memory used = 400.88 MB, limit = 41%)\n"
     ]
    },
    {
     "data": {
      "text/html": [
       "<pre style=\"white-space:pre;overflow-x:auto;line-height:normal;font-family:Menlo,'DejaVu Sans Mono',consolas,'Courier New',monospace\">Solution #<span style=\"color: #008080; text-decoration-color: #008080; font-weight: bold\">25</span>  found as: <span style=\"color: #008080; text-decoration-color: #008080; font-weight: bold\">23135</span> Progress: <span style=\"color: #008080; text-decoration-color: #008080; font-weight: bold\">50</span>%  Branches: <span style=\"color: #008080; text-decoration-color: #008080; font-weight: bold\">152</span> Accepted Neighbors: <span style=\"color: #008080; text-decoration-color: #008080; font-weight: bold\">24</span> Model Stamp <span style=\"color: #008080; text-decoration-color: #008080; font-weight: bold\">28179</span> Wall Time: \n",
       "<span style=\"color: #008080; text-decoration-color: #008080; font-weight: bold\">11096</span>\n",
       "</pre>\n"
      ],
      "text/plain": [
       "Solution #\u001b[1;36m25\u001b[0m  found as: \u001b[1;36m23135\u001b[0m Progress: \u001b[1;36m50\u001b[0m%  Branches: \u001b[1;36m152\u001b[0m Accepted Neighbors: \u001b[1;36m24\u001b[0m Model Stamp \u001b[1;36m28179\u001b[0m Wall Time: \n",
       "\u001b[1;36m11096\u001b[0m\n"
      ]
     },
     "metadata": {},
     "output_type": "display_data"
    },
    {
     "name": "stderr",
     "output_type": "stream",
     "text": [
      "I0000 00:00:1711738738.730819 1100508 search.cc:282] Solution #24 (23135, maximum = 24078, time = 11043 ms, branches = 152, failures = 4515, depth = 33, Relocate<1>, neighbors = 53374, filtered neighbors = 4490, accepted neighbors = 24, memory used = 400.88 MB, limit = 50%)\n",
      "I0000 00:00:1711738739.238578 1100508 search.cc:282] Solution #25 (23101, maximum = 24078, time = 11551 ms, branches = 156, failures = 4737, depth = 33, Relocate<1>, neighbors = 54558, filtered neighbors = 4711, accepted neighbors = 25, memory used = 400.88 MB, limit = 52%)\n",
      "I0000 00:00:1711738740.135192 1100508 search.cc:282] Solution #26 (23020, maximum = 24078, time = 12448 ms, branches = 161, failures = 5123, depth = 33, Relocate<1>, neighbors = 57507, filtered neighbors = 5096, accepted neighbors = 26, memory used = 400.88 MB, limit = 56%)\n",
      "I0000 00:00:1711738740.272995 1100508 search.cc:282] Solution #27 (23001, maximum = 24078, time = 12585 ms, branches = 165, failures = 5180, depth = 33, Relocate<1>, neighbors = 57689, filtered neighbors = 5152, accepted neighbors = 27, memory used = 400.88 MB, limit = 56%)\n",
      "I0000 00:00:1711738740.912312 1100508 search.cc:282] Solution #28 (22974, maximum = 24078, time = 13225 ms, branches = 171, failures = 5446, depth = 33, Relocate<1>, neighbors = 60434, filtered neighbors = 5417, accepted neighbors = 28, memory used = 400.88 MB, limit = 60%)\n"
     ]
    },
    {
     "data": {
      "text/html": [
       "<pre style=\"white-space:pre;overflow-x:auto;line-height:normal;font-family:Menlo,'DejaVu Sans Mono',consolas,'Courier New',monospace\">Solution #<span style=\"color: #008080; text-decoration-color: #008080; font-weight: bold\">30</span>  found as: <span style=\"color: #008080; text-decoration-color: #008080; font-weight: bold\">22952</span> Progress: <span style=\"color: #008080; text-decoration-color: #008080; font-weight: bold\">60</span>%  Branches: <span style=\"color: #008080; text-decoration-color: #008080; font-weight: bold\">175</span> Accepted Neighbors: <span style=\"color: #008080; text-decoration-color: #008080; font-weight: bold\">29</span> Model Stamp <span style=\"color: #008080; text-decoration-color: #008080; font-weight: bold\">31020</span> Wall Time: \n",
       "<span style=\"color: #008080; text-decoration-color: #008080; font-weight: bold\">13291</span>\n",
       "</pre>\n"
      ],
      "text/plain": [
       "Solution #\u001b[1;36m30\u001b[0m  found as: \u001b[1;36m22952\u001b[0m Progress: \u001b[1;36m60\u001b[0m%  Branches: \u001b[1;36m175\u001b[0m Accepted Neighbors: \u001b[1;36m29\u001b[0m Model Stamp \u001b[1;36m31020\u001b[0m Wall Time: \n",
       "\u001b[1;36m13291\u001b[0m\n"
      ]
     },
     "metadata": {},
     "output_type": "display_data"
    },
    {
     "name": "stderr",
     "output_type": "stream",
     "text": [
      "I0000 00:00:1711738740.926750 1100508 search.cc:282] Solution #29 (22952, maximum = 24078, time = 13239 ms, branches = 175, failures = 5450, depth = 33, Relocate<1>, neighbors = 60500, filtered neighbors = 5420, accepted neighbors = 29, memory used = 400.88 MB, limit = 60%)\n",
      "I0000 00:00:1711738740.953550 1100508 search.cc:282] Solution #30 (22951, maximum = 24078, time = 13266 ms, branches = 180, failures = 5461, depth = 33, Relocate<1>, neighbors = 60518, filtered neighbors = 5430, accepted neighbors = 30, memory used = 400.88 MB, limit = 60%)\n",
      "I0000 00:00:1711738742.711665 1100508 search.cc:282] Solution #31 (22904, maximum = 24078, time = 15024 ms, branches = 184, failures = 6223, depth = 33, Relocate<1>, neighbors = 66364, filtered neighbors = 6191, accepted neighbors = 31, memory used = 400.88 MB, limit = 68%)\n",
      "I0000 00:00:1711738743.230119 1100508 search.cc:282] Solution #32 (22903, maximum = 24078, time = 15542 ms, branches = 193, failures = 6442, depth = 33, Relocate<1>, neighbors = 68969, filtered neighbors = 6409, accepted neighbors = 32, memory used = 400.88 MB, limit = 70%)\n",
      "I0000 00:00:1711738743.236947 1100508 search.cc:282] Solution #33 (22901, maximum = 24078, time = 15549 ms, branches = 197, failures = 6444, depth = 33, Relocate<1>, neighbors = 69018, filtered neighbors = 6410, accepted neighbors = 33, memory used = 400.88 MB, limit = 70%)\n"
     ]
    },
    {
     "data": {
      "text/html": [
       "<pre style=\"white-space:pre;overflow-x:auto;line-height:normal;font-family:Menlo,'DejaVu Sans Mono',consolas,'Courier New',monospace\">Solution #<span style=\"color: #008080; text-decoration-color: #008080; font-weight: bold\">35</span>  found as: <span style=\"color: #008080; text-decoration-color: #008080; font-weight: bold\">22810</span> Progress: <span style=\"color: #008080; text-decoration-color: #008080; font-weight: bold\">71</span>%  Branches: <span style=\"color: #008080; text-decoration-color: #008080; font-weight: bold\">202</span> Accepted Neighbors: <span style=\"color: #008080; text-decoration-color: #008080; font-weight: bold\">34</span> Model Stamp <span style=\"color: #008080; text-decoration-color: #008080; font-weight: bold\">34211</span> Wall Time: \n",
       "<span style=\"color: #008080; text-decoration-color: #008080; font-weight: bold\">15737</span>\n",
       "</pre>\n"
      ],
      "text/plain": [
       "Solution #\u001b[1;36m35\u001b[0m  found as: \u001b[1;36m22810\u001b[0m Progress: \u001b[1;36m71\u001b[0m%  Branches: \u001b[1;36m202\u001b[0m Accepted Neighbors: \u001b[1;36m34\u001b[0m Model Stamp \u001b[1;36m34211\u001b[0m Wall Time: \n",
       "\u001b[1;36m15737\u001b[0m\n"
      ]
     },
     "metadata": {},
     "output_type": "display_data"
    },
    {
     "name": "stderr",
     "output_type": "stream",
     "text": [
      "I0000 00:00:1711738743.372555 1100508 search.cc:282] Solution #34 (22810, maximum = 24078, time = 15685 ms, branches = 202, failures = 6499, depth = 33, Relocate<1>, neighbors = 70288, filtered neighbors = 6464, accepted neighbors = 34, memory used = 400.88 MB, limit = 71%)\n",
      "I0000 00:00:1711738743.397793 1100508 search.cc:282] Solution #35 (22738, maximum = 24078, time = 15710 ms, branches = 206, failures = 6509, depth = 33, Relocate<1>, neighbors = 70297, filtered neighbors = 6473, accepted neighbors = 35, memory used = 400.88 MB, limit = 71%)\n",
      "I0000 00:00:1711738743.680655 1100508 search.cc:282] Solution #36 (22722, maximum = 24078, time = 15993 ms, branches = 212, failures = 6629, depth = 33, Relocate<1>, neighbors = 71101, filtered neighbors = 6592, accepted neighbors = 36, memory used = 400.88 MB, limit = 72%)\n",
      "I0000 00:00:1711738743.938178 1100508 search.cc:282] Solution #37 (22657, maximum = 24078, time = 16251 ms, branches = 216, failures = 6739, depth = 33, Relocate<1>, neighbors = 72886, filtered neighbors = 6701, accepted neighbors = 37, memory used = 400.88 MB, limit = 73%)\n",
      "I0000 00:00:1711738744.039691 1100508 search.cc:282] Solution #38 (22477, maximum = 24078, time = 16352 ms, branches = 221, failures = 6783, depth = 33, Relocate<1>, neighbors = 73337, filtered neighbors = 6744, accepted neighbors = 38, memory used = 400.88 MB, limit = 74%)\n"
     ]
    },
    {
     "data": {
      "text/html": [
       "<pre style=\"white-space:pre;overflow-x:auto;line-height:normal;font-family:Menlo,'DejaVu Sans Mono',consolas,'Courier New',monospace\">Solution #<span style=\"color: #008080; text-decoration-color: #008080; font-weight: bold\">40</span>  found as: <span style=\"color: #008080; text-decoration-color: #008080; font-weight: bold\">22472</span> Progress: <span style=\"color: #008080; text-decoration-color: #008080; font-weight: bold\">75</span>%  Branches: <span style=\"color: #008080; text-decoration-color: #008080; font-weight: bold\">225</span> Accepted Neighbors: <span style=\"color: #008080; text-decoration-color: #008080; font-weight: bold\">39</span> Model Stamp <span style=\"color: #008080; text-decoration-color: #008080; font-weight: bold\">35435</span> Wall Time: \n",
       "<span style=\"color: #008080; text-decoration-color: #008080; font-weight: bold\">16672</span>\n",
       "</pre>\n"
      ],
      "text/plain": [
       "Solution #\u001b[1;36m40\u001b[0m  found as: \u001b[1;36m22472\u001b[0m Progress: \u001b[1;36m75\u001b[0m%  Branches: \u001b[1;36m225\u001b[0m Accepted Neighbors: \u001b[1;36m39\u001b[0m Model Stamp \u001b[1;36m35435\u001b[0m Wall Time: \n",
       "\u001b[1;36m16672\u001b[0m\n"
      ]
     },
     "metadata": {},
     "output_type": "display_data"
    },
    {
     "name": "stderr",
     "output_type": "stream",
     "text": [
      "I0000 00:00:1711738744.306983 1100508 search.cc:282] Solution #39 (22472, maximum = 24078, time = 16619 ms, branches = 225, failures = 6895, depth = 33, Relocate<1>, neighbors = 75607, filtered neighbors = 6855, accepted neighbors = 39, memory used = 400.88 MB, limit = 75%)\n",
      "I0000 00:00:1711738744.612633 1100508 search.cc:282] Solution #40 (22444, maximum = 24078, time = 16925 ms, branches = 232, failures = 7026, depth = 33, Relocate<1>, neighbors = 77496, filtered neighbors = 6985, accepted neighbors = 40, memory used = 400.88 MB, limit = 76%)\n",
      "I0000 00:00:1711738744.961158 1100508 search.cc:282] Solution #41 (22289, maximum = 24078, time = 17274 ms, branches = 236, failures = 7174, depth = 33, Relocate<1>, neighbors = 80609, filtered neighbors = 7132, accepted neighbors = 41, memory used = 400.88 MB, limit = 78%)\n",
      "I0000 00:00:1711738744.968789 1100508 search.cc:282] Solution #42 (22285, maximum = 24078, time = 17281 ms, branches = 241, failures = 7177, depth = 33, Relocate<1>, neighbors = 80611, filtered neighbors = 7134, accepted neighbors = 42, memory used = 400.88 MB, limit = 78%)\n",
      "I0000 00:00:1711738744.976122 1100508 search.cc:282] Solution #43 (22225, maximum = 24078, time = 17289 ms, branches = 245, failures = 7180, depth = 33, Relocate<1>, neighbors = 80613, filtered neighbors = 7136, accepted neighbors = 43, memory used = 400.88 MB, limit = 78%)\n"
     ]
    },
    {
     "data": {
      "text/html": [
       "<pre style=\"white-space:pre;overflow-x:auto;line-height:normal;font-family:Menlo,'DejaVu Sans Mono',consolas,'Courier New',monospace\">Solution #<span style=\"color: #008080; text-decoration-color: #008080; font-weight: bold\">45</span>  found as: <span style=\"color: #008080; text-decoration-color: #008080; font-weight: bold\">22208</span> Progress: <span style=\"color: #008080; text-decoration-color: #008080; font-weight: bold\">80</span>%  Branches: <span style=\"color: #008080; text-decoration-color: #008080; font-weight: bold\">251</span> Accepted Neighbors: <span style=\"color: #008080; text-decoration-color: #008080; font-weight: bold\">44</span> Model Stamp <span style=\"color: #008080; text-decoration-color: #008080; font-weight: bold\">37004</span> Wall Time: \n",
       "<span style=\"color: #008080; text-decoration-color: #008080; font-weight: bold\">17864</span>\n",
       "</pre>\n"
      ],
      "text/plain": [
       "Solution #\u001b[1;36m45\u001b[0m  found as: \u001b[1;36m22208\u001b[0m Progress: \u001b[1;36m80\u001b[0m%  Branches: \u001b[1;36m251\u001b[0m Accepted Neighbors: \u001b[1;36m44\u001b[0m Model Stamp \u001b[1;36m37004\u001b[0m Wall Time: \n",
       "\u001b[1;36m17864\u001b[0m\n"
      ]
     },
     "metadata": {},
     "output_type": "display_data"
    },
    {
     "name": "stderr",
     "output_type": "stream",
     "text": [
      "I0000 00:00:1711738745.498721 1100508 search.cc:282] Solution #44 (22208, maximum = 24078, time = 17811 ms, branches = 251, failures = 7404, depth = 33, Relocate<1>, neighbors = 83330, filtered neighbors = 7359, accepted neighbors = 44, memory used = 400.88 MB, limit = 80%)\n",
      "I0000 00:00:1711738745.721024 1100508 search.cc:282] Solution #45 (22168, maximum = 24078, time = 18033 ms, branches = 255, failures = 7502, depth = 33, Relocate<1>, neighbors = 83500, filtered neighbors = 7456, accepted neighbors = 45, memory used = 400.88 MB, limit = 81%)\n",
      "I0000 00:00:1711738746.186427 1100508 search.cc:282] Solution #46 (22162, maximum = 24078, time = 18499 ms, branches = 260, failures = 7702, depth = 33, Relocate<1>, neighbors = 86249, filtered neighbors = 7655, accepted neighbors = 46, memory used = 400.88 MB, limit = 84%)\n",
      "I0000 00:00:1711738746.199253 1100508 search.cc:282] Solution #47 (22156, maximum = 24078, time = 18512 ms, branches = 264, failures = 7707, depth = 33, Relocate<1>, neighbors = 86257, filtered neighbors = 7659, accepted neighbors = 47, memory used = 400.88 MB, limit = 84%)\n",
      "I0000 00:00:1711738746.206852 1100508 search.cc:282] Solution #48 (22151, maximum = 24078, time = 18519 ms, branches = 272, failures = 7710, depth = 33, Relocate<1>, neighbors = 86259, filtered neighbors = 7661, accepted neighbors = 48, memory used = 400.88 MB, limit = 84%)\n"
     ]
    },
    {
     "data": {
      "text/html": [
       "<pre style=\"white-space:pre;overflow-x:auto;line-height:normal;font-family:Menlo,'DejaVu Sans Mono',consolas,'Courier New',monospace\">Solution #<span style=\"color: #008080; text-decoration-color: #008080; font-weight: bold\">50</span>  found as: <span style=\"color: #008080; text-decoration-color: #008080; font-weight: bold\">22086</span> Progress: <span style=\"color: #008080; text-decoration-color: #008080; font-weight: bold\">84</span>%  Branches: <span style=\"color: #008080; text-decoration-color: #008080; font-weight: bold\">276</span> Accepted Neighbors: <span style=\"color: #008080; text-decoration-color: #008080; font-weight: bold\">49</span> Model Stamp <span style=\"color: #008080; text-decoration-color: #008080; font-weight: bold\">38223</span> Wall Time: \n",
       "<span style=\"color: #008080; text-decoration-color: #008080; font-weight: bold\">18770</span>\n",
       "</pre>\n"
      ],
      "text/plain": [
       "Solution #\u001b[1;36m50\u001b[0m  found as: \u001b[1;36m22086\u001b[0m Progress: \u001b[1;36m84\u001b[0m%  Branches: \u001b[1;36m276\u001b[0m Accepted Neighbors: \u001b[1;36m49\u001b[0m Model Stamp \u001b[1;36m38223\u001b[0m Wall Time: \n",
       "\u001b[1;36m18770\u001b[0m\n"
      ]
     },
     "metadata": {},
     "output_type": "display_data"
    },
    {
     "name": "stderr",
     "output_type": "stream",
     "text": [
      "I0000 00:00:1711738746.404481 1100508 search.cc:282] Solution #49 (22086, maximum = 24078, time = 18717 ms, branches = 276, failures = 7797, depth = 33, Relocate<1>, neighbors = 86391, filtered neighbors = 7747, accepted neighbors = 49, memory used = 400.88 MB, limit = 84%)\n",
      "I0000 00:00:1711738746.517306 1100508 search.cc:282] Solution #50 (22083, maximum = 24078, time = 18830 ms, branches = 281, failures = 7846, depth = 33, Relocate<1>, neighbors = 86463, filtered neighbors = 7795, accepted neighbors = 50, memory used = 400.88 MB, limit = 85%)\n",
      "I0000 00:00:1711738747.089466 1100508 search.cc:282] Solution #51 (22060, maximum = 24078, time = 19402 ms, branches = 285, failures = 8090, depth = 33, Relocate<1>, neighbors = 88953, filtered neighbors = 8038, accepted neighbors = 51, memory used = 400.88 MB, limit = 88%)\n",
      "I0000 00:00:1711738747.494146 1100508 search.cc:282] Solution #52 (21876, maximum = 24078, time = 19807 ms, branches = 291, failures = 8260, depth = 33, Relocate<1>, neighbors = 91386, filtered neighbors = 8207, accepted neighbors = 52, memory used = 400.88 MB, limit = 89%)\n",
      "I0000 00:00:1711738749.686387 1100508 search.cc:282] Finished search tree (time = 21999 ms, branches = 294, failures = 9245, neighbors = 98273, filtered neighbors = 9159, accepted neigbors = 52, memory used = 400.88 MB)\n",
      "I0000 00:00:1711738749.690100 1100508 search.cc:282] End search (time = 22003 ms, branches = 294, failures = 9245, memory used = 400.88 MB, speed = 13 branches/s)\n"
     ]
    },
    {
     "data": {
      "text/html": [
       "<pre style=\"white-space:pre;overflow-x:auto;line-height:normal;font-family:Menlo,'DejaVu Sans Mono',consolas,'Courier New',monospace\">Objective: <span style=\"color: #008080; text-decoration-color: #008080; font-weight: bold\">21876</span> Reloc Exp Arcs: <span style=\"color: #008080; text-decoration-color: #008080; font-weight: bold\">33</span> Heur Exp Arcs: <span style=\"color: #008080; text-decoration-color: #008080; font-weight: bold\">33</span> Heur Close Nodes: <span style=\"color: #008080; text-decoration-color: #008080; font-weight: bold\">33</span> Prime Time: <span style=\"color: #008080; text-decoration-color: #008080; font-weight: bold\">22</span> Explore Prime: <span style=\"color: #008080; text-decoration-color: #008080; font-weight: bold\">0</span>\n",
       "</pre>\n"
      ],
      "text/plain": [
       "Objective: \u001b[1;36m21876\u001b[0m Reloc Exp Arcs: \u001b[1;36m33\u001b[0m Heur Exp Arcs: \u001b[1;36m33\u001b[0m Heur Close Nodes: \u001b[1;36m33\u001b[0m Prime Time: \u001b[1;36m22\u001b[0m Explore Prime: \u001b[1;36m0\u001b[0m\n"
      ]
     },
     "metadata": {},
     "output_type": "display_data"
    },
    {
     "data": {
      "text/html": [
       "<pre style=\"white-space:pre;overflow-x:auto;line-height:normal;font-family:Menlo,'DejaVu Sans Mono',consolas,'Courier New',monospace\">Objective: <span style=\"color: #008080; text-decoration-color: #008080; font-weight: bold\">21876</span> Reloc Exp Arcs: <span style=\"color: #008080; text-decoration-color: #008080; font-weight: bold\">33</span> Heur Exp Arcs: <span style=\"color: #008080; text-decoration-color: #008080; font-weight: bold\">33</span> Heur Close Nodes: <span style=\"color: #008080; text-decoration-color: #008080; font-weight: bold\">33</span> Prime Time: <span style=\"color: #008080; text-decoration-color: #008080; font-weight: bold\">22</span> Explore Prime: <span style=\"color: #008080; text-decoration-color: #008080; font-weight: bold\">0</span>\n",
       "</pre>\n"
      ],
      "text/plain": [
       "Objective: \u001b[1;36m21876\u001b[0m Reloc Exp Arcs: \u001b[1;36m33\u001b[0m Heur Exp Arcs: \u001b[1;36m33\u001b[0m Heur Close Nodes: \u001b[1;36m33\u001b[0m Prime Time: \u001b[1;36m22\u001b[0m Explore Prime: \u001b[1;36m0\u001b[0m\n"
      ]
     },
     "metadata": {},
     "output_type": "display_data"
    },
    {
     "data": {
      "text/html": [
       "<pre style=\"white-space:pre;overflow-x:auto;line-height:normal;font-family:Menlo,'DejaVu Sans Mono',consolas,'Courier New',monospace\"><span style=\"font-style: italic\">         Progress Tracker          </span> <span style=\"font-style: italic\">                       Route Statistics                        </span>\n",
       "┏━━━━━━━━━━━━━━━━━━━━━━┳━━━━━━━━━━┓ ┏━━━━━━━━━━━━┳━━━━━━━━━┳━━━━━━━━┳━━━━━━━━┳━━━━━━━━━━┳━━━━━━━━━┓\n",
       "┃<span style=\"font-weight: bold\"> Solution             </span>┃<span style=\"font-weight: bold\"> Value    </span>┃ ┃<span style=\"font-weight: bold\">            </span>┃<span style=\"font-weight: bold\"> Total   </span>┃<span style=\"font-weight: bold\"> Number </span>┃<span style=\"font-weight: bold\"> Number </span>┃<span style=\"font-weight: bold\">          </span>┃<span style=\"font-weight: bold\">         </span>┃\n",
       "┡━━━━━━━━━━━━━━━━━━━━━━╇━━━━━━━━━━┩ ┃<span style=\"font-weight: bold\"> Total BIG  </span>┃<span style=\"font-weight: bold\"> COMP    </span>┃<span style=\"font-weight: bold\"> of     </span>┃<span style=\"font-weight: bold\"> of     </span>┃<span style=\"font-weight: bold\"> Ttl      </span>┃<span style=\"font-weight: bold\"> COMP /  </span>┃\n",
       "│<span style=\"color: #800080; text-decoration-color: #800080\"> </span><span style=\"color: #800080; text-decoration-color: #800080; font-weight: bold\">Current</span><span style=\"color: #800080; text-decoration-color: #800080\">              </span>│<span style=\"color: #008080; text-decoration-color: #008080\"> </span><span style=\"color: #008080; text-decoration-color: #008080; font-weight: bold\">21,876</span><span style=\"color: #008080; text-decoration-color: #008080\">   </span>│ ┃<span style=\"font-weight: bold\"> 5 AVG      </span>┃<span style=\"font-weight: bold\"> AVG     </span>┃<span style=\"font-weight: bold\"> Days   </span>┃<span style=\"font-weight: bold\"> Stops  </span>┃<span style=\"font-weight: bold\"> Distance </span>┃<span style=\"font-weight: bold\"> Stop    </span>┃\n",
       "├──────────────────────┼──────────┤ ┡━━━━━━━━━━━━╇━━━━━━━━━╇━━━━━━━━╇━━━━━━━━╇━━━━━━━━━━╇━━━━━━━━━┩\n",
       "│<span style=\"color: #800080; text-decoration-color: #800080\"> Best                 </span>│<span style=\"color: #008080; text-decoration-color: #008080\"> 10,068   </span>│ │<span style=\"color: #008080; text-decoration-color: #008080\"> $3,374     </span>│<span style=\"color: #008000; text-decoration-color: #008000\"> $496    </span>│<span style=\"color: #008080; text-decoration-color: #008080\"> 1      </span>│<span style=\"color: #008000; text-decoration-color: #008000\"> 6      </span>│<span style=\"color: #008080; text-decoration-color: #008080\"> 532      </span>│<span style=\"color: #008000; text-decoration-color: #008000\"> $82     </span>│\n",
       "├──────────────────────┼──────────┤ ├────────────┼─────────┼────────┼────────┼──────────┼─────────┤\n",
       "│<span style=\"color: #800080; text-decoration-color: #800080\"> Last Run             </span>│<span style=\"color: #008080; text-decoration-color: #008080\"> 21,874   </span>│ │<span style=\"color: #008080; text-decoration-color: #008080\"> $2,330     </span>│<span style=\"color: #008000; text-decoration-color: #008000\"> $53     </span>│<span style=\"color: #008080; text-decoration-color: #008080\"> 1      </span>│<span style=\"color: #008000; text-decoration-color: #008000\"> 7      </span>│<span style=\"color: #008080; text-decoration-color: #008080\"> 355      </span>│<span style=\"color: #008000; text-decoration-color: #008000\"> $7      </span>│\n",
       "├──────────────────────┼──────────┤ ├────────────┼─────────┼────────┼────────┼──────────┼─────────┤\n",
       "│<span style=\"color: #800080; text-decoration-color: #800080\"> </span><span style=\"color: #800080; text-decoration-color: #800080; font-weight: bold\">WORSE BY</span><span style=\"color: #800080; text-decoration-color: #800080\">             </span>│<span style=\"color: #008080; text-decoration-color: #008080\"> </span><span style=\"color: #008080; text-decoration-color: #008080; font-weight: bold\">2</span><span style=\"color: #008080; text-decoration-color: #008080\">        </span>│ │<span style=\"color: #008080; text-decoration-color: #008080\"> $3,351     </span>│<span style=\"color: #008000; text-decoration-color: #008000\"> $417    </span>│<span style=\"color: #008080; text-decoration-color: #008080\"> 1      </span>│<span style=\"color: #008000; text-decoration-color: #008000\"> 8      </span>│<span style=\"color: #008080; text-decoration-color: #008080\"> 1,038    </span>│<span style=\"color: #008000; text-decoration-color: #008000\"> $52     </span>│\n",
       "├──────────────────────┼──────────┤ ├────────────┼─────────┼────────┼────────┼──────────┼─────────┤\n",
       "│<span style=\"color: #800080; text-decoration-color: #800080\"> Explore Coefficient  </span>│<span style=\"color: #008080; text-decoration-color: #008080\"> 0.0      </span>│ │<span style=\"color: #008080; text-decoration-color: #008080\"> $3,413     </span>│<span style=\"color: #008000; text-decoration-color: #008000\"> $1,030  </span>│<span style=\"color: #008080; text-decoration-color: #008080\"> 1      </span>│<span style=\"color: #008000; text-decoration-color: #008000\"> 8      </span>│<span style=\"color: #008080; text-decoration-color: #008080\"> 676      </span>│<span style=\"color: #008000; text-decoration-color: #008000\"> $128    </span>│\n",
       "├──────────────────────┼──────────┤ ├────────────┼─────────┼────────┼────────┼──────────┼─────────┤\n",
       "│<span style=\"color: #800080; text-decoration-color: #800080\"> Memory Coefficient   </span>│<span style=\"color: #008080; text-decoration-color: #008080\"> 0.770000 </span>│ │<span style=\"color: #008080; text-decoration-color: #008080\"> $3,109     </span>│<span style=\"color: #008000; text-decoration-color: #008000\"> $315    </span>│<span style=\"color: #008080; text-decoration-color: #008080\"> 1      </span>│<span style=\"color: #008000; text-decoration-color: #008000\"> 8      </span>│<span style=\"color: #008080; text-decoration-color: #008080\"> 695      </span>│<span style=\"color: #008000; text-decoration-color: #008000\"> $39     </span>│\n",
       "├──────────────────────┼──────────┤ ├────────────┼─────────┼────────┼────────┼──────────┼─────────┤\n",
       "│<span style=\"color: #800080; text-decoration-color: #800080\"> Solve Time (seconds) </span>│<span style=\"color: #008080; text-decoration-color: #008080\"> 22       </span>│ │<span style=\"color: #008080; text-decoration-color: #008080\"> $3,348     </span>│<span style=\"color: #008000; text-decoration-color: #008000\"> $193    </span>│<span style=\"color: #008080; text-decoration-color: #008080\"> 1      </span>│<span style=\"color: #008000; text-decoration-color: #008000\"> 8      </span>│<span style=\"color: #008080; text-decoration-color: #008080\"> 1,784    </span>│<span style=\"color: #008000; text-decoration-color: #008000\"> $24     </span>│\n",
       "└──────────────────────┴──────────┘ ├────────────┼─────────┼────────┼────────┼──────────┼─────────┤\n",
       "                                    │<span style=\"color: #008080; text-decoration-color: #008080\"> $3,224     </span>│<span style=\"color: #008000; text-decoration-color: #008000\"> $240    </span>│<span style=\"color: #008080; text-decoration-color: #008080\"> 1      </span>│<span style=\"color: #008000; text-decoration-color: #008000\"> 8      </span>│<span style=\"color: #008080; text-decoration-color: #008080\"> 540      </span>│<span style=\"color: #008000; text-decoration-color: #008000\"> $30     </span>│\n",
       "                                    ├────────────┼─────────┼────────┼────────┼──────────┼─────────┤\n",
       "                                    │<span style=\"color: #008080; text-decoration-color: #008080\"> $3,395     </span>│<span style=\"color: #008000; text-decoration-color: #008000\"> $404    </span>│<span style=\"color: #008080; text-decoration-color: #008080\"> 1      </span>│<span style=\"color: #008000; text-decoration-color: #008000\"> 7      </span>│<span style=\"color: #008080; text-decoration-color: #008080\"> 428      </span>│<span style=\"color: #008000; text-decoration-color: #008000\"> $57     </span>│\n",
       "                                    ├────────────┼─────────┼────────┼────────┼──────────┼─────────┤\n",
       "                                    │<span style=\"color: #008080; text-decoration-color: #008080\"> $3,477     </span>│<span style=\"color: #008000; text-decoration-color: #008000\"> $1,025  </span>│<span style=\"color: #008080; text-decoration-color: #008080\"> 1      </span>│<span style=\"color: #008000; text-decoration-color: #008000\"> 3      </span>│<span style=\"color: #008080; text-decoration-color: #008080\"> 40       </span>│<span style=\"color: #008000; text-decoration-color: #008000\"> $341    </span>│\n",
       "                                    ├────────────┼─────────┼────────┼────────┼──────────┼─────────┤\n",
       "                                    │<span style=\"color: #008080; text-decoration-color: #008080\"> $1,755     </span>│<span style=\"color: #008000; text-decoration-color: #008000\"> $90     </span>│<span style=\"color: #008080; text-decoration-color: #008080\"> 1      </span>│<span style=\"color: #008000; text-decoration-color: #008000\"> 8      </span>│<span style=\"color: #008080; text-decoration-color: #008080\"> 426      </span>│<span style=\"color: #008000; text-decoration-color: #008000\"> $11     </span>│\n",
       "                                    ├────────────┼─────────┼────────┼────────┼──────────┼─────────┤\n",
       "                                    │<span style=\"color: #008080; text-decoration-color: #008080\"> $2,303     </span>│<span style=\"color: #008000; text-decoration-color: #008000\"> $206    </span>│<span style=\"color: #008080; text-decoration-color: #008080\"> 1      </span>│<span style=\"color: #008000; text-decoration-color: #008000\"> 8      </span>│<span style=\"color: #008080; text-decoration-color: #008080\"> 173      </span>│<span style=\"color: #008000; text-decoration-color: #008000\"> $25     </span>│\n",
       "                                    ├────────────┼─────────┼────────┼────────┼──────────┼─────────┤\n",
       "                                    │<span style=\"color: #008080; text-decoration-color: #008080\"> $3,416     </span>│<span style=\"color: #008000; text-decoration-color: #008000\"> $107    </span>│<span style=\"color: #008080; text-decoration-color: #008080\"> 1      </span>│<span style=\"color: #008000; text-decoration-color: #008000\"> 7      </span>│<span style=\"color: #008080; text-decoration-color: #008080\"> 360      </span>│<span style=\"color: #008000; text-decoration-color: #008000\"> $15     </span>│\n",
       "                                    ├────────────┼─────────┼────────┼────────┼──────────┼─────────┤\n",
       "                                    │<span style=\"color: #008080; text-decoration-color: #008080\"> $3,351     </span>│<span style=\"color: #008000; text-decoration-color: #008000\"> $9      </span>│<span style=\"color: #008080; text-decoration-color: #008080\"> 1      </span>│<span style=\"color: #008000; text-decoration-color: #008000\"> 3      </span>│<span style=\"color: #008080; text-decoration-color: #008080\"> 42       </span>│<span style=\"color: #008000; text-decoration-color: #008000\"> $3      </span>│\n",
       "                                    ├────────────┼─────────┼────────┼────────┼──────────┼─────────┤\n",
       "                                    │<span style=\"color: #008080; text-decoration-color: #008080\"> $3,178     </span>│<span style=\"color: #008000; text-decoration-color: #008000\"> $610    </span>│<span style=\"color: #008080; text-decoration-color: #008080\"> 1      </span>│<span style=\"color: #008000; text-decoration-color: #008000\"> 8      </span>│<span style=\"color: #008080; text-decoration-color: #008080\"> 117      </span>│<span style=\"color: #008000; text-decoration-color: #008000\"> $76     </span>│\n",
       "                                    ├────────────┼─────────┼────────┼────────┼──────────┼─────────┤\n",
       "                                    │<span style=\"color: #008080; text-decoration-color: #008080\"> $2,477     </span>│<span style=\"color: #008000; text-decoration-color: #008000\"> $102    </span>│<span style=\"color: #008080; text-decoration-color: #008080\"> 1      </span>│<span style=\"color: #008000; text-decoration-color: #008000\"> 8      </span>│<span style=\"color: #008080; text-decoration-color: #008080\"> 860      </span>│<span style=\"color: #008000; text-decoration-color: #008000\"> $12     </span>│\n",
       "                                    ├────────────┼─────────┼────────┼────────┼──────────┼─────────┤\n",
       "                                    │<span style=\"color: #008080; text-decoration-color: #008080\"> $3,350     </span>│<span style=\"color: #008000; text-decoration-color: #008000\"> $358    </span>│<span style=\"color: #008080; text-decoration-color: #008080\"> 1      </span>│<span style=\"color: #008000; text-decoration-color: #008000\"> 8      </span>│<span style=\"color: #008080; text-decoration-color: #008080\"> 409      </span>│<span style=\"color: #008000; text-decoration-color: #008000\"> $44     </span>│\n",
       "                                    ├────────────┼─────────┼────────┼────────┼──────────┼─────────┤\n",
       "                                    │<span style=\"color: #008080; text-decoration-color: #008080\"> $2,228     </span>│<span style=\"color: #008000; text-decoration-color: #008000\"> $125    </span>│<span style=\"color: #008080; text-decoration-color: #008080\"> 1      </span>│<span style=\"color: #008000; text-decoration-color: #008000\"> 8      </span>│<span style=\"color: #008080; text-decoration-color: #008080\"> 268      </span>│<span style=\"color: #008000; text-decoration-color: #008000\"> $15     </span>│\n",
       "                                    ├────────────┼─────────┼────────┼────────┼──────────┼─────────┤\n",
       "                                    │<span style=\"color: #008080; text-decoration-color: #008080\"> $3,390     </span>│<span style=\"color: #008000; text-decoration-color: #008000\"> $80     </span>│<span style=\"color: #008080; text-decoration-color: #008080\"> 1      </span>│<span style=\"color: #008000; text-decoration-color: #008000\"> 7      </span>│<span style=\"color: #008080; text-decoration-color: #008080\"> 1,005    </span>│<span style=\"color: #008000; text-decoration-color: #008000\"> $11     </span>│\n",
       "                                    ├────────────┼─────────┼────────┼────────┼──────────┼─────────┤\n",
       "                                    │<span style=\"color: #008080; text-decoration-color: #008080\"> $3,175     </span>│<span style=\"color: #008000; text-decoration-color: #008000\"> $366    </span>│<span style=\"color: #008080; text-decoration-color: #008080\"> 1      </span>│<span style=\"color: #008000; text-decoration-color: #008000\"> 8      </span>│<span style=\"color: #008080; text-decoration-color: #008080\"> 346      </span>│<span style=\"color: #008000; text-decoration-color: #008000\"> $45     </span>│\n",
       "                                    ├────────────┼─────────┼────────┼────────┼──────────┼─────────┤\n",
       "                                    │<span style=\"color: #008080; text-decoration-color: #008080\"> $2,417     </span>│<span style=\"color: #008000; text-decoration-color: #008000\"> $119    </span>│<span style=\"color: #008080; text-decoration-color: #008080\"> 1      </span>│<span style=\"color: #008000; text-decoration-color: #008000\"> 8      </span>│<span style=\"color: #008080; text-decoration-color: #008080\"> 65       </span>│<span style=\"color: #008000; text-decoration-color: #008000\"> $14     </span>│\n",
       "                                    ├────────────┼─────────┼────────┼────────┼──────────┼─────────┤\n",
       "                                    │<span style=\"color: #008080; text-decoration-color: #008080\"> $2,280     </span>│<span style=\"color: #008000; text-decoration-color: #008000\"> $199    </span>│<span style=\"color: #008080; text-decoration-color: #008080\"> 1      </span>│<span style=\"color: #008000; text-decoration-color: #008000\"> 8      </span>│<span style=\"color: #008080; text-decoration-color: #008080\"> 271      </span>│<span style=\"color: #008000; text-decoration-color: #008000\"> $24     </span>│\n",
       "                                    ├────────────┼─────────┼────────┼────────┼──────────┼─────────┤\n",
       "                                    │<span style=\"color: #008080; text-decoration-color: #008080\"> $2,114     </span>│<span style=\"color: #008000; text-decoration-color: #008000\"> $53     </span>│<span style=\"color: #008080; text-decoration-color: #008080\"> 1      </span>│<span style=\"color: #008000; text-decoration-color: #008000\"> 8      </span>│<span style=\"color: #008080; text-decoration-color: #008080\"> 258      </span>│<span style=\"color: #008000; text-decoration-color: #008000\"> $6      </span>│\n",
       "                                    ├────────────┼─────────┼────────┼────────┼──────────┼─────────┤\n",
       "                                    │<span style=\"color: #008080; text-decoration-color: #008080\"> $3,262     </span>│<span style=\"color: #008000; text-decoration-color: #008000\"> $432    </span>│<span style=\"color: #008080; text-decoration-color: #008080\"> 1      </span>│<span style=\"color: #008000; text-decoration-color: #008000\"> 8      </span>│<span style=\"color: #008080; text-decoration-color: #008080\"> 173      </span>│<span style=\"color: #008000; text-decoration-color: #008000\"> $54     </span>│\n",
       "                                    ├────────────┼─────────┼────────┼────────┼──────────┼─────────┤\n",
       "                                    │<span style=\"color: #008080; text-decoration-color: #008080\"> $3,187     </span>│<span style=\"color: #008000; text-decoration-color: #008000\"> $757    </span>│<span style=\"color: #008080; text-decoration-color: #008080\"> 1      </span>│<span style=\"color: #008000; text-decoration-color: #008000\"> 8      </span>│<span style=\"color: #008080; text-decoration-color: #008080\"> 295      </span>│<span style=\"color: #008000; text-decoration-color: #008000\"> $94     </span>│\n",
       "                                    ├────────────┼─────────┼────────┼────────┼──────────┼─────────┤\n",
       "                                    │<span style=\"color: #008080; text-decoration-color: #008080\"> $3,150     </span>│<span style=\"color: #008000; text-decoration-color: #008000\"> $463    </span>│<span style=\"color: #008080; text-decoration-color: #008080\"> 1      </span>│<span style=\"color: #008000; text-decoration-color: #008000\"> 8      </span>│<span style=\"color: #008080; text-decoration-color: #008080\"> 74       </span>│<span style=\"color: #008000; text-decoration-color: #008000\"> $57     </span>│\n",
       "                                    ├────────────┼─────────┼────────┼────────┼──────────┼─────────┤\n",
       "                                    │<span style=\"color: #008080; text-decoration-color: #008080\"> $3,436     </span>│<span style=\"color: #008000; text-decoration-color: #008000\"> $918    </span>│<span style=\"color: #008080; text-decoration-color: #008080\"> 1      </span>│<span style=\"color: #008000; text-decoration-color: #008000\"> 8      </span>│<span style=\"color: #008080; text-decoration-color: #008080\"> 426      </span>│<span style=\"color: #008000; text-decoration-color: #008000\"> $114    </span>│\n",
       "                                    ├────────────┼─────────┼────────┼────────┼──────────┼─────────┤\n",
       "                                    │<span style=\"color: #008080; text-decoration-color: #008080\"> $3,437     </span>│<span style=\"color: #008000; text-decoration-color: #008000\"> $203    </span>│<span style=\"color: #008080; text-decoration-color: #008080\"> 1      </span>│<span style=\"color: #008000; text-decoration-color: #008000\"> 7      </span>│<span style=\"color: #008080; text-decoration-color: #008080\"> 191      </span>│<span style=\"color: #008000; text-decoration-color: #008000\"> $29     </span>│\n",
       "                                    ├────────────┼─────────┼────────┼────────┼──────────┼─────────┤\n",
       "                                    │<span style=\"color: #008080; text-decoration-color: #008080\"> $3,129     </span>│<span style=\"color: #008000; text-decoration-color: #008000\"> $278    </span>│<span style=\"color: #008080; text-decoration-color: #008080\"> 1      </span>│<span style=\"color: #008000; text-decoration-color: #008000\"> 8      </span>│<span style=\"color: #008080; text-decoration-color: #008080\"> 533      </span>│<span style=\"color: #008000; text-decoration-color: #008000\"> $34     </span>│\n",
       "                                    ├────────────┼─────────┼────────┼────────┼──────────┼─────────┤\n",
       "                                    │<span style=\"color: #008080; text-decoration-color: #008080\"> $3,381     </span>│<span style=\"color: #008000; text-decoration-color: #008000\"> $796    </span>│<span style=\"color: #008080; text-decoration-color: #008080\"> 1      </span>│<span style=\"color: #008000; text-decoration-color: #008000\"> 7      </span>│<span style=\"color: #008080; text-decoration-color: #008080\"> 409      </span>│<span style=\"color: #008000; text-decoration-color: #008000\"> $113    </span>│\n",
       "                                    ├────────────┼─────────┼────────┼────────┼──────────┼─────────┤\n",
       "                                    │<span style=\"color: #008080; text-decoration-color: #008080\"> $3,324     </span>│<span style=\"color: #008000; text-decoration-color: #008000\"> $967    </span>│<span style=\"color: #008080; text-decoration-color: #008080\"> 1      </span>│<span style=\"color: #008000; text-decoration-color: #008000\"> 7      </span>│<span style=\"color: #008080; text-decoration-color: #008080\"> 225      </span>│<span style=\"color: #008000; text-decoration-color: #008000\"> $138    </span>│\n",
       "                                    ├────────────┼─────────┼────────┼────────┼──────────┼─────────┤\n",
       "                                    │<span style=\"color: #008080; text-decoration-color: #008080\"> $3,142     </span>│<span style=\"color: #008000; text-decoration-color: #008000\"> $784    </span>│<span style=\"color: #008080; text-decoration-color: #008080\"> 1      </span>│<span style=\"color: #008000; text-decoration-color: #008000\"> 5      </span>│<span style=\"color: #008080; text-decoration-color: #008080\"> 18       </span>│<span style=\"color: #008000; text-decoration-color: #008000\"> $156    </span>│\n",
       "                                    ├────────────┼─────────┼────────┼────────┼──────────┼─────────┤\n",
       "                                    │<span style=\"color: #008080; text-decoration-color: #008080\"> $1,922     </span>│<span style=\"color: #008000; text-decoration-color: #008000\"> $167    </span>│<span style=\"color: #008080; text-decoration-color: #008080\"> 1      </span>│<span style=\"color: #008000; text-decoration-color: #008000\"> 6      </span>│<span style=\"color: #008080; text-decoration-color: #008080\"> 134      </span>│<span style=\"color: #008000; text-decoration-color: #008000\"> $27     </span>│\n",
       "                                    ├────────────┼─────────┼────────┼────────┼──────────┼─────────┤\n",
       "                                    │<span style=\"color: #008080; text-decoration-color: #008080\"> $3,301     </span>│<span style=\"color: #008000; text-decoration-color: #008000\"> $399    </span>│<span style=\"color: #008080; text-decoration-color: #008080\"> 1      </span>│<span style=\"color: #008000; text-decoration-color: #008000\"> 8      </span>│<span style=\"color: #008080; text-decoration-color: #008080\"> 276      </span>│<span style=\"color: #008000; text-decoration-color: #008000\"> $49     </span>│\n",
       "                                    ├────────────┼─────────┼────────┼────────┼──────────┼─────────┤\n",
       "                                    │<span style=\"color: #008080; text-decoration-color: #008080\"> $785       </span>│<span style=\"color: #008000; text-decoration-color: #008000\"> $0      </span>│<span style=\"color: #008080; text-decoration-color: #008080\"> 1      </span>│<span style=\"color: #008000; text-decoration-color: #008000\"> 3      </span>│<span style=\"color: #008080; text-decoration-color: #008080\"> 1        </span>│<span style=\"color: #008000; text-decoration-color: #008000\"> $0      </span>│\n",
       "                                    ├────────────┼─────────┼────────┼────────┼──────────┼─────────┤\n",
       "                                    │<span style=\"color: #008080; text-decoration-color: #008080\"> $3,199     </span>│<span style=\"color: #008000; text-decoration-color: #008000\"> $618    </span>│<span style=\"color: #008080; text-decoration-color: #008080\"> 1      </span>│<span style=\"color: #008000; text-decoration-color: #008000\"> 7      </span>│<span style=\"color: #008080; text-decoration-color: #008080\"> 256      </span>│<span style=\"color: #008000; text-decoration-color: #008000\"> $88     </span>│\n",
       "                                    ├────────────┼─────────┼────────┼────────┼──────────┼─────────┤\n",
       "                                    │<span style=\"color: #008080; text-decoration-color: #008080\"> $3,296     </span>│<span style=\"color: #008000; text-decoration-color: #008000\"> $993    </span>│<span style=\"color: #008080; text-decoration-color: #008080\"> 1      </span>│<span style=\"color: #008000; text-decoration-color: #008000\"> 5      </span>│<span style=\"color: #008080; text-decoration-color: #008080\"> 24       </span>│<span style=\"color: #008000; text-decoration-color: #008000\"> $198    </span>│\n",
       "                                    ├────────────┼─────────┼────────┼────────┼──────────┼─────────┤\n",
       "                                    │<span style=\"color: #008080; text-decoration-color: #008080\"> $3,313     </span>│<span style=\"color: #008000; text-decoration-color: #008000\"> $618    </span>│<span style=\"color: #008080; text-decoration-color: #008080\"> 1      </span>│<span style=\"color: #008000; text-decoration-color: #008000\"> 8      </span>│<span style=\"color: #008080; text-decoration-color: #008080\"> 145      </span>│<span style=\"color: #008000; text-decoration-color: #008000\"> $77     </span>│\n",
       "                                    ├────────────┼─────────┼────────┼────────┼──────────┼─────────┤\n",
       "                                    │<span style=\"color: #008080; text-decoration-color: #008080\"> $3,417     </span>│<span style=\"color: #008000; text-decoration-color: #008000\"> $575    </span>│<span style=\"color: #008080; text-decoration-color: #008080\"> 1      </span>│<span style=\"color: #008000; text-decoration-color: #008000\"> 7      </span>│<span style=\"color: #008080; text-decoration-color: #008080\"> 283      </span>│<span style=\"color: #008000; text-decoration-color: #008000\"> $82     </span>│\n",
       "                                    ├────────────┼─────────┼────────┼────────┼──────────┼─────────┤\n",
       "                                    │<span style=\"color: #008080; text-decoration-color: #008080\"> $3,440     </span>│<span style=\"color: #008000; text-decoration-color: #008000\"> $1,155  </span>│<span style=\"color: #008080; text-decoration-color: #008080\"> 1      </span>│<span style=\"color: #008000; text-decoration-color: #008000\"> 8      </span>│<span style=\"color: #008080; text-decoration-color: #008080\"> 400      </span>│<span style=\"color: #008000; text-decoration-color: #008000\"> $144    </span>│\n",
       "                                    ├────────────┼─────────┼────────┼────────┼──────────┼─────────┤\n",
       "                                    │<span style=\"color: #008080; text-decoration-color: #008080\"> $2,546     </span>│<span style=\"color: #008000; text-decoration-color: #008000\"> $139    </span>│<span style=\"color: #008080; text-decoration-color: #008080\"> 1      </span>│<span style=\"color: #008000; text-decoration-color: #008000\"> 8      </span>│<span style=\"color: #008080; text-decoration-color: #008080\"> 248      </span>│<span style=\"color: #008000; text-decoration-color: #008000\"> $17     </span>│\n",
       "                                    ├────────────┼─────────┼────────┼────────┼──────────┼─────────┤\n",
       "                                    │<span style=\"color: #008080; text-decoration-color: #008080\"> $3,334     </span>│<span style=\"color: #008000; text-decoration-color: #008000\"> $912    </span>│<span style=\"color: #008080; text-decoration-color: #008080\"> 1      </span>│<span style=\"color: #008000; text-decoration-color: #008000\"> 6      </span>│<span style=\"color: #008080; text-decoration-color: #008080\"> 253      </span>│<span style=\"color: #008000; text-decoration-color: #008000\"> $152    </span>│\n",
       "                                    ├────────────┼─────────┼────────┼────────┼──────────┼─────────┤\n",
       "                                    │<span style=\"color: #008080; text-decoration-color: #008080\"> $3,353     </span>│<span style=\"color: #008000; text-decoration-color: #008000\"> $628    </span>│<span style=\"color: #008080; text-decoration-color: #008080\"> 1      </span>│<span style=\"color: #008000; text-decoration-color: #008000\"> 7      </span>│<span style=\"color: #008080; text-decoration-color: #008080\"> 370      </span>│<span style=\"color: #008000; text-decoration-color: #008000\"> $89     </span>│\n",
       "                                    ├────────────┼─────────┼────────┼────────┼──────────┼─────────┤\n",
       "                                    │<span style=\"color: #008080; text-decoration-color: #008080\"> $1,815     </span>│<span style=\"color: #008000; text-decoration-color: #008000\"> $0      </span>│<span style=\"color: #008080; text-decoration-color: #008080\"> 1      </span>│<span style=\"color: #008000; text-decoration-color: #008000\"> 8      </span>│<span style=\"color: #008080; text-decoration-color: #008080\"> 161      </span>│<span style=\"color: #008000; text-decoration-color: #008000\"> $0      </span>│\n",
       "                                    ├────────────┼─────────┼────────┼────────┼──────────┼─────────┤\n",
       "                                    │<span style=\"color: #008080; text-decoration-color: #008080\"> $2,377     </span>│<span style=\"color: #008000; text-decoration-color: #008000\"> $121    </span>│<span style=\"color: #008080; text-decoration-color: #008080\"> 1      </span>│<span style=\"color: #008000; text-decoration-color: #008000\"> 8      </span>│<span style=\"color: #008080; text-decoration-color: #008080\"> 58       </span>│<span style=\"color: #008000; text-decoration-color: #008000\"> $15     </span>│\n",
       "                                    ├────────────┼─────────┼────────┼────────┼──────────┼─────────┤\n",
       "                                    │<span style=\"color: #008080; text-decoration-color: #008080\"> $1,241     </span>│<span style=\"color: #008000; text-decoration-color: #008000\"> $58     </span>│<span style=\"color: #008080; text-decoration-color: #008080\"> 1      </span>│<span style=\"color: #008000; text-decoration-color: #008000\"> 8      </span>│<span style=\"color: #008080; text-decoration-color: #008080\"> 59       </span>│<span style=\"color: #008000; text-decoration-color: #008000\"> $7      </span>│\n",
       "                                    ├────────────┼─────────┼────────┼────────┼──────────┼─────────┤\n",
       "                                    │<span style=\"color: #008080; text-decoration-color: #008080\"> $3,428     </span>│<span style=\"color: #008000; text-decoration-color: #008000\"> $1,559  </span>│<span style=\"color: #008080; text-decoration-color: #008080\"> 1      </span>│<span style=\"color: #008000; text-decoration-color: #008000\"> 6      </span>│<span style=\"color: #008080; text-decoration-color: #008080\"> 196      </span>│<span style=\"color: #008000; text-decoration-color: #008000\"> $259    </span>│\n",
       "                                    ├────────────┼─────────┼────────┼────────┼──────────┼─────────┤\n",
       "                                    │<span style=\"color: #008080; text-decoration-color: #008080\"> $3,328     </span>│<span style=\"color: #008000; text-decoration-color: #008000\"> $524    </span>│<span style=\"color: #008080; text-decoration-color: #008080\"> 1      </span>│<span style=\"color: #008000; text-decoration-color: #008000\"> 6      </span>│<span style=\"color: #008080; text-decoration-color: #008080\"> 126      </span>│<span style=\"color: #008000; text-decoration-color: #008000\"> $87     </span>│\n",
       "                                    ├────────────┼─────────┼────────┼────────┼──────────┼─────────┤\n",
       "                                    │<span style=\"color: #008080; text-decoration-color: #008080\"> $2,938     </span>│<span style=\"color: #008000; text-decoration-color: #008000\"> $801    </span>│<span style=\"color: #008080; text-decoration-color: #008080\"> 1      </span>│<span style=\"color: #008000; text-decoration-color: #008000\"> 8      </span>│<span style=\"color: #008080; text-decoration-color: #008080\"> 420      </span>│<span style=\"color: #008000; text-decoration-color: #008000\"> $100    </span>│\n",
       "                                    ├────────────┼─────────┼────────┼────────┼──────────┼─────────┤\n",
       "                                    │<span style=\"color: #008080; text-decoration-color: #008080\"> $3,449     </span>│<span style=\"color: #008000; text-decoration-color: #008000\"> $1,021  </span>│<span style=\"color: #008080; text-decoration-color: #008080\"> 1      </span>│<span style=\"color: #008000; text-decoration-color: #008000\"> 5      </span>│<span style=\"color: #008080; text-decoration-color: #008080\"> 164      </span>│<span style=\"color: #008000; text-decoration-color: #008000\"> $204    </span>│\n",
       "                                    ├────────────┼─────────┼────────┼────────┼──────────┼─────────┤\n",
       "                                    │<span style=\"color: #008080; text-decoration-color: #008080\"> $3,461     </span>│<span style=\"color: #008000; text-decoration-color: #008000\"> $1,634  </span>│<span style=\"color: #008080; text-decoration-color: #008080\"> 2      </span>│<span style=\"color: #008000; text-decoration-color: #008000\"> 6      </span>│<span style=\"color: #008080; text-decoration-color: #008080\"> 231      </span>│<span style=\"color: #008000; text-decoration-color: #008000\"> $272    </span>│\n",
       "                                    └────────────┴─────────┴────────┴────────┴──────────┴─────────┘\n",
       "</pre>\n"
      ],
      "text/plain": [
       "\u001b[3m         Progress Tracker          \u001b[0m \u001b[3m                       Route Statistics                        \u001b[0m\n",
       "┏━━━━━━━━━━━━━━━━━━━━━━┳━━━━━━━━━━┓ ┏━━━━━━━━━━━━┳━━━━━━━━━┳━━━━━━━━┳━━━━━━━━┳━━━━━━━━━━┳━━━━━━━━━┓\n",
       "┃\u001b[1m \u001b[0m\u001b[1mSolution            \u001b[0m\u001b[1m \u001b[0m┃\u001b[1m \u001b[0m\u001b[1mValue   \u001b[0m\u001b[1m \u001b[0m┃ ┃\u001b[1m            \u001b[0m┃\u001b[1m \u001b[0m\u001b[1mTotal  \u001b[0m\u001b[1m \u001b[0m┃\u001b[1m \u001b[0m\u001b[1mNumber\u001b[0m\u001b[1m \u001b[0m┃\u001b[1m \u001b[0m\u001b[1mNumber\u001b[0m\u001b[1m \u001b[0m┃\u001b[1m          \u001b[0m┃\u001b[1m         \u001b[0m┃\n",
       "┡━━━━━━━━━━━━━━━━━━━━━━╇━━━━━━━━━━┩ ┃\u001b[1m \u001b[0m\u001b[1mTotal BIG \u001b[0m\u001b[1m \u001b[0m┃\u001b[1m \u001b[0m\u001b[1mCOMP   \u001b[0m\u001b[1m \u001b[0m┃\u001b[1m \u001b[0m\u001b[1mof    \u001b[0m\u001b[1m \u001b[0m┃\u001b[1m \u001b[0m\u001b[1mof    \u001b[0m\u001b[1m \u001b[0m┃\u001b[1m \u001b[0m\u001b[1mTtl     \u001b[0m\u001b[1m \u001b[0m┃\u001b[1m \u001b[0m\u001b[1mCOMP / \u001b[0m\u001b[1m \u001b[0m┃\n",
       "│\u001b[35m \u001b[0m\u001b[1;35mCurrent\u001b[0m\u001b[35m             \u001b[0m\u001b[35m \u001b[0m│\u001b[36m \u001b[0m\u001b[1;36m21,876\u001b[0m\u001b[36m  \u001b[0m\u001b[36m \u001b[0m│ ┃\u001b[1m \u001b[0m\u001b[1m5 AVG     \u001b[0m\u001b[1m \u001b[0m┃\u001b[1m \u001b[0m\u001b[1mAVG    \u001b[0m\u001b[1m \u001b[0m┃\u001b[1m \u001b[0m\u001b[1mDays  \u001b[0m\u001b[1m \u001b[0m┃\u001b[1m \u001b[0m\u001b[1mStops \u001b[0m\u001b[1m \u001b[0m┃\u001b[1m \u001b[0m\u001b[1mDistance\u001b[0m\u001b[1m \u001b[0m┃\u001b[1m \u001b[0m\u001b[1mStop   \u001b[0m\u001b[1m \u001b[0m┃\n",
       "├──────────────────────┼──────────┤ ┡━━━━━━━━━━━━╇━━━━━━━━━╇━━━━━━━━╇━━━━━━━━╇━━━━━━━━━━╇━━━━━━━━━┩\n",
       "│\u001b[35m \u001b[0m\u001b[35mBest                \u001b[0m\u001b[35m \u001b[0m│\u001b[36m \u001b[0m\u001b[36m10,068  \u001b[0m\u001b[36m \u001b[0m│ │\u001b[36m \u001b[0m\u001b[36m$3,374    \u001b[0m\u001b[36m \u001b[0m│\u001b[32m \u001b[0m\u001b[32m$496   \u001b[0m\u001b[32m \u001b[0m│\u001b[36m \u001b[0m\u001b[36m1     \u001b[0m\u001b[36m \u001b[0m│\u001b[32m \u001b[0m\u001b[32m6     \u001b[0m\u001b[32m \u001b[0m│\u001b[36m \u001b[0m\u001b[36m532     \u001b[0m\u001b[36m \u001b[0m│\u001b[32m \u001b[0m\u001b[32m$82    \u001b[0m\u001b[32m \u001b[0m│\n",
       "├──────────────────────┼──────────┤ ├────────────┼─────────┼────────┼────────┼──────────┼─────────┤\n",
       "│\u001b[35m \u001b[0m\u001b[35mLast Run            \u001b[0m\u001b[35m \u001b[0m│\u001b[36m \u001b[0m\u001b[36m21,874  \u001b[0m\u001b[36m \u001b[0m│ │\u001b[36m \u001b[0m\u001b[36m$2,330    \u001b[0m\u001b[36m \u001b[0m│\u001b[32m \u001b[0m\u001b[32m$53    \u001b[0m\u001b[32m \u001b[0m│\u001b[36m \u001b[0m\u001b[36m1     \u001b[0m\u001b[36m \u001b[0m│\u001b[32m \u001b[0m\u001b[32m7     \u001b[0m\u001b[32m \u001b[0m│\u001b[36m \u001b[0m\u001b[36m355     \u001b[0m\u001b[36m \u001b[0m│\u001b[32m \u001b[0m\u001b[32m$7     \u001b[0m\u001b[32m \u001b[0m│\n",
       "├──────────────────────┼──────────┤ ├────────────┼─────────┼────────┼────────┼──────────┼─────────┤\n",
       "│\u001b[35m \u001b[0m\u001b[1;35mWORSE BY\u001b[0m\u001b[35m            \u001b[0m\u001b[35m \u001b[0m│\u001b[36m \u001b[0m\u001b[1;36m2\u001b[0m\u001b[36m       \u001b[0m\u001b[36m \u001b[0m│ │\u001b[36m \u001b[0m\u001b[36m$3,351    \u001b[0m\u001b[36m \u001b[0m│\u001b[32m \u001b[0m\u001b[32m$417   \u001b[0m\u001b[32m \u001b[0m│\u001b[36m \u001b[0m\u001b[36m1     \u001b[0m\u001b[36m \u001b[0m│\u001b[32m \u001b[0m\u001b[32m8     \u001b[0m\u001b[32m \u001b[0m│\u001b[36m \u001b[0m\u001b[36m1,038   \u001b[0m\u001b[36m \u001b[0m│\u001b[32m \u001b[0m\u001b[32m$52    \u001b[0m\u001b[32m \u001b[0m│\n",
       "├──────────────────────┼──────────┤ ├────────────┼─────────┼────────┼────────┼──────────┼─────────┤\n",
       "│\u001b[35m \u001b[0m\u001b[35mExplore Coefficient \u001b[0m\u001b[35m \u001b[0m│\u001b[36m \u001b[0m\u001b[36m0.0     \u001b[0m\u001b[36m \u001b[0m│ │\u001b[36m \u001b[0m\u001b[36m$3,413    \u001b[0m\u001b[36m \u001b[0m│\u001b[32m \u001b[0m\u001b[32m$1,030 \u001b[0m\u001b[32m \u001b[0m│\u001b[36m \u001b[0m\u001b[36m1     \u001b[0m\u001b[36m \u001b[0m│\u001b[32m \u001b[0m\u001b[32m8     \u001b[0m\u001b[32m \u001b[0m│\u001b[36m \u001b[0m\u001b[36m676     \u001b[0m\u001b[36m \u001b[0m│\u001b[32m \u001b[0m\u001b[32m$128   \u001b[0m\u001b[32m \u001b[0m│\n",
       "├──────────────────────┼──────────┤ ├────────────┼─────────┼────────┼────────┼──────────┼─────────┤\n",
       "│\u001b[35m \u001b[0m\u001b[35mMemory Coefficient  \u001b[0m\u001b[35m \u001b[0m│\u001b[36m \u001b[0m\u001b[36m0.770000\u001b[0m\u001b[36m \u001b[0m│ │\u001b[36m \u001b[0m\u001b[36m$3,109    \u001b[0m\u001b[36m \u001b[0m│\u001b[32m \u001b[0m\u001b[32m$315   \u001b[0m\u001b[32m \u001b[0m│\u001b[36m \u001b[0m\u001b[36m1     \u001b[0m\u001b[36m \u001b[0m│\u001b[32m \u001b[0m\u001b[32m8     \u001b[0m\u001b[32m \u001b[0m│\u001b[36m \u001b[0m\u001b[36m695     \u001b[0m\u001b[36m \u001b[0m│\u001b[32m \u001b[0m\u001b[32m$39    \u001b[0m\u001b[32m \u001b[0m│\n",
       "├──────────────────────┼──────────┤ ├────────────┼─────────┼────────┼────────┼──────────┼─────────┤\n",
       "│\u001b[35m \u001b[0m\u001b[35mSolve Time (seconds)\u001b[0m\u001b[35m \u001b[0m│\u001b[36m \u001b[0m\u001b[36m22      \u001b[0m\u001b[36m \u001b[0m│ │\u001b[36m \u001b[0m\u001b[36m$3,348    \u001b[0m\u001b[36m \u001b[0m│\u001b[32m \u001b[0m\u001b[32m$193   \u001b[0m\u001b[32m \u001b[0m│\u001b[36m \u001b[0m\u001b[36m1     \u001b[0m\u001b[36m \u001b[0m│\u001b[32m \u001b[0m\u001b[32m8     \u001b[0m\u001b[32m \u001b[0m│\u001b[36m \u001b[0m\u001b[36m1,784   \u001b[0m\u001b[36m \u001b[0m│\u001b[32m \u001b[0m\u001b[32m$24    \u001b[0m\u001b[32m \u001b[0m│\n",
       "└──────────────────────┴──────────┘ ├────────────┼─────────┼────────┼────────┼──────────┼─────────┤\n",
       "                                    │\u001b[36m \u001b[0m\u001b[36m$3,224    \u001b[0m\u001b[36m \u001b[0m│\u001b[32m \u001b[0m\u001b[32m$240   \u001b[0m\u001b[32m \u001b[0m│\u001b[36m \u001b[0m\u001b[36m1     \u001b[0m\u001b[36m \u001b[0m│\u001b[32m \u001b[0m\u001b[32m8     \u001b[0m\u001b[32m \u001b[0m│\u001b[36m \u001b[0m\u001b[36m540     \u001b[0m\u001b[36m \u001b[0m│\u001b[32m \u001b[0m\u001b[32m$30    \u001b[0m\u001b[32m \u001b[0m│\n",
       "                                    ├────────────┼─────────┼────────┼────────┼──────────┼─────────┤\n",
       "                                    │\u001b[36m \u001b[0m\u001b[36m$3,395    \u001b[0m\u001b[36m \u001b[0m│\u001b[32m \u001b[0m\u001b[32m$404   \u001b[0m\u001b[32m \u001b[0m│\u001b[36m \u001b[0m\u001b[36m1     \u001b[0m\u001b[36m \u001b[0m│\u001b[32m \u001b[0m\u001b[32m7     \u001b[0m\u001b[32m \u001b[0m│\u001b[36m \u001b[0m\u001b[36m428     \u001b[0m\u001b[36m \u001b[0m│\u001b[32m \u001b[0m\u001b[32m$57    \u001b[0m\u001b[32m \u001b[0m│\n",
       "                                    ├────────────┼─────────┼────────┼────────┼──────────┼─────────┤\n",
       "                                    │\u001b[36m \u001b[0m\u001b[36m$3,477    \u001b[0m\u001b[36m \u001b[0m│\u001b[32m \u001b[0m\u001b[32m$1,025 \u001b[0m\u001b[32m \u001b[0m│\u001b[36m \u001b[0m\u001b[36m1     \u001b[0m\u001b[36m \u001b[0m│\u001b[32m \u001b[0m\u001b[32m3     \u001b[0m\u001b[32m \u001b[0m│\u001b[36m \u001b[0m\u001b[36m40      \u001b[0m\u001b[36m \u001b[0m│\u001b[32m \u001b[0m\u001b[32m$341   \u001b[0m\u001b[32m \u001b[0m│\n",
       "                                    ├────────────┼─────────┼────────┼────────┼──────────┼─────────┤\n",
       "                                    │\u001b[36m \u001b[0m\u001b[36m$1,755    \u001b[0m\u001b[36m \u001b[0m│\u001b[32m \u001b[0m\u001b[32m$90    \u001b[0m\u001b[32m \u001b[0m│\u001b[36m \u001b[0m\u001b[36m1     \u001b[0m\u001b[36m \u001b[0m│\u001b[32m \u001b[0m\u001b[32m8     \u001b[0m\u001b[32m \u001b[0m│\u001b[36m \u001b[0m\u001b[36m426     \u001b[0m\u001b[36m \u001b[0m│\u001b[32m \u001b[0m\u001b[32m$11    \u001b[0m\u001b[32m \u001b[0m│\n",
       "                                    ├────────────┼─────────┼────────┼────────┼──────────┼─────────┤\n",
       "                                    │\u001b[36m \u001b[0m\u001b[36m$2,303    \u001b[0m\u001b[36m \u001b[0m│\u001b[32m \u001b[0m\u001b[32m$206   \u001b[0m\u001b[32m \u001b[0m│\u001b[36m \u001b[0m\u001b[36m1     \u001b[0m\u001b[36m \u001b[0m│\u001b[32m \u001b[0m\u001b[32m8     \u001b[0m\u001b[32m \u001b[0m│\u001b[36m \u001b[0m\u001b[36m173     \u001b[0m\u001b[36m \u001b[0m│\u001b[32m \u001b[0m\u001b[32m$25    \u001b[0m\u001b[32m \u001b[0m│\n",
       "                                    ├────────────┼─────────┼────────┼────────┼──────────┼─────────┤\n",
       "                                    │\u001b[36m \u001b[0m\u001b[36m$3,416    \u001b[0m\u001b[36m \u001b[0m│\u001b[32m \u001b[0m\u001b[32m$107   \u001b[0m\u001b[32m \u001b[0m│\u001b[36m \u001b[0m\u001b[36m1     \u001b[0m\u001b[36m \u001b[0m│\u001b[32m \u001b[0m\u001b[32m7     \u001b[0m\u001b[32m \u001b[0m│\u001b[36m \u001b[0m\u001b[36m360     \u001b[0m\u001b[36m \u001b[0m│\u001b[32m \u001b[0m\u001b[32m$15    \u001b[0m\u001b[32m \u001b[0m│\n",
       "                                    ├────────────┼─────────┼────────┼────────┼──────────┼─────────┤\n",
       "                                    │\u001b[36m \u001b[0m\u001b[36m$3,351    \u001b[0m\u001b[36m \u001b[0m│\u001b[32m \u001b[0m\u001b[32m$9     \u001b[0m\u001b[32m \u001b[0m│\u001b[36m \u001b[0m\u001b[36m1     \u001b[0m\u001b[36m \u001b[0m│\u001b[32m \u001b[0m\u001b[32m3     \u001b[0m\u001b[32m \u001b[0m│\u001b[36m \u001b[0m\u001b[36m42      \u001b[0m\u001b[36m \u001b[0m│\u001b[32m \u001b[0m\u001b[32m$3     \u001b[0m\u001b[32m \u001b[0m│\n",
       "                                    ├────────────┼─────────┼────────┼────────┼──────────┼─────────┤\n",
       "                                    │\u001b[36m \u001b[0m\u001b[36m$3,178    \u001b[0m\u001b[36m \u001b[0m│\u001b[32m \u001b[0m\u001b[32m$610   \u001b[0m\u001b[32m \u001b[0m│\u001b[36m \u001b[0m\u001b[36m1     \u001b[0m\u001b[36m \u001b[0m│\u001b[32m \u001b[0m\u001b[32m8     \u001b[0m\u001b[32m \u001b[0m│\u001b[36m \u001b[0m\u001b[36m117     \u001b[0m\u001b[36m \u001b[0m│\u001b[32m \u001b[0m\u001b[32m$76    \u001b[0m\u001b[32m \u001b[0m│\n",
       "                                    ├────────────┼─────────┼────────┼────────┼──────────┼─────────┤\n",
       "                                    │\u001b[36m \u001b[0m\u001b[36m$2,477    \u001b[0m\u001b[36m \u001b[0m│\u001b[32m \u001b[0m\u001b[32m$102   \u001b[0m\u001b[32m \u001b[0m│\u001b[36m \u001b[0m\u001b[36m1     \u001b[0m\u001b[36m \u001b[0m│\u001b[32m \u001b[0m\u001b[32m8     \u001b[0m\u001b[32m \u001b[0m│\u001b[36m \u001b[0m\u001b[36m860     \u001b[0m\u001b[36m \u001b[0m│\u001b[32m \u001b[0m\u001b[32m$12    \u001b[0m\u001b[32m \u001b[0m│\n",
       "                                    ├────────────┼─────────┼────────┼────────┼──────────┼─────────┤\n",
       "                                    │\u001b[36m \u001b[0m\u001b[36m$3,350    \u001b[0m\u001b[36m \u001b[0m│\u001b[32m \u001b[0m\u001b[32m$358   \u001b[0m\u001b[32m \u001b[0m│\u001b[36m \u001b[0m\u001b[36m1     \u001b[0m\u001b[36m \u001b[0m│\u001b[32m \u001b[0m\u001b[32m8     \u001b[0m\u001b[32m \u001b[0m│\u001b[36m \u001b[0m\u001b[36m409     \u001b[0m\u001b[36m \u001b[0m│\u001b[32m \u001b[0m\u001b[32m$44    \u001b[0m\u001b[32m \u001b[0m│\n",
       "                                    ├────────────┼─────────┼────────┼────────┼──────────┼─────────┤\n",
       "                                    │\u001b[36m \u001b[0m\u001b[36m$2,228    \u001b[0m\u001b[36m \u001b[0m│\u001b[32m \u001b[0m\u001b[32m$125   \u001b[0m\u001b[32m \u001b[0m│\u001b[36m \u001b[0m\u001b[36m1     \u001b[0m\u001b[36m \u001b[0m│\u001b[32m \u001b[0m\u001b[32m8     \u001b[0m\u001b[32m \u001b[0m│\u001b[36m \u001b[0m\u001b[36m268     \u001b[0m\u001b[36m \u001b[0m│\u001b[32m \u001b[0m\u001b[32m$15    \u001b[0m\u001b[32m \u001b[0m│\n",
       "                                    ├────────────┼─────────┼────────┼────────┼──────────┼─────────┤\n",
       "                                    │\u001b[36m \u001b[0m\u001b[36m$3,390    \u001b[0m\u001b[36m \u001b[0m│\u001b[32m \u001b[0m\u001b[32m$80    \u001b[0m\u001b[32m \u001b[0m│\u001b[36m \u001b[0m\u001b[36m1     \u001b[0m\u001b[36m \u001b[0m│\u001b[32m \u001b[0m\u001b[32m7     \u001b[0m\u001b[32m \u001b[0m│\u001b[36m \u001b[0m\u001b[36m1,005   \u001b[0m\u001b[36m \u001b[0m│\u001b[32m \u001b[0m\u001b[32m$11    \u001b[0m\u001b[32m \u001b[0m│\n",
       "                                    ├────────────┼─────────┼────────┼────────┼──────────┼─────────┤\n",
       "                                    │\u001b[36m \u001b[0m\u001b[36m$3,175    \u001b[0m\u001b[36m \u001b[0m│\u001b[32m \u001b[0m\u001b[32m$366   \u001b[0m\u001b[32m \u001b[0m│\u001b[36m \u001b[0m\u001b[36m1     \u001b[0m\u001b[36m \u001b[0m│\u001b[32m \u001b[0m\u001b[32m8     \u001b[0m\u001b[32m \u001b[0m│\u001b[36m \u001b[0m\u001b[36m346     \u001b[0m\u001b[36m \u001b[0m│\u001b[32m \u001b[0m\u001b[32m$45    \u001b[0m\u001b[32m \u001b[0m│\n",
       "                                    ├────────────┼─────────┼────────┼────────┼──────────┼─────────┤\n",
       "                                    │\u001b[36m \u001b[0m\u001b[36m$2,417    \u001b[0m\u001b[36m \u001b[0m│\u001b[32m \u001b[0m\u001b[32m$119   \u001b[0m\u001b[32m \u001b[0m│\u001b[36m \u001b[0m\u001b[36m1     \u001b[0m\u001b[36m \u001b[0m│\u001b[32m \u001b[0m\u001b[32m8     \u001b[0m\u001b[32m \u001b[0m│\u001b[36m \u001b[0m\u001b[36m65      \u001b[0m\u001b[36m \u001b[0m│\u001b[32m \u001b[0m\u001b[32m$14    \u001b[0m\u001b[32m \u001b[0m│\n",
       "                                    ├────────────┼─────────┼────────┼────────┼──────────┼─────────┤\n",
       "                                    │\u001b[36m \u001b[0m\u001b[36m$2,280    \u001b[0m\u001b[36m \u001b[0m│\u001b[32m \u001b[0m\u001b[32m$199   \u001b[0m\u001b[32m \u001b[0m│\u001b[36m \u001b[0m\u001b[36m1     \u001b[0m\u001b[36m \u001b[0m│\u001b[32m \u001b[0m\u001b[32m8     \u001b[0m\u001b[32m \u001b[0m│\u001b[36m \u001b[0m\u001b[36m271     \u001b[0m\u001b[36m \u001b[0m│\u001b[32m \u001b[0m\u001b[32m$24    \u001b[0m\u001b[32m \u001b[0m│\n",
       "                                    ├────────────┼─────────┼────────┼────────┼──────────┼─────────┤\n",
       "                                    │\u001b[36m \u001b[0m\u001b[36m$2,114    \u001b[0m\u001b[36m \u001b[0m│\u001b[32m \u001b[0m\u001b[32m$53    \u001b[0m\u001b[32m \u001b[0m│\u001b[36m \u001b[0m\u001b[36m1     \u001b[0m\u001b[36m \u001b[0m│\u001b[32m \u001b[0m\u001b[32m8     \u001b[0m\u001b[32m \u001b[0m│\u001b[36m \u001b[0m\u001b[36m258     \u001b[0m\u001b[36m \u001b[0m│\u001b[32m \u001b[0m\u001b[32m$6     \u001b[0m\u001b[32m \u001b[0m│\n",
       "                                    ├────────────┼─────────┼────────┼────────┼──────────┼─────────┤\n",
       "                                    │\u001b[36m \u001b[0m\u001b[36m$3,262    \u001b[0m\u001b[36m \u001b[0m│\u001b[32m \u001b[0m\u001b[32m$432   \u001b[0m\u001b[32m \u001b[0m│\u001b[36m \u001b[0m\u001b[36m1     \u001b[0m\u001b[36m \u001b[0m│\u001b[32m \u001b[0m\u001b[32m8     \u001b[0m\u001b[32m \u001b[0m│\u001b[36m \u001b[0m\u001b[36m173     \u001b[0m\u001b[36m \u001b[0m│\u001b[32m \u001b[0m\u001b[32m$54    \u001b[0m\u001b[32m \u001b[0m│\n",
       "                                    ├────────────┼─────────┼────────┼────────┼──────────┼─────────┤\n",
       "                                    │\u001b[36m \u001b[0m\u001b[36m$3,187    \u001b[0m\u001b[36m \u001b[0m│\u001b[32m \u001b[0m\u001b[32m$757   \u001b[0m\u001b[32m \u001b[0m│\u001b[36m \u001b[0m\u001b[36m1     \u001b[0m\u001b[36m \u001b[0m│\u001b[32m \u001b[0m\u001b[32m8     \u001b[0m\u001b[32m \u001b[0m│\u001b[36m \u001b[0m\u001b[36m295     \u001b[0m\u001b[36m \u001b[0m│\u001b[32m \u001b[0m\u001b[32m$94    \u001b[0m\u001b[32m \u001b[0m│\n",
       "                                    ├────────────┼─────────┼────────┼────────┼──────────┼─────────┤\n",
       "                                    │\u001b[36m \u001b[0m\u001b[36m$3,150    \u001b[0m\u001b[36m \u001b[0m│\u001b[32m \u001b[0m\u001b[32m$463   \u001b[0m\u001b[32m \u001b[0m│\u001b[36m \u001b[0m\u001b[36m1     \u001b[0m\u001b[36m \u001b[0m│\u001b[32m \u001b[0m\u001b[32m8     \u001b[0m\u001b[32m \u001b[0m│\u001b[36m \u001b[0m\u001b[36m74      \u001b[0m\u001b[36m \u001b[0m│\u001b[32m \u001b[0m\u001b[32m$57    \u001b[0m\u001b[32m \u001b[0m│\n",
       "                                    ├────────────┼─────────┼────────┼────────┼──────────┼─────────┤\n",
       "                                    │\u001b[36m \u001b[0m\u001b[36m$3,436    \u001b[0m\u001b[36m \u001b[0m│\u001b[32m \u001b[0m\u001b[32m$918   \u001b[0m\u001b[32m \u001b[0m│\u001b[36m \u001b[0m\u001b[36m1     \u001b[0m\u001b[36m \u001b[0m│\u001b[32m \u001b[0m\u001b[32m8     \u001b[0m\u001b[32m \u001b[0m│\u001b[36m \u001b[0m\u001b[36m426     \u001b[0m\u001b[36m \u001b[0m│\u001b[32m \u001b[0m\u001b[32m$114   \u001b[0m\u001b[32m \u001b[0m│\n",
       "                                    ├────────────┼─────────┼────────┼────────┼──────────┼─────────┤\n",
       "                                    │\u001b[36m \u001b[0m\u001b[36m$3,437    \u001b[0m\u001b[36m \u001b[0m│\u001b[32m \u001b[0m\u001b[32m$203   \u001b[0m\u001b[32m \u001b[0m│\u001b[36m \u001b[0m\u001b[36m1     \u001b[0m\u001b[36m \u001b[0m│\u001b[32m \u001b[0m\u001b[32m7     \u001b[0m\u001b[32m \u001b[0m│\u001b[36m \u001b[0m\u001b[36m191     \u001b[0m\u001b[36m \u001b[0m│\u001b[32m \u001b[0m\u001b[32m$29    \u001b[0m\u001b[32m \u001b[0m│\n",
       "                                    ├────────────┼─────────┼────────┼────────┼──────────┼─────────┤\n",
       "                                    │\u001b[36m \u001b[0m\u001b[36m$3,129    \u001b[0m\u001b[36m \u001b[0m│\u001b[32m \u001b[0m\u001b[32m$278   \u001b[0m\u001b[32m \u001b[0m│\u001b[36m \u001b[0m\u001b[36m1     \u001b[0m\u001b[36m \u001b[0m│\u001b[32m \u001b[0m\u001b[32m8     \u001b[0m\u001b[32m \u001b[0m│\u001b[36m \u001b[0m\u001b[36m533     \u001b[0m\u001b[36m \u001b[0m│\u001b[32m \u001b[0m\u001b[32m$34    \u001b[0m\u001b[32m \u001b[0m│\n",
       "                                    ├────────────┼─────────┼────────┼────────┼──────────┼─────────┤\n",
       "                                    │\u001b[36m \u001b[0m\u001b[36m$3,381    \u001b[0m\u001b[36m \u001b[0m│\u001b[32m \u001b[0m\u001b[32m$796   \u001b[0m\u001b[32m \u001b[0m│\u001b[36m \u001b[0m\u001b[36m1     \u001b[0m\u001b[36m \u001b[0m│\u001b[32m \u001b[0m\u001b[32m7     \u001b[0m\u001b[32m \u001b[0m│\u001b[36m \u001b[0m\u001b[36m409     \u001b[0m\u001b[36m \u001b[0m│\u001b[32m \u001b[0m\u001b[32m$113   \u001b[0m\u001b[32m \u001b[0m│\n",
       "                                    ├────────────┼─────────┼────────┼────────┼──────────┼─────────┤\n",
       "                                    │\u001b[36m \u001b[0m\u001b[36m$3,324    \u001b[0m\u001b[36m \u001b[0m│\u001b[32m \u001b[0m\u001b[32m$967   \u001b[0m\u001b[32m \u001b[0m│\u001b[36m \u001b[0m\u001b[36m1     \u001b[0m\u001b[36m \u001b[0m│\u001b[32m \u001b[0m\u001b[32m7     \u001b[0m\u001b[32m \u001b[0m│\u001b[36m \u001b[0m\u001b[36m225     \u001b[0m\u001b[36m \u001b[0m│\u001b[32m \u001b[0m\u001b[32m$138   \u001b[0m\u001b[32m \u001b[0m│\n",
       "                                    ├────────────┼─────────┼────────┼────────┼──────────┼─────────┤\n",
       "                                    │\u001b[36m \u001b[0m\u001b[36m$3,142    \u001b[0m\u001b[36m \u001b[0m│\u001b[32m \u001b[0m\u001b[32m$784   \u001b[0m\u001b[32m \u001b[0m│\u001b[36m \u001b[0m\u001b[36m1     \u001b[0m\u001b[36m \u001b[0m│\u001b[32m \u001b[0m\u001b[32m5     \u001b[0m\u001b[32m \u001b[0m│\u001b[36m \u001b[0m\u001b[36m18      \u001b[0m\u001b[36m \u001b[0m│\u001b[32m \u001b[0m\u001b[32m$156   \u001b[0m\u001b[32m \u001b[0m│\n",
       "                                    ├────────────┼─────────┼────────┼────────┼──────────┼─────────┤\n",
       "                                    │\u001b[36m \u001b[0m\u001b[36m$1,922    \u001b[0m\u001b[36m \u001b[0m│\u001b[32m \u001b[0m\u001b[32m$167   \u001b[0m\u001b[32m \u001b[0m│\u001b[36m \u001b[0m\u001b[36m1     \u001b[0m\u001b[36m \u001b[0m│\u001b[32m \u001b[0m\u001b[32m6     \u001b[0m\u001b[32m \u001b[0m│\u001b[36m \u001b[0m\u001b[36m134     \u001b[0m\u001b[36m \u001b[0m│\u001b[32m \u001b[0m\u001b[32m$27    \u001b[0m\u001b[32m \u001b[0m│\n",
       "                                    ├────────────┼─────────┼────────┼────────┼──────────┼─────────┤\n",
       "                                    │\u001b[36m \u001b[0m\u001b[36m$3,301    \u001b[0m\u001b[36m \u001b[0m│\u001b[32m \u001b[0m\u001b[32m$399   \u001b[0m\u001b[32m \u001b[0m│\u001b[36m \u001b[0m\u001b[36m1     \u001b[0m\u001b[36m \u001b[0m│\u001b[32m \u001b[0m\u001b[32m8     \u001b[0m\u001b[32m \u001b[0m│\u001b[36m \u001b[0m\u001b[36m276     \u001b[0m\u001b[36m \u001b[0m│\u001b[32m \u001b[0m\u001b[32m$49    \u001b[0m\u001b[32m \u001b[0m│\n",
       "                                    ├────────────┼─────────┼────────┼────────┼──────────┼─────────┤\n",
       "                                    │\u001b[36m \u001b[0m\u001b[36m$785      \u001b[0m\u001b[36m \u001b[0m│\u001b[32m \u001b[0m\u001b[32m$0     \u001b[0m\u001b[32m \u001b[0m│\u001b[36m \u001b[0m\u001b[36m1     \u001b[0m\u001b[36m \u001b[0m│\u001b[32m \u001b[0m\u001b[32m3     \u001b[0m\u001b[32m \u001b[0m│\u001b[36m \u001b[0m\u001b[36m1       \u001b[0m\u001b[36m \u001b[0m│\u001b[32m \u001b[0m\u001b[32m$0     \u001b[0m\u001b[32m \u001b[0m│\n",
       "                                    ├────────────┼─────────┼────────┼────────┼──────────┼─────────┤\n",
       "                                    │\u001b[36m \u001b[0m\u001b[36m$3,199    \u001b[0m\u001b[36m \u001b[0m│\u001b[32m \u001b[0m\u001b[32m$618   \u001b[0m\u001b[32m \u001b[0m│\u001b[36m \u001b[0m\u001b[36m1     \u001b[0m\u001b[36m \u001b[0m│\u001b[32m \u001b[0m\u001b[32m7     \u001b[0m\u001b[32m \u001b[0m│\u001b[36m \u001b[0m\u001b[36m256     \u001b[0m\u001b[36m \u001b[0m│\u001b[32m \u001b[0m\u001b[32m$88    \u001b[0m\u001b[32m \u001b[0m│\n",
       "                                    ├────────────┼─────────┼────────┼────────┼──────────┼─────────┤\n",
       "                                    │\u001b[36m \u001b[0m\u001b[36m$3,296    \u001b[0m\u001b[36m \u001b[0m│\u001b[32m \u001b[0m\u001b[32m$993   \u001b[0m\u001b[32m \u001b[0m│\u001b[36m \u001b[0m\u001b[36m1     \u001b[0m\u001b[36m \u001b[0m│\u001b[32m \u001b[0m\u001b[32m5     \u001b[0m\u001b[32m \u001b[0m│\u001b[36m \u001b[0m\u001b[36m24      \u001b[0m\u001b[36m \u001b[0m│\u001b[32m \u001b[0m\u001b[32m$198   \u001b[0m\u001b[32m \u001b[0m│\n",
       "                                    ├────────────┼─────────┼────────┼────────┼──────────┼─────────┤\n",
       "                                    │\u001b[36m \u001b[0m\u001b[36m$3,313    \u001b[0m\u001b[36m \u001b[0m│\u001b[32m \u001b[0m\u001b[32m$618   \u001b[0m\u001b[32m \u001b[0m│\u001b[36m \u001b[0m\u001b[36m1     \u001b[0m\u001b[36m \u001b[0m│\u001b[32m \u001b[0m\u001b[32m8     \u001b[0m\u001b[32m \u001b[0m│\u001b[36m \u001b[0m\u001b[36m145     \u001b[0m\u001b[36m \u001b[0m│\u001b[32m \u001b[0m\u001b[32m$77    \u001b[0m\u001b[32m \u001b[0m│\n",
       "                                    ├────────────┼─────────┼────────┼────────┼──────────┼─────────┤\n",
       "                                    │\u001b[36m \u001b[0m\u001b[36m$3,417    \u001b[0m\u001b[36m \u001b[0m│\u001b[32m \u001b[0m\u001b[32m$575   \u001b[0m\u001b[32m \u001b[0m│\u001b[36m \u001b[0m\u001b[36m1     \u001b[0m\u001b[36m \u001b[0m│\u001b[32m \u001b[0m\u001b[32m7     \u001b[0m\u001b[32m \u001b[0m│\u001b[36m \u001b[0m\u001b[36m283     \u001b[0m\u001b[36m \u001b[0m│\u001b[32m \u001b[0m\u001b[32m$82    \u001b[0m\u001b[32m \u001b[0m│\n",
       "                                    ├────────────┼─────────┼────────┼────────┼──────────┼─────────┤\n",
       "                                    │\u001b[36m \u001b[0m\u001b[36m$3,440    \u001b[0m\u001b[36m \u001b[0m│\u001b[32m \u001b[0m\u001b[32m$1,155 \u001b[0m\u001b[32m \u001b[0m│\u001b[36m \u001b[0m\u001b[36m1     \u001b[0m\u001b[36m \u001b[0m│\u001b[32m \u001b[0m\u001b[32m8     \u001b[0m\u001b[32m \u001b[0m│\u001b[36m \u001b[0m\u001b[36m400     \u001b[0m\u001b[36m \u001b[0m│\u001b[32m \u001b[0m\u001b[32m$144   \u001b[0m\u001b[32m \u001b[0m│\n",
       "                                    ├────────────┼─────────┼────────┼────────┼──────────┼─────────┤\n",
       "                                    │\u001b[36m \u001b[0m\u001b[36m$2,546    \u001b[0m\u001b[36m \u001b[0m│\u001b[32m \u001b[0m\u001b[32m$139   \u001b[0m\u001b[32m \u001b[0m│\u001b[36m \u001b[0m\u001b[36m1     \u001b[0m\u001b[36m \u001b[0m│\u001b[32m \u001b[0m\u001b[32m8     \u001b[0m\u001b[32m \u001b[0m│\u001b[36m \u001b[0m\u001b[36m248     \u001b[0m\u001b[36m \u001b[0m│\u001b[32m \u001b[0m\u001b[32m$17    \u001b[0m\u001b[32m \u001b[0m│\n",
       "                                    ├────────────┼─────────┼────────┼────────┼──────────┼─────────┤\n",
       "                                    │\u001b[36m \u001b[0m\u001b[36m$3,334    \u001b[0m\u001b[36m \u001b[0m│\u001b[32m \u001b[0m\u001b[32m$912   \u001b[0m\u001b[32m \u001b[0m│\u001b[36m \u001b[0m\u001b[36m1     \u001b[0m\u001b[36m \u001b[0m│\u001b[32m \u001b[0m\u001b[32m6     \u001b[0m\u001b[32m \u001b[0m│\u001b[36m \u001b[0m\u001b[36m253     \u001b[0m\u001b[36m \u001b[0m│\u001b[32m \u001b[0m\u001b[32m$152   \u001b[0m\u001b[32m \u001b[0m│\n",
       "                                    ├────────────┼─────────┼────────┼────────┼──────────┼─────────┤\n",
       "                                    │\u001b[36m \u001b[0m\u001b[36m$3,353    \u001b[0m\u001b[36m \u001b[0m│\u001b[32m \u001b[0m\u001b[32m$628   \u001b[0m\u001b[32m \u001b[0m│\u001b[36m \u001b[0m\u001b[36m1     \u001b[0m\u001b[36m \u001b[0m│\u001b[32m \u001b[0m\u001b[32m7     \u001b[0m\u001b[32m \u001b[0m│\u001b[36m \u001b[0m\u001b[36m370     \u001b[0m\u001b[36m \u001b[0m│\u001b[32m \u001b[0m\u001b[32m$89    \u001b[0m\u001b[32m \u001b[0m│\n",
       "                                    ├────────────┼─────────┼────────┼────────┼──────────┼─────────┤\n",
       "                                    │\u001b[36m \u001b[0m\u001b[36m$1,815    \u001b[0m\u001b[36m \u001b[0m│\u001b[32m \u001b[0m\u001b[32m$0     \u001b[0m\u001b[32m \u001b[0m│\u001b[36m \u001b[0m\u001b[36m1     \u001b[0m\u001b[36m \u001b[0m│\u001b[32m \u001b[0m\u001b[32m8     \u001b[0m\u001b[32m \u001b[0m│\u001b[36m \u001b[0m\u001b[36m161     \u001b[0m\u001b[36m \u001b[0m│\u001b[32m \u001b[0m\u001b[32m$0     \u001b[0m\u001b[32m \u001b[0m│\n",
       "                                    ├────────────┼─────────┼────────┼────────┼──────────┼─────────┤\n",
       "                                    │\u001b[36m \u001b[0m\u001b[36m$2,377    \u001b[0m\u001b[36m \u001b[0m│\u001b[32m \u001b[0m\u001b[32m$121   \u001b[0m\u001b[32m \u001b[0m│\u001b[36m \u001b[0m\u001b[36m1     \u001b[0m\u001b[36m \u001b[0m│\u001b[32m \u001b[0m\u001b[32m8     \u001b[0m\u001b[32m \u001b[0m│\u001b[36m \u001b[0m\u001b[36m58      \u001b[0m\u001b[36m \u001b[0m│\u001b[32m \u001b[0m\u001b[32m$15    \u001b[0m\u001b[32m \u001b[0m│\n",
       "                                    ├────────────┼─────────┼────────┼────────┼──────────┼─────────┤\n",
       "                                    │\u001b[36m \u001b[0m\u001b[36m$1,241    \u001b[0m\u001b[36m \u001b[0m│\u001b[32m \u001b[0m\u001b[32m$58    \u001b[0m\u001b[32m \u001b[0m│\u001b[36m \u001b[0m\u001b[36m1     \u001b[0m\u001b[36m \u001b[0m│\u001b[32m \u001b[0m\u001b[32m8     \u001b[0m\u001b[32m \u001b[0m│\u001b[36m \u001b[0m\u001b[36m59      \u001b[0m\u001b[36m \u001b[0m│\u001b[32m \u001b[0m\u001b[32m$7     \u001b[0m\u001b[32m \u001b[0m│\n",
       "                                    ├────────────┼─────────┼────────┼────────┼──────────┼─────────┤\n",
       "                                    │\u001b[36m \u001b[0m\u001b[36m$3,428    \u001b[0m\u001b[36m \u001b[0m│\u001b[32m \u001b[0m\u001b[32m$1,559 \u001b[0m\u001b[32m \u001b[0m│\u001b[36m \u001b[0m\u001b[36m1     \u001b[0m\u001b[36m \u001b[0m│\u001b[32m \u001b[0m\u001b[32m6     \u001b[0m\u001b[32m \u001b[0m│\u001b[36m \u001b[0m\u001b[36m196     \u001b[0m\u001b[36m \u001b[0m│\u001b[32m \u001b[0m\u001b[32m$259   \u001b[0m\u001b[32m \u001b[0m│\n",
       "                                    ├────────────┼─────────┼────────┼────────┼──────────┼─────────┤\n",
       "                                    │\u001b[36m \u001b[0m\u001b[36m$3,328    \u001b[0m\u001b[36m \u001b[0m│\u001b[32m \u001b[0m\u001b[32m$524   \u001b[0m\u001b[32m \u001b[0m│\u001b[36m \u001b[0m\u001b[36m1     \u001b[0m\u001b[36m \u001b[0m│\u001b[32m \u001b[0m\u001b[32m6     \u001b[0m\u001b[32m \u001b[0m│\u001b[36m \u001b[0m\u001b[36m126     \u001b[0m\u001b[36m \u001b[0m│\u001b[32m \u001b[0m\u001b[32m$87    \u001b[0m\u001b[32m \u001b[0m│\n",
       "                                    ├────────────┼─────────┼────────┼────────┼──────────┼─────────┤\n",
       "                                    │\u001b[36m \u001b[0m\u001b[36m$2,938    \u001b[0m\u001b[36m \u001b[0m│\u001b[32m \u001b[0m\u001b[32m$801   \u001b[0m\u001b[32m \u001b[0m│\u001b[36m \u001b[0m\u001b[36m1     \u001b[0m\u001b[36m \u001b[0m│\u001b[32m \u001b[0m\u001b[32m8     \u001b[0m\u001b[32m \u001b[0m│\u001b[36m \u001b[0m\u001b[36m420     \u001b[0m\u001b[36m \u001b[0m│\u001b[32m \u001b[0m\u001b[32m$100   \u001b[0m\u001b[32m \u001b[0m│\n",
       "                                    ├────────────┼─────────┼────────┼────────┼──────────┼─────────┤\n",
       "                                    │\u001b[36m \u001b[0m\u001b[36m$3,449    \u001b[0m\u001b[36m \u001b[0m│\u001b[32m \u001b[0m\u001b[32m$1,021 \u001b[0m\u001b[32m \u001b[0m│\u001b[36m \u001b[0m\u001b[36m1     \u001b[0m\u001b[36m \u001b[0m│\u001b[32m \u001b[0m\u001b[32m5     \u001b[0m\u001b[32m \u001b[0m│\u001b[36m \u001b[0m\u001b[36m164     \u001b[0m\u001b[36m \u001b[0m│\u001b[32m \u001b[0m\u001b[32m$204   \u001b[0m\u001b[32m \u001b[0m│\n",
       "                                    ├────────────┼─────────┼────────┼────────┼──────────┼─────────┤\n",
       "                                    │\u001b[36m \u001b[0m\u001b[36m$3,461    \u001b[0m\u001b[36m \u001b[0m│\u001b[32m \u001b[0m\u001b[32m$1,634 \u001b[0m\u001b[32m \u001b[0m│\u001b[36m \u001b[0m\u001b[36m2     \u001b[0m\u001b[36m \u001b[0m│\u001b[32m \u001b[0m\u001b[32m6     \u001b[0m\u001b[32m \u001b[0m│\u001b[36m \u001b[0m\u001b[36m231     \u001b[0m\u001b[36m \u001b[0m│\u001b[32m \u001b[0m\u001b[32m$272   \u001b[0m\u001b[32m \u001b[0m│\n",
       "                                    └────────────┴─────────┴────────┴────────┴──────────┴─────────┘\n"
      ]
     },
     "metadata": {},
     "output_type": "display_data"
    },
    {
     "data": {
      "text/html": [
       "<pre style=\"white-space:pre;overflow-x:auto;line-height:normal;font-family:Menlo,'DejaVu Sans Mono',consolas,'Courier New',monospace\"><span style=\"color: #008080; text-decoration-color: #008080; font-weight: bold\">21876</span>\n",
       "</pre>\n"
      ],
      "text/plain": [
       "\u001b[1;36m21876\u001b[0m\n"
      ]
     },
     "metadata": {},
     "output_type": "display_data"
    },
    {
     "data": {
      "text/html": [
       "<pre style=\"white-space:pre;overflow-x:auto;line-height:normal;font-family:Menlo,'DejaVu Sans Mono',consolas,'Courier New',monospace\">data: done solving\n",
       "</pre>\n"
      ],
      "text/plain": [
       "data: done solving\n"
      ]
     },
     "metadata": {},
     "output_type": "display_data"
    }
   ],
   "source": [
    "####### Click to run Solver#############################\n",
    "import random\n",
    "\n",
    "best_obj = max_distance\n",
    "\n",
    "filenames = []\n",
    "\n",
    "\n",
    "data = create_data_model(\n",
    "    dataset,\n",
    "    distance_matrix,\n",
    ")\n",
    "# print(data)\n",
    "manager = pywrapcp.RoutingIndexManager(\n",
    "    len(data[\"distance_matrix\"]), data[\"num_vehicles\"], data[\"depot\"]\n",
    ")\n",
    "\n",
    "routing_parameters = pywrapcp.DefaultRoutingModelParameters()\n",
    "# Create Routing Model.\n",
    "routing = pywrapcp.RoutingModel(manager, routing_parameters)\n",
    "\n",
    "\n",
    "routes = {}\n",
    "for index, row in dataset.iterrows():\n",
    "    if (row[\"NEW RT\"], row[\"NEW DAY\"]) not in routes:\n",
    "        routes[(row[\"NEW RT\"], row[\"NEW DAY\"])] = []\n",
    "    routes[(row[\"NEW RT\"], row[\"NEW DAY\"])].append(index)  # Store the row index\n",
    "\n",
    "\n",
    "# manager = pywrapcp.RoutingIndexManager(len(data[\"distance_matrix\"]), data[\"num_vehicles\"], data[\"starts\"], data[\"ends\"])\n",
    "\n",
    "\n",
    "def create_distance_callback(data, manager, vehicle):\n",
    "    _distances = data[\"distance_matrix\"]\n",
    "    # _starts = data[\"starts\"]\n",
    "    # _ends = data[\"ends\"]\n",
    "    # Capture current value of vehicle\n",
    "\n",
    "    def distance_callback(from_index, to_index, _vehicle=vehicle):\n",
    "        # Convert from routing variable Index to distance matrix NodeIndex.\n",
    "        from_node = manager.IndexToNode(from_index)\n",
    "        to_node = manager.IndexToNode(to_index)\n",
    "        # depot_index = manager.GetDepot()\n",
    "        # depot_node = manager.IndexToNode(depot_index)\n",
    "        # start_node = _starts[_vehicle]\n",
    "        # end_node = _ends[_vehicle]\n",
    "        # _home_cost = _distances[start_node][to_node]\n",
    "        # _end_cost = _distances[to_node][end_node]\n",
    "        to_cost = _distances[from_node][to_node]\n",
    "        # from_depot_cost = _distances[0][from_node]\n",
    "        # to_depot_cost = _distances[0][to_node]\n",
    "        # if (to_node == 242 or to_node == 201 or to_node == 194) and vehicle != 1:\n",
    "        #     to_cost += 4100\n",
    "        # if (from_node == 242 or from_node == 201 or to_node == 194) and vehicle != 1:\n",
    "        #     to_cost += 4100\n",
    "        # off_track_factor = ((_home_cost + _end_cost)/8) ** 2\n",
    "        # _arc_cost = int((to_cost * off_track_factor) / 10000)\n",
    "        # check to see if to or from index is for the depot\n",
    "        # if routing.GetDepot() == from_node or routing.GetDepot() == to_node:\n",
    "        # return 0\n",
    "        # if from_node == manager.GetDepot() or to_node == manager.GetDepot():\n",
    "        #     return 0\n",
    "        # if to_cost > 20:\n",
    "        #     to_cost = int((to_cost /15) ** 2)\n",
    "        # else:\n",
    "        #     to_cost //= 2\n",
    "        # if routing.VehicleRouteConsideredVar(_vehicle) != 1:\n",
    "        # # if routing.ActiveVehicleVar(_vehicle) == 1:\n",
    "        #     to_cost += 350\n",
    "        #     # print(_vehicle)\n",
    "        # if routing.GetDepot() == from_index:\n",
    "        #     to_cost = 1#\n",
    "        # else:\n",
    "        #     to_cost += 350\n",
    "\n",
    "        # if routing.GetDepot() == to_index:\n",
    "        #     # print(from_index)\n",
    "        #     to_cost += 1# random.randint(1, 2)\n",
    "        # # low_penalty = get_num_stops(routing, solution, vehicle)\n",
    "        #     # print(f\"from_node: {from_node} to_node: {to_node} to_index: {to_index} depot: {routing.GetDepot()}\")\n",
    "        # arc_cost =int(((to_cost**2)/100) - ((to_depot_cost + from_depot_cost )/9))\n",
    "        # arc_cost = to_cost\n",
    "        # if to_depot_cost > from_depot_cost:\n",
    "        #     arc_cost = int(arc_cost + 11)\n",
    "\n",
    "        return to_cost\n",
    "\n",
    "    return distance_callback\n",
    "\n",
    "\n",
    "rSolve = routing.solver()\n",
    "\n",
    "for vehicle_id in range(data[\"num_vehicles\"]):\n",
    "    distance_callback = create_distance_callback(data, manager, vehicle_id)\n",
    "    distance_callback_index = routing.RegisterTransitCallback(distance_callback)\n",
    "    routing.SetArcCostEvaluatorOfVehicle(distance_callback_index, vehicle_id)\n",
    "\n",
    "\n",
    "def demand_callback(from_index):\n",
    "    return data[\"demands\"][manager.IndexToNode(from_index)]\n",
    "\n",
    "\n",
    "def demand_callback2(from_index):\n",
    "    return data[\"demands2\"][manager.IndexToNode(from_index)]\n",
    "\n",
    "\n",
    "def demand_callback3(from_index):\n",
    "    return data[\"demands3\"][manager.IndexToNode(from_index)]\n",
    "\n",
    "\n",
    "# Create and register 3 transit callbacks. 1=companion 2=big 5 and 3=1 to count a single stop\n",
    "demand_callback_index = routing.RegisterUnaryTransitCallback(demand_callback)\n",
    "demand_callback_index2 = routing.RegisterUnaryTransitCallback(demand_callback2)\n",
    "demand_callback_index3 = routing.RegisterUnaryTransitCallback(demand_callback3)\n",
    "\n",
    "routing.AddDimension(distance_callback_index, 150, max_distance, True, \"Distance\")\n",
    "routing.AddDimensionWithVehicleCapacity(\n",
    "    demand_callback_index, 100, data[\"vehicle_capacities\"], True, \"Capacity\"\n",
    ")\n",
    "routing.AddDimensionWithVehicleCapacity(\n",
    "    demand_callback_index2, 2000, data[\"vehicle_capacities2\"], True, \"Capacity2\"\n",
    ")\n",
    "routing.AddDimensionWithVehicleCapacity(\n",
    "    demand_callback_index3, 2, data[\"vehicle_capacities3\"], True, \"Capacity3\"\n",
    ")\n",
    "# for vehicle_id in range(data[\"num_vehicles\"]):\n",
    "#     routing.SetVehicleUsedWhenEmpty(True, vehicle_id)\n",
    "##################################################################\n",
    "search_parameters = pywrapcp.DefaultRoutingSearchParameters()\n",
    "\n",
    "search_parameters.first_solution_strategy = (\n",
    "    routing_enums_pb2.FirstSolutionStrategy.LOCAL_CHEAPEST_COST_INSERTION\n",
    ")\n",
    "solve_minutes = 1\n",
    "\n",
    "m = []\n",
    "search_parameters.local_search_metaheuristic = (\n",
    "    routing_enums_pb2.LocalSearchMetaheuristic.GUIDED_LOCAL_SEARCH\n",
    ")\n",
    "\n",
    "search_parameters.local_search_operators.use_cross = pywrapcp.BOOL_TRUE\n",
    "search_parameters.local_search_operators.use_relocate = pywrapcp.BOOL_TRUE\n",
    "search_parameters.local_search_operators.use_exchange = pywrapcp.BOOL_TRUE\n",
    "search_parameters.local_search_operators.use_cross_exchange = pywrapcp.BOOL_TRUE\n",
    "search_parameters.local_search_operators.use_tsp_opt = pywrapcp.BOOL_TRUE\n",
    "search_parameters.local_search_operators.use_or_opt = pywrapcp.BOOL_TRUE\n",
    "search_parameters.local_search_operators.use_lin_kernighan = pywrapcp.BOOL_TRUE\n",
    "search_parameters.local_search_operators.use_two_opt = pywrapcp.BOOL_TRUE\n",
    "search_parameters.local_search_operators.use_relocate_neighbors = pywrapcp.BOOL_TRUE\n",
    "\n",
    "search_parameters.local_search_operators.use_exchange_subtrip = pywrapcp.BOOL_TRUE\n",
    "search_parameters.local_search_operators.use_exchange_pair = pywrapcp.BOOL_TRUE\n",
    "search_parameters.local_search_operators.use_make_inactive = pywrapcp.BOOL_TRUE\n",
    "search_parameters.local_search_operators.use_light_relocate_pair = pywrapcp.BOOL_TRUE\n",
    "search_parameters.local_search_operators.use_relocate_subtrip = pywrapcp.BOOL_TRUE\n",
    "search_parameters.local_search_operators.use_relocate_and_make_active = pywrapcp.BOOL_TRUE\n",
    "search_parameters.local_search_operators.use_extended_swap_active = pywrapcp.BOOL_TRUE\n",
    "search_parameters.local_search_operators.use_node_pair_swap_active = pywrapcp.BOOL_TRUE\n",
    "search_parameters.local_search_operators.use_swap_active = pywrapcp.BOOL_TRUE\n",
    "search_parameters.local_search_operators.use_make_chain_inactive = pywrapcp.BOOL_TRUE\n",
    "\n",
    "search_parameters.local_search_operators.use_relocate_expensive_chain = pywrapcp.BOOL_TRUE\n",
    "search_parameters.local_search_operators.use_full_path_lns = pywrapcp.BOOL_TRUE\n",
    "search_parameters.local_search_operators.use_inactive_lns = pywrapcp.BOOL_TRUE\n",
    "search_parameters.local_search_operators.use_tsp_lns = pywrapcp.BOOL_TRUE\n",
    "search_parameters.local_search_operators.use_path_lns = pywrapcp.BOOL_TRUE\n",
    "search_parameters.local_search_operators.use_full_path_lns = pywrapcp.BOOL_TRUE\n",
    "search_parameters.local_search_operators.use_global_cheapest_insertion_close_nodes_lns = pywrapcp.BOOL_TRUE\n",
    "search_parameters.local_search_operators.use_local_cheapest_insertion_close_nodes_lns = pywrapcp.BOOL_TRUE\n",
    "search_parameters.local_search_operators.use_global_cheapest_insertion_expensive_chain_lns = pywrapcp.BOOL_TRUE\n",
    "search_parameters.local_search_operators.use_local_cheapest_insertion_expensive_chain_lns = pywrapcp.BOOL_TRUE\n",
    "search_parameters.local_search_operators.use_global_cheapest_insertion_path_lns = pywrapcp.BOOL_TRUE\n",
    "search_parameters.local_search_operators.use_local_cheapest_insertion_path_lns = pywrapcp.BOOL_TRUE\n",
    "search_parameters.use_multi_armed_bandit_concatenate_operators = pywrapcp.BOOL_TRUE\n",
    "search_parameters.multi_armed_bandit_compound_operator_memory_coefficient = memory_coefficient\n",
    "search_parameters.multi_armed_bandit_compound_operator_exploration_coefficient = explore_prime\n",
    "search_parameters.relocate_expensive_chain_num_arcs_to_consider = relocate_expensive_arcs\n",
    "search_parameters.heuristic_expensive_chain_lns_num_arcs_to_consider = heuristic_expensive_arcs\n",
    "search_parameters.heuristic_close_nodes_lns_num_nodes = heuristic_close_nodes\n",
    "\n",
    "search_parameters.time_limit.seconds = int(\n",
    "    solve_minutes * seconds_for_prime\n",
    ")  # compute_time.value\n",
    "search_parameters.solution_limit = solution_limit\n",
    "search_parameters.lns_time_limit.seconds = 19\n",
    "# search_parameters.secondary_ls_time_limit_ratio = 0.05\n",
    "search_parameters.log_search = True\n",
    "search_parameters.use_full_propagation = False\n",
    "\n",
    "\n",
    "def get_stop_id_from_index(index):\n",
    "    return dataset.loc[index, \"Stop ID\"]\n",
    "\n",
    "\n",
    "high_penalty = 50\n",
    "\n",
    "for route in routes.values():  # Assuming routes contains lists of indices\n",
    "    route_indices = route  # Ensure route is a list of integer indices\n",
    "    routing.AddSoftSameVehicleConstraint(route_indices, high_penalty)\n",
    "\n",
    "search_parameters.use_cp_sat = pywrapcp.BOOL_FALSE\n",
    "search_parameters.use_generalized_cp_sat = pywrapcp.BOOL_FALSE\n",
    "search_parameters.guided_local_search_lambda_coefficient = 0.9\n",
    "\n",
    "# search_parameters.fallback_to_cp_sat_size_threshold = 90\n",
    "search_parameters.cheapest_insertion_first_solution_min_neighbors = 39\n",
    "search_parameters.cheapest_insertion_first_solution_neighbors_ratio = 0.9\n",
    "search_parameters.sat_parameters.num_search_workers = 12\n",
    "search_parameters.sat_parameters.linearization_level = 11\n",
    "print(\"data: starting to solve\")\n",
    "\n",
    "\n",
    "class SolutionCallback:\n",
    "    \"\"\"Create a solution callback.\"\"\"\n",
    "\n",
    "    def __init__(\n",
    "        self,\n",
    "        manager: pywrapcp.RoutingIndexManager,\n",
    "        model: pywrapcp.RoutingModel,\n",
    "        limit: int,\n",
    "    ):\n",
    "        # We need a weak ref on the routing model to avoid a cycle.\n",
    "        self._routing_manager_ref = weakref.ref(manager)\n",
    "        self._routing_model_ref = weakref.ref(model)\n",
    "        self._counter = 0\n",
    "        self._counter_limit = limit\n",
    "        self.objectives = []\n",
    "        self.progress = 0\n",
    "        self.accepted_neighbors = 0\n",
    "\n",
    "    def __call__(self):\n",
    "        # print(f\"ok: {self._routing_model_ref.solver().SearchTrace('abc')}\")\n",
    "        accepted_neighbors = self._routing_model_ref().solver().AcceptedNeighbors()\n",
    "        progress = int(self._routing_model_ref().solver().TopProgressPercent())\n",
    "        objective = int(self._routing_model_ref().CostVar().Value())\n",
    "        branches = self._routing_model_ref().solver().Branches()\n",
    "        model_stamp = self._routing_model_ref().solver().Stamp()\n",
    "        wall_time = self._routing_model_ref().solver().WallTime()\n",
    "        self._routing_model_ref()\n",
    "        if not self.objectives or objective < self.objectives[-1]:\n",
    "            self.objectives.append(objective)\n",
    "            # print_solution(self._routing_manager_ref(), self._routing_model_ref())\n",
    "            self._counter += 1\n",
    "            if self._counter % 5 == 0:\n",
    "                print(\n",
    "                    f\"Solution #{self._counter}  found as: {objective} Progress: {progress}%  Branches: {branches} Accepted Neighbors: {accepted_neighbors} Model Stamp {model_stamp} Wall Time: {wall_time}\"\n",
    "                )\n",
    "\n",
    "# Assuming 'data', 'manager', 'routing', and 'search_parameters' are already defined:\n",
    "solution_callback = SolutionCallback(manager, routing, 19400)\n",
    "routing.AddAtSolutionCallback(solution_callback, True)\n",
    "search_parameters.local_search_operators.use_relocate_neighbors = pywrapcp.BOOL_TRUE\n",
    "# search_parameters.local_search_operators.use_relocate_neighbors = pywrapcp.BOOL_TRUE\n",
    "\n",
    "# Define a large penalty for empty routes\n",
    "\n",
    "\n",
    "solution = routing.SolveWithParameters(search_parameters)\n",
    "\n",
    "\n",
    "solution_limit += 20\n",
    "print(\n",
    "    f\"Objective: {solution.ObjectiveValue()} Reloc Exp Arcs: {relocate_expensive_arcs} Heur Exp Arcs: {heuristic_expensive_arcs} Heur Close Nodes: {heuristic_close_nodes} Prime Time: {seconds_for_prime} Explore Prime: {explore_prime}\"\n",
    ")\n",
    "if best_obj > solution.ObjectiveValue():\n",
    "    best_obj = solution.ObjectiveValue()\n",
    "    # add a row to the best settings dataframe using concat\n",
    "# best_settings = pd.concat([best_settings, pd.DataFrame({\"Objective Value\": [solution.ObjectiveValue()], \"Relocate Expensive Arcs\": [relocate_expensive_arcs], \"Heuristic Expensive Arcs\": [heuristic_expensive_arcs], \"Heuristic Close Nodes\": [heuristic_close_nodes], \"Seconds for Prime\": [seconds_for_prime], \"Explore Prime\": [explore_prime]})])\n",
    "print(\n",
    "    f\"Objective: {solution.ObjectiveValue()} Reloc Exp Arcs: {relocate_expensive_arcs} Heur Exp Arcs: {heuristic_expensive_arcs} Heur Close Nodes: {heuristic_close_nodes} Prime Time: {seconds_for_prime} Explore Prime: {explore_prime}\"\n",
    ")\n",
    "# solution = rSolve.Solve(search_parameters)\n",
    "# trash = print_solution(data, manager, routing, solution, dataset)\n",
    "search_parameters.local_search_operators.use_relocate_neighbors = pywrapcp.BOOL_TRUE\n",
    "\n",
    "filename = \"./data/best_tracker85.csv\"\n",
    "# assign new route days and stops\n",
    "dataset = assign_new_rts(data, manager, routing, solution, dataset)\n",
    "average_new_dist = (\n",
    "    dataset.groupby([\"NEW RT\", \"NEW DAY\", \"NEW STOP\"])[\"NEW DIST\"].sum().quantile(0.95)\n",
    ")\n",
    "# split the routes into days\n",
    "dataset = set_days_for_routes(\n",
    "    dataset,\n",
    "    min_stops=1,\n",
    "    max_stops=10,\n",
    "    distance_threshold=999,  # average_new_dist,\n",
    "    day_factor=12,\n",
    ")\n",
    "_ = combined_tracker_and_statistics(\n",
    "    solution, filename, dataset, data, manager, routing, search_parameters\n",
    ")\n",
    "m.append(create_map_with_accessible_tooltips(dataset))\n",
    "# write solution to csv\n",
    "# create_excel_by_routes(dataset)\n",
    "# routes_by_days_to_html(dataset)\n",
    "print(solution.ObjectiveValue())\n",
    "dataset.to_csv(\"final_dataset.csv\", index=False)\n",
    "# dispay the image final frame png file\n",
    "fname = create_final_route_frame(dataset)  # Display the final frame\n",
    "filenames.append(fname)\n",
    "# final_fig_OG = (create_final_route_frame(dataset_OG)) # Display the original frame\n",
    "print(\"data: done solving\")\n",
    "# append best settings to an existing csv file\n",
    "# best_settings.to_csv(\"best_settings_for_loop.csv\", mode=\"a\", header=False, index=False)\n",
    "# create_map_with_accessible_tooltips(dataset)\n"
   ]
  },
  {
   "cell_type": "code",
   "execution_count": null,
   "metadata": {},
   "outputs": [],
   "source": [
    "print(generate_route_statistics(dataset))\n"
   ]
  },
  {
   "cell_type": "code",
   "execution_count": null,
   "metadata": {},
   "outputs": [],
   "source": [
    "create_map_with_accessible_tooltips(dataset)\n"
   ]
  },
  {
   "cell_type": "code",
   "execution_count": null,
   "metadata": {},
   "outputs": [],
   "source": [
    "# _ = combined_tracker_and_statistics(solution, filename, dataset, data, manager, routing, search_parameters)\n",
    "# m = create_map_with_accessible_tooltips(dataset)\n",
    "# display(m)\n",
    "# routes_by_days_to_html(dataset)\n",
    "generate_route_statistics(dataset)\n"
   ]
  },
  {
   "cell_type": "code",
   "execution_count": null,
   "metadata": {},
   "outputs": [],
   "source": [
    "dataset = assign_new_rts(data, manager, routing, solution, dataset)\n",
    "_\n"
   ]
  },
  {
   "cell_type": "code",
   "execution_count": null,
   "metadata": {},
   "outputs": [],
   "source": [
    "dataset = set_days_for_routes(\n",
    "    dataset,\n",
    "    min_stops=1,\n",
    "    max_stops=10,\n",
    "    distance_threshold=999,  # average_new_dist,\n",
    "    day_factor=12,\n",
    ")\n",
    "# Ensure both datasets have a common identifier, set it as index if not already\n",
    "# dataset.set_index('CUST', inplace=True)\n",
    "# sample_route_data.set_index('CUST', inplace=True)\n",
    "\n",
    "# # Update the dataset with the sample data; this updates rows in 'dataset' with those in 'sample_route_data'\n",
    "# # based on the common index ('CUST' here)\n",
    "# dataset.update(sample_route_data)\n",
    "\n",
    "# # Reset index if necessary, to move 'CUST' back to a column\n",
    "# dataset.reset_index(inplace=True)\n",
    "\n",
    "_ = combined_tracker_and_statistics(\n",
    "    solution, filename, dataset, data, manager, routing, search_parameters)\n",
    "m = create_map_with_accessible_tooltips(dataset)\n",
    "# display(m)\n",
    "routes_by_days_to_html(dataset)\n"
   ]
  },
  {
   "cell_type": "code",
   "execution_count": null,
   "metadata": {
    "notebookRunGroups": {
     "groupValue": "2"
    }
   },
   "outputs": [],
   "source": [
    "seconds_per_iter = 19\n",
    "console = Console()\n",
    "explore_coefficient = 100_000_000_000\n",
    "memory_coefficient = 0.7\n",
    "solve_minutes = 1\n",
    "starting_explore_factor = 1.3\n",
    "loops = 100\n",
    "solution_limit = 2\n",
    "fps = 20\n",
    "# create variable rand_bool that is a random boolean\n"
   ]
  },
  {
   "cell_type": "code",
   "execution_count": 7,
   "metadata": {
    "notebookRunGroups": {
     "groupValue": "2"
    }
   },
   "outputs": [
    {
     "data": {
      "text/html": [
       "<pre style=\"white-space:pre;overflow-x:auto;line-height:normal;font-family:Menlo,'DejaVu Sans Mono',consolas,'Courier New',monospace\">Starting iteration <span style=\"color: #008080; text-decoration-color: #008080; font-weight: bold\">1</span> at <span style=\"color: #00ff00; text-decoration-color: #00ff00; font-weight: bold\">06:59:11</span> PM<span style=\"color: #808000; text-decoration-color: #808000\">...</span> Elapsed time: <span style=\"color: #00ff00; text-decoration-color: #00ff00; font-weight: bold\">0:00:00</span>.<span style=\"color: #008080; text-decoration-color: #008080; font-weight: bold\">000459</span>  Explore: <span style=\"color: #008080; text-decoration-color: #008080; font-weight: bold\">100000000000</span>  Objective: <span style=\"color: #008080; text-decoration-color: #008080; font-weight: bold\">21876</span>\n",
       "</pre>\n"
      ],
      "text/plain": [
       "Starting iteration \u001b[1;36m1\u001b[0m at \u001b[1;92m06:59:11\u001b[0m PM\u001b[33m...\u001b[0m Elapsed time: \u001b[1;92m0:00:00\u001b[0m.\u001b[1;36m000459\u001b[0m  Explore: \u001b[1;36m100000000000\u001b[0m  Objective: \u001b[1;36m21876\u001b[0m\n"
      ]
     },
     "metadata": {},
     "output_type": "display_data"
    },
    {
     "name": "stderr",
     "output_type": "stream",
     "text": [
      "I0000 00:00:1711738751.955757 1100508 search.cc:282] Start search (memory used = 434.16 MB)\n",
      "I0000 00:00:1711738751.960731 1100508 search.cc:282] Root node processed (time = 4 ms, constraints = 4799, memory used = 434.16 MB)\n",
      "I0000 00:00:1711738751.974320 1100508 search.cc:282] Solution #53 (21876, maximum = 24078, time = 18 ms, branches = 327, failures = 9245, depth = 33, Relocate<1>, neighbors = 98273, filtered neighbors = 9159, accepted neighbors = 52, memory used = 434.31 MB, limit = 50%)\n",
      "I0000 00:00:1711738752.108201 1100508 search.cc:282] Solution #54 (21874, maximum = 24078, time = 152 ms, branches = 331, failures = 9301, depth = 33, Relocate<1>, neighbors = 98919, filtered neighbors = 9214, accepted neighbors = 53, memory used = 434.35 MB, limit = 100%)\n",
      "I0000 00:00:1711738752.108495 1100508 search.cc:282] Finished search tree (time = 152 ms, branches = 331, failures = 9334, neighbors = 98919, filtered neighbors = 9214, accepted neigbors = 53, memory used = 434.35 MB)\n",
      "I0000 00:00:1711738752.109744 1100508 search.cc:282] End search (time = 153 ms, branches = 331, failures = 9334, memory used = 434.35 MB, speed = 2163 branches/s)\n"
     ]
    },
    {
     "data": {
      "text/html": [
       "<pre style=\"white-space:pre;overflow-x:auto;line-height:normal;font-family:Menlo,'DejaVu Sans Mono',consolas,'Courier New',monospace\">Starting iteration <span style=\"color: #008080; text-decoration-color: #008080; font-weight: bold\">2</span> at <span style=\"color: #00ff00; text-decoration-color: #00ff00; font-weight: bold\">06:59:12</span> PM<span style=\"color: #808000; text-decoration-color: #808000\">...</span> Elapsed time: <span style=\"color: #00ff00; text-decoration-color: #00ff00; font-weight: bold\">0:00:00</span>.<span style=\"color: #008080; text-decoration-color: #008080; font-weight: bold\">547507</span>  Explore: <span style=\"color: #008080; text-decoration-color: #008080; font-weight: bold\">0</span>  Objective: <span style=\"color: #008080; text-decoration-color: #008080; font-weight: bold\">21874</span>\n",
       "</pre>\n"
      ],
      "text/plain": [
       "Starting iteration \u001b[1;36m2\u001b[0m at \u001b[1;92m06:59:12\u001b[0m PM\u001b[33m...\u001b[0m Elapsed time: \u001b[1;92m0:00:00\u001b[0m.\u001b[1;36m547507\u001b[0m  Explore: \u001b[1;36m0\u001b[0m  Objective: \u001b[1;36m21874\u001b[0m\n"
      ]
     },
     "metadata": {},
     "output_type": "display_data"
    },
    {
     "name": "stderr",
     "output_type": "stream",
     "text": [
      "I0000 00:00:1711738752.501445 1100508 search.cc:282] Start search (memory used = 435.49 MB)\n",
      "I0000 00:00:1711738752.506053 1100508 search.cc:282] Root node processed (time = 4 ms, constraints = 4799, memory used = 435.49 MB)\n",
      "I0000 00:00:1711738752.519249 1100508 search.cc:282] Solution #55 (21874, maximum = 24078, time = 17 ms, branches = 364, failures = 9334, depth = 33, Relocate<1>, neighbors = 98919, filtered neighbors = 9214, accepted neighbors = 53, memory used = 435.49 MB, limit = 33%)\n"
     ]
    },
    {
     "data": {
      "text/html": [
       "<pre style=\"white-space:pre;overflow-x:auto;line-height:normal;font-family:Menlo,'DejaVu Sans Mono',consolas,'Courier New',monospace\">Solution #<span style=\"color: #008080; text-decoration-color: #008080; font-weight: bold\">55</span>  found as: <span style=\"color: #008080; text-decoration-color: #008080; font-weight: bold\">21805</span> Progress: <span style=\"color: #008080; text-decoration-color: #008080; font-weight: bold\">66</span>%  Branches: <span style=\"color: #008080; text-decoration-color: #008080; font-weight: bold\">368</span> Accepted Neighbors: <span style=\"color: #008080; text-decoration-color: #008080; font-weight: bold\">54</span> Model Stamp <span style=\"color: #008080; text-decoration-color: #008080; font-weight: bold\">64953</span> Wall Time: \n",
       "<span style=\"color: #008080; text-decoration-color: #008080; font-weight: bold\">27056</span>\n",
       "</pre>\n"
      ],
      "text/plain": [
       "Solution #\u001b[1;36m55\u001b[0m  found as: \u001b[1;36m21805\u001b[0m Progress: \u001b[1;36m66\u001b[0m%  Branches: \u001b[1;36m368\u001b[0m Accepted Neighbors: \u001b[1;36m54\u001b[0m Model Stamp \u001b[1;36m64953\u001b[0m Wall Time: \n",
       "\u001b[1;36m27056\u001b[0m\n"
      ]
     },
     "metadata": {},
     "output_type": "display_data"
    },
    {
     "name": "stderr",
     "output_type": "stream",
     "text": [
      "I0000 00:00:1711738754.691340 1100508 search.cc:282] Solution #56 (21805, maximum = 24078, time = 2189 ms, branches = 368, failures = 10267, depth = 33, Relocate<1>, neighbors = 106078, filtered neighbors = 10146, accepted neighbors = 54, memory used = 435.49 MB, limit = 66%)\n",
      "I0000 00:00:1711738755.557856 1100508 search.cc:282] Solution #57 (21798, maximum = 24078, time = 3056 ms, branches = 373, failures = 10634, depth = 33, Relocate<1>, neighbors = 110120, filtered neighbors = 10512, accepted neighbors = 55, memory used = 435.49 MB, limit = 100%)\n",
      "I0000 00:00:1711738755.558383 1100508 search.cc:282] Finished search tree (time = 3056 ms, branches = 373, failures = 10667, neighbors = 110120, filtered neighbors = 10512, accepted neigbors = 55, memory used = 435.49 MB)\n",
      "I0000 00:00:1711738755.562160 1100508 search.cc:282] End search (time = 3060 ms, branches = 373, failures = 10667, memory used = 435.49 MB, speed = 121 branches/s)\n"
     ]
    },
    {
     "data": {
      "text/html": [
       "<pre style=\"white-space:pre;overflow-x:auto;line-height:normal;font-family:Menlo,'DejaVu Sans Mono',consolas,'Courier New',monospace\">Starting iteration <span style=\"color: #008080; text-decoration-color: #008080; font-weight: bold\">3</span> at <span style=\"color: #00ff00; text-decoration-color: #00ff00; font-weight: bold\">06:59:15</span> PM<span style=\"color: #808000; text-decoration-color: #808000\">...</span> Elapsed time: <span style=\"color: #00ff00; text-decoration-color: #00ff00; font-weight: bold\">0:00:04</span>.<span style=\"color: #008080; text-decoration-color: #008080; font-weight: bold\">022266</span>  Explore: <span style=\"color: #008080; text-decoration-color: #008080; font-weight: bold\">100000000000</span>  Objective: <span style=\"color: #008080; text-decoration-color: #008080; font-weight: bold\">21798</span>\n",
       "</pre>\n"
      ],
      "text/plain": [
       "Starting iteration \u001b[1;36m3\u001b[0m at \u001b[1;92m06:59:15\u001b[0m PM\u001b[33m...\u001b[0m Elapsed time: \u001b[1;92m0:00:04\u001b[0m.\u001b[1;36m022266\u001b[0m  Explore: \u001b[1;36m100000000000\u001b[0m  Objective: \u001b[1;36m21798\u001b[0m\n"
      ]
     },
     "metadata": {},
     "output_type": "display_data"
    },
    {
     "name": "stderr",
     "output_type": "stream",
     "text": [
      "I0000 00:00:1711738755.979816 1100508 search.cc:282] Start search (memory used = 436.44 MB)\n",
      "I0000 00:00:1711738755.984959 1100508 search.cc:282] Root node processed (time = 5 ms, constraints = 4799, memory used = 436.44 MB)\n",
      "I0000 00:00:1711738756.000828 1100508 search.cc:282] Solution #58 (21798, maximum = 24078, time = 20 ms, branches = 406, failures = 10667, depth = 33, Relocate<1>, neighbors = 110120, filtered neighbors = 10512, accepted neighbors = 55, memory used = 436.44 MB, limit = 33%)\n",
      "I0000 00:00:1711738756.483122 1100508 search.cc:282] Solution #59 (21795, maximum = 24078, time = 503 ms, branches = 410, failures = 10869, depth = 33, Relocate<1>, neighbors = 111860, filtered neighbors = 10713, accepted neighbors = 56, memory used = 436.44 MB, limit = 66%)\n",
      "I0000 00:00:1711738756.633619 1100508 search.cc:282] Solution #60 (21769, maximum = 24078, time = 653 ms, branches = 415, failures = 10933, depth = 33, Relocate<1>, neighbors = 112041, filtered neighbors = 10776, accepted neighbors = 57, memory used = 436.44 MB, limit = 100%)\n",
      "I0000 00:00:1711738756.633952 1100508 search.cc:282] Finished search tree (time = 654 ms, branches = 415, failures = 10966, neighbors = 112041, filtered neighbors = 10776, accepted neigbors = 57, memory used = 436.44 MB)\n",
      "I0000 00:00:1711738756.635492 1100508 search.cc:282] End search (time = 655 ms, branches = 415, failures = 10966, memory used = 436.44 MB, speed = 633 branches/s)\n"
     ]
    },
    {
     "data": {
      "text/html": [
       "<pre style=\"white-space:pre;overflow-x:auto;line-height:normal;font-family:Menlo,'DejaVu Sans Mono',consolas,'Courier New',monospace\">Starting iteration <span style=\"color: #008080; text-decoration-color: #008080; font-weight: bold\">4</span> at <span style=\"color: #00ff00; text-decoration-color: #00ff00; font-weight: bold\">06:59:17</span> PM<span style=\"color: #808000; text-decoration-color: #808000\">...</span> Elapsed time: <span style=\"color: #00ff00; text-decoration-color: #00ff00; font-weight: bold\">0:00:05</span>.<span style=\"color: #008080; text-decoration-color: #008080; font-weight: bold\">069491</span>  Explore: <span style=\"color: #008080; text-decoration-color: #008080; font-weight: bold\">100000000000</span>  Objective: <span style=\"color: #008080; text-decoration-color: #008080; font-weight: bold\">21769</span>\n",
       "</pre>\n"
      ],
      "text/plain": [
       "Starting iteration \u001b[1;36m4\u001b[0m at \u001b[1;92m06:59:17\u001b[0m PM\u001b[33m...\u001b[0m Elapsed time: \u001b[1;92m0:00:05\u001b[0m.\u001b[1;36m069491\u001b[0m  Explore: \u001b[1;36m100000000000\u001b[0m  Objective: \u001b[1;36m21769\u001b[0m\n"
      ]
     },
     "metadata": {},
     "output_type": "display_data"
    },
    {
     "name": "stderr",
     "output_type": "stream",
     "text": [
      "I0000 00:00:1711738757.023837 1100508 search.cc:282] Start search (memory used = 437.39 MB)\n",
      "I0000 00:00:1711738757.028434 1100508 search.cc:282] Root node processed (time = 4 ms, constraints = 4799, memory used = 437.39 MB)\n",
      "I0000 00:00:1711738757.041465 1100508 search.cc:282] Solution #61 (21769, maximum = 24078, time = 17 ms, branches = 448, failures = 10966, depth = 33, Relocate<1>, neighbors = 112041, filtered neighbors = 10776, accepted neighbors = 57, memory used = 437.39 MB, limit = 33%)\n",
      "I0000 00:00:1711738760.270794 1100508 search.cc:282] Solution #62 (21766, maximum = 24078, time = 3246 ms, branches = 452, failures = 12365, depth = 33, Relocate<1>, neighbors = 120712, filtered neighbors = 12174, accepted neighbors = 58, memory used = 437.39 MB, limit = 66%)\n"
     ]
    },
    {
     "data": {
      "text/html": [
       "<pre style=\"white-space:pre;overflow-x:auto;line-height:normal;font-family:Menlo,'DejaVu Sans Mono',consolas,'Courier New',monospace\">Solution #<span style=\"color: #008080; text-decoration-color: #008080; font-weight: bold\">60</span>  found as: <span style=\"color: #008080; text-decoration-color: #008080; font-weight: bold\">21736</span> Progress: <span style=\"color: #008080; text-decoration-color: #008080; font-weight: bold\">100</span>%  Branches: <span style=\"color: #008080; text-decoration-color: #008080; font-weight: bold\">457</span> Accepted Neighbors: <span style=\"color: #008080; text-decoration-color: #008080; font-weight: bold\">59</span> Model Stamp <span style=\"color: #008080; text-decoration-color: #008080; font-weight: bold\">93124</span> Wall Time: \n",
       "<span style=\"color: #008080; text-decoration-color: #008080; font-weight: bold\">34624</span>\n",
       "</pre>\n"
      ],
      "text/plain": [
       "Solution #\u001b[1;36m60\u001b[0m  found as: \u001b[1;36m21736\u001b[0m Progress: \u001b[1;36m100\u001b[0m%  Branches: \u001b[1;36m457\u001b[0m Accepted Neighbors: \u001b[1;36m59\u001b[0m Model Stamp \u001b[1;36m93124\u001b[0m Wall Time: \n",
       "\u001b[1;36m34624\u001b[0m\n"
      ]
     },
     "metadata": {},
     "output_type": "display_data"
    },
    {
     "name": "stderr",
     "output_type": "stream",
     "text": [
      "I0000 00:00:1711738762.259145 1100508 search.cc:282] Solution #63 (21736, maximum = 24078, time = 5235 ms, branches = 457, failures = 13218, depth = 33, Relocate<1>, neighbors = 128666, filtered neighbors = 13026, accepted neighbors = 59, memory used = 437.39 MB, limit = 100%)\n",
      "I0000 00:00:1711738762.259461 1100508 search.cc:282] Finished search tree (time = 5235 ms, branches = 457, failures = 13251, neighbors = 128666, filtered neighbors = 13026, accepted neigbors = 59, memory used = 437.39 MB)\n",
      "I0000 00:00:1711738762.262072 1100508 search.cc:282] End search (time = 5238 ms, branches = 457, failures = 13251, memory used = 437.39 MB, speed = 87 branches/s)\n"
     ]
    },
    {
     "data": {
      "text/html": [
       "<pre style=\"white-space:pre;overflow-x:auto;line-height:normal;font-family:Menlo,'DejaVu Sans Mono',consolas,'Courier New',monospace\">Starting iteration <span style=\"color: #008080; text-decoration-color: #008080; font-weight: bold\">5</span> at <span style=\"color: #00ff00; text-decoration-color: #00ff00; font-weight: bold\">06:59:22</span> PM<span style=\"color: #808000; text-decoration-color: #808000\">...</span> Elapsed time: <span style=\"color: #00ff00; text-decoration-color: #00ff00; font-weight: bold\">0:00:10</span>.<span style=\"color: #008080; text-decoration-color: #008080; font-weight: bold\">698593</span>  Explore: <span style=\"color: #008080; text-decoration-color: #008080; font-weight: bold\">0</span>  Objective: <span style=\"color: #008080; text-decoration-color: #008080; font-weight: bold\">21736</span>\n",
       "</pre>\n"
      ],
      "text/plain": [
       "Starting iteration \u001b[1;36m5\u001b[0m at \u001b[1;92m06:59:22\u001b[0m PM\u001b[33m...\u001b[0m Elapsed time: \u001b[1;92m0:00:10\u001b[0m.\u001b[1;36m698593\u001b[0m  Explore: \u001b[1;36m0\u001b[0m  Objective: \u001b[1;36m21736\u001b[0m\n"
      ]
     },
     "metadata": {},
     "output_type": "display_data"
    },
    {
     "name": "stderr",
     "output_type": "stream",
     "text": [
      "I0000 00:00:1711738762.652799 1100508 search.cc:282] Start search (memory used = 438.34 MB)\n",
      "I0000 00:00:1711738762.657468 1100508 search.cc:282] Root node processed (time = 4 ms, constraints = 4799, memory used = 438.34 MB)\n",
      "I0000 00:00:1711738762.669820 1100508 search.cc:282] Solution #64 (21736, maximum = 24078, time = 16 ms, branches = 490, failures = 13251, depth = 33, Relocate<1>, neighbors = 128666, filtered neighbors = 13026, accepted neighbors = 59, memory used = 438.34 MB, limit = 33%)\n",
      "I0000 00:00:1711738762.760617 1100508 search.cc:282] Solution #65 (21720, maximum = 24078, time = 107 ms, branches = 494, failures = 13290, depth = 33, Relocate<1>, neighbors = 128939, filtered neighbors = 13064, accepted neighbors = 60, memory used = 438.34 MB, limit = 66%)\n",
      "I0000 00:00:1711738762.987793 1100508 search.cc:282] Solution #66 (21634, maximum = 24078, time = 334 ms, branches = 499, failures = 13386, depth = 33, Relocate<1>, neighbors = 130671, filtered neighbors = 13159, accepted neighbors = 61, memory used = 438.34 MB, limit = 100%)\n",
      "I0000 00:00:1711738762.988107 1100508 search.cc:282] Finished search tree (time = 335 ms, branches = 499, failures = 13419, neighbors = 130671, filtered neighbors = 13159, accepted neigbors = 61, memory used = 438.34 MB)\n",
      "I0000 00:00:1711738762.989427 1100508 search.cc:282] End search (time = 336 ms, branches = 499, failures = 13419, memory used = 438.34 MB, speed = 1485 branches/s)\n"
     ]
    },
    {
     "data": {
      "text/html": [
       "<pre style=\"white-space:pre;overflow-x:auto;line-height:normal;font-family:Menlo,'DejaVu Sans Mono',consolas,'Courier New',monospace\">Starting iteration <span style=\"color: #008080; text-decoration-color: #008080; font-weight: bold\">6</span> at <span style=\"color: #00ff00; text-decoration-color: #00ff00; font-weight: bold\">06:59:23</span> PM<span style=\"color: #808000; text-decoration-color: #808000\">...</span> Elapsed time: <span style=\"color: #00ff00; text-decoration-color: #00ff00; font-weight: bold\">0:00:11</span>.<span style=\"color: #008080; text-decoration-color: #008080; font-weight: bold\">425723</span>  Explore: <span style=\"color: #008080; text-decoration-color: #008080; font-weight: bold\">100000000000</span>  Objective: <span style=\"color: #008080; text-decoration-color: #008080; font-weight: bold\">21634</span>\n",
       "</pre>\n"
      ],
      "text/plain": [
       "Starting iteration \u001b[1;36m6\u001b[0m at \u001b[1;92m06:59:23\u001b[0m PM\u001b[33m...\u001b[0m Elapsed time: \u001b[1;92m0:00:11\u001b[0m.\u001b[1;36m425723\u001b[0m  Explore: \u001b[1;36m100000000000\u001b[0m  Objective: \u001b[1;36m21634\u001b[0m\n"
      ]
     },
     "metadata": {},
     "output_type": "display_data"
    },
    {
     "name": "stderr",
     "output_type": "stream",
     "text": [
      "I0000 00:00:1711738763.380665 1100508 search.cc:282] Start search (memory used = 439.29 MB)\n",
      "I0000 00:00:1711738763.386395 1100508 search.cc:282] Root node processed (time = 5 ms, constraints = 4799, memory used = 439.29 MB)\n",
      "I0000 00:00:1711738763.399708 1100508 search.cc:282] Solution #67 (21634, maximum = 24078, time = 18 ms, branches = 532, failures = 13419, depth = 33, Relocate<1>, neighbors = 130671, filtered neighbors = 13159, accepted neighbors = 61, memory used = 439.29 MB, limit = 33%)\n",
      "I0000 00:00:1711738763.458065 1100508 search.cc:282] Solution #68 (21620, maximum = 24078, time = 77 ms, branches = 536, failures = 13444, depth = 33, Relocate<1>, neighbors = 130711, filtered neighbors = 13183, accepted neighbors = 62, memory used = 439.29 MB, limit = 66%)\n",
      "I0000 00:00:1711738763.518421 1100508 search.cc:282] Solution #69 (21616, maximum = 24078, time = 137 ms, branches = 541, failures = 13469, depth = 33, Relocate<1>, neighbors = 130946, filtered neighbors = 13207, accepted neighbors = 63, memory used = 439.29 MB, limit = 100%)\n",
      "I0000 00:00:1711738763.518706 1100508 search.cc:282] Finished search tree (time = 137 ms, branches = 541, failures = 13502, neighbors = 130946, filtered neighbors = 13207, accepted neigbors = 63, memory used = 439.29 MB)\n",
      "I0000 00:00:1711738763.519948 1100508 search.cc:282] End search (time = 139 ms, branches = 541, failures = 13502, memory used = 439.29 MB, speed = 3892 branches/s)\n"
     ]
    },
    {
     "data": {
      "text/html": [
       "<pre style=\"white-space:pre;overflow-x:auto;line-height:normal;font-family:Menlo,'DejaVu Sans Mono',consolas,'Courier New',monospace\">Starting iteration <span style=\"color: #008080; text-decoration-color: #008080; font-weight: bold\">7</span> at <span style=\"color: #00ff00; text-decoration-color: #00ff00; font-weight: bold\">06:59:24</span> PM<span style=\"color: #808000; text-decoration-color: #808000\">...</span> Elapsed time: <span style=\"color: #00ff00; text-decoration-color: #00ff00; font-weight: bold\">0:00:12</span>.<span style=\"color: #008080; text-decoration-color: #008080; font-weight: bold\">055374</span>  Explore: <span style=\"color: #008080; text-decoration-color: #008080; font-weight: bold\">100000000000</span>  Objective: <span style=\"color: #008080; text-decoration-color: #008080; font-weight: bold\">21616</span>\n",
       "</pre>\n"
      ],
      "text/plain": [
       "Starting iteration \u001b[1;36m7\u001b[0m at \u001b[1;92m06:59:24\u001b[0m PM\u001b[33m...\u001b[0m Elapsed time: \u001b[1;92m0:00:12\u001b[0m.\u001b[1;36m055374\u001b[0m  Explore: \u001b[1;36m100000000000\u001b[0m  Objective: \u001b[1;36m21616\u001b[0m\n"
      ]
     },
     "metadata": {},
     "output_type": "display_data"
    },
    {
     "name": "stderr",
     "output_type": "stream",
     "text": [
      "I0000 00:00:1711738764.009510 1100508 search.cc:282] Start search (memory used = 439.54 MB)\n",
      "I0000 00:00:1711738764.014458 1100508 search.cc:282] Root node processed (time = 4 ms, constraints = 4799, memory used = 439.54 MB)\n",
      "I0000 00:00:1711738764.026643 1100508 search.cc:282] Solution #70 (21616, maximum = 24078, time = 17 ms, branches = 574, failures = 13502, depth = 33, Relocate<1>, neighbors = 130946, filtered neighbors = 13207, accepted neighbors = 63, memory used = 439.54 MB, limit = 25%)\n"
     ]
    },
    {
     "data": {
      "text/html": [
       "<pre style=\"white-space:pre;overflow-x:auto;line-height:normal;font-family:Menlo,'DejaVu Sans Mono',consolas,'Courier New',monospace\">Solution #<span style=\"color: #008080; text-decoration-color: #008080; font-weight: bold\">65</span>  found as: <span style=\"color: #008080; text-decoration-color: #008080; font-weight: bold\">21409</span> Progress: <span style=\"color: #008080; text-decoration-color: #008080; font-weight: bold\">50</span>%  Branches: <span style=\"color: #008080; text-decoration-color: #008080; font-weight: bold\">578</span> Accepted Neighbors: <span style=\"color: #008080; text-decoration-color: #008080; font-weight: bold\">64</span> Model Stamp <span style=\"color: #008080; text-decoration-color: #008080; font-weight: bold\">123203</span> Wall Time: \n",
       "<span style=\"color: #008080; text-decoration-color: #008080; font-weight: bold\">36601</span>\n",
       "</pre>\n"
      ],
      "text/plain": [
       "Solution #\u001b[1;36m65\u001b[0m  found as: \u001b[1;36m21409\u001b[0m Progress: \u001b[1;36m50\u001b[0m%  Branches: \u001b[1;36m578\u001b[0m Accepted Neighbors: \u001b[1;36m64\u001b[0m Model Stamp \u001b[1;36m123203\u001b[0m Wall Time: \n",
       "\u001b[1;36m36601\u001b[0m\n"
      ]
     },
     "metadata": {},
     "output_type": "display_data"
    },
    {
     "name": "stderr",
     "output_type": "stream",
     "text": [
      "I0000 00:00:1711738764.235451 1100508 search.cc:282] Solution #71 (21409, maximum = 24078, time = 225 ms, branches = 578, failures = 13592, depth = 33, Relocate<1>, neighbors = 131364, filtered neighbors = 13296, accepted neighbors = 64, memory used = 439.54 MB, limit = 50%)\n",
      "I0000 00:00:1711738764.321921 1100508 search.cc:282] Solution #72 (21333, maximum = 24078, time = 312 ms, branches = 583, failures = 13627, depth = 33, Relocate<1>, neighbors = 132723, filtered neighbors = 13330, accepted neighbors = 65, memory used = 439.54 MB, limit = 75%)\n",
      "I0000 00:00:1711738764.991020 1100508 search.cc:282] Solution #73 (21326, maximum = 24078, time = 981 ms, branches = 587, failures = 13914, depth = 33, Relocate<1>, neighbors = 136213, filtered neighbors = 13616, accepted neighbors = 66, memory used = 439.54 MB, limit = 100%)\n",
      "I0000 00:00:1711738764.991316 1100508 search.cc:282] Finished search tree (time = 981 ms, branches = 587, failures = 13946, neighbors = 136213, filtered neighbors = 13616, accepted neigbors = 66, memory used = 439.54 MB)\n",
      "I0000 00:00:1711738764.992881 1100508 search.cc:282] End search (time = 983 ms, branches = 587, failures = 13946, memory used = 439.54 MB, speed = 597 branches/s)\n"
     ]
    },
    {
     "data": {
      "text/html": [
       "<pre style=\"white-space:pre;overflow-x:auto;line-height:normal;font-family:Menlo,'DejaVu Sans Mono',consolas,'Courier New',monospace\">Starting iteration <span style=\"color: #008080; text-decoration-color: #008080; font-weight: bold\">8</span> at <span style=\"color: #00ff00; text-decoration-color: #00ff00; font-weight: bold\">06:59:25</span> PM<span style=\"color: #808000; text-decoration-color: #808000\">...</span> Elapsed time: <span style=\"color: #00ff00; text-decoration-color: #00ff00; font-weight: bold\">0:00:13</span>.<span style=\"color: #008080; text-decoration-color: #008080; font-weight: bold\">420135</span>  Explore: <span style=\"color: #008080; text-decoration-color: #008080; font-weight: bold\">0</span>  Objective: <span style=\"color: #008080; text-decoration-color: #008080; font-weight: bold\">21326</span>\n",
       "</pre>\n"
      ],
      "text/plain": [
       "Starting iteration \u001b[1;36m8\u001b[0m at \u001b[1;92m06:59:25\u001b[0m PM\u001b[33m...\u001b[0m Elapsed time: \u001b[1;92m0:00:13\u001b[0m.\u001b[1;36m420135\u001b[0m  Explore: \u001b[1;36m0\u001b[0m  Objective: \u001b[1;36m21326\u001b[0m\n"
      ]
     },
     "metadata": {},
     "output_type": "display_data"
    },
    {
     "name": "stderr",
     "output_type": "stream",
     "text": [
      "I0000 00:00:1711738765.373632 1100508 search.cc:282] Start search (memory used = 439.99 MB)\n",
      "I0000 00:00:1711738765.378288 1100508 search.cc:282] Root node processed (time = 4 ms, constraints = 4799, memory used = 439.99 MB)\n",
      "I0000 00:00:1711738765.390720 1100508 search.cc:282] Solution #74 (21326, maximum = 24078, time = 17 ms, branches = 620, failures = 13946, depth = 33, Relocate<1>, neighbors = 136213, filtered neighbors = 13616, accepted neighbors = 66, memory used = 439.99 MB, limit = 25%)\n",
      "I0000 00:00:1711738766.643939 1100508 search.cc:282] Solution #75 (21301, maximum = 24078, time = 1270 ms, branches = 624, failures = 14475, depth = 33, Relocate<1>, neighbors = 141567, filtered neighbors = 14144, accepted neighbors = 67, memory used = 439.99 MB, limit = 50%)\n",
      "I0000 00:00:1711738766.649813 1100508 search.cc:282] Solution #76 (21160, maximum = 24078, time = 1276 ms, branches = 629, failures = 14477, depth = 33, Relocate<1>, neighbors = 141568, filtered neighbors = 14145, accepted neighbors = 68, memory used = 439.99 MB, limit = 75%)\n"
     ]
    },
    {
     "data": {
      "text/html": [
       "<pre style=\"white-space:pre;overflow-x:auto;line-height:normal;font-family:Menlo,'DejaVu Sans Mono',consolas,'Courier New',monospace\">Solution #<span style=\"color: #008080; text-decoration-color: #008080; font-weight: bold\">70</span>  found as: <span style=\"color: #008080; text-decoration-color: #008080; font-weight: bold\">21154</span> Progress: <span style=\"color: #008080; text-decoration-color: #008080; font-weight: bold\">100</span>%  Branches: <span style=\"color: #008080; text-decoration-color: #008080; font-weight: bold\">633</span> Accepted Neighbors: <span style=\"color: #008080; text-decoration-color: #008080; font-weight: bold\">69</span> Model Stamp <span style=\"color: #008080; text-decoration-color: #008080; font-weight: bold\">145740</span> Wall Time: \n",
       "<span style=\"color: #008080; text-decoration-color: #008080; font-weight: bold\">47095</span>\n",
       "</pre>\n"
      ],
      "text/plain": [
       "Solution #\u001b[1;36m70\u001b[0m  found as: \u001b[1;36m21154\u001b[0m Progress: \u001b[1;36m100\u001b[0m%  Branches: \u001b[1;36m633\u001b[0m Accepted Neighbors: \u001b[1;36m69\u001b[0m Model Stamp \u001b[1;36m145740\u001b[0m Wall Time: \n",
       "\u001b[1;36m47095\u001b[0m\n"
      ]
     },
     "metadata": {},
     "output_type": "display_data"
    },
    {
     "name": "stderr",
     "output_type": "stream",
     "text": [
      "I0000 00:00:1711738774.730187 1100508 search.cc:282] Solution #77 (21154, maximum = 24078, time = 9356 ms, branches = 633, failures = 17879, depth = 33, Relocate<1>, neighbors = 175140, filtered neighbors = 17546, accepted neighbors = 69, memory used = 439.99 MB, limit = 100%)\n",
      "I0000 00:00:1711738774.730514 1100508 search.cc:282] Finished search tree (time = 9356 ms, branches = 633, failures = 17911, neighbors = 175140, filtered neighbors = 17546, accepted neigbors = 69, memory used = 439.99 MB)\n",
      "I0000 00:00:1711738774.734388 1100508 search.cc:282] End search (time = 9360 ms, branches = 633, failures = 17911, memory used = 439.99 MB, speed = 67 branches/s)\n"
     ]
    },
    {
     "data": {
      "text/html": [
       "<pre style=\"white-space:pre;overflow-x:auto;line-height:normal;font-family:Menlo,'DejaVu Sans Mono',consolas,'Courier New',monospace\">Starting iteration <span style=\"color: #008080; text-decoration-color: #008080; font-weight: bold\">9</span> at <span style=\"color: #00ff00; text-decoration-color: #00ff00; font-weight: bold\">06:59:35</span> PM<span style=\"color: #808000; text-decoration-color: #808000\">...</span> Elapsed time: <span style=\"color: #00ff00; text-decoration-color: #00ff00; font-weight: bold\">0:00:23</span>.<span style=\"color: #008080; text-decoration-color: #008080; font-weight: bold\">165686</span>  Explore: <span style=\"color: #008080; text-decoration-color: #008080; font-weight: bold\">100000000000</span>  Objective: <span style=\"color: #008080; text-decoration-color: #008080; font-weight: bold\">21154</span>\n",
       "</pre>\n"
      ],
      "text/plain": [
       "Starting iteration \u001b[1;36m9\u001b[0m at \u001b[1;92m06:59:35\u001b[0m PM\u001b[33m...\u001b[0m Elapsed time: \u001b[1;92m0:00:23\u001b[0m.\u001b[1;36m165686\u001b[0m  Explore: \u001b[1;36m100000000000\u001b[0m  Objective: \u001b[1;36m21154\u001b[0m\n"
      ]
     },
     "metadata": {},
     "output_type": "display_data"
    },
    {
     "name": "stderr",
     "output_type": "stream",
     "text": [
      "I0000 00:00:1711738775.120682 1100508 search.cc:282] Start search (memory used = 440.78 MB)\n",
      "I0000 00:00:1711738775.125952 1100508 search.cc:282] Root node processed (time = 5 ms, constraints = 4799, memory used = 440.78 MB)\n",
      "I0000 00:00:1711738775.139340 1100508 search.cc:282] Solution #78 (21154, maximum = 24078, time = 18 ms, branches = 666, failures = 17911, depth = 33, Relocate<1>, neighbors = 175140, filtered neighbors = 17546, accepted neighbors = 69, memory used = 440.78 MB, limit = 25%)\n",
      "I0000 00:00:1711738788.396373 1100508 search.cc:282] Solution #79 (21117, maximum = 24078, time = 13275 ms, branches = 670, failures = 23587, depth = 33, Relocate<1>, neighbors = 227866, filtered neighbors = 23221, accepted neighbors = 70, memory used = 440.78 MB, limit = 57%)\n",
      "I0000 00:00:1711738788.503545 1100508 search.cc:282] Solution #80 (21116, maximum = 24078, time = 13382 ms, branches = 675, failures = 23633, depth = 33, Relocate<1>, neighbors = 227911, filtered neighbors = 23266, accepted neighbors = 71, memory used = 440.78 MB, limit = 75%)\n",
      "I0000 00:00:1711738789.184591 1100508 search.cc:282] Solution #81 (21115, maximum = 24078, time = 14063 ms, branches = 679, failures = 23928, depth = 33, Relocate<1>, neighbors = 228959, filtered neighbors = 23560, accepted neighbors = 72, memory used = 440.78 MB, limit = 100%)\n",
      "I0000 00:00:1711738789.184942 1100508 search.cc:282] Finished search tree (time = 14064 ms, branches = 679, failures = 23960, neighbors = 228959, filtered neighbors = 23560, accepted neigbors = 72, memory used = 440.78 MB)\n",
      "I0000 00:00:1711738789.188582 1100508 search.cc:282] End search (time = 14067 ms, branches = 679, failures = 23960, memory used = 440.78 MB, speed = 48 branches/s)\n"
     ]
    },
    {
     "data": {
      "text/html": [
       "<pre style=\"white-space:pre;overflow-x:auto;line-height:normal;font-family:Menlo,'DejaVu Sans Mono',consolas,'Courier New',monospace\">Starting iteration <span style=\"color: #008080; text-decoration-color: #008080; font-weight: bold\">10</span> at <span style=\"color: #00ff00; text-decoration-color: #00ff00; font-weight: bold\">06:59:49</span> PM<span style=\"color: #808000; text-decoration-color: #808000\">...</span> Elapsed time: <span style=\"color: #00ff00; text-decoration-color: #00ff00; font-weight: bold\">0:00:37</span>.<span style=\"color: #008080; text-decoration-color: #008080; font-weight: bold\">617743</span>  Explore: <span style=\"color: #008080; text-decoration-color: #008080; font-weight: bold\">0</span>  Objective: <span style=\"color: #008080; text-decoration-color: #008080; font-weight: bold\">21115</span>\n",
       "</pre>\n"
      ],
      "text/plain": [
       "Starting iteration \u001b[1;36m10\u001b[0m at \u001b[1;92m06:59:49\u001b[0m PM\u001b[33m...\u001b[0m Elapsed time: \u001b[1;92m0:00:37\u001b[0m.\u001b[1;36m617743\u001b[0m  Explore: \u001b[1;36m0\u001b[0m  Objective: \u001b[1;36m21115\u001b[0m\n"
      ]
     },
     "metadata": {},
     "output_type": "display_data"
    },
    {
     "name": "stderr",
     "output_type": "stream",
     "text": [
      "I0000 00:00:1711738789.572293 1100508 search.cc:282] Start search (memory used = 441.74 MB)\n",
      "I0000 00:00:1711738789.577345 1100508 search.cc:282] Root node processed (time = 4 ms, constraints = 4799, memory used = 441.74 MB)\n",
      "I0000 00:00:1711738789.590821 1100508 search.cc:282] Solution #82 (21115, maximum = 24078, time = 18 ms, branches = 712, failures = 23960, depth = 33, Relocate<1>, neighbors = 228959, filtered neighbors = 23560, accepted neighbors = 72, memory used = 441.74 MB, limit = 25%)\n",
      "I0000 00:00:1711738789.610622 1100508 search.cc:282] Solution #83 (21112, maximum = 24078, time = 38 ms, branches = 716, failures = 23968, depth = 33, Relocate<1>, neighbors = 228966, filtered neighbors = 23567, accepted neighbors = 73, memory used = 441.74 MB, limit = 50%)\n"
     ]
    },
    {
     "data": {
      "text/html": [
       "<pre style=\"white-space:pre;overflow-x:auto;line-height:normal;font-family:Menlo,'DejaVu Sans Mono',consolas,'Courier New',monospace\">Solution #<span style=\"color: #008080; text-decoration-color: #008080; font-weight: bold\">75</span>  found as: <span style=\"color: #008080; text-decoration-color: #008080; font-weight: bold\">21103</span> Progress: <span style=\"color: #008080; text-decoration-color: #008080; font-weight: bold\">75</span>%  Branches: <span style=\"color: #008080; text-decoration-color: #008080; font-weight: bold\">721</span> Accepted Neighbors: <span style=\"color: #008080; text-decoration-color: #008080; font-weight: bold\">74</span> Model Stamp <span style=\"color: #008080; text-decoration-color: #008080; font-weight: bold\">183703</span> Wall Time: \n",
       "<span style=\"color: #008080; text-decoration-color: #008080; font-weight: bold\">62265</span>\n",
       "</pre>\n"
      ],
      "text/plain": [
       "Solution #\u001b[1;36m75\u001b[0m  found as: \u001b[1;36m21103\u001b[0m Progress: \u001b[1;36m75\u001b[0m%  Branches: \u001b[1;36m721\u001b[0m Accepted Neighbors: \u001b[1;36m74\u001b[0m Model Stamp \u001b[1;36m183703\u001b[0m Wall Time: \n",
       "\u001b[1;36m62265\u001b[0m\n"
      ]
     },
     "metadata": {},
     "output_type": "display_data"
    },
    {
     "name": "stderr",
     "output_type": "stream",
     "text": [
      "I0000 00:00:1711738789.899947 1100508 search.cc:282] Solution #84 (21103, maximum = 24078, time = 327 ms, branches = 721, failures = 24094, depth = 33, Relocate<1>, neighbors = 229123, filtered neighbors = 23692, accepted neighbors = 74, memory used = 441.74 MB, limit = 75%)\n",
      "I0000 00:00:1711738790.165044 1100508 search.cc:282] Solution #85 (21085, maximum = 24078, time = 592 ms, branches = 725, failures = 24210, depth = 33, Relocate<1>, neighbors = 229317, filtered neighbors = 23807, accepted neighbors = 75, memory used = 441.74 MB, limit = 100%)\n",
      "I0000 00:00:1711738790.165360 1100508 search.cc:282] Finished search tree (time = 592 ms, branches = 725, failures = 24242, neighbors = 229317, filtered neighbors = 23807, accepted neigbors = 75, memory used = 441.74 MB)\n",
      "I0000 00:00:1711738790.166647 1100508 search.cc:282] End search (time = 594 ms, branches = 725, failures = 24242, memory used = 441.74 MB, speed = 1220 branches/s)\n"
     ]
    },
    {
     "data": {
      "text/html": [
       "<pre style=\"white-space:pre;overflow-x:auto;line-height:normal;font-family:Menlo,'DejaVu Sans Mono',consolas,'Courier New',monospace\">Starting iteration <span style=\"color: #008080; text-decoration-color: #008080; font-weight: bold\">11</span> at <span style=\"color: #00ff00; text-decoration-color: #00ff00; font-weight: bold\">06:59:50</span> PM<span style=\"color: #808000; text-decoration-color: #808000\">...</span> Elapsed time: <span style=\"color: #00ff00; text-decoration-color: #00ff00; font-weight: bold\">0:00:38</span>.<span style=\"color: #008080; text-decoration-color: #008080; font-weight: bold\">591706</span>  Explore: <span style=\"color: #008080; text-decoration-color: #008080; font-weight: bold\">100000000000</span>  Objective: <span style=\"color: #008080; text-decoration-color: #008080; font-weight: bold\">21085</span>\n",
       "</pre>\n"
      ],
      "text/plain": [
       "Starting iteration \u001b[1;36m11\u001b[0m at \u001b[1;92m06:59:50\u001b[0m PM\u001b[33m...\u001b[0m Elapsed time: \u001b[1;92m0:00:38\u001b[0m.\u001b[1;36m591706\u001b[0m  Explore: \u001b[1;36m100000000000\u001b[0m  Objective: \u001b[1;36m21085\u001b[0m\n"
      ]
     },
     "metadata": {},
     "output_type": "display_data"
    },
    {
     "name": "stderr",
     "output_type": "stream",
     "text": [
      "I0000 00:00:1711738790.545131 1100508 search.cc:282] Start search (memory used = 442.69 MB)\n",
      "I0000 00:00:1711738790.549955 1100508 search.cc:282] Root node processed (time = 4 ms, constraints = 4799, memory used = 442.69 MB)\n",
      "I0000 00:00:1711738790.562978 1100508 search.cc:282] Solution #86 (21085, maximum = 24078, time = 17 ms, branches = 758, failures = 24242, depth = 33, Relocate<1>, neighbors = 229317, filtered neighbors = 23807, accepted neighbors = 75, memory used = 442.69 MB, limit = 25%)\n",
      "I0000 00:00:1711738791.842150 1100508 search.cc:282] Solution #87 (21047, maximum = 24078, time = 1296 ms, branches = 762, failures = 24807, depth = 33, Relocate<1>, neighbors = 230294, filtered neighbors = 24371, accepted neighbors = 76, memory used = 442.69 MB, limit = 50%)\n",
      "I0000 00:00:1711738791.952210 1100508 search.cc:282] Solution #88 (21026, maximum = 24078, time = 1406 ms, branches = 767, failures = 24855, depth = 33, Relocate<1>, neighbors = 230407, filtered neighbors = 24418, accepted neighbors = 77, memory used = 442.69 MB, limit = 75%)\n",
      "I0000 00:00:1711738792.107699 1100508 search.cc:282] Solution #89 (20945, maximum = 24078, time = 1562 ms, branches = 771, failures = 24922, depth = 33, Relocate<1>, neighbors = 230509, filtered neighbors = 24484, accepted neighbors = 78, memory used = 442.69 MB, limit = 100%)\n",
      "I0000 00:00:1711738792.108019 1100508 search.cc:282] Finished search tree (time = 1562 ms, branches = 771, failures = 24954, neighbors = 230509, filtered neighbors = 24484, accepted neigbors = 78, memory used = 442.69 MB)\n",
      "I0000 00:00:1711738792.109532 1100508 search.cc:282] End search (time = 1564 ms, branches = 771, failures = 24954, memory used = 442.69 MB, speed = 492 branches/s)\n"
     ]
    },
    {
     "data": {
      "text/html": [
       "<pre style=\"white-space:pre;overflow-x:auto;line-height:normal;font-family:Menlo,'DejaVu Sans Mono',consolas,'Courier New',monospace\">Starting iteration <span style=\"color: #008080; text-decoration-color: #008080; font-weight: bold\">12</span> at <span style=\"color: #00ff00; text-decoration-color: #00ff00; font-weight: bold\">06:59:52</span> PM<span style=\"color: #808000; text-decoration-color: #808000\">...</span> Elapsed time: <span style=\"color: #00ff00; text-decoration-color: #00ff00; font-weight: bold\">0:00:40</span>.<span style=\"color: #008080; text-decoration-color: #008080; font-weight: bold\">533218</span>  Explore: <span style=\"color: #008080; text-decoration-color: #008080; font-weight: bold\">0</span>  Objective: <span style=\"color: #008080; text-decoration-color: #008080; font-weight: bold\">20945</span>\n",
       "</pre>\n"
      ],
      "text/plain": [
       "Starting iteration \u001b[1;36m12\u001b[0m at \u001b[1;92m06:59:52\u001b[0m PM\u001b[33m...\u001b[0m Elapsed time: \u001b[1;92m0:00:40\u001b[0m.\u001b[1;36m533218\u001b[0m  Explore: \u001b[1;36m0\u001b[0m  Objective: \u001b[1;36m20945\u001b[0m\n"
      ]
     },
     "metadata": {},
     "output_type": "display_data"
    },
    {
     "name": "stderr",
     "output_type": "stream",
     "text": [
      "I0000 00:00:1711738792.486697 1100508 search.cc:282] Start search (memory used = 443.63 MB)\n",
      "I0000 00:00:1711738792.491301 1100508 search.cc:282] Root node processed (time = 4 ms, constraints = 4799, memory used = 443.63 MB)\n",
      "I0000 00:00:1711738792.503986 1100508 search.cc:282] Solution #90 (20945, maximum = 24078, time = 17 ms, branches = 804, failures = 24954, depth = 33, Relocate<1>, neighbors = 230509, filtered neighbors = 24484, accepted neighbors = 78, memory used = 443.63 MB, limit = 20%)\n"
     ]
    },
    {
     "data": {
      "text/html": [
       "<pre style=\"white-space:pre;overflow-x:auto;line-height:normal;font-family:Menlo,'DejaVu Sans Mono',consolas,'Courier New',monospace\">Solution #<span style=\"color: #008080; text-decoration-color: #008080; font-weight: bold\">80</span>  found as: <span style=\"color: #008080; text-decoration-color: #008080; font-weight: bold\">20929</span> Progress: <span style=\"color: #008080; text-decoration-color: #008080; font-weight: bold\">40</span>%  Branches: <span style=\"color: #008080; text-decoration-color: #008080; font-weight: bold\">808</span> Accepted Neighbors: <span style=\"color: #008080; text-decoration-color: #008080; font-weight: bold\">79</span> Model Stamp <span style=\"color: #008080; text-decoration-color: #008080; font-weight: bold\">205665</span> Wall Time: \n",
       "<span style=\"color: #008080; text-decoration-color: #008080; font-weight: bold\">64923</span>\n",
       "</pre>\n"
      ],
      "text/plain": [
       "Solution #\u001b[1;36m80\u001b[0m  found as: \u001b[1;36m20929\u001b[0m Progress: \u001b[1;36m40\u001b[0m%  Branches: \u001b[1;36m808\u001b[0m Accepted Neighbors: \u001b[1;36m79\u001b[0m Model Stamp \u001b[1;36m205665\u001b[0m Wall Time: \n",
       "\u001b[1;36m64923\u001b[0m\n"
      ]
     },
     "metadata": {},
     "output_type": "display_data"
    },
    {
     "name": "stderr",
     "output_type": "stream",
     "text": [
      "I0000 00:00:1711738792.557505 1100508 search.cc:282] Solution #91 (20929, maximum = 24078, time = 70 ms, branches = 808, failures = 24976, depth = 33, Relocate<1>, neighbors = 230589, filtered neighbors = 24505, accepted neighbors = 79, memory used = 443.63 MB, limit = 40%)\n",
      "I0000 00:00:1711738792.622595 1100508 search.cc:282] Solution #92 (20922, maximum = 24078, time = 135 ms, branches = 813, failures = 25004, depth = 33, Relocate<1>, neighbors = 230623, filtered neighbors = 24532, accepted neighbors = 80, memory used = 443.63 MB, limit = 60%)\n",
      "I0000 00:00:1711738814.339219 1100508 search.cc:282] Solution #93 (20762, maximum = 24078, time = 21852 ms, branches = 817, failures = 34486, depth = 33, Exchange, neighbors = 257982, filtered neighbors = 34013, accepted neighbors = 81, memory used = 443.63 MB, limit = 87%)\n",
      "I0000 00:00:1711738816.547359 1100508 search.cc:282] Solution #94 (20755, maximum = 24078, time = 24060 ms, branches = 823, failures = 35440, depth = 33, Exchange, neighbors = 260538, filtered neighbors = 34966, accepted neighbors = 82, memory used = 443.63 MB, limit = 100%)\n",
      "I0000 00:00:1711738816.547828 1100508 search.cc:282] Finished search tree (time = 24061 ms, branches = 823, failures = 35473, neighbors = 260538, filtered neighbors = 34966, accepted neigbors = 82, memory used = 443.63 MB)\n",
      "I0000 00:00:1711738816.551252 1100508 search.cc:282] End search (time = 24064 ms, branches = 823, failures = 35473, memory used = 443.63 MB, speed = 34 branches/s)\n"
     ]
    },
    {
     "data": {
      "text/html": [
       "<pre style=\"white-space:pre;overflow-x:auto;line-height:normal;font-family:Menlo,'DejaVu Sans Mono',consolas,'Courier New',monospace\">Starting iteration <span style=\"color: #008080; text-decoration-color: #008080; font-weight: bold\">13</span> at <span style=\"color: #00ff00; text-decoration-color: #00ff00; font-weight: bold\">07:00:16</span> PM<span style=\"color: #808000; text-decoration-color: #808000\">...</span> Elapsed time: <span style=\"color: #00ff00; text-decoration-color: #00ff00; font-weight: bold\">0:01:04</span>.<span style=\"color: #008080; text-decoration-color: #008080; font-weight: bold\">992734</span>  Explore: <span style=\"color: #008080; text-decoration-color: #008080; font-weight: bold\">100000000000</span>  Objective: <span style=\"color: #008080; text-decoration-color: #008080; font-weight: bold\">20755</span>\n",
       "</pre>\n"
      ],
      "text/plain": [
       "Starting iteration \u001b[1;36m13\u001b[0m at \u001b[1;92m07:00:16\u001b[0m PM\u001b[33m...\u001b[0m Elapsed time: \u001b[1;92m0:01:04\u001b[0m.\u001b[1;36m992734\u001b[0m  Explore: \u001b[1;36m100000000000\u001b[0m  Objective: \u001b[1;36m20755\u001b[0m\n"
      ]
     },
     "metadata": {},
     "output_type": "display_data"
    },
    {
     "name": "stderr",
     "output_type": "stream",
     "text": [
      "I0000 00:00:1711738816.947877 1100508 search.cc:282] Start search (memory used = 444.59 MB)\n",
      "I0000 00:00:1711738816.952607 1100508 search.cc:282] Root node processed (time = 4 ms, constraints = 4799, memory used = 444.59 MB)\n",
      "I0000 00:00:1711738816.966246 1100508 search.cc:282] Solution #95 (20755, maximum = 24078, time = 18 ms, branches = 856, failures = 35473, depth = 33, Exchange, neighbors = 260538, filtered neighbors = 34966, accepted neighbors = 82, memory used = 444.59 MB, limit = 20%)\n",
      "I0000 00:00:1711738818.266873 1100508 search.cc:282] Solution #96 (20619, maximum = 24078, time = 1318 ms, branches = 860, failures = 36028, depth = 33, Exchange, neighbors = 262052, filtered neighbors = 35520, accepted neighbors = 83, memory used = 444.59 MB, limit = 40%)\n"
     ]
    },
    {
     "data": {
      "text/html": [
       "<pre style=\"white-space:pre;overflow-x:auto;line-height:normal;font-family:Menlo,'DejaVu Sans Mono',consolas,'Courier New',monospace\">Solution #<span style=\"color: #008080; text-decoration-color: #008080; font-weight: bold\">85</span>  found as: <span style=\"color: #008080; text-decoration-color: #008080; font-weight: bold\">20601</span> Progress: <span style=\"color: #008080; text-decoration-color: #008080; font-weight: bold\">60</span>%  Branches: <span style=\"color: #008080; text-decoration-color: #008080; font-weight: bold\">865</span> Accepted Neighbors: <span style=\"color: #008080; text-decoration-color: #008080; font-weight: bold\">84</span> Model Stamp <span style=\"color: #008080; text-decoration-color: #008080; font-weight: bold\">254509</span> Wall Time: \n",
       "<span style=\"color: #008080; text-decoration-color: #008080; font-weight: bold\">95265</span>\n",
       "</pre>\n"
      ],
      "text/plain": [
       "Solution #\u001b[1;36m85\u001b[0m  found as: \u001b[1;36m20601\u001b[0m Progress: \u001b[1;36m60\u001b[0m%  Branches: \u001b[1;36m865\u001b[0m Accepted Neighbors: \u001b[1;36m84\u001b[0m Model Stamp \u001b[1;36m254509\u001b[0m Wall Time: \n",
       "\u001b[1;36m95265\u001b[0m\n"
      ]
     },
     "metadata": {},
     "output_type": "display_data"
    },
    {
     "name": "stderr",
     "output_type": "stream",
     "text": [
      "I0000 00:00:1711738822.899748 1100508 search.cc:282] Solution #97 (20601, maximum = 24078, time = 5951 ms, branches = 865, failures = 38031, depth = 33, Exchange, neighbors = 268008, filtered neighbors = 37522, accepted neighbors = 84, memory used = 444.59 MB, limit = 60%)\n",
      "I0000 00:00:1711738840.527087 1100508 search.cc:282] Solution #98 (20599, maximum = 24078, time = 23579 ms, branches = 869, failures = 45702, depth = 33, Exchange, neighbors = 281121, filtered neighbors = 45192, accepted neighbors = 85, memory used = 444.59 MB, limit = 94%)\n",
      "I0000 00:00:1711738841.192224 1100508 search.cc:282] Solution #99 (20591, maximum = 24078, time = 24243 ms, branches = 875, failures = 45988, depth = 33, Exchange, neighbors = 281838, filtered neighbors = 45477, accepted neighbors = 86, memory used = 444.59 MB, limit = 100%)\n",
      "I0000 00:00:1711738841.192576 1100508 search.cc:282] Finished search tree (time = 24244 ms, branches = 875, failures = 46021, neighbors = 281838, filtered neighbors = 45477, accepted neigbors = 86, memory used = 444.59 MB)\n",
      "I0000 00:00:1711738841.197494 1100508 search.cc:282] End search (time = 24249 ms, branches = 875, failures = 46021, memory used = 444.59 MB, speed = 36 branches/s)\n"
     ]
    },
    {
     "data": {
      "text/html": [
       "<pre style=\"white-space:pre;overflow-x:auto;line-height:normal;font-family:Menlo,'DejaVu Sans Mono',consolas,'Courier New',monospace\">Starting iteration <span style=\"color: #008080; text-decoration-color: #008080; font-weight: bold\">14</span> at <span style=\"color: #00ff00; text-decoration-color: #00ff00; font-weight: bold\">07:00:41</span> PM<span style=\"color: #808000; text-decoration-color: #808000\">...</span> Elapsed time: <span style=\"color: #00ff00; text-decoration-color: #00ff00; font-weight: bold\">0:01:29</span>.<span style=\"color: #008080; text-decoration-color: #008080; font-weight: bold\">758426</span>  Explore: <span style=\"color: #008080; text-decoration-color: #008080; font-weight: bold\">0</span>  Objective: <span style=\"color: #008080; text-decoration-color: #008080; font-weight: bold\">20591</span>\n",
       "</pre>\n"
      ],
      "text/plain": [
       "Starting iteration \u001b[1;36m14\u001b[0m at \u001b[1;92m07:00:41\u001b[0m PM\u001b[33m...\u001b[0m Elapsed time: \u001b[1;92m0:01:29\u001b[0m.\u001b[1;36m758426\u001b[0m  Explore: \u001b[1;36m0\u001b[0m  Objective: \u001b[1;36m20591\u001b[0m\n"
      ]
     },
     "metadata": {},
     "output_type": "display_data"
    },
    {
     "name": "stderr",
     "output_type": "stream",
     "text": [
      "I0000 00:00:1711738841.713370 1100508 search.cc:282] Start search (memory used = 445.54 MB)\n",
      "I0000 00:00:1711738841.718255 1100508 search.cc:282] Root node processed (time = 4 ms, constraints = 4799, memory used = 445.54 MB)\n",
      "I0000 00:00:1711738841.732575 1100508 search.cc:282] Solution #100 (20591, maximum = 24078, time = 19 ms, branches = 908, failures = 46021, depth = 33, Exchange, neighbors = 281838, filtered neighbors = 45477, accepted neighbors = 86, memory used = 445.54 MB, limit = 20%)\n",
      "I0000 00:00:1711738841.844694 1100508 search.cc:282] Solution #101 (20588, maximum = 24078, time = 131 ms, branches = 912, failures = 46070, depth = 33, Exchange, neighbors = 281988, filtered neighbors = 45525, accepted neighbors = 87, memory used = 445.54 MB, limit = 40%)\n",
      "I0000 00:00:1711738846.589276 1100508 search.cc:282] Solution #102 (20516, maximum = 24078, time = 4875 ms, branches = 917, failures = 48153, depth = 33, Exchange, neighbors = 285880, filtered neighbors = 47607, accepted neighbors = 88, memory used = 445.54 MB, limit = 60%)\n"
     ]
    },
    {
     "data": {
      "text/html": [
       "<pre style=\"white-space:pre;overflow-x:auto;line-height:normal;font-family:Menlo,'DejaVu Sans Mono',consolas,'Courier New',monospace\">Solution #<span style=\"color: #008080; text-decoration-color: #008080; font-weight: bold\">90</span>  found as: <span style=\"color: #008080; text-decoration-color: #008080; font-weight: bold\">20487</span> Progress: <span style=\"color: #008080; text-decoration-color: #008080; font-weight: bold\">80</span>%  Branches: <span style=\"color: #008080; text-decoration-color: #008080; font-weight: bold\">921</span> Accepted Neighbors: <span style=\"color: #008080; text-decoration-color: #008080; font-weight: bold\">89</span> Model Stamp <span style=\"color: #008080; text-decoration-color: #008080; font-weight: bold\">297459</span> Wall Time: \n",
       "<span style=\"color: #008080; text-decoration-color: #008080; font-weight: bold\">121160</span>\n",
       "</pre>\n"
      ],
      "text/plain": [
       "Solution #\u001b[1;36m90\u001b[0m  found as: \u001b[1;36m20487\u001b[0m Progress: \u001b[1;36m80\u001b[0m%  Branches: \u001b[1;36m921\u001b[0m Accepted Neighbors: \u001b[1;36m89\u001b[0m Model Stamp \u001b[1;36m297459\u001b[0m Wall Time: \n",
       "\u001b[1;36m121160\u001b[0m\n"
      ]
     },
     "metadata": {},
     "output_type": "display_data"
    },
    {
     "name": "stderr",
     "output_type": "stream",
     "text": [
      "I0000 00:00:1711738848.795068 1100508 search.cc:282] Solution #103 (20487, maximum = 24078, time = 7081 ms, branches = 921, failures = 49122, depth = 33, Exchange, neighbors = 287783, filtered neighbors = 48575, accepted neighbors = 89, memory used = 445.54 MB, limit = 80%)\n",
      "I0000 00:00:1711738866.720486 1100508 search.cc:282] Finished search tree (time = 25006 ms, branches = 926, failures = 57024, neighbors = 301754, filtered neighbors = 56441, accepted neigbors = 89, memory used = 445.54 MB)\n",
      "I0000 00:00:1711738866.723512 1100508 search.cc:282] End search (time = 25010 ms, branches = 926, failures = 57024, memory used = 445.54 MB, speed = 37 branches/s)\n"
     ]
    },
    {
     "data": {
      "text/html": [
       "<pre style=\"white-space:pre;overflow-x:auto;line-height:normal;font-family:Menlo,'DejaVu Sans Mono',consolas,'Courier New',monospace\">Starting iteration <span style=\"color: #008080; text-decoration-color: #008080; font-weight: bold\">15</span> at <span style=\"color: #00ff00; text-decoration-color: #00ff00; font-weight: bold\">07:01:07</span> PM<span style=\"color: #808000; text-decoration-color: #808000\">...</span> Elapsed time: <span style=\"color: #00ff00; text-decoration-color: #00ff00; font-weight: bold\">0:01:55</span>.<span style=\"color: #008080; text-decoration-color: #008080; font-weight: bold\">141405</span>  Explore: <span style=\"color: #008080; text-decoration-color: #008080; font-weight: bold\">100000000000</span>  Objective: <span style=\"color: #008080; text-decoration-color: #008080; font-weight: bold\">20487</span>\n",
       "</pre>\n"
      ],
      "text/plain": [
       "Starting iteration \u001b[1;36m15\u001b[0m at \u001b[1;92m07:01:07\u001b[0m PM\u001b[33m...\u001b[0m Elapsed time: \u001b[1;92m0:01:55\u001b[0m.\u001b[1;36m141405\u001b[0m  Explore: \u001b[1;36m100000000000\u001b[0m  Objective: \u001b[1;36m20487\u001b[0m\n"
      ]
     },
     "metadata": {},
     "output_type": "display_data"
    },
    {
     "name": "stderr",
     "output_type": "stream",
     "text": [
      "I0000 00:00:1711738867.094808 1100508 search.cc:282] Start search (memory used = 446.48 MB)\n",
      "I0000 00:00:1711738867.099386 1100508 search.cc:282] Root node processed (time = 4 ms, constraints = 4799, memory used = 446.48 MB)\n",
      "I0000 00:00:1711738867.111578 1100508 search.cc:282] Solution #104 (20487, maximum = 24078, time = 16 ms, branches = 959, failures = 57024, depth = 33, Exchange, neighbors = 301754, filtered neighbors = 56441, accepted neighbors = 89, memory used = 446.48 MB, limit = 20%)\n",
      "I0000 00:00:1711738869.957351 1100508 search.cc:282] Solution #105 (20484, maximum = 24078, time = 2862 ms, branches = 963, failures = 58291, depth = 33, Exchange, neighbors = 303449, filtered neighbors = 57707, accepted neighbors = 90, memory used = 446.48 MB, limit = 40%)\n",
      "I0000 00:00:1711738870.056723 1100508 search.cc:282] Solution #106 (20443, maximum = 24078, time = 2961 ms, branches = 968, failures = 58335, depth = 33, Exchange, neighbors = 303492, filtered neighbors = 57750, accepted neighbors = 91, memory used = 446.48 MB, limit = 60%)\n",
      "I0000 00:00:1711738871.985086 1100508 search.cc:282] Solution #107 (20406, maximum = 24078, time = 4890 ms, branches = 972, failures = 59182, depth = 33, Exchange, neighbors = 304574, filtered neighbors = 58596, accepted neighbors = 92, memory used = 446.48 MB, limit = 80%)\n",
      "I0000 00:00:1711738872.069883 1100508 search.cc:282] Solution #108 (20393, maximum = 24078, time = 4974 ms, branches = 978, failures = 59217, depth = 33, Exchange, neighbors = 304608, filtered neighbors = 58630, accepted neighbors = 93, memory used = 446.48 MB, limit = 100%)\n",
      "I0000 00:00:1711738872.070199 1100508 search.cc:282] Finished search tree (time = 4975 ms, branches = 978, failures = 59250, neighbors = 304608, filtered neighbors = 58630, accepted neigbors = 93, memory used = 446.48 MB)\n",
      "I0000 00:00:1711738872.073922 1100508 search.cc:282] End search (time = 4979 ms, branches = 978, failures = 59250, memory used = 446.48 MB, speed = 196 branches/s)\n"
     ]
    },
    {
     "data": {
      "text/html": [
       "<pre style=\"white-space:pre;overflow-x:auto;line-height:normal;font-family:Menlo,'DejaVu Sans Mono',consolas,'Courier New',monospace\">Starting iteration <span style=\"color: #008080; text-decoration-color: #008080; font-weight: bold\">16</span> at <span style=\"color: #00ff00; text-decoration-color: #00ff00; font-weight: bold\">07:01:12</span> PM<span style=\"color: #808000; text-decoration-color: #808000\">...</span> Elapsed time: <span style=\"color: #00ff00; text-decoration-color: #00ff00; font-weight: bold\">0:02:00</span>.<span style=\"color: #008080; text-decoration-color: #008080; font-weight: bold\">503161</span>  Explore: <span style=\"color: #008080; text-decoration-color: #008080; font-weight: bold\">100000000000</span>  Objective: <span style=\"color: #008080; text-decoration-color: #008080; font-weight: bold\">20393</span>\n",
       "</pre>\n"
      ],
      "text/plain": [
       "Starting iteration \u001b[1;36m16\u001b[0m at \u001b[1;92m07:01:12\u001b[0m PM\u001b[33m...\u001b[0m Elapsed time: \u001b[1;92m0:02:00\u001b[0m.\u001b[1;36m503161\u001b[0m  Explore: \u001b[1;36m100000000000\u001b[0m  Objective: \u001b[1;36m20393\u001b[0m\n"
      ]
     },
     "metadata": {},
     "output_type": "display_data"
    },
    {
     "name": "stderr",
     "output_type": "stream",
     "text": [
      "I0000 00:00:1711738872.458338 1100508 search.cc:282] Start search (memory used = 447.44 MB)\n",
      "I0000 00:00:1711738872.463179 1100508 search.cc:282] Root node processed (time = 4 ms, constraints = 4799, memory used = 447.44 MB)\n",
      "I0000 00:00:1711738872.476149 1100508 search.cc:282] Solution #109 (20393, maximum = 24078, time = 17 ms, branches = 1011, failures = 59250, depth = 33, Exchange, neighbors = 304608, filtered neighbors = 58630, accepted neighbors = 93, memory used = 447.44 MB, limit = 20%)\n"
     ]
    },
    {
     "data": {
      "text/html": [
       "<pre style=\"white-space:pre;overflow-x:auto;line-height:normal;font-family:Menlo,'DejaVu Sans Mono',consolas,'Courier New',monospace\">Solution #<span style=\"color: #008080; text-decoration-color: #008080; font-weight: bold\">95</span>  found as: <span style=\"color: #008080; text-decoration-color: #008080; font-weight: bold\">20388</span> Progress: <span style=\"color: #008080; text-decoration-color: #008080; font-weight: bold\">40</span>%  Branches: <span style=\"color: #008080; text-decoration-color: #008080; font-weight: bold\">1015</span> Accepted Neighbors: <span style=\"color: #008080; text-decoration-color: #008080; font-weight: bold\">94</span> Model Stamp <span style=\"color: #008080; text-decoration-color: #008080; font-weight: bold\">347257</span> Wall Time: \n",
       "<span style=\"color: #008080; text-decoration-color: #008080; font-weight: bold\">144916</span>\n",
       "</pre>\n"
      ],
      "text/plain": [
       "Solution #\u001b[1;36m95\u001b[0m  found as: \u001b[1;36m20388\u001b[0m Progress: \u001b[1;36m40\u001b[0m%  Branches: \u001b[1;36m1015\u001b[0m Accepted Neighbors: \u001b[1;36m94\u001b[0m Model Stamp \u001b[1;36m347257\u001b[0m Wall Time: \n",
       "\u001b[1;36m144916\u001b[0m\n"
      ]
     },
     "metadata": {},
     "output_type": "display_data"
    },
    {
     "name": "stderr",
     "output_type": "stream",
     "text": [
      "I0000 00:00:1711738872.551125 1100508 search.cc:282] Solution #110 (20388, maximum = 24078, time = 92 ms, branches = 1015, failures = 59281, depth = 33, Exchange, neighbors = 304654, filtered neighbors = 58660, accepted neighbors = 94, memory used = 447.44 MB, limit = 40%)\n",
      "I0000 00:00:1711738876.961295 1100508 search.cc:282] Solution #111 (20356, maximum = 24078, time = 4502 ms, branches = 1020, failures = 61223, depth = 33, Exchange, neighbors = 307045, filtered neighbors = 60601, accepted neighbors = 95, memory used = 447.44 MB, limit = 60%)\n",
      "I0000 00:00:1711738890.289093 1100508 search.cc:282] Solution #112 (20295, maximum = 24078, time = 17830 ms, branches = 1024, failures = 67107, depth = 33, Exchange, neighbors = 317420, filtered neighbors = 66484, accepted neighbors = 96, memory used = 447.44 MB, limit = 80%)\n",
      "I0000 00:00:1711738897.421908 1100508 search.cc:282] Solution #113 (20270, maximum = 24078, time = 24963 ms, branches = 1030, failures = 70250, depth = 33, Exchange, neighbors = 323611, filtered neighbors = 69626, accepted neighbors = 97, memory used = 447.44 MB, limit = 100%)\n",
      "I0000 00:00:1711738897.422208 1100508 search.cc:282] Finished search tree (time = 24963 ms, branches = 1030, failures = 70283, neighbors = 323611, filtered neighbors = 69626, accepted neigbors = 97, memory used = 447.44 MB)\n",
      "I0000 00:00:1711738897.424691 1100508 search.cc:282] End search (time = 24966 ms, branches = 1030, failures = 70283, memory used = 447.44 MB, speed = 41 branches/s)\n"
     ]
    },
    {
     "data": {
      "text/html": [
       "<pre style=\"white-space:pre;overflow-x:auto;line-height:normal;font-family:Menlo,'DejaVu Sans Mono',consolas,'Courier New',monospace\">Starting iteration <span style=\"color: #008080; text-decoration-color: #008080; font-weight: bold\">17</span> at <span style=\"color: #00ff00; text-decoration-color: #00ff00; font-weight: bold\">07:01:37</span> PM<span style=\"color: #808000; text-decoration-color: #808000\">...</span> Elapsed time: <span style=\"color: #00ff00; text-decoration-color: #00ff00; font-weight: bold\">0:02:25</span>.<span style=\"color: #008080; text-decoration-color: #008080; font-weight: bold\">846533</span>  Explore: <span style=\"color: #008080; text-decoration-color: #008080; font-weight: bold\">100000000000</span>  Objective: <span style=\"color: #008080; text-decoration-color: #008080; font-weight: bold\">20270</span>\n",
       "</pre>\n"
      ],
      "text/plain": [
       "Starting iteration \u001b[1;36m17\u001b[0m at \u001b[1;92m07:01:37\u001b[0m PM\u001b[33m...\u001b[0m Elapsed time: \u001b[1;92m0:02:25\u001b[0m.\u001b[1;36m846533\u001b[0m  Explore: \u001b[1;36m100000000000\u001b[0m  Objective: \u001b[1;36m20270\u001b[0m\n"
      ]
     },
     "metadata": {},
     "output_type": "display_data"
    },
    {
     "name": "stderr",
     "output_type": "stream",
     "text": [
      "I0000 00:00:1711738897.800127 1100508 search.cc:282] Start search (memory used = 448.39 MB)\n",
      "I0000 00:00:1711738897.804972 1100508 search.cc:282] Root node processed (time = 4 ms, constraints = 4799, memory used = 448.39 MB)\n",
      "I0000 00:00:1711738897.817377 1100508 search.cc:282] Solution #114 (20270, maximum = 24078, time = 17 ms, branches = 1063, failures = 70283, depth = 33, Exchange, neighbors = 323611, filtered neighbors = 69626, accepted neighbors = 97, memory used = 448.39 MB, limit = 16%)\n",
      "I0000 00:00:1711738910.071553 1100508 search.cc:282] Solution #115 (20268, maximum = 24078, time = 12271 ms, branches = 1067, failures = 75694, depth = 33, Exchange, neighbors = 333739, filtered neighbors = 75036, accepted neighbors = 98, memory used = 448.39 MB, limit = 45%)\n"
     ]
    },
    {
     "data": {
      "text/html": [
       "<pre style=\"white-space:pre;overflow-x:auto;line-height:normal;font-family:Menlo,'DejaVu Sans Mono',consolas,'Courier New',monospace\">Solution #<span style=\"color: #008080; text-decoration-color: #008080; font-weight: bold\">100</span>  found as: <span style=\"color: #008080; text-decoration-color: #008080; font-weight: bold\">20239</span> Progress: <span style=\"color: #008080; text-decoration-color: #008080; font-weight: bold\">64</span>%  Branches: <span style=\"color: #008080; text-decoration-color: #008080; font-weight: bold\">1072</span> Accepted Neighbors: <span style=\"color: #008080; text-decoration-color: #008080; font-weight: bold\">99</span> Model Stamp <span style=\"color: #008080; text-decoration-color: #008080; font-weight: bold\">413123</span> Wall Time: \n",
       "<span style=\"color: #008080; text-decoration-color: #008080; font-weight: bold\">187697</span>\n",
       "</pre>\n"
      ],
      "text/plain": [
       "Solution #\u001b[1;36m100\u001b[0m  found as: \u001b[1;36m20239\u001b[0m Progress: \u001b[1;36m64\u001b[0m%  Branches: \u001b[1;36m1072\u001b[0m Accepted Neighbors: \u001b[1;36m99\u001b[0m Model Stamp \u001b[1;36m413123\u001b[0m Wall Time: \n",
       "\u001b[1;36m187697\u001b[0m\n"
      ]
     },
     "metadata": {},
     "output_type": "display_data"
    },
    {
     "name": "stderr",
     "output_type": "stream",
     "text": [
      "I0000 00:00:1711738915.331546 1100508 search.cc:282] Solution #116 (20239, maximum = 24078, time = 17531 ms, branches = 1072, failures = 78010, depth = 33, Exchange, neighbors = 337425, filtered neighbors = 77351, accepted neighbors = 99, memory used = 448.39 MB, limit = 64%)\n",
      "I0000 00:00:1711738916.339400 1100508 search.cc:282] Solution #117 (20216, maximum = 24078, time = 18539 ms, branches = 1076, failures = 78454, depth = 33, Exchange, neighbors = 338306, filtered neighbors = 77794, accepted neighbors = 100, memory used = 448.39 MB, limit = 68%)\n",
      "I0000 00:00:1711738924.753706 1100508 search.cc:282] Solution #118 (20172, maximum = 24078, time = 26953 ms, branches = 1082, failures = 82135, depth = 33, Exchange, neighbors = 345841, filtered neighbors = 81474, accepted neighbors = 101, memory used = 448.39 MB, limit = 99%)\n",
      "I0000 00:00:1711738924.796259 1100508 search.cc:282] Finished search tree (time = 26996 ms, branches = 1085, failures = 82187, neighbors = 345880, filtered neighbors = 81491, accepted neigbors = 101, memory used = 448.39 MB)\n",
      "I0000 00:00:1711738924.799927 1100508 search.cc:282] End search (time = 26999 ms, branches = 1085, failures = 82187, memory used = 448.39 MB, speed = 40 branches/s)\n"
     ]
    },
    {
     "data": {
      "text/html": [
       "<pre style=\"white-space:pre;overflow-x:auto;line-height:normal;font-family:Menlo,'DejaVu Sans Mono',consolas,'Courier New',monospace\">Starting iteration <span style=\"color: #008080; text-decoration-color: #008080; font-weight: bold\">18</span> at <span style=\"color: #00ff00; text-decoration-color: #00ff00; font-weight: bold\">07:02:05</span> PM<span style=\"color: #808000; text-decoration-color: #808000\">...</span> Elapsed time: <span style=\"color: #00ff00; text-decoration-color: #00ff00; font-weight: bold\">0:02:53</span>.<span style=\"color: #008080; text-decoration-color: #008080; font-weight: bold\">223882</span>  Explore: <span style=\"color: #008080; text-decoration-color: #008080; font-weight: bold\">100000000000</span>  Objective: <span style=\"color: #008080; text-decoration-color: #008080; font-weight: bold\">20172</span>\n",
       "</pre>\n"
      ],
      "text/plain": [
       "Starting iteration \u001b[1;36m18\u001b[0m at \u001b[1;92m07:02:05\u001b[0m PM\u001b[33m...\u001b[0m Elapsed time: \u001b[1;92m0:02:53\u001b[0m.\u001b[1;36m223882\u001b[0m  Explore: \u001b[1;36m100000000000\u001b[0m  Objective: \u001b[1;36m20172\u001b[0m\n"
      ]
     },
     "metadata": {},
     "output_type": "display_data"
    },
    {
     "name": "stderr",
     "output_type": "stream",
     "text": [
      "I0000 00:00:1711738925.177249 1100508 search.cc:282] Start search (memory used = 449.33 MB)\n",
      "I0000 00:00:1711738925.181858 1100508 search.cc:282] Root node processed (time = 4 ms, constraints = 4799, memory used = 449.33 MB)\n",
      "I0000 00:00:1711738925.194321 1100508 search.cc:282] Solution #119 (20172, maximum = 24078, time = 16 ms, branches = 1118, failures = 82187, depth = 33, Exchange, neighbors = 345880, filtered neighbors = 81491, accepted neighbors = 101, memory used = 449.33 MB, limit = 16%)\n",
      "I0000 00:00:1711738927.055455 1100508 search.cc:282] Solution #120 (20165, maximum = 24078, time = 1878 ms, branches = 1122, failures = 83011, depth = 33, Exchange, neighbors = 347026, filtered neighbors = 82314, accepted neighbors = 102, memory used = 449.33 MB, limit = 33%)\n",
      "I0000 00:00:1711738928.320655 1100508 search.cc:282] Solution #121 (20164, maximum = 24078, time = 3143 ms, branches = 1127, failures = 83571, depth = 33, Relocate<1>, neighbors = 350286, filtered neighbors = 82873, accepted neighbors = 103, memory used = 449.33 MB, limit = 50%)\n"
     ]
    },
    {
     "data": {
      "text/html": [
       "<pre style=\"white-space:pre;overflow-x:auto;line-height:normal;font-family:Menlo,'DejaVu Sans Mono',consolas,'Courier New',monospace\">Solution #<span style=\"color: #008080; text-decoration-color: #008080; font-weight: bold\">105</span>  found as: <span style=\"color: #008080; text-decoration-color: #008080; font-weight: bold\">20125</span> Progress: <span style=\"color: #008080; text-decoration-color: #008080; font-weight: bold\">66</span>%  Branches: <span style=\"color: #008080; text-decoration-color: #008080; font-weight: bold\">1131</span> Accepted Neighbors: <span style=\"color: #008080; text-decoration-color: #008080; font-weight: bold\">104</span> Model Stamp <span style=\"color: #008080; text-decoration-color: #008080; font-weight: bold\">439798</span> Wall Time: \n",
       "<span style=\"color: #008080; text-decoration-color: #008080; font-weight: bold\">200930</span>\n",
       "</pre>\n"
      ],
      "text/plain": [
       "Solution #\u001b[1;36m105\u001b[0m  found as: \u001b[1;36m20125\u001b[0m Progress: \u001b[1;36m66\u001b[0m%  Branches: \u001b[1;36m1131\u001b[0m Accepted Neighbors: \u001b[1;36m104\u001b[0m Model Stamp \u001b[1;36m439798\u001b[0m Wall Time: \n",
       "\u001b[1;36m200930\u001b[0m\n"
      ]
     },
     "metadata": {},
     "output_type": "display_data"
    },
    {
     "name": "stderr",
     "output_type": "stream",
     "text": [
      "I0000 00:00:1711738928.564449 1100508 search.cc:282] Solution #122 (20125, maximum = 24078, time = 3387 ms, branches = 1131, failures = 83676, depth = 33, Exchange, neighbors = 350437, filtered neighbors = 82977, accepted neighbors = 104, memory used = 449.33 MB, limit = 66%)\n",
      "I0000 00:00:1711738929.352739 1100508 search.cc:282] Solution #123 (20091, maximum = 24078, time = 4175 ms, branches = 1137, failures = 84025, depth = 33, Exchange, neighbors = 351142, filtered neighbors = 83325, accepted neighbors = 105, memory used = 449.33 MB, limit = 83%)\n",
      "I0000 00:00:1711738929.457220 1100508 search.cc:282] Solution #124 (20024, maximum = 24078, time = 4279 ms, branches = 1141, failures = 84069, depth = 33, Exchange, neighbors = 351707, filtered neighbors = 83368, accepted neighbors = 106, memory used = 449.33 MB, limit = 100%)\n",
      "I0000 00:00:1711738929.457532 1100508 search.cc:282] Finished search tree (time = 4280 ms, branches = 1141, failures = 84101, neighbors = 351707, filtered neighbors = 83368, accepted neigbors = 106, memory used = 449.33 MB)\n",
      "I0000 00:00:1711738929.458791 1100508 search.cc:282] End search (time = 4281 ms, branches = 1141, failures = 84101, memory used = 449.33 MB, speed = 266 branches/s)\n"
     ]
    },
    {
     "data": {
      "text/html": [
       "<pre style=\"white-space:pre;overflow-x:auto;line-height:normal;font-family:Menlo,'DejaVu Sans Mono',consolas,'Courier New',monospace\">Starting iteration <span style=\"color: #008080; text-decoration-color: #008080; font-weight: bold\">19</span> at <span style=\"color: #00ff00; text-decoration-color: #00ff00; font-weight: bold\">07:02:09</span> PM<span style=\"color: #808000; text-decoration-color: #808000\">...</span> Elapsed time: <span style=\"color: #00ff00; text-decoration-color: #00ff00; font-weight: bold\">0:02:57</span>.<span style=\"color: #008080; text-decoration-color: #008080; font-weight: bold\">885333</span>  Explore: <span style=\"color: #008080; text-decoration-color: #008080; font-weight: bold\">100000000000</span>  Objective: <span style=\"color: #008080; text-decoration-color: #008080; font-weight: bold\">20024</span>\n",
       "</pre>\n"
      ],
      "text/plain": [
       "Starting iteration \u001b[1;36m19\u001b[0m at \u001b[1;92m07:02:09\u001b[0m PM\u001b[33m...\u001b[0m Elapsed time: \u001b[1;92m0:02:57\u001b[0m.\u001b[1;36m885333\u001b[0m  Explore: \u001b[1;36m100000000000\u001b[0m  Objective: \u001b[1;36m20024\u001b[0m\n"
      ]
     },
     "metadata": {},
     "output_type": "display_data"
    },
    {
     "name": "stderr",
     "output_type": "stream",
     "text": [
      "I0000 00:00:1711738929.839186 1100508 search.cc:282] Start search (memory used = 450.29 MB)\n",
      "I0000 00:00:1711738929.844206 1100508 search.cc:282] Root node processed (time = 4 ms, constraints = 4799, memory used = 450.29 MB)\n",
      "I0000 00:00:1711738929.856461 1100508 search.cc:282] Solution #125 (20024, maximum = 24078, time = 17 ms, branches = 1174, failures = 84101, depth = 33, Exchange, neighbors = 351707, filtered neighbors = 83368, accepted neighbors = 106, memory used = 450.29 MB, limit = 16%)\n",
      "I0000 00:00:1711738956.834002 1100508 search.cc:282] Finished search tree (time = 26994 ms, branches = 1177, failures = 96038, neighbors = 370039, filtered neighbors = 95269, accepted neigbors = 106, memory used = 450.29 MB)\n",
      "I0000 00:00:1711738956.837628 1100508 search.cc:282] End search (time = 26998 ms, branches = 1177, failures = 96038, memory used = 450.29 MB, speed = 43 branches/s)\n"
     ]
    },
    {
     "data": {
      "text/html": [
       "<pre style=\"white-space:pre;overflow-x:auto;line-height:normal;font-family:Menlo,'DejaVu Sans Mono',consolas,'Courier New',monospace\">Starting iteration <span style=\"color: #008080; text-decoration-color: #008080; font-weight: bold\">20</span> at <span style=\"color: #00ff00; text-decoration-color: #00ff00; font-weight: bold\">07:02:36</span> PM<span style=\"color: #808000; text-decoration-color: #808000\">...</span> Elapsed time: <span style=\"color: #00ff00; text-decoration-color: #00ff00; font-weight: bold\">0:03:24</span>.<span style=\"color: #008080; text-decoration-color: #008080; font-weight: bold\">983583</span>  Explore: <span style=\"color: #008080; text-decoration-color: #008080; font-weight: bold\">100000000000</span>  Objective: <span style=\"color: #008080; text-decoration-color: #008080; font-weight: bold\">20024</span>\n",
       "</pre>\n"
      ],
      "text/plain": [
       "Starting iteration \u001b[1;36m20\u001b[0m at \u001b[1;92m07:02:36\u001b[0m PM\u001b[33m...\u001b[0m Elapsed time: \u001b[1;92m0:03:24\u001b[0m.\u001b[1;36m983583\u001b[0m  Explore: \u001b[1;36m100000000000\u001b[0m  Objective: \u001b[1;36m20024\u001b[0m\n"
      ]
     },
     "metadata": {},
     "output_type": "display_data"
    },
    {
     "name": "stderr",
     "output_type": "stream",
     "text": [
      "I0000 00:00:1711738956.937920 1100508 search.cc:282] Start search (memory used = 450.29 MB)\n",
      "I0000 00:00:1711738956.942653 1100508 search.cc:282] Root node processed (time = 4 ms, constraints = 4799, memory used = 450.29 MB)\n",
      "I0000 00:00:1711738956.955432 1100508 search.cc:282] Solution #126 (20024, maximum = 24078, time = 17 ms, branches = 1210, failures = 96038, depth = 33, Exchange, neighbors = 370039, filtered neighbors = 95269, accepted neighbors = 106, memory used = 450.29 MB, limit = 16%)\n",
      "I0000 00:00:1711738957.613002 1100508 search.cc:282] Solution #127 (20020, maximum = 24078, time = 674 ms, branches = 1214, failures = 96323, depth = 33, Exchange, neighbors = 370748, filtered neighbors = 95553, accepted neighbors = 107, memory used = 450.29 MB, limit = 33%)\n",
      "I0000 00:00:1711738958.203963 1100508 search.cc:282] Solution #128 (20014, maximum = 24078, time = 1265 ms, branches = 1219, failures = 96582, depth = 33, Exchange, neighbors = 371321, filtered neighbors = 95811, accepted neighbors = 108, memory used = 450.29 MB, limit = 50%)\n"
     ]
    },
    {
     "data": {
      "text/html": [
       "<pre style=\"white-space:pre;overflow-x:auto;line-height:normal;font-family:Menlo,'DejaVu Sans Mono',consolas,'Courier New',monospace\">Solution #<span style=\"color: #008080; text-decoration-color: #008080; font-weight: bold\">110</span>  found as: <span style=\"color: #008080; text-decoration-color: #008080; font-weight: bold\">20004</span> Progress: <span style=\"color: #008080; text-decoration-color: #008080; font-weight: bold\">66</span>%  Branches: <span style=\"color: #008080; text-decoration-color: #008080; font-weight: bold\">1223</span> Accepted Neighbors: <span style=\"color: #008080; text-decoration-color: #008080; font-weight: bold\">109</span> Model Stamp <span style=\"color: #008080; text-decoration-color: #008080; font-weight: bold\">499145</span> Wall Time: \n",
       "<span style=\"color: #008080; text-decoration-color: #008080; font-weight: bold\">231583</span>\n",
       "</pre>\n"
      ],
      "text/plain": [
       "Solution #\u001b[1;36m110\u001b[0m  found as: \u001b[1;36m20004\u001b[0m Progress: \u001b[1;36m66\u001b[0m%  Branches: \u001b[1;36m1223\u001b[0m Accepted Neighbors: \u001b[1;36m109\u001b[0m Model Stamp \u001b[1;36m499145\u001b[0m Wall Time: \n",
       "\u001b[1;36m231583\u001b[0m\n"
      ]
     },
     "metadata": {},
     "output_type": "display_data"
    },
    {
     "name": "stderr",
     "output_type": "stream",
     "text": [
      "I0000 00:00:1711738959.217632 1100508 search.cc:282] Solution #129 (20004, maximum = 24078, time = 2279 ms, branches = 1223, failures = 97019, depth = 33, Exchange, neighbors = 372519, filtered neighbors = 96247, accepted neighbors = 109, memory used = 450.29 MB, limit = 66%)\n",
      "I0000 00:00:1711738959.230302 1100508 search.cc:282] Solution #130 (19981, maximum = 24078, time = 2292 ms, branches = 1229, failures = 97024, depth = 33, Exchange, neighbors = 372529, filtered neighbors = 96251, accepted neighbors = 110, memory used = 450.29 MB, limit = 83%)\n",
      "I0000 00:00:1711738961.749505 1100508 search.cc:282] Solution #131 (19968, maximum = 24078, time = 4811 ms, branches = 1233, failures = 98136, depth = 33, Exchange, neighbors = 374618, filtered neighbors = 97362, accepted neighbors = 111, memory used = 450.29 MB, limit = 100%)\n",
      "I0000 00:00:1711738961.749822 1100508 search.cc:282] Finished search tree (time = 4811 ms, branches = 1233, failures = 98168, neighbors = 374618, filtered neighbors = 97362, accepted neigbors = 111, memory used = 450.29 MB)\n",
      "I0000 00:00:1711738961.752267 1100508 search.cc:282] End search (time = 4814 ms, branches = 1233, failures = 98168, memory used = 450.29 MB, speed = 256 branches/s)\n"
     ]
    },
    {
     "data": {
      "text/html": [
       "<pre style=\"white-space:pre;overflow-x:auto;line-height:normal;font-family:Menlo,'DejaVu Sans Mono',consolas,'Courier New',monospace\">Starting iteration <span style=\"color: #008080; text-decoration-color: #008080; font-weight: bold\">21</span> at <span style=\"color: #00ff00; text-decoration-color: #00ff00; font-weight: bold\">07:02:42</span> PM<span style=\"color: #808000; text-decoration-color: #808000\">...</span> Elapsed time: <span style=\"color: #00ff00; text-decoration-color: #00ff00; font-weight: bold\">0:03:30</span>.<span style=\"color: #008080; text-decoration-color: #008080; font-weight: bold\">192411</span>  Explore: <span style=\"color: #008080; text-decoration-color: #008080; font-weight: bold\">100000000000</span>  Objective: <span style=\"color: #008080; text-decoration-color: #008080; font-weight: bold\">19968</span>\n",
       "</pre>\n"
      ],
      "text/plain": [
       "Starting iteration \u001b[1;36m21\u001b[0m at \u001b[1;92m07:02:42\u001b[0m PM\u001b[33m...\u001b[0m Elapsed time: \u001b[1;92m0:03:30\u001b[0m.\u001b[1;36m192411\u001b[0m  Explore: \u001b[1;36m100000000000\u001b[0m  Objective: \u001b[1;36m19968\u001b[0m\n"
      ]
     },
     "metadata": {},
     "output_type": "display_data"
    },
    {
     "name": "stderr",
     "output_type": "stream",
     "text": [
      "I0000 00:00:1711738962.146387 1100508 search.cc:282] Start search (memory used = 451.32 MB)\n",
      "I0000 00:00:1711738962.151175 1100508 search.cc:282] Root node processed (time = 4 ms, constraints = 4799, memory used = 451.32 MB)\n",
      "I0000 00:00:1711738962.164073 1100508 search.cc:282] Solution #132 (19968, maximum = 24078, time = 17 ms, branches = 1266, failures = 98168, depth = 33, Exchange, neighbors = 374618, filtered neighbors = 97362, accepted neighbors = 111, memory used = 451.32 MB, limit = 16%)\n",
      "I0000 00:00:1711738964.765362 1100508 search.cc:282] Solution #133 (19958, maximum = 24078, time = 2618 ms, branches = 1270, failures = 99316, depth = 33, Exchange, neighbors = 376217, filtered neighbors = 98509, accepted neighbors = 112, memory used = 451.32 MB, limit = 33%)\n",
      "I0000 00:00:1711738969.434469 1100508 search.cc:282] Solution #134 (19903, maximum = 24078, time = 7287 ms, branches = 1275, failures = 101359, depth = 33, Exchange, neighbors = 381782, filtered neighbors = 100551, accepted neighbors = 113, memory used = 451.32 MB, limit = 50%)\n"
     ]
    },
    {
     "data": {
      "text/html": [
       "<pre style=\"white-space:pre;overflow-x:auto;line-height:normal;font-family:Menlo,'DejaVu Sans Mono',consolas,'Courier New',monospace\">Solution #<span style=\"color: #008080; text-decoration-color: #008080; font-weight: bold\">115</span>  found as: <span style=\"color: #008080; text-decoration-color: #008080; font-weight: bold\">19892</span> Progress: <span style=\"color: #008080; text-decoration-color: #008080; font-weight: bold\">90</span>%  Branches: <span style=\"color: #008080; text-decoration-color: #008080; font-weight: bold\">1279</span> Accepted Neighbors: <span style=\"color: #008080; text-decoration-color: #008080; font-weight: bold\">114</span> Model Stamp <span style=\"color: #008080; text-decoration-color: #008080; font-weight: bold\">544484</span> Wall Time: \n",
       "<span style=\"color: #008080; text-decoration-color: #008080; font-weight: bold\">259003</span>\n",
       "</pre>\n"
      ],
      "text/plain": [
       "Solution #\u001b[1;36m115\u001b[0m  found as: \u001b[1;36m19892\u001b[0m Progress: \u001b[1;36m90\u001b[0m%  Branches: \u001b[1;36m1279\u001b[0m Accepted Neighbors: \u001b[1;36m114\u001b[0m Model Stamp \u001b[1;36m544484\u001b[0m Wall Time: \n",
       "\u001b[1;36m259003\u001b[0m\n"
      ]
     },
     "metadata": {},
     "output_type": "display_data"
    },
    {
     "name": "stderr",
     "output_type": "stream",
     "text": [
      "I0000 00:00:1711738986.637857 1100508 search.cc:282] Solution #135 (19892, maximum = 24078, time = 24491 ms, branches = 1279, failures = 108906, depth = 33, Exchange, neighbors = 398478, filtered neighbors = 108097, accepted neighbors = 114, memory used = 451.32 MB, limit = 90%)\n",
      "I0000 00:00:1711738989.155434 1100508 search.cc:282] Finished search tree (time = 27008 ms, branches = 1284, failures = 110055, neighbors = 401311, filtered neighbors = 109210, accepted neigbors = 114, memory used = 451.32 MB)\n",
      "I0000 00:00:1711738989.157903 1100508 search.cc:282] End search (time = 27011 ms, branches = 1284, failures = 110055, memory used = 451.32 MB, speed = 47 branches/s)\n"
     ]
    },
    {
     "data": {
      "text/html": [
       "<pre style=\"white-space:pre;overflow-x:auto;line-height:normal;font-family:Menlo,'DejaVu Sans Mono',consolas,'Courier New',monospace\">Starting iteration <span style=\"color: #008080; text-decoration-color: #008080; font-weight: bold\">22</span> at <span style=\"color: #00ff00; text-decoration-color: #00ff00; font-weight: bold\">07:03:09</span> PM<span style=\"color: #808000; text-decoration-color: #808000\">...</span> Elapsed time: <span style=\"color: #00ff00; text-decoration-color: #00ff00; font-weight: bold\">0:03:57</span>.<span style=\"color: #008080; text-decoration-color: #008080; font-weight: bold\">573832</span>  Explore: <span style=\"color: #008080; text-decoration-color: #008080; font-weight: bold\">0</span>  Objective: <span style=\"color: #008080; text-decoration-color: #008080; font-weight: bold\">19892</span>\n",
       "</pre>\n"
      ],
      "text/plain": [
       "Starting iteration \u001b[1;36m22\u001b[0m at \u001b[1;92m07:03:09\u001b[0m PM\u001b[33m...\u001b[0m Elapsed time: \u001b[1;92m0:03:57\u001b[0m.\u001b[1;36m573832\u001b[0m  Explore: \u001b[1;36m0\u001b[0m  Objective: \u001b[1;36m19892\u001b[0m\n"
      ]
     },
     "metadata": {},
     "output_type": "display_data"
    },
    {
     "name": "stderr",
     "output_type": "stream",
     "text": [
      "I0000 00:00:1711738989.527555 1100508 search.cc:282] Start search (memory used = 452.27 MB)\n",
      "I0000 00:00:1711738989.532202 1100508 search.cc:282] Root node processed (time = 4 ms, constraints = 4799, memory used = 452.27 MB)\n",
      "I0000 00:00:1711738989.545374 1100508 search.cc:282] Solution #136 (19892, maximum = 24078, time = 17 ms, branches = 1317, failures = 110055, depth = 33, Exchange, neighbors = 401311, filtered neighbors = 109210, accepted neighbors = 114, memory used = 452.27 MB, limit = 14%)\n",
      "I0000 00:00:1711738990.801694 1100508 search.cc:282] Solution #137 (19803, maximum = 24078, time = 1274 ms, branches = 1321, failures = 110598, depth = 33, Exchange, neighbors = 402377, filtered neighbors = 109752, accepted neighbors = 115, memory used = 452.27 MB, limit = 28%)\n",
      "I0000 00:00:1711738992.509824 1100508 search.cc:282] Solution #138 (19797, maximum = 24078, time = 2982 ms, branches = 1326, failures = 111356, depth = 33, Exchange, neighbors = 403538, filtered neighbors = 110509, accepted neighbors = 116, memory used = 452.27 MB, limit = 42%)\n",
      "I0000 00:00:1711738994.226391 1100508 search.cc:282] Solution #139 (19736, maximum = 24078, time = 4698 ms, branches = 1330, failures = 112118, depth = 33, Exchange, neighbors = 405083, filtered neighbors = 111270, accepted neighbors = 117, memory used = 452.27 MB, limit = 57%)\n",
      "I0000 00:00:1711738994.266583 1100508 search.cc:282] Solution #140 (19720, maximum = 24078, time = 4738 ms, branches = 1336, failures = 112135, depth = 33, Exchange, neighbors = 405112, filtered neighbors = 111286, accepted neighbors = 118, memory used = 452.27 MB, limit = 71%)\n"
     ]
    },
    {
     "data": {
      "text/html": [
       "<pre style=\"white-space:pre;overflow-x:auto;line-height:normal;font-family:Menlo,'DejaVu Sans Mono',consolas,'Courier New',monospace\">Solution #<span style=\"color: #008080; text-decoration-color: #008080; font-weight: bold\">120</span>  found as: <span style=\"color: #008080; text-decoration-color: #008080; font-weight: bold\">19701</span> Progress: <span style=\"color: #008080; text-decoration-color: #008080; font-weight: bold\">85</span>%  Branches: <span style=\"color: #008080; text-decoration-color: #008080; font-weight: bold\">1340</span> Accepted Neighbors: <span style=\"color: #008080; text-decoration-color: #008080; font-weight: bold\">119</span> Model Stamp <span style=\"color: #008080; text-decoration-color: #008080; font-weight: bold\">566473</span> Wall Time: \n",
       "<span style=\"color: #008080; text-decoration-color: #008080; font-weight: bold\">268636</span>\n",
       "</pre>\n"
      ],
      "text/plain": [
       "Solution #\u001b[1;36m120\u001b[0m  found as: \u001b[1;36m19701\u001b[0m Progress: \u001b[1;36m85\u001b[0m%  Branches: \u001b[1;36m1340\u001b[0m Accepted Neighbors: \u001b[1;36m119\u001b[0m Model Stamp \u001b[1;36m566473\u001b[0m Wall Time: \n",
       "\u001b[1;36m268636\u001b[0m\n"
      ]
     },
     "metadata": {},
     "output_type": "display_data"
    },
    {
     "name": "stderr",
     "output_type": "stream",
     "text": [
      "I0000 00:00:1711738996.270840 1100508 search.cc:282] Solution #141 (19701, maximum = 24078, time = 6743 ms, branches = 1340, failures = 113009, depth = 33, Exchange, neighbors = 407282, filtered neighbors = 112159, accepted neighbors = 119, memory used = 452.27 MB, limit = 85%)\n",
      "I0000 00:00:1711738996.558061 1100508 search.cc:282] Solution #142 (19696, maximum = 24078, time = 7030 ms, branches = 1345, failures = 113134, depth = 33, Exchange, neighbors = 407625, filtered neighbors = 112283, accepted neighbors = 120, memory used = 452.27 MB, limit = 100%)\n",
      "I0000 00:00:1711738996.558369 1100508 search.cc:282] Finished search tree (time = 7030 ms, branches = 1345, failures = 113166, neighbors = 407625, filtered neighbors = 112283, accepted neigbors = 120, memory used = 452.27 MB)\n",
      "I0000 00:00:1711738996.559647 1100508 search.cc:282] End search (time = 7032 ms, branches = 1345, failures = 113166, memory used = 452.27 MB, speed = 191 branches/s)\n"
     ]
    },
    {
     "data": {
      "text/html": [
       "<pre style=\"white-space:pre;overflow-x:auto;line-height:normal;font-family:Menlo,'DejaVu Sans Mono',consolas,'Courier New',monospace\">Starting iteration <span style=\"color: #008080; text-decoration-color: #008080; font-weight: bold\">23</span> at <span style=\"color: #00ff00; text-decoration-color: #00ff00; font-weight: bold\">07:03:16</span> PM<span style=\"color: #808000; text-decoration-color: #808000\">...</span> Elapsed time: <span style=\"color: #00ff00; text-decoration-color: #00ff00; font-weight: bold\">0:04:04</span>.<span style=\"color: #008080; text-decoration-color: #008080; font-weight: bold\">982389</span>  Explore: <span style=\"color: #008080; text-decoration-color: #008080; font-weight: bold\">100000000000</span>  Objective: <span style=\"color: #008080; text-decoration-color: #008080; font-weight: bold\">19696</span>\n",
       "</pre>\n"
      ],
      "text/plain": [
       "Starting iteration \u001b[1;36m23\u001b[0m at \u001b[1;92m07:03:16\u001b[0m PM\u001b[33m...\u001b[0m Elapsed time: \u001b[1;92m0:04:04\u001b[0m.\u001b[1;36m982389\u001b[0m  Explore: \u001b[1;36m100000000000\u001b[0m  Objective: \u001b[1;36m19696\u001b[0m\n"
      ]
     },
     "metadata": {},
     "output_type": "display_data"
    },
    {
     "name": "stderr",
     "output_type": "stream",
     "text": [
      "I0000 00:00:1711738996.935450 1100508 search.cc:282] Start search (memory used = 453.23 MB)\n",
      "I0000 00:00:1711738996.940100 1100508 search.cc:282] Root node processed (time = 4 ms, constraints = 4799, memory used = 453.23 MB)\n",
      "I0000 00:00:1711738996.952297 1100508 search.cc:282] Solution #143 (19696, maximum = 24078, time = 16 ms, branches = 1378, failures = 113166, depth = 33, Exchange, neighbors = 407625, filtered neighbors = 112283, accepted neighbors = 120, memory used = 453.23 MB, limit = 14%)\n",
      "I0000 00:00:1711738997.264599 1100508 search.cc:282] Solution #144 (19603, maximum = 24078, time = 329 ms, branches = 1382, failures = 113301, depth = 33, Exchange, neighbors = 407831, filtered neighbors = 112417, accepted neighbors = 121, memory used = 453.23 MB, limit = 28%)\n",
      "I0000 00:00:1711739025.935273 1100508 search.cc:282] Finished search tree (time = 28999 ms, branches = 1386, failures = 125992, neighbors = 430757, filtered neighbors = 125072, accepted neigbors = 121, memory used = 453.23 MB)\n",
      "I0000 00:00:1711739025.939205 1100508 search.cc:282] End search (time = 29003 ms, branches = 1386, failures = 125992, memory used = 453.23 MB, speed = 47 branches/s)\n"
     ]
    },
    {
     "data": {
      "text/html": [
       "<pre style=\"white-space:pre;overflow-x:auto;line-height:normal;font-family:Menlo,'DejaVu Sans Mono',consolas,'Courier New',monospace\">Starting iteration <span style=\"color: #008080; text-decoration-color: #008080; font-weight: bold\">24</span> at <span style=\"color: #00ff00; text-decoration-color: #00ff00; font-weight: bold\">07:03:46</span> PM<span style=\"color: #808000; text-decoration-color: #808000\">...</span> Elapsed time: <span style=\"color: #00ff00; text-decoration-color: #00ff00; font-weight: bold\">0:04:34</span>.<span style=\"color: #008080; text-decoration-color: #008080; font-weight: bold\">362500</span>  Explore: <span style=\"color: #008080; text-decoration-color: #008080; font-weight: bold\">100000000000</span>  Objective: <span style=\"color: #008080; text-decoration-color: #008080; font-weight: bold\">19603</span>\n",
       "</pre>\n"
      ],
      "text/plain": [
       "Starting iteration \u001b[1;36m24\u001b[0m at \u001b[1;92m07:03:46\u001b[0m PM\u001b[33m...\u001b[0m Elapsed time: \u001b[1;92m0:04:34\u001b[0m.\u001b[1;36m362500\u001b[0m  Explore: \u001b[1;36m100000000000\u001b[0m  Objective: \u001b[1;36m19603\u001b[0m\n"
      ]
     },
     "metadata": {},
     "output_type": "display_data"
    },
    {
     "name": "stderr",
     "output_type": "stream",
     "text": [
      "I0000 00:00:1711739026.317733 1100508 search.cc:282] Start search (memory used = 454.17 MB)\n",
      "I0000 00:00:1711739026.322861 1100508 search.cc:282] Root node processed (time = 5 ms, constraints = 4799, memory used = 454.17 MB)\n",
      "I0000 00:00:1711739026.336810 1100508 search.cc:282] Solution #145 (19603, maximum = 24078, time = 18 ms, branches = 1419, failures = 125992, depth = 33, Exchange, neighbors = 430757, filtered neighbors = 125072, accepted neighbors = 121, memory used = 454.17 MB, limit = 14%)\n",
      "I0000 00:00:1711739026.457093 1100508 search.cc:282] Solution #146 (19578, maximum = 24078, time = 139 ms, branches = 1423, failures = 126043, depth = 33, Exchange, neighbors = 430819, filtered neighbors = 125122, accepted neighbors = 122, memory used = 454.17 MB, limit = 28%)\n",
      "I0000 00:00:1711739026.476634 1100508 search.cc:282] Solution #147 (19574, maximum = 24078, time = 158 ms, branches = 1428, failures = 126051, depth = 33, Exchange, neighbors = 430828, filtered neighbors = 125129, accepted neighbors = 123, memory used = 454.17 MB, limit = 42%)\n"
     ]
    },
    {
     "data": {
      "text/html": [
       "<pre style=\"white-space:pre;overflow-x:auto;line-height:normal;font-family:Menlo,'DejaVu Sans Mono',consolas,'Courier New',monospace\">Solution #<span style=\"color: #008080; text-decoration-color: #008080; font-weight: bold\">125</span>  found as: <span style=\"color: #008080; text-decoration-color: #008080; font-weight: bold\">19529</span> Progress: <span style=\"color: #008080; text-decoration-color: #008080; font-weight: bold\">57</span>%  Branches: <span style=\"color: #008080; text-decoration-color: #008080; font-weight: bold\">1432</span> Accepted Neighbors: <span style=\"color: #008080; text-decoration-color: #008080; font-weight: bold\">124</span> Model Stamp <span style=\"color: #008080; text-decoration-color: #008080; font-weight: bold\">625559</span> Wall Time: \n",
       "<span style=\"color: #008080; text-decoration-color: #008080; font-weight: bold\">299330</span>\n",
       "</pre>\n"
      ],
      "text/plain": [
       "Solution #\u001b[1;36m125\u001b[0m  found as: \u001b[1;36m19529\u001b[0m Progress: \u001b[1;36m57\u001b[0m%  Branches: \u001b[1;36m1432\u001b[0m Accepted Neighbors: \u001b[1;36m124\u001b[0m Model Stamp \u001b[1;36m625559\u001b[0m Wall Time: \n",
       "\u001b[1;36m299330\u001b[0m\n"
      ]
     },
     "metadata": {},
     "output_type": "display_data"
    },
    {
     "name": "stderr",
     "output_type": "stream",
     "text": [
      "I0000 00:00:1711739026.964667 1100508 search.cc:282] Solution #148 (19529, maximum = 24078, time = 646 ms, branches = 1432, failures = 126265, depth = 33, Exchange, neighbors = 431067, filtered neighbors = 125342, accepted neighbors = 124, memory used = 454.17 MB, limit = 57%)\n",
      "I0000 00:00:1711739027.055592 1100508 search.cc:282] Solution #149 (19528, maximum = 24078, time = 737 ms, branches = 1438, failures = 126304, depth = 33, Exchange, neighbors = 431139, filtered neighbors = 125380, accepted neighbors = 125, memory used = 454.17 MB, limit = 71%)\n",
      "I0000 00:00:1711739027.203644 1100508 search.cc:282] Solution #150 (19504, maximum = 24078, time = 885 ms, branches = 1442, failures = 126369, depth = 33, Exchange, neighbors = 431225, filtered neighbors = 125444, accepted neighbors = 126, memory used = 454.17 MB, limit = 85%)\n",
      "I0000 00:00:1711739027.376796 1100508 search.cc:282] Solution #151 (19482, maximum = 24078, time = 1058 ms, branches = 1447, failures = 126444, depth = 33, Exchange, neighbors = 431472, filtered neighbors = 125518, accepted neighbors = 127, memory used = 454.17 MB, limit = 100%)\n",
      "I0000 00:00:1711739027.377138 1100508 search.cc:282] Finished search tree (time = 1059 ms, branches = 1447, failures = 126476, neighbors = 431472, filtered neighbors = 125518, accepted neigbors = 127, memory used = 454.17 MB)\n",
      "I0000 00:00:1711739027.378460 1100508 search.cc:282] End search (time = 1060 ms, branches = 1447, failures = 126476, memory used = 454.17 MB, speed = 1365 branches/s)\n"
     ]
    },
    {
     "data": {
      "text/html": [
       "<pre style=\"white-space:pre;overflow-x:auto;line-height:normal;font-family:Menlo,'DejaVu Sans Mono',consolas,'Courier New',monospace\">Starting iteration <span style=\"color: #008080; text-decoration-color: #008080; font-weight: bold\">25</span> at <span style=\"color: #00ff00; text-decoration-color: #00ff00; font-weight: bold\">07:03:47</span> PM<span style=\"color: #808000; text-decoration-color: #808000\">...</span> Elapsed time: <span style=\"color: #00ff00; text-decoration-color: #00ff00; font-weight: bold\">0:04:36</span>.<span style=\"color: #008080; text-decoration-color: #008080; font-weight: bold\">014303</span>  Explore: <span style=\"color: #008080; text-decoration-color: #008080; font-weight: bold\">100000000000</span>  Objective: <span style=\"color: #008080; text-decoration-color: #008080; font-weight: bold\">19482</span>\n",
       "</pre>\n"
      ],
      "text/plain": [
       "Starting iteration \u001b[1;36m25\u001b[0m at \u001b[1;92m07:03:47\u001b[0m PM\u001b[33m...\u001b[0m Elapsed time: \u001b[1;92m0:04:36\u001b[0m.\u001b[1;36m014303\u001b[0m  Explore: \u001b[1;36m100000000000\u001b[0m  Objective: \u001b[1;36m19482\u001b[0m\n"
      ]
     },
     "metadata": {},
     "output_type": "display_data"
    },
    {
     "name": "stderr",
     "output_type": "stream",
     "text": [
      "I0000 00:00:1711739027.968315 1100508 search.cc:282] Start search (memory used = 455.14 MB)\n",
      "I0000 00:00:1711739027.973066 1100508 search.cc:282] Root node processed (time = 4 ms, constraints = 4799, memory used = 455.14 MB)\n",
      "I0000 00:00:1711739027.986338 1100508 search.cc:282] Solution #152 (19482, maximum = 24078, time = 17 ms, branches = 1480, failures = 126476, depth = 33, Exchange, neighbors = 431472, filtered neighbors = 125518, accepted neighbors = 127, memory used = 455.14 MB, limit = 14%)\n",
      "I0000 00:00:1711739035.139449 1100508 search.cc:282] Solution #153 (19448, maximum = 24078, time = 7171 ms, branches = 1484, failures = 129618, depth = 33, Exchange, neighbors = 437844, filtered neighbors = 128659, accepted neighbors = 128, memory used = 455.14 MB, limit = 28%)\n",
      "I0000 00:00:1711739056.983389 1100508 search.cc:282] Finished search tree (time = 29014 ms, branches = 1488, failures = 139137, neighbors = 456707, filtered neighbors = 138142, accepted neigbors = 128, memory used = 455.14 MB)\n",
      "I0000 00:00:1711739056.986766 1100508 search.cc:282] End search (time = 29018 ms, branches = 1488, failures = 139137, memory used = 455.14 MB, speed = 51 branches/s)\n"
     ]
    },
    {
     "data": {
      "text/html": [
       "<pre style=\"white-space:pre;overflow-x:auto;line-height:normal;font-family:Menlo,'DejaVu Sans Mono',consolas,'Courier New',monospace\">Starting iteration <span style=\"color: #008080; text-decoration-color: #008080; font-weight: bold\">26</span> at <span style=\"color: #00ff00; text-decoration-color: #00ff00; font-weight: bold\">07:04:17</span> PM<span style=\"color: #808000; text-decoration-color: #808000\">...</span> Elapsed time: <span style=\"color: #00ff00; text-decoration-color: #00ff00; font-weight: bold\">0:05:05</span>.<span style=\"color: #008080; text-decoration-color: #008080; font-weight: bold\">415320</span>  Explore: <span style=\"color: #008080; text-decoration-color: #008080; font-weight: bold\">100000000000</span>  Objective: <span style=\"color: #008080; text-decoration-color: #008080; font-weight: bold\">19448</span>\n",
       "</pre>\n"
      ],
      "text/plain": [
       "Starting iteration \u001b[1;36m26\u001b[0m at \u001b[1;92m07:04:17\u001b[0m PM\u001b[33m...\u001b[0m Elapsed time: \u001b[1;92m0:05:05\u001b[0m.\u001b[1;36m415320\u001b[0m  Explore: \u001b[1;36m100000000000\u001b[0m  Objective: \u001b[1;36m19448\u001b[0m\n"
      ]
     },
     "metadata": {},
     "output_type": "display_data"
    },
    {
     "name": "stderr",
     "output_type": "stream",
     "text": [
      "I0000 00:00:1711739057.371756 1100508 search.cc:282] Start search (memory used = 456.08 MB)\n",
      "I0000 00:00:1711739057.376804 1100508 search.cc:282] Root node processed (time = 4 ms, constraints = 4799, memory used = 456.08 MB)\n",
      "I0000 00:00:1711739057.390749 1100508 search.cc:282] Solution #154 (19448, maximum = 24078, time = 18 ms, branches = 1521, failures = 139137, depth = 33, Exchange, neighbors = 456707, filtered neighbors = 138142, accepted neighbors = 128, memory used = 456.08 MB, limit = 14%)\n"
     ]
    },
    {
     "data": {
      "text/html": [
       "<pre style=\"white-space:pre;overflow-x:auto;line-height:normal;font-family:Menlo,'DejaVu Sans Mono',consolas,'Courier New',monospace\">Solution #<span style=\"color: #008080; text-decoration-color: #008080; font-weight: bold\">130</span>  found as: <span style=\"color: #008080; text-decoration-color: #008080; font-weight: bold\">19447</span> Progress: <span style=\"color: #008080; text-decoration-color: #008080; font-weight: bold\">28</span>%  Branches: <span style=\"color: #008080; text-decoration-color: #008080; font-weight: bold\">1525</span> Accepted Neighbors: <span style=\"color: #008080; text-decoration-color: #008080; font-weight: bold\">129</span> Model Stamp <span style=\"color: #008080; text-decoration-color: #008080; font-weight: bold\">688964</span> Wall Time: \n",
       "<span style=\"color: #008080; text-decoration-color: #008080; font-weight: bold\">333947</span>\n",
       "</pre>\n"
      ],
      "text/plain": [
       "Solution #\u001b[1;36m130\u001b[0m  found as: \u001b[1;36m19447\u001b[0m Progress: \u001b[1;36m28\u001b[0m%  Branches: \u001b[1;36m1525\u001b[0m Accepted Neighbors: \u001b[1;36m129\u001b[0m Model Stamp \u001b[1;36m688964\u001b[0m Wall Time: \n",
       "\u001b[1;36m333947\u001b[0m\n"
      ]
     },
     "metadata": {},
     "output_type": "display_data"
    },
    {
     "name": "stderr",
     "output_type": "stream",
     "text": [
      "I0000 00:00:1711739061.582882 1100508 search.cc:282] Solution #155 (19447, maximum = 24078, time = 4210 ms, branches = 1525, failures = 140960, depth = 33, Exchange, neighbors = 459765, filtered neighbors = 139964, accepted neighbors = 129, memory used = 456.08 MB, limit = 28%)\n",
      "I0000 00:00:1711739062.152050 1100508 search.cc:282] Solution #156 (19427, maximum = 24078, time = 4780 ms, branches = 1530, failures = 141207, depth = 33, Exchange, neighbors = 460334, filtered neighbors = 140210, accepted neighbors = 130, memory used = 456.08 MB, limit = 42%)\n",
      "I0000 00:00:1711739063.111880 1100508 search.cc:282] Solution #157 (19425, maximum = 24078, time = 5739 ms, branches = 1534, failures = 141620, depth = 33, Exchange, neighbors = 461360, filtered neighbors = 140622, accepted neighbors = 131, memory used = 456.08 MB, limit = 57%)\n",
      "I0000 00:00:1711739064.886532 1100508 search.cc:282] Solution #158 (19363, maximum = 24078, time = 7514 ms, branches = 1540, failures = 142389, depth = 33, Exchange, neighbors = 462839, filtered neighbors = 141390, accepted neighbors = 132, memory used = 456.08 MB, limit = 71%)\n",
      "I0000 00:00:1711739066.044683 1100508 search.cc:282] Solution #159 (19339, maximum = 24078, time = 8672 ms, branches = 1544, failures = 142879, depth = 33, Exchange, neighbors = 463645, filtered neighbors = 141879, accepted neighbors = 133, memory used = 456.08 MB, limit = 85%)\n"
     ]
    },
    {
     "data": {
      "text/html": [
       "<pre style=\"white-space:pre;overflow-x:auto;line-height:normal;font-family:Menlo,'DejaVu Sans Mono',consolas,'Courier New',monospace\">Solution #<span style=\"color: #008080; text-decoration-color: #008080; font-weight: bold\">135</span>  found as: <span style=\"color: #008080; text-decoration-color: #008080; font-weight: bold\">19331</span> Progress: <span style=\"color: #008080; text-decoration-color: #008080; font-weight: bold\">100</span>%  Branches: <span style=\"color: #008080; text-decoration-color: #008080; font-weight: bold\">1549</span> Accepted Neighbors: <span style=\"color: #008080; text-decoration-color: #008080; font-weight: bold\">134</span> Model Stamp <span style=\"color: #008080; text-decoration-color: #008080; font-weight: bold\">698173</span> Wall Time:\n",
       "<span style=\"color: #008080; text-decoration-color: #008080; font-weight: bold\">340987</span>\n",
       "</pre>\n"
      ],
      "text/plain": [
       "Solution #\u001b[1;36m135\u001b[0m  found as: \u001b[1;36m19331\u001b[0m Progress: \u001b[1;36m100\u001b[0m%  Branches: \u001b[1;36m1549\u001b[0m Accepted Neighbors: \u001b[1;36m134\u001b[0m Model Stamp \u001b[1;36m698173\u001b[0m Wall Time:\n",
       "\u001b[1;36m340987\u001b[0m\n"
      ]
     },
     "metadata": {},
     "output_type": "display_data"
    },
    {
     "name": "stderr",
     "output_type": "stream",
     "text": [
      "I0000 00:00:1711739068.621801 1100508 search.cc:282] Solution #160 (19331, maximum = 24078, time = 11249 ms, branches = 1549, failures = 144017, depth = 33, Exchange, neighbors = 465245, filtered neighbors = 143016, accepted neighbors = 134, memory used = 456.08 MB, limit = 100%)\n",
      "I0000 00:00:1711739068.622312 1100508 search.cc:282] Finished search tree (time = 11250 ms, branches = 1549, failures = 144049, neighbors = 465245, filtered neighbors = 143016, accepted neigbors = 134, memory used = 456.08 MB)\n",
      "I0000 00:00:1711739068.625683 1100508 search.cc:282] End search (time = 11253 ms, branches = 1549, failures = 144049, memory used = 456.08 MB, speed = 137 branches/s)\n"
     ]
    },
    {
     "data": {
      "text/html": [
       "<pre style=\"white-space:pre;overflow-x:auto;line-height:normal;font-family:Menlo,'DejaVu Sans Mono',consolas,'Courier New',monospace\">Starting iteration <span style=\"color: #008080; text-decoration-color: #008080; font-weight: bold\">27</span> at <span style=\"color: #00ff00; text-decoration-color: #00ff00; font-weight: bold\">07:04:29</span> PM<span style=\"color: #808000; text-decoration-color: #808000\">...</span> Elapsed time: <span style=\"color: #00ff00; text-decoration-color: #00ff00; font-weight: bold\">0:05:17</span>.<span style=\"color: #008080; text-decoration-color: #008080; font-weight: bold\">060503</span>  Explore: <span style=\"color: #008080; text-decoration-color: #008080; font-weight: bold\">100000000000</span>  Objective: <span style=\"color: #008080; text-decoration-color: #008080; font-weight: bold\">19331</span>\n",
       "</pre>\n"
      ],
      "text/plain": [
       "Starting iteration \u001b[1;36m27\u001b[0m at \u001b[1;92m07:04:29\u001b[0m PM\u001b[33m...\u001b[0m Elapsed time: \u001b[1;92m0:05:17\u001b[0m.\u001b[1;36m060503\u001b[0m  Explore: \u001b[1;36m100000000000\u001b[0m  Objective: \u001b[1;36m19331\u001b[0m\n"
      ]
     },
     "metadata": {},
     "output_type": "display_data"
    },
    {
     "name": "stderr",
     "output_type": "stream",
     "text": [
      "I0000 00:00:1711739069.015082 1100508 search.cc:282] Start search (memory used = 457.03 MB)\n",
      "I0000 00:00:1711739069.019673 1100508 search.cc:282] Root node processed (time = 4 ms, constraints = 4799, memory used = 457.03 MB)\n",
      "I0000 00:00:1711739069.033417 1100508 search.cc:282] Solution #161 (19331, maximum = 24078, time = 18 ms, branches = 1582, failures = 144049, depth = 33, Exchange, neighbors = 465245, filtered neighbors = 143016, accepted neighbors = 134, memory used = 457.03 MB, limit = 12%)\n",
      "I0000 00:00:1711739069.508042 1100508 search.cc:282] Solution #162 (19327, maximum = 24078, time = 492 ms, branches = 1586, failures = 144252, depth = 33, Exchange, neighbors = 466037, filtered neighbors = 143218, accepted neighbors = 135, memory used = 457.03 MB, limit = 25%)\n",
      "I0000 00:00:1711739069.559190 1100508 search.cc:282] Solution #163 (19310, maximum = 24078, time = 544 ms, branches = 1591, failures = 144274, depth = 33, Exchange, neighbors = 466075, filtered neighbors = 143239, accepted neighbors = 136, memory used = 457.03 MB, limit = 37%)\n",
      "I0000 00:00:1711739081.559478 1100508 search.cc:282] Solution #164 (19295, maximum = 24078, time = 12544 ms, branches = 1595, failures = 149473, depth = 33, Exchange, neighbors = 481193, filtered neighbors = 148437, accepted neighbors = 137, memory used = 457.03 MB, limit = 50%)\n",
      "I0000 00:00:1711739100.031354 1100508 search.cc:282] Finished search tree (time = 31016 ms, branches = 1600, failures = 157563, neighbors = 497261, filtered neighbors = 156491, accepted neigbors = 137, memory used = 457.03 MB)\n",
      "I0000 00:00:1711739100.032875 1100508 search.cc:282] End search (time = 31017 ms, branches = 1600, failures = 157563, memory used = 457.03 MB, speed = 51 branches/s)\n"
     ]
    },
    {
     "data": {
      "text/html": [
       "<pre style=\"white-space:pre;overflow-x:auto;line-height:normal;font-family:Menlo,'DejaVu Sans Mono',consolas,'Courier New',monospace\">Starting iteration <span style=\"color: #008080; text-decoration-color: #008080; font-weight: bold\">28</span> at <span style=\"color: #00ff00; text-decoration-color: #00ff00; font-weight: bold\">07:05:00</span> PM<span style=\"color: #808000; text-decoration-color: #808000\">...</span> Elapsed time: <span style=\"color: #00ff00; text-decoration-color: #00ff00; font-weight: bold\">0:05:48</span>.<span style=\"color: #008080; text-decoration-color: #008080; font-weight: bold\">469427</span>  Explore: <span style=\"color: #008080; text-decoration-color: #008080; font-weight: bold\">100000000000</span>  Objective: <span style=\"color: #008080; text-decoration-color: #008080; font-weight: bold\">19295</span>\n",
       "</pre>\n"
      ],
      "text/plain": [
       "Starting iteration \u001b[1;36m28\u001b[0m at \u001b[1;92m07:05:00\u001b[0m PM\u001b[33m...\u001b[0m Elapsed time: \u001b[1;92m0:05:48\u001b[0m.\u001b[1;36m469427\u001b[0m  Explore: \u001b[1;36m100000000000\u001b[0m  Objective: \u001b[1;36m19295\u001b[0m\n"
      ]
     },
     "metadata": {},
     "output_type": "display_data"
    },
    {
     "name": "stderr",
     "output_type": "stream",
     "text": [
      "I0000 00:00:1711739100.423328 1100508 search.cc:282] Start search (memory used = 457.97 MB)\n",
      "I0000 00:00:1711739100.427958 1100508 search.cc:282] Root node processed (time = 4 ms, constraints = 4799, memory used = 457.97 MB)\n",
      "I0000 00:00:1711739100.441258 1100508 search.cc:282] Solution #165 (19295, maximum = 24078, time = 17 ms, branches = 1633, failures = 157563, depth = 33, Exchange, neighbors = 497261, filtered neighbors = 156491, accepted neighbors = 137, memory used = 457.97 MB, limit = 12%)\n",
      "I0000 00:00:1711739105.079465 1100508 search.cc:282] Solution #166 (19289, maximum = 24078, time = 4656 ms, branches = 1637, failures = 159546, depth = 33, Exchange, neighbors = 500595, filtered neighbors = 158473, accepted neighbors = 138, memory used = 457.97 MB, limit = 25%)\n"
     ]
    },
    {
     "data": {
      "text/html": [
       "<pre style=\"white-space:pre;overflow-x:auto;line-height:normal;font-family:Menlo,'DejaVu Sans Mono',consolas,'Courier New',monospace\">Solution #<span style=\"color: #008080; text-decoration-color: #008080; font-weight: bold\">140</span>  found as: <span style=\"color: #008080; text-decoration-color: #008080; font-weight: bold\">19284</span> Progress: <span style=\"color: #008080; text-decoration-color: #008080; font-weight: bold\">37</span>%  Branches: <span style=\"color: #008080; text-decoration-color: #008080; font-weight: bold\">1642</span> Accepted Neighbors: <span style=\"color: #008080; text-decoration-color: #008080; font-weight: bold\">139</span> Model Stamp <span style=\"color: #008080; text-decoration-color: #008080; font-weight: bold\">765412</span> Wall Time: \n",
       "<span style=\"color: #008080; text-decoration-color: #008080; font-weight: bold\">378456</span>\n",
       "</pre>\n"
      ],
      "text/plain": [
       "Solution #\u001b[1;36m140\u001b[0m  found as: \u001b[1;36m19284\u001b[0m Progress: \u001b[1;36m37\u001b[0m%  Branches: \u001b[1;36m1642\u001b[0m Accepted Neighbors: \u001b[1;36m139\u001b[0m Model Stamp \u001b[1;36m765412\u001b[0m Wall Time: \n",
       "\u001b[1;36m378456\u001b[0m\n"
      ]
     },
     "metadata": {},
     "output_type": "display_data"
    },
    {
     "name": "stderr",
     "output_type": "stream",
     "text": [
      "I0000 00:00:1711739106.091293 1100508 search.cc:282] Solution #167 (19284, maximum = 24078, time = 5667 ms, branches = 1642, failures = 159990, depth = 33, Exchange, neighbors = 501172, filtered neighbors = 158916, accepted neighbors = 139, memory used = 457.97 MB, limit = 37%)\n",
      "I0000 00:00:1711739106.898595 1100508 search.cc:282] Solution #168 (19271, maximum = 24078, time = 6475 ms, branches = 1646, failures = 160344, depth = 33, Exchange, neighbors = 501630, filtered neighbors = 159269, accepted neighbors = 140, memory used = 457.97 MB, limit = 50%)\n",
      "I0000 00:00:1711739106.922766 1100508 search.cc:282] Solution #169 (19270, maximum = 24078, time = 6499 ms, branches = 1652, failures = 160354, depth = 33, Exchange, neighbors = 501639, filtered neighbors = 159278, accepted neighbors = 141, memory used = 457.97 MB, limit = 62%)\n",
      "I0000 00:00:1711739107.410918 1100508 search.cc:282] Solution #170 (19267, maximum = 24078, time = 6987 ms, branches = 1656, failures = 160556, depth = 33, Relocate<1>, neighbors = 503126, filtered neighbors = 159479, accepted neighbors = 142, memory used = 457.97 MB, limit = 75%)\n",
      "I0000 00:00:1711739107.418487 1100508 search.cc:282] Solution #171 (19257, maximum = 24078, time = 6995 ms, branches = 1661, failures = 160559, depth = 33, Relocate<1>, neighbors = 503128, filtered neighbors = 159481, accepted neighbors = 143, memory used = 457.97 MB, limit = 87%)\n"
     ]
    },
    {
     "data": {
      "text/html": [
       "<pre style=\"white-space:pre;overflow-x:auto;line-height:normal;font-family:Menlo,'DejaVu Sans Mono',consolas,'Courier New',monospace\">Solution #<span style=\"color: #008080; text-decoration-color: #008080; font-weight: bold\">145</span>  found as: <span style=\"color: #008080; text-decoration-color: #008080; font-weight: bold\">19254</span> Progress: <span style=\"color: #008080; text-decoration-color: #008080; font-weight: bold\">100</span>%  Branches: <span style=\"color: #008080; text-decoration-color: #008080; font-weight: bold\">1665</span> Accepted Neighbors: <span style=\"color: #008080; text-decoration-color: #008080; font-weight: bold\">144</span> Model Stamp <span style=\"color: #008080; text-decoration-color: #008080; font-weight: bold\">767197</span> Wall Time:\n",
       "<span style=\"color: #008080; text-decoration-color: #008080; font-weight: bold\">379819</span>\n",
       "</pre>\n"
      ],
      "text/plain": [
       "Solution #\u001b[1;36m145\u001b[0m  found as: \u001b[1;36m19254\u001b[0m Progress: \u001b[1;36m100\u001b[0m%  Branches: \u001b[1;36m1665\u001b[0m Accepted Neighbors: \u001b[1;36m144\u001b[0m Model Stamp \u001b[1;36m767197\u001b[0m Wall Time:\n",
       "\u001b[1;36m379819\u001b[0m\n"
      ]
     },
     "metadata": {},
     "output_type": "display_data"
    },
    {
     "name": "stderr",
     "output_type": "stream",
     "text": [
      "I0000 00:00:1711739107.454024 1100508 search.cc:282] Solution #172 (19254, maximum = 24078, time = 7030 ms, branches = 1665, failures = 160573, depth = 33, Relocate<1>, neighbors = 503141, filtered neighbors = 159494, accepted neighbors = 144, memory used = 457.97 MB, limit = 100%)\n",
      "I0000 00:00:1711739107.454503 1100508 search.cc:282] Finished search tree (time = 7031 ms, branches = 1665, failures = 160604, neighbors = 503141, filtered neighbors = 159494, accepted neigbors = 144, memory used = 457.97 MB)\n",
      "I0000 00:00:1711739107.457823 1100508 search.cc:282] End search (time = 7034 ms, branches = 1665, failures = 160604, memory used = 457.97 MB, speed = 236 branches/s)\n"
     ]
    },
    {
     "data": {
      "text/html": [
       "<pre style=\"white-space:pre;overflow-x:auto;line-height:normal;font-family:Menlo,'DejaVu Sans Mono',consolas,'Courier New',monospace\">Starting iteration <span style=\"color: #008080; text-decoration-color: #008080; font-weight: bold\">29</span> at <span style=\"color: #00ff00; text-decoration-color: #00ff00; font-weight: bold\">07:05:07</span> PM<span style=\"color: #808000; text-decoration-color: #808000\">...</span> Elapsed time: <span style=\"color: #00ff00; text-decoration-color: #00ff00; font-weight: bold\">0:05:55</span>.<span style=\"color: #008080; text-decoration-color: #008080; font-weight: bold\">896225</span>  Explore: <span style=\"color: #008080; text-decoration-color: #008080; font-weight: bold\">0</span>  Objective: <span style=\"color: #008080; text-decoration-color: #008080; font-weight: bold\">19254</span>\n",
       "</pre>\n"
      ],
      "text/plain": [
       "Starting iteration \u001b[1;36m29\u001b[0m at \u001b[1;92m07:05:07\u001b[0m PM\u001b[33m...\u001b[0m Elapsed time: \u001b[1;92m0:05:55\u001b[0m.\u001b[1;36m896225\u001b[0m  Explore: \u001b[1;36m0\u001b[0m  Objective: \u001b[1;36m19254\u001b[0m\n"
      ]
     },
     "metadata": {},
     "output_type": "display_data"
    },
    {
     "name": "stderr",
     "output_type": "stream",
     "text": [
      "I0000 00:00:1711739107.850100 1100508 search.cc:282] Start search (memory used = 458.93 MB)\n",
      "I0000 00:00:1711739107.854777 1100508 search.cc:282] Root node processed (time = 4 ms, constraints = 4799, memory used = 458.93 MB)\n",
      "I0000 00:00:1711739107.868394 1100508 search.cc:282] Solution #173 (19254, maximum = 24078, time = 18 ms, branches = 1698, failures = 160604, depth = 33, Relocate<1>, neighbors = 503141, filtered neighbors = 159494, accepted neighbors = 144, memory used = 458.93 MB, limit = 12%)\n",
      "I0000 00:00:1711739108.647905 1100508 search.cc:282] Solution #174 (19241, maximum = 24078, time = 797 ms, branches = 1702, failures = 160945, depth = 33, Relocate<1>, neighbors = 504309, filtered neighbors = 159834, accepted neighbors = 145, memory used = 458.93 MB, limit = 25%)\n",
      "I0000 00:00:1711739108.679334 1100508 search.cc:282] Solution #175 (19233, maximum = 24078, time = 829 ms, branches = 1707, failures = 160958, depth = 33, Relocate<1>, neighbors = 504489, filtered neighbors = 159846, accepted neighbors = 146, memory used = 458.93 MB, limit = 37%)\n",
      "I0000 00:00:1711739108.795464 1100508 search.cc:282] Solution #176 (19212, maximum = 24078, time = 945 ms, branches = 1711, failures = 161007, depth = 33, Relocate<1>, neighbors = 505224, filtered neighbors = 159894, accepted neighbors = 147, memory used = 458.93 MB, limit = 50%)\n",
      "I0000 00:00:1711739108.800587 1100508 search.cc:282] Solution #177 (19075, maximum = 24078, time = 950 ms, branches = 1717, failures = 161009, depth = 33, Relocate<1>, neighbors = 505225, filtered neighbors = 159895, accepted neighbors = 148, memory used = 458.93 MB, limit = 62%)\n"
     ]
    },
    {
     "data": {
      "text/html": [
       "<pre style=\"white-space:pre;overflow-x:auto;line-height:normal;font-family:Menlo,'DejaVu Sans Mono',consolas,'Courier New',monospace\">Solution #<span style=\"color: #008080; text-decoration-color: #008080; font-weight: bold\">150</span>  found as: <span style=\"color: #008080; text-decoration-color: #008080; font-weight: bold\">19064</span> Progress: <span style=\"color: #008080; text-decoration-color: #008080; font-weight: bold\">75</span>%  Branches: <span style=\"color: #008080; text-decoration-color: #008080; font-weight: bold\">1721</span> Accepted Neighbors: <span style=\"color: #008080; text-decoration-color: #008080; font-weight: bold\">149</span> Model Stamp <span style=\"color: #008080; text-decoration-color: #008080; font-weight: bold\">778211</span> Wall Time: \n",
       "<span style=\"color: #008080; text-decoration-color: #008080; font-weight: bold\">381190</span>\n",
       "</pre>\n"
      ],
      "text/plain": [
       "Solution #\u001b[1;36m150\u001b[0m  found as: \u001b[1;36m19064\u001b[0m Progress: \u001b[1;36m75\u001b[0m%  Branches: \u001b[1;36m1721\u001b[0m Accepted Neighbors: \u001b[1;36m149\u001b[0m Model Stamp \u001b[1;36m778211\u001b[0m Wall Time: \n",
       "\u001b[1;36m381190\u001b[0m\n"
      ]
     },
     "metadata": {},
     "output_type": "display_data"
    },
    {
     "name": "stderr",
     "output_type": "stream",
     "text": [
      "I0000 00:00:1711739108.824554 1100508 search.cc:282] Solution #178 (19064, maximum = 24078, time = 974 ms, branches = 1721, failures = 161018, depth = 33, Relocate<1>, neighbors = 505327, filtered neighbors = 159903, accepted neighbors = 149, memory used = 458.93 MB, limit = 75%)\n",
      "I0000 00:00:1711739113.635803 1100508 search.cc:282] Solution #179 (18986, maximum = 24078, time = 5785 ms, branches = 1726, failures = 163088, depth = 33, Relocate<1>, neighbors = 518693, filtered neighbors = 161972, accepted neighbors = 150, memory used = 458.93 MB, limit = 87%)\n",
      "I0000 00:00:1711739138.904935 1100508 search.cc:282] Finished search tree (time = 31054 ms, branches = 1729, failures = 174220, neighbors = 592628, filtered neighbors = 173070, accepted neigbors = 150, memory used = 458.93 MB)\n",
      "I0000 00:00:1711739138.908291 1100508 search.cc:282] End search (time = 31058 ms, branches = 1729, failures = 174220, memory used = 458.93 MB, speed = 55 branches/s)\n"
     ]
    },
    {
     "data": {
      "text/html": [
       "<pre style=\"white-space:pre;overflow-x:auto;line-height:normal;font-family:Menlo,'DejaVu Sans Mono',consolas,'Courier New',monospace\">Starting iteration <span style=\"color: #008080; text-decoration-color: #008080; font-weight: bold\">30</span> at <span style=\"color: #00ff00; text-decoration-color: #00ff00; font-weight: bold\">07:05:39</span> PM<span style=\"color: #808000; text-decoration-color: #808000\">...</span> Elapsed time: <span style=\"color: #00ff00; text-decoration-color: #00ff00; font-weight: bold\">0:06:27</span>.<span style=\"color: #008080; text-decoration-color: #008080; font-weight: bold\">330312</span>  Explore: <span style=\"color: #008080; text-decoration-color: #008080; font-weight: bold\">100000000000</span>  Objective: <span style=\"color: #008080; text-decoration-color: #008080; font-weight: bold\">18986</span>\n",
       "</pre>\n"
      ],
      "text/plain": [
       "Starting iteration \u001b[1;36m30\u001b[0m at \u001b[1;92m07:05:39\u001b[0m PM\u001b[33m...\u001b[0m Elapsed time: \u001b[1;92m0:06:27\u001b[0m.\u001b[1;36m330312\u001b[0m  Explore: \u001b[1;36m100000000000\u001b[0m  Objective: \u001b[1;36m18986\u001b[0m\n"
      ]
     },
     "metadata": {},
     "output_type": "display_data"
    },
    {
     "name": "stderr",
     "output_type": "stream",
     "text": [
      "I0000 00:00:1711739139.284656 1100508 search.cc:282] Start search (memory used = 459.87 MB)\n",
      "I0000 00:00:1711739139.289287 1100508 search.cc:282] Root node processed (time = 4 ms, constraints = 4799, memory used = 459.87 MB)\n",
      "I0000 00:00:1711739139.302032 1100508 search.cc:282] Solution #180 (18986, maximum = 24078, time = 17 ms, branches = 1762, failures = 174220, depth = 33, Relocate<1>, neighbors = 592628, filtered neighbors = 173070, accepted neighbors = 150, memory used = 459.87 MB, limit = 12%)\n",
      "I0000 00:00:1711739140.043251 1100508 search.cc:282] Solution #181 (18981, maximum = 24078, time = 758 ms, branches = 1766, failures = 174537, depth = 33, Relocate<1>, neighbors = 594714, filtered neighbors = 173386, accepted neighbors = 151, memory used = 459.87 MB, limit = 25%)\n",
      "I0000 00:00:1711739142.086997 1100508 search.cc:282] Solution #182 (18976, maximum = 24078, time = 2802 ms, branches = 1771, failures = 175437, depth = 33, Relocate<1>, neighbors = 599604, filtered neighbors = 174285, accepted neighbors = 152, memory used = 459.87 MB, limit = 37%)\n",
      "I0000 00:00:1711739142.796363 1100508 search.cc:282] Solution #183 (18962, maximum = 24078, time = 3511 ms, branches = 1775, failures = 175753, depth = 33, Relocate<1>, neighbors = 600460, filtered neighbors = 174600, accepted neighbors = 153, memory used = 459.87 MB, limit = 50%)\n"
     ]
    },
    {
     "data": {
      "text/html": [
       "<pre style=\"white-space:pre;overflow-x:auto;line-height:normal;font-family:Menlo,'DejaVu Sans Mono',consolas,'Courier New',monospace\">Solution #<span style=\"color: #008080; text-decoration-color: #008080; font-weight: bold\">155</span>  found as: <span style=\"color: #008080; text-decoration-color: #008080; font-weight: bold\">18961</span> Progress: <span style=\"color: #008080; text-decoration-color: #008080; font-weight: bold\">62</span>%  Branches: <span style=\"color: #008080; text-decoration-color: #008080; font-weight: bold\">1781</span> Accepted Neighbors: <span style=\"color: #008080; text-decoration-color: #008080; font-weight: bold\">154</span> Model Stamp <span style=\"color: #008080; text-decoration-color: #008080; font-weight: bold\">832219</span> Wall Time: \n",
       "<span style=\"color: #008080; text-decoration-color: #008080; font-weight: bold\">415256</span>\n",
       "</pre>\n"
      ],
      "text/plain": [
       "Solution #\u001b[1;36m155\u001b[0m  found as: \u001b[1;36m18961\u001b[0m Progress: \u001b[1;36m62\u001b[0m%  Branches: \u001b[1;36m1781\u001b[0m Accepted Neighbors: \u001b[1;36m154\u001b[0m Model Stamp \u001b[1;36m832219\u001b[0m Wall Time: \n",
       "\u001b[1;36m415256\u001b[0m\n"
      ]
     },
     "metadata": {},
     "output_type": "display_data"
    },
    {
     "name": "stderr",
     "output_type": "stream",
     "text": [
      "I0000 00:00:1711739142.891434 1100508 search.cc:282] Solution #184 (18961, maximum = 24078, time = 3606 ms, branches = 1781, failures = 175794, depth = 33, Relocate<1>, neighbors = 600500, filtered neighbors = 174640, accepted neighbors = 154, memory used = 459.87 MB, limit = 62%)\n",
      "I0000 00:00:1711739145.156764 1100508 search.cc:282] Solution #185 (18957, maximum = 24078, time = 5872 ms, branches = 1785, failures = 176774, depth = 33, Relocate<1>, neighbors = 606837, filtered neighbors = 175619, accepted neighbors = 155, memory used = 459.87 MB, limit = 75%)\n",
      "I0000 00:00:1711739145.423066 1100508 search.cc:282] Solution #186 (18932, maximum = 24078, time = 6138 ms, branches = 1790, failures = 176889, depth = 33, Relocate<1>, neighbors = 607656, filtered neighbors = 175733, accepted neighbors = 156, memory used = 459.87 MB, limit = 87%)\n",
      "I0000 00:00:1711739146.070771 1100508 search.cc:282] Solution #187 (18911, maximum = 24078, time = 6785 ms, branches = 1794, failures = 177164, depth = 33, Relocate<1>, neighbors = 609396, filtered neighbors = 176007, accepted neighbors = 157, memory used = 459.87 MB, limit = 100%)\n",
      "I0000 00:00:1711739146.071072 1100508 search.cc:282] Finished search tree (time = 6786 ms, branches = 1794, failures = 177195, neighbors = 609396, filtered neighbors = 176007, accepted neigbors = 157, memory used = 459.87 MB)\n",
      "I0000 00:00:1711739146.072368 1100508 search.cc:282] End search (time = 6787 ms, branches = 1794, failures = 177195, memory used = 459.87 MB, speed = 264 branches/s)\n"
     ]
    },
    {
     "data": {
      "text/html": [
       "<pre style=\"white-space:pre;overflow-x:auto;line-height:normal;font-family:Menlo,'DejaVu Sans Mono',consolas,'Courier New',monospace\">Starting iteration <span style=\"color: #008080; text-decoration-color: #008080; font-weight: bold\">31</span> at <span style=\"color: #00ff00; text-decoration-color: #00ff00; font-weight: bold\">07:05:46</span> PM<span style=\"color: #808000; text-decoration-color: #808000\">...</span> Elapsed time: <span style=\"color: #00ff00; text-decoration-color: #00ff00; font-weight: bold\">0:06:34</span>.<span style=\"color: #008080; text-decoration-color: #008080; font-weight: bold\">501686</span>  Explore: <span style=\"color: #008080; text-decoration-color: #008080; font-weight: bold\">100000000000</span>  Objective: <span style=\"color: #008080; text-decoration-color: #008080; font-weight: bold\">18911</span>\n",
       "</pre>\n"
      ],
      "text/plain": [
       "Starting iteration \u001b[1;36m31\u001b[0m at \u001b[1;92m07:05:46\u001b[0m PM\u001b[33m...\u001b[0m Elapsed time: \u001b[1;92m0:06:34\u001b[0m.\u001b[1;36m501686\u001b[0m  Explore: \u001b[1;36m100000000000\u001b[0m  Objective: \u001b[1;36m18911\u001b[0m\n"
      ]
     },
     "metadata": {},
     "output_type": "display_data"
    },
    {
     "name": "stderr",
     "output_type": "stream",
     "text": [
      "I0000 00:00:1711739146.455565 1100508 search.cc:282] Start search (memory used = 460.83 MB)\n",
      "I0000 00:00:1711739146.460318 1100508 search.cc:282] Root node processed (time = 4 ms, constraints = 4799, memory used = 460.83 MB)\n",
      "I0000 00:00:1711739146.473529 1100508 search.cc:282] Solution #188 (18911, maximum = 24078, time = 17 ms, branches = 1827, failures = 177195, depth = 33, Relocate<1>, neighbors = 609396, filtered neighbors = 176007, accepted neighbors = 157, memory used = 460.83 MB, limit = 12%)\n",
      "I0000 00:00:1711739147.842627 1100508 search.cc:282] Solution #189 (18876, maximum = 24078, time = 1386 ms, branches = 1831, failures = 177791, depth = 33, Relocate<1>, neighbors = 611627, filtered neighbors = 176602, accepted neighbors = 158, memory used = 460.83 MB, limit = 25%)\n"
     ]
    },
    {
     "data": {
      "text/html": [
       "<pre style=\"white-space:pre;overflow-x:auto;line-height:normal;font-family:Menlo,'DejaVu Sans Mono',consolas,'Courier New',monospace\">Solution #<span style=\"color: #008080; text-decoration-color: #008080; font-weight: bold\">160</span>  found as: <span style=\"color: #008080; text-decoration-color: #008080; font-weight: bold\">18847</span> Progress: <span style=\"color: #008080; text-decoration-color: #008080; font-weight: bold\">37</span>%  Branches: <span style=\"color: #008080; text-decoration-color: #008080; font-weight: bold\">1836</span> Accepted Neighbors: <span style=\"color: #008080; text-decoration-color: #008080; font-weight: bold\">159</span> Model Stamp <span style=\"color: #008080; text-decoration-color: #008080; font-weight: bold\">850569</span> Wall Time: \n",
       "<span style=\"color: #008080; text-decoration-color: #008080; font-weight: bold\">422250</span>\n",
       "</pre>\n"
      ],
      "text/plain": [
       "Solution #\u001b[1;36m160\u001b[0m  found as: \u001b[1;36m18847\u001b[0m Progress: \u001b[1;36m37\u001b[0m%  Branches: \u001b[1;36m1836\u001b[0m Accepted Neighbors: \u001b[1;36m159\u001b[0m Model Stamp \u001b[1;36m850569\u001b[0m Wall Time: \n",
       "\u001b[1;36m422250\u001b[0m\n"
      ]
     },
     "metadata": {},
     "output_type": "display_data"
    },
    {
     "name": "stderr",
     "output_type": "stream",
     "text": [
      "I0000 00:00:1711739149.885389 1100508 search.cc:282] Solution #190 (18847, maximum = 24078, time = 3429 ms, branches = 1836, failures = 178685, depth = 33, Relocate<1>, neighbors = 618341, filtered neighbors = 177495, accepted neighbors = 159, memory used = 460.83 MB, limit = 37%)\n",
      "I0000 00:00:1711739159.366263 1100508 search.cc:282] Solution #191 (18806, maximum = 24078, time = 12910 ms, branches = 1840, failures = 182835, depth = 33, Relocate<1>, neighbors = 639891, filtered neighbors = 181644, accepted neighbors = 160, memory used = 460.83 MB, limit = 50%)\n",
      "I0000 00:00:1711739176.522985 1100508 search.cc:282] Solution #192 (18805, maximum = 24078, time = 30067 ms, branches = 1846, failures = 190401, depth = 33, Relocate<1>, neighbors = 668575, filtered neighbors = 189209, accepted neighbors = 161, memory used = 460.83 MB, limit = 96%)\n",
      "I0000 00:00:1711739177.486389 1100508 search.cc:282] Finished search tree (time = 31030 ms, branches = 1849, failures = 190860, neighbors = 671047, filtered neighbors = 189633, accepted neigbors = 161, memory used = 460.83 MB)\n",
      "I0000 00:00:1711739177.489150 1100508 search.cc:282] End search (time = 31033 ms, branches = 1849, failures = 190860, memory used = 460.83 MB, speed = 59 branches/s)\n"
     ]
    },
    {
     "data": {
      "text/html": [
       "<pre style=\"white-space:pre;overflow-x:auto;line-height:normal;font-family:Menlo,'DejaVu Sans Mono',consolas,'Courier New',monospace\">Starting iteration <span style=\"color: #008080; text-decoration-color: #008080; font-weight: bold\">32</span> at <span style=\"color: #00ff00; text-decoration-color: #00ff00; font-weight: bold\">07:06:17</span> PM<span style=\"color: #808000; text-decoration-color: #808000\">...</span> Elapsed time: <span style=\"color: #00ff00; text-decoration-color: #00ff00; font-weight: bold\">0:07:05</span>.<span style=\"color: #008080; text-decoration-color: #008080; font-weight: bold\">917168</span>  Explore: <span style=\"color: #008080; text-decoration-color: #008080; font-weight: bold\">100000000000</span>  Objective: <span style=\"color: #008080; text-decoration-color: #008080; font-weight: bold\">18805</span>\n",
       "</pre>\n"
      ],
      "text/plain": [
       "Starting iteration \u001b[1;36m32\u001b[0m at \u001b[1;92m07:06:17\u001b[0m PM\u001b[33m...\u001b[0m Elapsed time: \u001b[1;92m0:07:05\u001b[0m.\u001b[1;36m917168\u001b[0m  Explore: \u001b[1;36m100000000000\u001b[0m  Objective: \u001b[1;36m18805\u001b[0m\n"
      ]
     },
     "metadata": {},
     "output_type": "display_data"
    },
    {
     "name": "stderr",
     "output_type": "stream",
     "text": [
      "I0000 00:00:1711739177.872987 1100508 search.cc:282] Start search (memory used = 461.77 MB)\n",
      "I0000 00:00:1711739177.878828 1100508 search.cc:282] Root node processed (time = 5 ms, constraints = 4799, memory used = 461.77 MB)\n",
      "I0000 00:00:1711739177.892401 1100508 search.cc:282] Solution #193 (18805, maximum = 24078, time = 19 ms, branches = 1882, failures = 190860, depth = 33, Relocate<1>, neighbors = 671047, filtered neighbors = 189633, accepted neighbors = 161, memory used = 461.77 MB, limit = 11%)\n",
      "I0000 00:00:1711739178.384424 1100508 search.cc:282] Solution #194 (18792, maximum = 24078, time = 511 ms, branches = 1886, failures = 191072, depth = 33, Relocate<1>, neighbors = 671607, filtered neighbors = 189844, accepted neighbors = 162, memory used = 461.77 MB, limit = 22%)\n",
      "I0000 00:00:1711739179.040920 1100508 search.cc:282] Solution #195 (18769, maximum = 24078, time = 1167 ms, branches = 1891, failures = 191360, depth = 33, Relocate<1>, neighbors = 672401, filtered neighbors = 190131, accepted neighbors = 163, memory used = 461.77 MB, limit = 33%)\n"
     ]
    },
    {
     "data": {
      "text/html": [
       "<pre style=\"white-space:pre;overflow-x:auto;line-height:normal;font-family:Menlo,'DejaVu Sans Mono',consolas,'Courier New',monospace\">Solution #<span style=\"color: #008080; text-decoration-color: #008080; font-weight: bold\">165</span>  found as: <span style=\"color: #008080; text-decoration-color: #008080; font-weight: bold\">18766</span> Progress: <span style=\"color: #008080; text-decoration-color: #008080; font-weight: bold\">44</span>%  Branches: <span style=\"color: #008080; text-decoration-color: #008080; font-weight: bold\">1895</span> Accepted Neighbors: <span style=\"color: #008080; text-decoration-color: #008080; font-weight: bold\">164</span> Model Stamp <span style=\"color: #008080; text-decoration-color: #008080; font-weight: bold\">898343</span> Wall Time: \n",
       "<span style=\"color: #008080; text-decoration-color: #008080; font-weight: bold\">451464</span>\n",
       "</pre>\n"
      ],
      "text/plain": [
       "Solution #\u001b[1;36m165\u001b[0m  found as: \u001b[1;36m18766\u001b[0m Progress: \u001b[1;36m44\u001b[0m%  Branches: \u001b[1;36m1895\u001b[0m Accepted Neighbors: \u001b[1;36m164\u001b[0m Model Stamp \u001b[1;36m898343\u001b[0m Wall Time: \n",
       "\u001b[1;36m451464\u001b[0m\n"
      ]
     },
     "metadata": {},
     "output_type": "display_data"
    },
    {
     "name": "stderr",
     "output_type": "stream",
     "text": [
      "I0000 00:00:1711739179.099340 1100508 search.cc:282] Solution #196 (18766, maximum = 24078, time = 1226 ms, branches = 1895, failures = 191384, depth = 33, Relocate<1>, neighbors = 672424, filtered neighbors = 190154, accepted neighbors = 164, memory used = 461.77 MB, limit = 44%)\n",
      "I0000 00:00:1711739181.002991 1100508 search.cc:282] Solution #197 (18746, maximum = 24078, time = 3129 ms, branches = 1901, failures = 192201, depth = 33, Relocate<1>, neighbors = 676483, filtered neighbors = 190970, accepted neighbors = 165, memory used = 461.77 MB, limit = 55%)\n",
      "I0000 00:00:1711739181.011015 1100508 search.cc:282] Solution #198 (18695, maximum = 24078, time = 3137 ms, branches = 1905, failures = 192204, depth = 33, Relocate<1>, neighbors = 676485, filtered neighbors = 190972, accepted neighbors = 166, memory used = 461.77 MB, limit = 66%)\n",
      "I0000 00:00:1711739182.701341 1100508 search.cc:282] Solution #199 (18691, maximum = 24078, time = 4828 ms, branches = 1910, failures = 192956, depth = 33, Relocate<1>, neighbors = 678210, filtered neighbors = 191723, accepted neighbors = 167, memory used = 461.77 MB, limit = 77%)\n",
      "I0000 00:00:1711739184.927765 1100508 search.cc:282] Solution #200 (18681, maximum = 24078, time = 7054 ms, branches = 1914, failures = 193933, depth = 33, Relocate<1>, neighbors = 681780, filtered neighbors = 192699, accepted neighbors = 168, memory used = 461.77 MB, limit = 88%)\n"
     ]
    },
    {
     "data": {
      "text/html": [
       "<pre style=\"white-space:pre;overflow-x:auto;line-height:normal;font-family:Menlo,'DejaVu Sans Mono',consolas,'Courier New',monospace\">Solution #<span style=\"color: #008080; text-decoration-color: #008080; font-weight: bold\">170</span>  found as: <span style=\"color: #008080; text-decoration-color: #008080; font-weight: bold\">18680</span> Progress: <span style=\"color: #008080; text-decoration-color: #008080; font-weight: bold\">100</span>%  Branches: <span style=\"color: #008080; text-decoration-color: #008080; font-weight: bold\">1921</span> Accepted Neighbors: <span style=\"color: #008080; text-decoration-color: #008080; font-weight: bold\">169</span> Model Stamp <span style=\"color: #008080; text-decoration-color: #008080; font-weight: bold\">906179</span> Wall Time:\n",
       "<span style=\"color: #008080; text-decoration-color: #008080; font-weight: bold\">457413</span>\n",
       "</pre>\n"
      ],
      "text/plain": [
       "Solution #\u001b[1;36m170\u001b[0m  found as: \u001b[1;36m18680\u001b[0m Progress: \u001b[1;36m100\u001b[0m%  Branches: \u001b[1;36m1921\u001b[0m Accepted Neighbors: \u001b[1;36m169\u001b[0m Model Stamp \u001b[1;36m906179\u001b[0m Wall Time:\n",
       "\u001b[1;36m457413\u001b[0m\n"
      ]
     },
     "metadata": {},
     "output_type": "display_data"
    },
    {
     "name": "stderr",
     "output_type": "stream",
     "text": [
      "I0000 00:00:1711739185.048964 1100508 search.cc:282] Solution #201 (18680, maximum = 24078, time = 7175 ms, branches = 1921, failures = 193982, depth = 33, Relocate<1>, neighbors = 681839, filtered neighbors = 192747, accepted neighbors = 169, memory used = 461.77 MB, limit = 100%)\n",
      "I0000 00:00:1711739185.049308 1100508 search.cc:282] Finished search tree (time = 7176 ms, branches = 1921, failures = 194015, neighbors = 681839, filtered neighbors = 192747, accepted neigbors = 169, memory used = 461.77 MB)\n",
      "I0000 00:00:1711739185.052033 1100508 search.cc:282] End search (time = 7178 ms, branches = 1921, failures = 194015, memory used = 461.77 MB, speed = 267 branches/s)\n"
     ]
    },
    {
     "data": {
      "text/html": [
       "<pre style=\"white-space:pre;overflow-x:auto;line-height:normal;font-family:Menlo,'DejaVu Sans Mono',consolas,'Courier New',monospace\">Starting iteration <span style=\"color: #008080; text-decoration-color: #008080; font-weight: bold\">33</span> at <span style=\"color: #00ff00; text-decoration-color: #00ff00; font-weight: bold\">07:06:25</span> PM<span style=\"color: #808000; text-decoration-color: #808000\">...</span> Elapsed time: <span style=\"color: #00ff00; text-decoration-color: #00ff00; font-weight: bold\">0:07:13</span>.<span style=\"color: #008080; text-decoration-color: #008080; font-weight: bold\">495947</span>  Explore: <span style=\"color: #008080; text-decoration-color: #008080; font-weight: bold\">100000000000</span>  Objective: <span style=\"color: #008080; text-decoration-color: #008080; font-weight: bold\">18680</span>\n",
       "</pre>\n"
      ],
      "text/plain": [
       "Starting iteration \u001b[1;36m33\u001b[0m at \u001b[1;92m07:06:25\u001b[0m PM\u001b[33m...\u001b[0m Elapsed time: \u001b[1;92m0:07:13\u001b[0m.\u001b[1;36m495947\u001b[0m  Explore: \u001b[1;36m100000000000\u001b[0m  Objective: \u001b[1;36m18680\u001b[0m\n"
      ]
     },
     "metadata": {},
     "output_type": "display_data"
    },
    {
     "name": "stderr",
     "output_type": "stream",
     "text": [
      "I0000 00:00:1711739185.449580 1100508 search.cc:282] Start search (memory used = 462.72 MB)\n",
      "I0000 00:00:1711739185.454174 1100508 search.cc:282] Root node processed (time = 4 ms, constraints = 4799, memory used = 462.72 MB)\n",
      "I0000 00:00:1711739185.466343 1100508 search.cc:282] Solution #202 (18680, maximum = 24078, time = 16 ms, branches = 1954, failures = 194015, depth = 33, Relocate<1>, neighbors = 681839, filtered neighbors = 192747, accepted neighbors = 169, memory used = 462.72 MB, limit = 11%)\n",
      "I0000 00:00:1711739186.092045 1100508 search.cc:282] Solution #203 (18677, maximum = 24078, time = 642 ms, branches = 1958, failures = 194289, depth = 33, Relocate<1>, neighbors = 682301, filtered neighbors = 193020, accepted neighbors = 170, memory used = 462.72 MB, limit = 22%)\n",
      "I0000 00:00:1711739186.620904 1100508 search.cc:282] Solution #204 (18669, maximum = 24078, time = 1171 ms, branches = 1963, failures = 194524, depth = 33, Relocate<1>, neighbors = 682918, filtered neighbors = 193254, accepted neighbors = 171, memory used = 462.72 MB, limit = 33%)\n",
      "I0000 00:00:1711739187.028832 1100508 search.cc:282] Solution #205 (18652, maximum = 24078, time = 1579 ms, branches = 1967, failures = 194701, depth = 33, Relocate<1>, neighbors = 683187, filtered neighbors = 193430, accepted neighbors = 172, memory used = 462.72 MB, limit = 44%)\n",
      "I0000 00:00:1711739188.643368 1100508 search.cc:282] Solution #206 (18618, maximum = 24078, time = 3193 ms, branches = 1973, failures = 195404, depth = 33, Relocate<1>, neighbors = 684546, filtered neighbors = 194132, accepted neighbors = 173, memory used = 462.72 MB, limit = 55%)\n"
     ]
    },
    {
     "data": {
      "text/html": [
       "<pre style=\"white-space:pre;overflow-x:auto;line-height:normal;font-family:Menlo,'DejaVu Sans Mono',consolas,'Courier New',monospace\">Solution #<span style=\"color: #008080; text-decoration-color: #008080; font-weight: bold\">175</span>  found as: <span style=\"color: #008080; text-decoration-color: #008080; font-weight: bold\">18611</span> Progress: <span style=\"color: #008080; text-decoration-color: #008080; font-weight: bold\">66</span>%  Branches: <span style=\"color: #008080; text-decoration-color: #008080; font-weight: bold\">1977</span> Accepted Neighbors: <span style=\"color: #008080; text-decoration-color: #008080; font-weight: bold\">174</span> Model Stamp <span style=\"color: #008080; text-decoration-color: #008080; font-weight: bold\">920602</span> Wall Time: \n",
       "<span style=\"color: #008080; text-decoration-color: #008080; font-weight: bold\">461381</span>\n",
       "</pre>\n"
      ],
      "text/plain": [
       "Solution #\u001b[1;36m175\u001b[0m  found as: \u001b[1;36m18611\u001b[0m Progress: \u001b[1;36m66\u001b[0m%  Branches: \u001b[1;36m1977\u001b[0m Accepted Neighbors: \u001b[1;36m174\u001b[0m Model Stamp \u001b[1;36m920602\u001b[0m Wall Time: \n",
       "\u001b[1;36m461381\u001b[0m\n"
      ]
     },
     "metadata": {},
     "output_type": "display_data"
    },
    {
     "name": "stderr",
     "output_type": "stream",
     "text": [
      "I0000 00:00:1711739189.015518 1100508 search.cc:282] Solution #207 (18611, maximum = 24078, time = 3565 ms, branches = 1977, failures = 195564, depth = 33, Relocate<1>, neighbors = 684779, filtered neighbors = 194291, accepted neighbors = 174, memory used = 462.72 MB, limit = 66%)\n",
      "I0000 00:00:1711739192.258436 1100508 search.cc:282] Solution #208 (18590, maximum = 24078, time = 6808 ms, branches = 1982, failures = 196973, depth = 33, Relocate<1>, neighbors = 691479, filtered neighbors = 195699, accepted neighbors = 175, memory used = 462.72 MB, limit = 77%)\n",
      "I0000 00:00:1711739192.369242 1100508 search.cc:282] Solution #209 (18585, maximum = 24078, time = 6919 ms, branches = 1986, failures = 197021, depth = 33, Relocate<1>, neighbors = 691534, filtered neighbors = 195746, accepted neighbors = 176, memory used = 462.72 MB, limit = 88%)\n",
      "I0000 00:00:1711739218.446212 1100508 search.cc:282] Finished search tree (time = 32996 ms, branches = 1992, failures = 208589, neighbors = 720309, filtered neighbors = 207278, accepted neigbors = 176, memory used = 462.72 MB)\n",
      "I0000 00:00:1711739218.449393 1100508 search.cc:282] End search (time = 32999 ms, branches = 1992, failures = 208589, memory used = 462.72 MB, speed = 60 branches/s)\n"
     ]
    },
    {
     "data": {
      "text/html": [
       "<pre style=\"white-space:pre;overflow-x:auto;line-height:normal;font-family:Menlo,'DejaVu Sans Mono',consolas,'Courier New',monospace\">Starting iteration <span style=\"color: #008080; text-decoration-color: #008080; font-weight: bold\">34</span> at <span style=\"color: #00ff00; text-decoration-color: #00ff00; font-weight: bold\">07:06:58</span> PM<span style=\"color: #808000; text-decoration-color: #808000\">...</span> Elapsed time: <span style=\"color: #00ff00; text-decoration-color: #00ff00; font-weight: bold\">0:07:46</span>.<span style=\"color: #008080; text-decoration-color: #008080; font-weight: bold\">886644</span>  Explore: <span style=\"color: #008080; text-decoration-color: #008080; font-weight: bold\">100000000000</span>  Objective: <span style=\"color: #008080; text-decoration-color: #008080; font-weight: bold\">18585</span>\n",
       "</pre>\n"
      ],
      "text/plain": [
       "Starting iteration \u001b[1;36m34\u001b[0m at \u001b[1;92m07:06:58\u001b[0m PM\u001b[33m...\u001b[0m Elapsed time: \u001b[1;92m0:07:46\u001b[0m.\u001b[1;36m886644\u001b[0m  Explore: \u001b[1;36m100000000000\u001b[0m  Objective: \u001b[1;36m18585\u001b[0m\n"
      ]
     },
     "metadata": {},
     "output_type": "display_data"
    },
    {
     "name": "stderr",
     "output_type": "stream",
     "text": [
      "I0000 00:00:1711739218.844364 1100508 search.cc:282] Start search (memory used = 463.68 MB)\n",
      "I0000 00:00:1711739218.849367 1100508 search.cc:282] Root node processed (time = 4 ms, constraints = 4799, memory used = 463.68 MB)\n",
      "I0000 00:00:1711739218.863588 1100508 search.cc:282] Solution #210 (18585, maximum = 24078, time = 19 ms, branches = 2025, failures = 208589, depth = 33, Relocate<1>, neighbors = 720309, filtered neighbors = 207278, accepted neighbors = 176, memory used = 463.68 MB, limit = 11%)\n",
      "I0000 00:00:1711739220.668215 1100508 search.cc:282] Solution #211 (18576, maximum = 24078, time = 1823 ms, branches = 2029, failures = 209382, depth = 33, Relocate<1>, neighbors = 723582, filtered neighbors = 208070, accepted neighbors = 177, memory used = 463.68 MB, limit = 22%)\n",
      "I0000 00:00:1711739220.911471 1100508 search.cc:282] Solution #212 (18575, maximum = 24078, time = 2066 ms, branches = 2034, failures = 209485, depth = 33, Relocate<1>, neighbors = 724828, filtered neighbors = 208172, accepted neighbors = 178, memory used = 463.68 MB, limit = 33%)\n"
     ]
    },
    {
     "data": {
      "text/html": [
       "<pre style=\"white-space:pre;overflow-x:auto;line-height:normal;font-family:Menlo,'DejaVu Sans Mono',consolas,'Courier New',monospace\">Solution #<span style=\"color: #008080; text-decoration-color: #008080; font-weight: bold\">180</span>  found as: <span style=\"color: #008080; text-decoration-color: #008080; font-weight: bold\">18561</span> Progress: <span style=\"color: #008080; text-decoration-color: #008080; font-weight: bold\">44</span>%  Branches: <span style=\"color: #008080; text-decoration-color: #008080; font-weight: bold\">2038</span> Accepted Neighbors: <span style=\"color: #008080; text-decoration-color: #008080; font-weight: bold\">179</span> Model Stamp <span style=\"color: #008080; text-decoration-color: #008080; font-weight: bold\">976836</span> Wall Time: \n",
       "<span style=\"color: #008080; text-decoration-color: #008080; font-weight: bold\">496983</span>\n",
       "</pre>\n"
      ],
      "text/plain": [
       "Solution #\u001b[1;36m180\u001b[0m  found as: \u001b[1;36m18561\u001b[0m Progress: \u001b[1;36m44\u001b[0m%  Branches: \u001b[1;36m2038\u001b[0m Accepted Neighbors: \u001b[1;36m179\u001b[0m Model Stamp \u001b[1;36m976836\u001b[0m Wall Time: \n",
       "\u001b[1;36m496983\u001b[0m\n"
      ]
     },
     "metadata": {},
     "output_type": "display_data"
    },
    {
     "name": "stderr",
     "output_type": "stream",
     "text": [
      "I0000 00:00:1711739224.618171 1100508 search.cc:282] Solution #213 (18561, maximum = 24078, time = 5773 ms, branches = 2038, failures = 211082, depth = 33, Relocate<1>, neighbors = 732874, filtered neighbors = 209768, accepted neighbors = 179, memory used = 463.68 MB, limit = 44%)\n",
      "I0000 00:00:1711739235.145637 1100508 search.cc:282] Solution #214 (18558, maximum = 24078, time = 16301 ms, branches = 2044, failures = 215641, depth = 33, Exchange, neighbors = 754662, filtered neighbors = 214326, accepted neighbors = 180, memory used = 463.68 MB, limit = 55%)\n",
      "I0000 00:00:1711739235.659817 1100508 search.cc:282] Solution #215 (18483, maximum = 24078, time = 16815 ms, branches = 2048, failures = 215868, depth = 33, Relocate<1>, neighbors = 755396, filtered neighbors = 214552, accepted neighbors = 181, memory used = 463.68 MB, limit = 66%)\n",
      "I0000 00:00:1711739236.820902 1100508 search.cc:282] Solution #216 (18462, maximum = 24078, time = 17976 ms, branches = 2053, failures = 216381, depth = 33, Relocate<1>, neighbors = 756950, filtered neighbors = 215064, accepted neighbors = 182, memory used = 463.68 MB, limit = 77%)\n",
      "I0000 00:00:1711739238.253161 1100508 search.cc:282] Solution #217 (18453, maximum = 24078, time = 19408 ms, branches = 2057, failures = 217000, depth = 33, Relocate<1>, neighbors = 760194, filtered neighbors = 215682, accepted neighbors = 183, memory used = 463.68 MB, limit = 88%)\n"
     ]
    },
    {
     "data": {
      "text/html": [
       "<pre style=\"white-space:pre;overflow-x:auto;line-height:normal;font-family:Menlo,'DejaVu Sans Mono',consolas,'Courier New',monospace\">Solution #<span style=\"color: #008080; text-decoration-color: #008080; font-weight: bold\">185</span>  found as: <span style=\"color: #008080; text-decoration-color: #008080; font-weight: bold\">18443</span> Progress: <span style=\"color: #008080; text-decoration-color: #008080; font-weight: bold\">100</span>%  Branches: <span style=\"color: #008080; text-decoration-color: #008080; font-weight: bold\">2064</span> Accepted Neighbors: <span style=\"color: #008080; text-decoration-color: #008080; font-weight: bold\">184</span> Model Stamp <span style=\"color: #008080; text-decoration-color: #008080; font-weight: bold\">994800</span> Wall Time:\n",
       "<span style=\"color: #008080; text-decoration-color: #008080; font-weight: bold\">510755</span>\n",
       "</pre>\n"
      ],
      "text/plain": [
       "Solution #\u001b[1;36m185\u001b[0m  found as: \u001b[1;36m18443\u001b[0m Progress: \u001b[1;36m100\u001b[0m%  Branches: \u001b[1;36m2064\u001b[0m Accepted Neighbors: \u001b[1;36m184\u001b[0m Model Stamp \u001b[1;36m994800\u001b[0m Wall Time:\n",
       "\u001b[1;36m510755\u001b[0m\n"
      ]
     },
     "metadata": {},
     "output_type": "display_data"
    },
    {
     "name": "stderr",
     "output_type": "stream",
     "text": [
      "I0000 00:00:1711739238.389769 1100508 search.cc:282] Solution #218 (18443, maximum = 24078, time = 19545 ms, branches = 2064, failures = 217056, depth = 33, Relocate<1>, neighbors = 760459, filtered neighbors = 215737, accepted neighbors = 184, memory used = 463.68 MB, limit = 100%)\n",
      "I0000 00:00:1711739238.390109 1100508 search.cc:282] Finished search tree (time = 19545 ms, branches = 2064, failures = 217089, neighbors = 760459, filtered neighbors = 215737, accepted neigbors = 184, memory used = 463.68 MB)\n",
      "I0000 00:00:1711739238.392786 1100508 search.cc:282] End search (time = 19548 ms, branches = 2064, failures = 217089, memory used = 463.68 MB, speed = 105 branches/s)\n"
     ]
    },
    {
     "data": {
      "text/html": [
       "<pre style=\"white-space:pre;overflow-x:auto;line-height:normal;font-family:Menlo,'DejaVu Sans Mono',consolas,'Courier New',monospace\">Starting iteration <span style=\"color: #008080; text-decoration-color: #008080; font-weight: bold\">35</span> at <span style=\"color: #00ff00; text-decoration-color: #00ff00; font-weight: bold\">07:07:18</span> PM<span style=\"color: #808000; text-decoration-color: #808000\">...</span> Elapsed time: <span style=\"color: #00ff00; text-decoration-color: #00ff00; font-weight: bold\">0:08:06</span>.<span style=\"color: #008080; text-decoration-color: #008080; font-weight: bold\">819105</span>  Explore: <span style=\"color: #008080; text-decoration-color: #008080; font-weight: bold\">100000000000</span>  Objective: <span style=\"color: #008080; text-decoration-color: #008080; font-weight: bold\">18443</span>\n",
       "</pre>\n"
      ],
      "text/plain": [
       "Starting iteration \u001b[1;36m35\u001b[0m at \u001b[1;92m07:07:18\u001b[0m PM\u001b[33m...\u001b[0m Elapsed time: \u001b[1;92m0:08:06\u001b[0m.\u001b[1;36m819105\u001b[0m  Explore: \u001b[1;36m100000000000\u001b[0m  Objective: \u001b[1;36m18443\u001b[0m\n"
      ]
     },
     "metadata": {},
     "output_type": "display_data"
    },
    {
     "name": "stderr",
     "output_type": "stream",
     "text": [
      "I0000 00:00:1711739238.772674 1100508 search.cc:282] Start search (memory used = 464.63 MB)\n",
      "I0000 00:00:1711739238.777454 1100508 search.cc:282] Root node processed (time = 4 ms, constraints = 4799, memory used = 464.63 MB)\n",
      "I0000 00:00:1711739238.789940 1100508 search.cc:282] Solution #219 (18443, maximum = 24078, time = 17 ms, branches = 2097, failures = 217089, depth = 33, Relocate<1>, neighbors = 760459, filtered neighbors = 215737, accepted neighbors = 184, memory used = 464.63 MB, limit = 11%)\n",
      "I0000 00:00:1711739239.326947 1100508 search.cc:282] Solution #220 (18425, maximum = 24078, time = 554 ms, branches = 2101, failures = 217315, depth = 33, Relocate<1>, neighbors = 760828, filtered neighbors = 215962, accepted neighbors = 185, memory used = 464.63 MB, limit = 22%)\n",
      "I0000 00:00:1711739245.141692 1100508 search.cc:282] Solution #221 (18387, maximum = 24078, time = 6368 ms, branches = 2106, failures = 219867, depth = 33, Relocate<1>, neighbors = 766322, filtered neighbors = 218513, accepted neighbors = 186, memory used = 464.63 MB, limit = 33%)\n",
      "I0000 00:00:1711739251.760187 1100508 search.cc:282] Solution #222 (18380, maximum = 24078, time = 12987 ms, branches = 2110, failures = 222762, depth = 33, Relocate<1>, neighbors = 776417, filtered neighbors = 221407, accepted neighbors = 187, memory used = 464.63 MB, limit = 44%)\n",
      "I0000 00:00:1711739255.514441 1100508 search.cc:282] Solution #223 (18354, maximum = 24078, time = 16741 ms, branches = 2116, failures = 224397, depth = 33, Relocate<1>, neighbors = 783293, filtered neighbors = 223041, accepted neighbors = 188, memory used = 464.63 MB, limit = 55%)\n",
      "I0000 00:00:1711739271.769892 1100508 search.cc:282] Finished search tree (time = 32997 ms, branches = 2119, failures = 231563, neighbors = 798207, filtered neighbors = 230172, accepted neigbors = 188, memory used = 464.63 MB)\n",
      "I0000 00:00:1711739271.773148 1100508 search.cc:282] End search (time = 33000 ms, branches = 2119, failures = 231563, memory used = 464.63 MB, speed = 64 branches/s)\n"
     ]
    },
    {
     "data": {
      "text/html": [
       "<pre style=\"white-space:pre;overflow-x:auto;line-height:normal;font-family:Menlo,'DejaVu Sans Mono',consolas,'Courier New',monospace\">Starting iteration <span style=\"color: #008080; text-decoration-color: #008080; font-weight: bold\">36</span> at <span style=\"color: #00ff00; text-decoration-color: #00ff00; font-weight: bold\">07:07:52</span> PM<span style=\"color: #808000; text-decoration-color: #808000\">...</span> Elapsed time: <span style=\"color: #00ff00; text-decoration-color: #00ff00; font-weight: bold\">0:08:40</span>.<span style=\"color: #008080; text-decoration-color: #008080; font-weight: bold\">424419</span>  Explore: <span style=\"color: #008080; text-decoration-color: #008080; font-weight: bold\">0</span>  Objective: <span style=\"color: #008080; text-decoration-color: #008080; font-weight: bold\">18354</span>\n",
       "</pre>\n"
      ],
      "text/plain": [
       "Starting iteration \u001b[1;36m36\u001b[0m at \u001b[1;92m07:07:52\u001b[0m PM\u001b[33m...\u001b[0m Elapsed time: \u001b[1;92m0:08:40\u001b[0m.\u001b[1;36m424419\u001b[0m  Explore: \u001b[1;36m0\u001b[0m  Objective: \u001b[1;36m18354\u001b[0m\n"
      ]
     },
     "metadata": {},
     "output_type": "display_data"
    },
    {
     "name": "stderr",
     "output_type": "stream",
     "text": [
      "I0000 00:00:1711739272.377999 1100508 search.cc:282] Start search (memory used = 465.56 MB)\n",
      "I0000 00:00:1711739272.382625 1100508 search.cc:282] Root node processed (time = 4 ms, constraints = 4799, memory used = 465.56 MB)\n",
      "I0000 00:00:1711739272.395187 1100508 search.cc:282] Solution #224 (18354, maximum = 24078, time = 17 ms, branches = 2152, failures = 231563, depth = 33, Relocate<1>, neighbors = 798207, filtered neighbors = 230172, accepted neighbors = 188, memory used = 465.56 MB, limit = 11%)\n"
     ]
    },
    {
     "data": {
      "text/html": [
       "<pre style=\"white-space:pre;overflow-x:auto;line-height:normal;font-family:Menlo,'DejaVu Sans Mono',consolas,'Courier New',monospace\">Solution #<span style=\"color: #008080; text-decoration-color: #008080; font-weight: bold\">190</span>  found as: <span style=\"color: #008080; text-decoration-color: #008080; font-weight: bold\">18339</span> Progress: <span style=\"color: #008080; text-decoration-color: #008080; font-weight: bold\">22</span>%  Branches: <span style=\"color: #008080; text-decoration-color: #008080; font-weight: bold\">2156</span> Accepted Neighbors: <span style=\"color: #008080; text-decoration-color: #008080; font-weight: bold\">189</span> Model Stamp <span style=\"color: #008080; text-decoration-color: #008080; font-weight: bold\">1060441</span> Wall Time:\n",
       "<span style=\"color: #008080; text-decoration-color: #008080; font-weight: bold\">546909</span>\n",
       "</pre>\n"
      ],
      "text/plain": [
       "Solution #\u001b[1;36m190\u001b[0m  found as: \u001b[1;36m18339\u001b[0m Progress: \u001b[1;36m22\u001b[0m%  Branches: \u001b[1;36m2156\u001b[0m Accepted Neighbors: \u001b[1;36m189\u001b[0m Model Stamp \u001b[1;36m1060441\u001b[0m Wall Time:\n",
       "\u001b[1;36m546909\u001b[0m\n"
      ]
     },
     "metadata": {},
     "output_type": "display_data"
    },
    {
     "name": "stderr",
     "output_type": "stream",
     "text": [
      "I0000 00:00:1711739274.544056 1100508 search.cc:282] Solution #225 (18339, maximum = 24078, time = 2165 ms, branches = 2156, failures = 232497, depth = 33, Exchange, neighbors = 799754, filtered neighbors = 231105, accepted neighbors = 189, memory used = 465.56 MB, limit = 22%)\n",
      "I0000 00:00:1711739274.672051 1100508 search.cc:282] Solution #226 (18329, maximum = 24078, time = 2293 ms, branches = 2161, failures = 232553, depth = 33, Exchange, neighbors = 799813, filtered neighbors = 231160, accepted neighbors = 190, memory used = 465.56 MB, limit = 33%)\n",
      "I0000 00:00:1711739274.680358 1100508 search.cc:282] Solution #227 (18328, maximum = 24078, time = 2302 ms, branches = 2165, failures = 232556, depth = 33, Exchange, neighbors = 799815, filtered neighbors = 231162, accepted neighbors = 191, memory used = 465.56 MB, limit = 44%)\n",
      "I0000 00:00:1711739274.685675 1100508 search.cc:282] Solution #228 (18322, maximum = 24078, time = 2307 ms, branches = 2171, failures = 232558, depth = 33, Relocate<1>, neighbors = 799834, filtered neighbors = 231163, accepted neighbors = 192, memory used = 465.56 MB, limit = 55%)\n",
      "I0000 00:00:1711739277.678728 1100508 search.cc:282] Solution #229 (18318, maximum = 24078, time = 5300 ms, branches = 2175, failures = 233878, depth = 33, Relocate<1>, neighbors = 803296, filtered neighbors = 232482, accepted neighbors = 193, memory used = 465.56 MB, limit = 66%)\n"
     ]
    },
    {
     "data": {
      "text/html": [
       "<pre style=\"white-space:pre;overflow-x:auto;line-height:normal;font-family:Menlo,'DejaVu Sans Mono',consolas,'Courier New',monospace\">Solution #<span style=\"color: #008080; text-decoration-color: #008080; font-weight: bold\">195</span>  found as: <span style=\"color: #008080; text-decoration-color: #008080; font-weight: bold\">18294</span> Progress: <span style=\"color: #008080; text-decoration-color: #008080; font-weight: bold\">77</span>%  Branches: <span style=\"color: #008080; text-decoration-color: #008080; font-weight: bold\">2180</span> Accepted Neighbors: <span style=\"color: #008080; text-decoration-color: #008080; font-weight: bold\">194</span> Model Stamp <span style=\"color: #008080; text-decoration-color: #008080; font-weight: bold\">1066224</span> Wall Time:\n",
       "<span style=\"color: #008080; text-decoration-color: #008080; font-weight: bold\">551270</span>\n",
       "</pre>\n"
      ],
      "text/plain": [
       "Solution #\u001b[1;36m195\u001b[0m  found as: \u001b[1;36m18294\u001b[0m Progress: \u001b[1;36m77\u001b[0m%  Branches: \u001b[1;36m2180\u001b[0m Accepted Neighbors: \u001b[1;36m194\u001b[0m Model Stamp \u001b[1;36m1066224\u001b[0m Wall Time:\n",
       "\u001b[1;36m551270\u001b[0m\n"
      ]
     },
     "metadata": {},
     "output_type": "display_data"
    },
    {
     "name": "stderr",
     "output_type": "stream",
     "text": [
      "I0000 00:00:1711739278.904552 1100508 search.cc:282] Solution #230 (18294, maximum = 24078, time = 6526 ms, branches = 2180, failures = 234412, depth = 33, Relocate<1>, neighbors = 805206, filtered neighbors = 233015, accepted neighbors = 194, memory used = 465.56 MB, limit = 77%)\n",
      "I0000 00:00:1711739279.851515 1100508 search.cc:282] Solution #231 (18293, maximum = 24078, time = 7473 ms, branches = 2184, failures = 234821, depth = 33, Relocate<1>, neighbors = 806580, filtered neighbors = 233423, accepted neighbors = 195, memory used = 465.56 MB, limit = 88%)\n",
      "I0000 00:00:1711739280.891024 1100508 search.cc:282] Solution #232 (18292, maximum = 24078, time = 8512 ms, branches = 2191, failures = 235259, depth = 33, Relocate<1>, neighbors = 809357, filtered neighbors = 233860, accepted neighbors = 196, memory used = 465.56 MB, limit = 100%)\n",
      "I0000 00:00:1711739280.891373 1100508 search.cc:282] Finished search tree (time = 8513 ms, branches = 2191, failures = 235292, neighbors = 809357, filtered neighbors = 233860, accepted neigbors = 196, memory used = 465.56 MB)\n",
      "I0000 00:00:1711739280.893969 1100508 search.cc:282] End search (time = 8515 ms, branches = 2191, failures = 235292, memory used = 465.56 MB, speed = 257 branches/s)\n"
     ]
    },
    {
     "data": {
      "text/html": [
       "<pre style=\"white-space:pre;overflow-x:auto;line-height:normal;font-family:Menlo,'DejaVu Sans Mono',consolas,'Courier New',monospace\">Starting iteration <span style=\"color: #008080; text-decoration-color: #008080; font-weight: bold\">37</span> at <span style=\"color: #00ff00; text-decoration-color: #00ff00; font-weight: bold\">07:08:01</span> PM<span style=\"color: #808000; text-decoration-color: #808000\">...</span> Elapsed time: <span style=\"color: #00ff00; text-decoration-color: #00ff00; font-weight: bold\">0:08:49</span>.<span style=\"color: #008080; text-decoration-color: #008080; font-weight: bold\">326465</span>  Explore: <span style=\"color: #008080; text-decoration-color: #008080; font-weight: bold\">0</span>  Objective: <span style=\"color: #008080; text-decoration-color: #008080; font-weight: bold\">18292</span>\n",
       "</pre>\n"
      ],
      "text/plain": [
       "Starting iteration \u001b[1;36m37\u001b[0m at \u001b[1;92m07:08:01\u001b[0m PM\u001b[33m...\u001b[0m Elapsed time: \u001b[1;92m0:08:49\u001b[0m.\u001b[1;36m326465\u001b[0m  Explore: \u001b[1;36m0\u001b[0m  Objective: \u001b[1;36m18292\u001b[0m\n"
      ]
     },
     "metadata": {},
     "output_type": "display_data"
    },
    {
     "name": "stderr",
     "output_type": "stream",
     "text": [
      "I0000 00:00:1711739281.279930 1100508 search.cc:282] Start search (memory used = 466.53 MB)\n",
      "I0000 00:00:1711739281.284819 1100508 search.cc:282] Root node processed (time = 4 ms, constraints = 4799, memory used = 466.53 MB)\n",
      "I0000 00:00:1711739281.297862 1100508 search.cc:282] Solution #233 (18292, maximum = 24078, time = 17 ms, branches = 2224, failures = 235292, depth = 33, Relocate<1>, neighbors = 809357, filtered neighbors = 233860, accepted neighbors = 196, memory used = 466.53 MB, limit = 10%)\n",
      "I0000 00:00:1711739286.298315 1100508 search.cc:282] Solution #234 (18268, maximum = 24078, time = 5018 ms, branches = 2228, failures = 237461, depth = 33, Relocate<1>, neighbors = 816951, filtered neighbors = 236028, accepted neighbors = 197, memory used = 466.53 MB, limit = 20%)\n",
      "I0000 00:00:1711739286.969861 1100508 search.cc:282] Solution #235 (18266, maximum = 24078, time = 5689 ms, branches = 2233, failures = 237756, depth = 33, Relocate<1>, neighbors = 818912, filtered neighbors = 236322, accepted neighbors = 198, memory used = 466.53 MB, limit = 30%)\n"
     ]
    },
    {
     "data": {
      "text/html": [
       "<pre style=\"white-space:pre;overflow-x:auto;line-height:normal;font-family:Menlo,'DejaVu Sans Mono',consolas,'Courier New',monospace\">Solution #<span style=\"color: #008080; text-decoration-color: #008080; font-weight: bold\">200</span>  found as: <span style=\"color: #008080; text-decoration-color: #008080; font-weight: bold\">18255</span> Progress: <span style=\"color: #008080; text-decoration-color: #008080; font-weight: bold\">40</span>%  Branches: <span style=\"color: #008080; text-decoration-color: #008080; font-weight: bold\">2237</span> Accepted Neighbors: <span style=\"color: #008080; text-decoration-color: #008080; font-weight: bold\">199</span> Model Stamp <span style=\"color: #008080; text-decoration-color: #008080; font-weight: bold\">1085986</span> Wall Time:\n",
       "<span style=\"color: #008080; text-decoration-color: #008080; font-weight: bold\">559377</span>\n",
       "</pre>\n"
      ],
      "text/plain": [
       "Solution #\u001b[1;36m200\u001b[0m  found as: \u001b[1;36m18255\u001b[0m Progress: \u001b[1;36m40\u001b[0m%  Branches: \u001b[1;36m2237\u001b[0m Accepted Neighbors: \u001b[1;36m199\u001b[0m Model Stamp \u001b[1;36m1085986\u001b[0m Wall Time:\n",
       "\u001b[1;36m559377\u001b[0m\n"
      ]
     },
     "metadata": {},
     "output_type": "display_data"
    },
    {
     "name": "stderr",
     "output_type": "stream",
     "text": [
      "I0000 00:00:1711739287.012077 1100508 search.cc:282] Solution #236 (18255, maximum = 24078, time = 5732 ms, branches = 2237, failures = 237773, depth = 33, Relocate<1>, neighbors = 819048, filtered neighbors = 236338, accepted neighbors = 199, memory used = 466.53 MB, limit = 40%)\n",
      "I0000 00:00:1711739295.519060 1100508 search.cc:282] Solution #237 (18169, maximum = 24078, time = 14238 ms, branches = 2243, failures = 241515, depth = 33, Relocate<1>, neighbors = 834575, filtered neighbors = 240079, accepted neighbors = 200, memory used = 466.53 MB, limit = 50%)\n",
      "I0000 00:00:1711739316.163195 1100508 search.cc:282] Solution #238 (18162, maximum = 24078, time = 34883 ms, branches = 2247, failures = 250598, depth = 33, Exchange, neighbors = 858893, filtered neighbors = 249161, accepted neighbors = 201, memory used = 466.53 MB, limit = 99%)\n",
      "I0000 00:00:1711739316.286639 1100508 search.cc:282] Finished search tree (time = 35006 ms, branches = 2251, failures = 250682, neighbors = 859014, filtered neighbors = 249210, accepted neigbors = 201, memory used = 466.53 MB)\n",
      "I0000 00:00:1711739316.290193 1100508 search.cc:282] End search (time = 35010 ms, branches = 2251, failures = 250682, memory used = 466.53 MB, speed = 64 branches/s)\n"
     ]
    },
    {
     "data": {
      "text/html": [
       "<pre style=\"white-space:pre;overflow-x:auto;line-height:normal;font-family:Menlo,'DejaVu Sans Mono',consolas,'Courier New',monospace\">Starting iteration <span style=\"color: #008080; text-decoration-color: #008080; font-weight: bold\">38</span> at <span style=\"color: #00ff00; text-decoration-color: #00ff00; font-weight: bold\">07:08:36</span> PM<span style=\"color: #808000; text-decoration-color: #808000\">...</span> Elapsed time: <span style=\"color: #00ff00; text-decoration-color: #00ff00; font-weight: bold\">0:09:24</span>.<span style=\"color: #008080; text-decoration-color: #008080; font-weight: bold\">739775</span>  Explore: <span style=\"color: #008080; text-decoration-color: #008080; font-weight: bold\">100000000000</span>  Objective: <span style=\"color: #008080; text-decoration-color: #008080; font-weight: bold\">18162</span>\n",
       "</pre>\n"
      ],
      "text/plain": [
       "Starting iteration \u001b[1;36m38\u001b[0m at \u001b[1;92m07:08:36\u001b[0m PM\u001b[33m...\u001b[0m Elapsed time: \u001b[1;92m0:09:24\u001b[0m.\u001b[1;36m739775\u001b[0m  Explore: \u001b[1;36m100000000000\u001b[0m  Objective: \u001b[1;36m18162\u001b[0m\n"
      ]
     },
     "metadata": {},
     "output_type": "display_data"
    },
    {
     "name": "stderr",
     "output_type": "stream",
     "text": [
      "I0000 00:00:1711739316.693189 1100508 search.cc:282] Start search (memory used = 467.48 MB)\n",
      "I0000 00:00:1711739316.697772 1100508 search.cc:282] Root node processed (time = 4 ms, constraints = 4799, memory used = 467.48 MB)\n",
      "I0000 00:00:1711739316.710057 1100508 search.cc:282] Solution #239 (18162, maximum = 24078, time = 16 ms, branches = 2284, failures = 250682, depth = 33, Exchange, neighbors = 859014, filtered neighbors = 249210, accepted neighbors = 201, memory used = 467.48 MB, limit = 10%)\n",
      "I0000 00:00:1711739320.894407 1100508 search.cc:282] Solution #240 (18161, maximum = 24078, time = 4201 ms, branches = 2288, failures = 252521, depth = 33, Exchange, neighbors = 861711, filtered neighbors = 251048, accepted neighbors = 202, memory used = 467.48 MB, limit = 20%)\n",
      "I0000 00:00:1711739322.052330 1100508 search.cc:282] Solution #241 (18157, maximum = 24078, time = 5358 ms, branches = 2293, failures = 253031, depth = 33, Exchange, neighbors = 862275, filtered neighbors = 251557, accepted neighbors = 203, memory used = 467.48 MB, limit = 30%)\n"
     ]
    },
    {
     "data": {
      "text/html": [
       "<pre style=\"white-space:pre;overflow-x:auto;line-height:normal;font-family:Menlo,'DejaVu Sans Mono',consolas,'Courier New',monospace\">Solution #<span style=\"color: #008080; text-decoration-color: #008080; font-weight: bold\">205</span>  found as: <span style=\"color: #008080; text-decoration-color: #008080; font-weight: bold\">18152</span> Progress: <span style=\"color: #008080; text-decoration-color: #008080; font-weight: bold\">40</span>%  Branches: <span style=\"color: #008080; text-decoration-color: #008080; font-weight: bold\">2297</span> Accepted Neighbors: <span style=\"color: #008080; text-decoration-color: #008080; font-weight: bold\">204</span> Model Stamp <span style=\"color: #008080; text-decoration-color: #008080; font-weight: bold\">1144139</span> Wall Time:\n",
       "<span style=\"color: #008080; text-decoration-color: #008080; font-weight: bold\">596519</span>\n",
       "</pre>\n"
      ],
      "text/plain": [
       "Solution #\u001b[1;36m205\u001b[0m  found as: \u001b[1;36m18152\u001b[0m Progress: \u001b[1;36m40\u001b[0m%  Branches: \u001b[1;36m2297\u001b[0m Accepted Neighbors: \u001b[1;36m204\u001b[0m Model Stamp \u001b[1;36m1144139\u001b[0m Wall Time:\n",
       "\u001b[1;36m596519\u001b[0m\n"
      ]
     },
     "metadata": {},
     "output_type": "display_data"
    },
    {
     "name": "stderr",
     "output_type": "stream",
     "text": [
      "I0000 00:00:1711739324.153816 1100508 search.cc:282] Solution #242 (18152, maximum = 24078, time = 7460 ms, branches = 2297, failures = 253931, depth = 33, Relocate<1>, neighbors = 868110, filtered neighbors = 252456, accepted neighbors = 204, memory used = 467.48 MB, limit = 40%)\n",
      "I0000 00:00:1711739325.194480 1100508 search.cc:282] Solution #243 (18151, maximum = 24078, time = 8501 ms, branches = 2303, failures = 254384, depth = 33, Relocate<1>, neighbors = 869473, filtered neighbors = 252908, accepted neighbors = 205, memory used = 467.48 MB, limit = 50%)\n",
      "I0000 00:00:1711739328.405147 1100508 search.cc:282] Solution #244 (18148, maximum = 24078, time = 11711 ms, branches = 2307, failures = 255800, depth = 33, Exchange, neighbors = 871270, filtered neighbors = 254323, accepted neighbors = 206, memory used = 467.48 MB, limit = 60%)\n",
      "I0000 00:00:1711739334.796938 1100508 search.cc:282] Solution #245 (18119, maximum = 24078, time = 18103 ms, branches = 2312, failures = 258617, depth = 33, Exchange, neighbors = 875873, filtered neighbors = 257139, accepted neighbors = 207, memory used = 467.48 MB, limit = 70%)\n",
      "I0000 00:00:1711739335.820203 1100508 search.cc:282] Solution #246 (18118, maximum = 24078, time = 19126 ms, branches = 2316, failures = 259070, depth = 33, Exchange, neighbors = 876606, filtered neighbors = 257591, accepted neighbors = 208, memory used = 467.48 MB, limit = 80%)\n"
     ]
    },
    {
     "data": {
      "text/html": [
       "<pre style=\"white-space:pre;overflow-x:auto;line-height:normal;font-family:Menlo,'DejaVu Sans Mono',consolas,'Courier New',monospace\">Solution #<span style=\"color: #008080; text-decoration-color: #008080; font-weight: bold\">210</span>  found as: <span style=\"color: #008080; text-decoration-color: #008080; font-weight: bold\">18087</span> Progress: <span style=\"color: #008080; text-decoration-color: #008080; font-weight: bold\">90</span>%  Branches: <span style=\"color: #008080; text-decoration-color: #008080; font-weight: bold\">2323</span> Accepted Neighbors: <span style=\"color: #008080; text-decoration-color: #008080; font-weight: bold\">209</span> Model Stamp <span style=\"color: #008080; text-decoration-color: #008080; font-weight: bold\">1159607</span> Wall Time:\n",
       "<span style=\"color: #008080; text-decoration-color: #008080; font-weight: bold\">608195</span>\n",
       "</pre>\n"
      ],
      "text/plain": [
       "Solution #\u001b[1;36m210\u001b[0m  found as: \u001b[1;36m18087\u001b[0m Progress: \u001b[1;36m90\u001b[0m%  Branches: \u001b[1;36m2323\u001b[0m Accepted Neighbors: \u001b[1;36m209\u001b[0m Model Stamp \u001b[1;36m1159607\u001b[0m Wall Time:\n",
       "\u001b[1;36m608195\u001b[0m\n"
      ]
     },
     "metadata": {},
     "output_type": "display_data"
    },
    {
     "name": "stderr",
     "output_type": "stream",
     "text": [
      "I0000 00:00:1711739335.829833 1100508 search.cc:282] Solution #247 (18087, maximum = 24078, time = 19136 ms, branches = 2323, failures = 259073, depth = 33, Exchange, neighbors = 876608, filtered neighbors = 257593, accepted neighbors = 209, memory used = 467.48 MB, limit = 90%)\n",
      "I0000 00:00:1711739351.149432 1100508 search.cc:282] Solution #248 (18086, maximum = 24078, time = 34456 ms, branches = 2327, failures = 265746, depth = 33, Exchange, neighbors = 887753, filtered neighbors = 264265, accepted neighbors = 210, memory used = 467.48 MB, limit = 100%)\n",
      "I0000 00:00:1711739351.149746 1100508 search.cc:282] Finished search tree (time = 34456 ms, branches = 2327, failures = 265778, neighbors = 887753, filtered neighbors = 264265, accepted neigbors = 210, memory used = 467.48 MB)\n",
      "I0000 00:00:1711739351.152550 1100508 search.cc:282] End search (time = 34459 ms, branches = 2327, failures = 265778, memory used = 467.48 MB, speed = 67 branches/s)\n"
     ]
    },
    {
     "data": {
      "text/html": [
       "<pre style=\"white-space:pre;overflow-x:auto;line-height:normal;font-family:Menlo,'DejaVu Sans Mono',consolas,'Courier New',monospace\">Starting iteration <span style=\"color: #008080; text-decoration-color: #008080; font-weight: bold\">39</span> at <span style=\"color: #00ff00; text-decoration-color: #00ff00; font-weight: bold\">07:09:11</span> PM<span style=\"color: #808000; text-decoration-color: #808000\">...</span> Elapsed time: <span style=\"color: #00ff00; text-decoration-color: #00ff00; font-weight: bold\">0:09:59</span>.<span style=\"color: #008080; text-decoration-color: #008080; font-weight: bold\">576531</span>  Explore: <span style=\"color: #008080; text-decoration-color: #008080; font-weight: bold\">100000000000</span>  Objective: <span style=\"color: #008080; text-decoration-color: #008080; font-weight: bold\">18086</span>\n",
       "</pre>\n"
      ],
      "text/plain": [
       "Starting iteration \u001b[1;36m39\u001b[0m at \u001b[1;92m07:09:11\u001b[0m PM\u001b[33m...\u001b[0m Elapsed time: \u001b[1;92m0:09:59\u001b[0m.\u001b[1;36m576531\u001b[0m  Explore: \u001b[1;36m100000000000\u001b[0m  Objective: \u001b[1;36m18086\u001b[0m\n"
      ]
     },
     "metadata": {},
     "output_type": "display_data"
    },
    {
     "name": "stderr",
     "output_type": "stream",
     "text": [
      "I0000 00:00:1711739351.529702 1100508 search.cc:282] Start search (memory used = 468.43 MB)\n",
      "I0000 00:00:1711739351.534307 1100508 search.cc:282] Root node processed (time = 4 ms, constraints = 4799, memory used = 468.43 MB)\n",
      "I0000 00:00:1711739351.546300 1100508 search.cc:282] Solution #249 (18086, maximum = 24078, time = 16 ms, branches = 2360, failures = 265778, depth = 33, Exchange, neighbors = 887753, filtered neighbors = 264265, accepted neighbors = 210, memory used = 468.43 MB, limit = 10%)\n",
      "I0000 00:00:1711739359.102280 1100508 search.cc:282] Solution #250 (18078, maximum = 24078, time = 7572 ms, branches = 2364, failures = 269101, depth = 33, Exchange, neighbors = 892081, filtered neighbors = 267587, accepted neighbors = 211, memory used = 468.43 MB, limit = 21%)\n",
      "I0000 00:00:1711739362.256797 1100508 search.cc:282] Solution #251 (18037, maximum = 24078, time = 10726 ms, branches = 2369, failures = 270492, depth = 33, Exchange, neighbors = 893626, filtered neighbors = 268977, accepted neighbors = 212, memory used = 468.43 MB, limit = 30%)\n",
      "I0000 00:00:1711739372.306537 1100508 search.cc:282] Solution #252 (18026, maximum = 24078, time = 20776 ms, branches = 2373, failures = 274895, depth = 33, Exchange, neighbors = 902852, filtered neighbors = 273379, accepted neighbors = 213, memory used = 468.43 MB, limit = 59%)\n"
     ]
    },
    {
     "data": {
      "text/html": [
       "<pre style=\"white-space:pre;overflow-x:auto;line-height:normal;font-family:Menlo,'DejaVu Sans Mono',consolas,'Courier New',monospace\">Solution #<span style=\"color: #008080; text-decoration-color: #008080; font-weight: bold\">215</span>  found as: <span style=\"color: #008080; text-decoration-color: #008080; font-weight: bold\">18002</span> Progress: <span style=\"color: #008080; text-decoration-color: #008080; font-weight: bold\">64</span>%  Branches: <span style=\"color: #008080; text-decoration-color: #008080; font-weight: bold\">2379</span> Accepted Neighbors: <span style=\"color: #008080; text-decoration-color: #008080; font-weight: bold\">214</span> Model Stamp <span style=\"color: #008080; text-decoration-color: #008080; font-weight: bold\">1219091</span> Wall Time:\n",
       "<span style=\"color: #008080; text-decoration-color: #008080; font-weight: bold\">646453</span>\n",
       "</pre>\n"
      ],
      "text/plain": [
       "Solution #\u001b[1;36m215\u001b[0m  found as: \u001b[1;36m18002\u001b[0m Progress: \u001b[1;36m64\u001b[0m%  Branches: \u001b[1;36m2379\u001b[0m Accepted Neighbors: \u001b[1;36m214\u001b[0m Model Stamp \u001b[1;36m1219091\u001b[0m Wall Time:\n",
       "\u001b[1;36m646453\u001b[0m\n"
      ]
     },
     "metadata": {},
     "output_type": "display_data"
    },
    {
     "name": "stderr",
     "output_type": "stream",
     "text": [
      "I0000 00:00:1711739374.087502 1100508 search.cc:282] Solution #253 (18002, maximum = 24078, time = 22557 ms, branches = 2379, failures = 275675, depth = 33, Exchange, neighbors = 905170, filtered neighbors = 274158, accepted neighbors = 214, memory used = 468.43 MB, limit = 64%)\n",
      "I0000 00:00:1711739376.424871 1100508 search.cc:282] Solution #254 (17911, maximum = 24078, time = 24895 ms, branches = 2383, failures = 276700, depth = 33, Exchange, neighbors = 907866, filtered neighbors = 275182, accepted neighbors = 215, memory used = 468.43 MB, limit = 71%)\n",
      "I0000 00:00:1711739376.745774 1100508 search.cc:282] Solution #255 (17897, maximum = 24078, time = 25215 ms, branches = 2388, failures = 276840, depth = 33, Exchange, neighbors = 908177, filtered neighbors = 275321, accepted neighbors = 216, memory used = 468.43 MB, limit = 71%)\n",
      "I0000 00:00:1711739376.753313 1100508 search.cc:282] Solution #256 (17889, maximum = 24078, time = 25223 ms, branches = 2392, failures = 276843, depth = 33, Exchange, neighbors = 908181, filtered neighbors = 275323, accepted neighbors = 217, memory used = 468.43 MB, limit = 80%)\n",
      "I0000 00:00:1711739380.234479 1100508 search.cc:282] Solution #257 (17885, maximum = 24078, time = 28704 ms, branches = 2399, failures = 278370, depth = 33, Exchange, neighbors = 910830, filtered neighbors = 276849, accepted neighbors = 218, memory used = 468.43 MB, limit = 90%)\n"
     ]
    },
    {
     "data": {
      "text/html": [
       "<pre style=\"white-space:pre;overflow-x:auto;line-height:normal;font-family:Menlo,'DejaVu Sans Mono',consolas,'Courier New',monospace\">Solution #<span style=\"color: #008080; text-decoration-color: #008080; font-weight: bold\">220</span>  found as: <span style=\"color: #008080; text-decoration-color: #008080; font-weight: bold\">17870</span> Progress: <span style=\"color: #008080; text-decoration-color: #008080; font-weight: bold\">100</span>%  Branches: <span style=\"color: #008080; text-decoration-color: #008080; font-weight: bold\">2403</span> Accepted Neighbors: <span style=\"color: #008080; text-decoration-color: #008080; font-weight: bold\">219</span> Model Stamp <span style=\"color: #008080; text-decoration-color: #008080; font-weight: bold\">1228375</span> Wall \n",
       "Time: <span style=\"color: #008080; text-decoration-color: #008080; font-weight: bold\">653488</span>\n",
       "</pre>\n"
      ],
      "text/plain": [
       "Solution #\u001b[1;36m220\u001b[0m  found as: \u001b[1;36m17870\u001b[0m Progress: \u001b[1;36m100\u001b[0m%  Branches: \u001b[1;36m2403\u001b[0m Accepted Neighbors: \u001b[1;36m219\u001b[0m Model Stamp \u001b[1;36m1228375\u001b[0m Wall \n",
       "Time: \u001b[1;36m653488\u001b[0m\n"
      ]
     },
     "metadata": {},
     "output_type": "display_data"
    },
    {
     "name": "stderr",
     "output_type": "stream",
     "text": [
      "I0000 00:00:1711739381.122417 1100508 search.cc:282] Solution #258 (17870, maximum = 24078, time = 29592 ms, branches = 2403, failures = 278757, depth = 33, Exchange, neighbors = 911759, filtered neighbors = 277235, accepted neighbors = 219, memory used = 468.43 MB, limit = 100%)\n",
      "I0000 00:00:1711739381.122725 1100508 search.cc:282] Finished search tree (time = 29592 ms, branches = 2403, failures = 278789, neighbors = 911759, filtered neighbors = 277235, accepted neigbors = 219, memory used = 468.43 MB)\n",
      "I0000 00:00:1711739381.125565 1100508 search.cc:282] End search (time = 29595 ms, branches = 2403, failures = 278789, memory used = 468.43 MB, speed = 81 branches/s)\n"
     ]
    },
    {
     "data": {
      "text/html": [
       "<pre style=\"white-space:pre;overflow-x:auto;line-height:normal;font-family:Menlo,'DejaVu Sans Mono',consolas,'Courier New',monospace\">Starting iteration <span style=\"color: #008080; text-decoration-color: #008080; font-weight: bold\">40</span> at <span style=\"color: #00ff00; text-decoration-color: #00ff00; font-weight: bold\">07:09:41</span> PM<span style=\"color: #808000; text-decoration-color: #808000\">...</span> Elapsed time: <span style=\"color: #00ff00; text-decoration-color: #00ff00; font-weight: bold\">0:10:29</span>.<span style=\"color: #008080; text-decoration-color: #008080; font-weight: bold\">558599</span>  Explore: <span style=\"color: #008080; text-decoration-color: #008080; font-weight: bold\">100000000000</span>  Objective: <span style=\"color: #008080; text-decoration-color: #008080; font-weight: bold\">17870</span>\n",
       "</pre>\n"
      ],
      "text/plain": [
       "Starting iteration \u001b[1;36m40\u001b[0m at \u001b[1;92m07:09:41\u001b[0m PM\u001b[33m...\u001b[0m Elapsed time: \u001b[1;92m0:10:29\u001b[0m.\u001b[1;36m558599\u001b[0m  Explore: \u001b[1;36m100000000000\u001b[0m  Objective: \u001b[1;36m17870\u001b[0m\n"
      ]
     },
     "metadata": {},
     "output_type": "display_data"
    },
    {
     "name": "stderr",
     "output_type": "stream",
     "text": [
      "I0000 00:00:1711739381.513472 1100508 search.cc:282] Start search (memory used = 469.38 MB)\n",
      "I0000 00:00:1711739381.518315 1100508 search.cc:282] Root node processed (time = 4 ms, constraints = 4799, memory used = 469.38 MB)\n",
      "I0000 00:00:1711739381.531376 1100508 search.cc:282] Solution #259 (17870, maximum = 24078, time = 17 ms, branches = 2436, failures = 278789, depth = 33, Exchange, neighbors = 911759, filtered neighbors = 277235, accepted neighbors = 219, memory used = 469.38 MB, limit = 10%)\n",
      "I0000 00:00:1711739386.346693 1100508 search.cc:282] Solution #260 (17859, maximum = 24078, time = 4833 ms, branches = 2440, failures = 280877, depth = 33, Exchange, neighbors = 918694, filtered neighbors = 279322, accepted neighbors = 220, memory used = 469.38 MB, limit = 20%)\n",
      "I0000 00:00:1711739391.278911 1100508 search.cc:282] Solution #261 (17828, maximum = 24078, time = 9765 ms, branches = 2445, failures = 283040, depth = 33, Exchange, neighbors = 922706, filtered neighbors = 281484, accepted neighbors = 221, memory used = 469.38 MB, limit = 30%)\n",
      "I0000 00:00:1711739416.517149 1100508 search.cc:282] Finished search tree (time = 35003 ms, branches = 2448, failures = 294158, neighbors = 943165, filtered neighbors = 292567, accepted neigbors = 221, memory used = 469.38 MB)\n",
      "I0000 00:00:1711739416.520263 1100508 search.cc:282] End search (time = 35006 ms, branches = 2448, failures = 294158, memory used = 469.38 MB, speed = 69 branches/s)\n"
     ]
    },
    {
     "data": {
      "text/html": [
       "<pre style=\"white-space:pre;overflow-x:auto;line-height:normal;font-family:Menlo,'DejaVu Sans Mono',consolas,'Courier New',monospace\">Starting iteration <span style=\"color: #008080; text-decoration-color: #008080; font-weight: bold\">41</span> at <span style=\"color: #00ff00; text-decoration-color: #00ff00; font-weight: bold\">07:10:16</span> PM<span style=\"color: #808000; text-decoration-color: #808000\">...</span> Elapsed time: <span style=\"color: #00ff00; text-decoration-color: #00ff00; font-weight: bold\">0:11:04</span>.<span style=\"color: #008080; text-decoration-color: #008080; font-weight: bold\">944929</span>  Explore: <span style=\"color: #008080; text-decoration-color: #008080; font-weight: bold\">100000000000</span>  Objective: <span style=\"color: #008080; text-decoration-color: #008080; font-weight: bold\">17828</span>\n",
       "</pre>\n"
      ],
      "text/plain": [
       "Starting iteration \u001b[1;36m41\u001b[0m at \u001b[1;92m07:10:16\u001b[0m PM\u001b[33m...\u001b[0m Elapsed time: \u001b[1;92m0:11:04\u001b[0m.\u001b[1;36m944929\u001b[0m  Explore: \u001b[1;36m100000000000\u001b[0m  Objective: \u001b[1;36m17828\u001b[0m\n"
      ]
     },
     "metadata": {},
     "output_type": "display_data"
    },
    {
     "name": "stderr",
     "output_type": "stream",
     "text": [
      "I0000 00:00:1711739416.898545 1100508 search.cc:282] Start search (memory used = 470.32 MB)\n",
      "I0000 00:00:1711739416.903226 1100508 search.cc:282] Root node processed (time = 4 ms, constraints = 4799, memory used = 470.32 MB)\n",
      "I0000 00:00:1711739416.915840 1100508 search.cc:282] Solution #262 (17828, maximum = 24078, time = 17 ms, branches = 2481, failures = 294158, depth = 33, Exchange, neighbors = 943165, filtered neighbors = 292567, accepted neighbors = 221, memory used = 470.32 MB, limit = 10%)\n",
      "I0000 00:00:1711739419.772881 1100508 search.cc:282] Solution #263 (17817, maximum = 24078, time = 2874 ms, branches = 2485, failures = 295404, depth = 33, Exchange, neighbors = 944875, filtered neighbors = 293812, accepted neighbors = 222, memory used = 470.32 MB, limit = 20%)\n",
      "I0000 00:00:1711739419.826212 1100508 search.cc:282] Solution #264 (17813, maximum = 24078, time = 2927 ms, branches = 2490, failures = 295427, depth = 33, Exchange, neighbors = 944902, filtered neighbors = 293834, accepted neighbors = 223, memory used = 470.32 MB, limit = 30%)\n"
     ]
    },
    {
     "data": {
      "text/html": [
       "<pre style=\"white-space:pre;overflow-x:auto;line-height:normal;font-family:Menlo,'DejaVu Sans Mono',consolas,'Courier New',monospace\">Solution #<span style=\"color: #008080; text-decoration-color: #008080; font-weight: bold\">225</span>  found as: <span style=\"color: #008080; text-decoration-color: #008080; font-weight: bold\">17787</span> Progress: <span style=\"color: #008080; text-decoration-color: #008080; font-weight: bold\">40</span>%  Branches: <span style=\"color: #008080; text-decoration-color: #008080; font-weight: bold\">2494</span> Accepted Neighbors: <span style=\"color: #008080; text-decoration-color: #008080; font-weight: bold\">224</span> Model Stamp <span style=\"color: #008080; text-decoration-color: #008080; font-weight: bold\">1297792</span> Wall Time:\n",
       "<span style=\"color: #008080; text-decoration-color: #008080; font-weight: bold\">692262</span>\n",
       "</pre>\n"
      ],
      "text/plain": [
       "Solution #\u001b[1;36m225\u001b[0m  found as: \u001b[1;36m17787\u001b[0m Progress: \u001b[1;36m40\u001b[0m%  Branches: \u001b[1;36m2494\u001b[0m Accepted Neighbors: \u001b[1;36m224\u001b[0m Model Stamp \u001b[1;36m1297792\u001b[0m Wall Time:\n",
       "\u001b[1;36m692262\u001b[0m\n"
      ]
     },
     "metadata": {},
     "output_type": "display_data"
    },
    {
     "name": "stderr",
     "output_type": "stream",
     "text": [
      "I0000 00:00:1711739419.897164 1100508 search.cc:282] Solution #265 (17787, maximum = 24078, time = 2998 ms, branches = 2494, failures = 295457, depth = 33, Exchange, neighbors = 944964, filtered neighbors = 293863, accepted neighbors = 224, memory used = 470.32 MB, limit = 40%)\n",
      "I0000 00:00:1711739428.700755 1100508 search.cc:282] Solution #266 (17782, maximum = 24078, time = 11802 ms, branches = 2500, failures = 299338, depth = 33, Exchange, neighbors = 950413, filtered neighbors = 297743, accepted neighbors = 225, memory used = 470.32 MB, limit = 50%)\n",
      "I0000 00:00:1711739431.220678 1100508 search.cc:282] Solution #267 (17779, maximum = 24078, time = 14321 ms, branches = 2504, failures = 300421, depth = 33, Exchange, neighbors = 951735, filtered neighbors = 298825, accepted neighbors = 226, memory used = 470.32 MB, limit = 60%)\n",
      "I0000 00:00:1711739433.800138 1100508 search.cc:282] Solution #268 (17770, maximum = 24078, time = 16901 ms, branches = 2509, failures = 301541, depth = 33, Exchange, neighbors = 953515, filtered neighbors = 299944, accepted neighbors = 227, memory used = 470.32 MB, limit = 70%)\n",
      "I0000 00:00:1711739435.723740 1100508 search.cc:282] Solution #269 (17769, maximum = 24078, time = 18825 ms, branches = 2513, failures = 302382, depth = 33, Exchange, neighbors = 955250, filtered neighbors = 300784, accepted neighbors = 228, memory used = 470.32 MB, limit = 80%)\n"
     ]
    },
    {
     "data": {
      "text/html": [
       "<pre style=\"white-space:pre;overflow-x:auto;line-height:normal;font-family:Menlo,'DejaVu Sans Mono',consolas,'Courier New',monospace\">Solution #<span style=\"color: #008080; text-decoration-color: #008080; font-weight: bold\">230</span>  found as: <span style=\"color: #008080; text-decoration-color: #008080; font-weight: bold\">17766</span> Progress: <span style=\"color: #008080; text-decoration-color: #008080; font-weight: bold\">90</span>%  Branches: <span style=\"color: #008080; text-decoration-color: #008080; font-weight: bold\">2520</span> Accepted Neighbors: <span style=\"color: #008080; text-decoration-color: #008080; font-weight: bold\">229</span> Model Stamp <span style=\"color: #008080; text-decoration-color: #008080; font-weight: bold\">1320592</span> Wall Time:\n",
       "<span style=\"color: #008080; text-decoration-color: #008080; font-weight: bold\">709605</span>\n",
       "</pre>\n"
      ],
      "text/plain": [
       "Solution #\u001b[1;36m230\u001b[0m  found as: \u001b[1;36m17766\u001b[0m Progress: \u001b[1;36m90\u001b[0m%  Branches: \u001b[1;36m2520\u001b[0m Accepted Neighbors: \u001b[1;36m229\u001b[0m Model Stamp \u001b[1;36m1320592\u001b[0m Wall Time:\n",
       "\u001b[1;36m709605\u001b[0m\n"
      ]
     },
     "metadata": {},
     "output_type": "display_data"
    },
    {
     "name": "stderr",
     "output_type": "stream",
     "text": [
      "I0000 00:00:1711739437.239875 1100508 search.cc:282] Solution #270 (17766, maximum = 24078, time = 20341 ms, branches = 2520, failures = 303043, depth = 33, Exchange, neighbors = 956282, filtered neighbors = 301444, accepted neighbors = 229, memory used = 470.32 MB, limit = 90%)\n",
      "I0000 00:00:1711739437.337619 1100508 search.cc:282] Solution #271 (17763, maximum = 24078, time = 20438 ms, branches = 2524, failures = 303084, depth = 33, Exchange, neighbors = 956344, filtered neighbors = 301484, accepted neighbors = 230, memory used = 470.32 MB, limit = 100%)\n",
      "I0000 00:00:1711739437.337917 1100508 search.cc:282] Finished search tree (time = 20439 ms, branches = 2524, failures = 303116, neighbors = 956344, filtered neighbors = 301484, accepted neigbors = 230, memory used = 470.32 MB)\n",
      "I0000 00:00:1711739437.340653 1100508 search.cc:282] End search (time = 20442 ms, branches = 2524, failures = 303116, memory used = 470.32 MB, speed = 123 branches/s)\n"
     ]
    },
    {
     "data": {
      "text/html": [
       "<pre style=\"white-space:pre;overflow-x:auto;line-height:normal;font-family:Menlo,'DejaVu Sans Mono',consolas,'Courier New',monospace\">Starting iteration <span style=\"color: #008080; text-decoration-color: #008080; font-weight: bold\">42</span> at <span style=\"color: #00ff00; text-decoration-color: #00ff00; font-weight: bold\">07:10:37</span> PM<span style=\"color: #808000; text-decoration-color: #808000\">...</span> Elapsed time: <span style=\"color: #00ff00; text-decoration-color: #00ff00; font-weight: bold\">0:11:25</span>.<span style=\"color: #008080; text-decoration-color: #008080; font-weight: bold\">771074</span>  Explore: <span style=\"color: #008080; text-decoration-color: #008080; font-weight: bold\">100000000000</span>  Objective: <span style=\"color: #008080; text-decoration-color: #008080; font-weight: bold\">17763</span>\n",
       "</pre>\n"
      ],
      "text/plain": [
       "Starting iteration \u001b[1;36m42\u001b[0m at \u001b[1;92m07:10:37\u001b[0m PM\u001b[33m...\u001b[0m Elapsed time: \u001b[1;92m0:11:25\u001b[0m.\u001b[1;36m771074\u001b[0m  Explore: \u001b[1;36m100000000000\u001b[0m  Objective: \u001b[1;36m17763\u001b[0m\n"
      ]
     },
     "metadata": {},
     "output_type": "display_data"
    },
    {
     "name": "stderr",
     "output_type": "stream",
     "text": [
      "I0000 00:00:1711739437.724715 1100508 search.cc:282] Start search (memory used = 471.28 MB)\n",
      "I0000 00:00:1711739437.729585 1100508 search.cc:282] Root node processed (time = 4 ms, constraints = 4799, memory used = 471.28 MB)\n",
      "I0000 00:00:1711739437.742503 1100508 search.cc:282] Solution #272 (17763, maximum = 24078, time = 17 ms, branches = 2557, failures = 303116, depth = 33, Exchange, neighbors = 956344, filtered neighbors = 301484, accepted neighbors = 230, memory used = 471.28 MB, limit = 9%)\n",
      "I0000 00:00:1711739451.997704 1100508 search.cc:282] Solution #273 (17733, maximum = 24078, time = 14272 ms, branches = 2561, failures = 309299, depth = 33, Exchange, neighbors = 966816, filtered neighbors = 307666, accepted neighbors = 231, memory used = 471.28 MB, limit = 38%)\n",
      "I0000 00:00:1711739474.736684 1100508 search.cc:282] Finished search tree (time = 37011 ms, branches = 2565, failures = 319244, neighbors = 983997, filtered neighbors = 317575, accepted neigbors = 231, memory used = 471.28 MB)\n",
      "I0000 00:00:1711739474.740264 1100508 search.cc:282] End search (time = 37015 ms, branches = 2565, failures = 319244, memory used = 471.28 MB, speed = 69 branches/s)\n"
     ]
    },
    {
     "data": {
      "text/html": [
       "<pre style=\"white-space:pre;overflow-x:auto;line-height:normal;font-family:Menlo,'DejaVu Sans Mono',consolas,'Courier New',monospace\">Starting iteration <span style=\"color: #008080; text-decoration-color: #008080; font-weight: bold\">43</span> at <span style=\"color: #00ff00; text-decoration-color: #00ff00; font-weight: bold\">07:11:15</span> PM<span style=\"color: #808000; text-decoration-color: #808000\">...</span> Elapsed time: <span style=\"color: #00ff00; text-decoration-color: #00ff00; font-weight: bold\">0:12:03</span>.<span style=\"color: #008080; text-decoration-color: #008080; font-weight: bold\">188689</span>  Explore: <span style=\"color: #008080; text-decoration-color: #008080; font-weight: bold\">100000000000</span>  Objective: <span style=\"color: #008080; text-decoration-color: #008080; font-weight: bold\">17733</span>\n",
       "</pre>\n"
      ],
      "text/plain": [
       "Starting iteration \u001b[1;36m43\u001b[0m at \u001b[1;92m07:11:15\u001b[0m PM\u001b[33m...\u001b[0m Elapsed time: \u001b[1;92m0:12:03\u001b[0m.\u001b[1;36m188689\u001b[0m  Explore: \u001b[1;36m100000000000\u001b[0m  Objective: \u001b[1;36m17733\u001b[0m\n"
      ]
     },
     "metadata": {},
     "output_type": "display_data"
    },
    {
     "name": "stderr",
     "output_type": "stream",
     "text": [
      "I0000 00:00:1711739475.143335 1100508 search.cc:282] Start search (memory used = 472.21 MB)\n",
      "I0000 00:00:1711739475.147929 1100508 search.cc:282] Root node processed (time = 4 ms, constraints = 4799, memory used = 472.21 MB)\n",
      "I0000 00:00:1711739475.160598 1100508 search.cc:282] Solution #274 (17733, maximum = 24078, time = 17 ms, branches = 2598, failures = 319244, depth = 33, Exchange, neighbors = 983997, filtered neighbors = 317575, accepted neighbors = 231, memory used = 472.21 MB, limit = 9%)\n",
      "I0000 00:00:1711739485.701327 1100508 search.cc:282] Solution #275 (17726, maximum = 24078, time = 10557 ms, branches = 2602, failures = 323859, depth = 33, Exchange, neighbors = 991138, filtered neighbors = 322189, accepted neighbors = 232, memory used = 472.21 MB, limit = 28%)\n",
      "I0000 00:00:1711739489.170424 1100508 search.cc:282] Solution #276 (17720, maximum = 24078, time = 14026 ms, branches = 2607, failures = 325365, depth = 33, Exchange, neighbors = 994386, filtered neighbors = 323694, accepted neighbors = 233, memory used = 472.21 MB, limit = 37%)\n"
     ]
    },
    {
     "data": {
      "text/html": [
       "<pre style=\"white-space:pre;overflow-x:auto;line-height:normal;font-family:Menlo,'DejaVu Sans Mono',consolas,'Courier New',monospace\">Solution #<span style=\"color: #008080; text-decoration-color: #008080; font-weight: bold\">235</span>  found as: <span style=\"color: #008080; text-decoration-color: #008080; font-weight: bold\">17715</span> Progress: <span style=\"color: #008080; text-decoration-color: #008080; font-weight: bold\">37</span>%  Branches: <span style=\"color: #008080; text-decoration-color: #008080; font-weight: bold\">2611</span> Accepted Neighbors: <span style=\"color: #008080; text-decoration-color: #008080; font-weight: bold\">234</span> Model Stamp <span style=\"color: #008080; text-decoration-color: #008080; font-weight: bold\">1406904</span> Wall Time:\n",
       "<span style=\"color: #008080; text-decoration-color: #008080; font-weight: bold\">761564</span>\n",
       "</pre>\n"
      ],
      "text/plain": [
       "Solution #\u001b[1;36m235\u001b[0m  found as: \u001b[1;36m17715\u001b[0m Progress: \u001b[1;36m37\u001b[0m%  Branches: \u001b[1;36m2611\u001b[0m Accepted Neighbors: \u001b[1;36m234\u001b[0m Model Stamp \u001b[1;36m1406904\u001b[0m Wall Time:\n",
       "\u001b[1;36m761564\u001b[0m\n"
      ]
     },
     "metadata": {},
     "output_type": "display_data"
    },
    {
     "name": "stderr",
     "output_type": "stream",
     "text": [
      "I0000 00:00:1711739489.200001 1100508 search.cc:282] Solution #277 (17715, maximum = 24078, time = 14056 ms, branches = 2611, failures = 325375, depth = 33, Exchange, neighbors = 994396, filtered neighbors = 323703, accepted neighbors = 234, memory used = 472.21 MB, limit = 37%)\n",
      "I0000 00:00:1711739489.565766 1100508 search.cc:282] Solution #278 (17702, maximum = 24078, time = 14422 ms, branches = 2617, failures = 325534, depth = 33, Exchange, neighbors = 994653, filtered neighbors = 323861, accepted neighbors = 235, memory used = 472.21 MB, limit = 45%)\n",
      "I0000 00:00:1711739491.685397 1100508 search.cc:282] Solution #279 (17698, maximum = 24078, time = 16541 ms, branches = 2621, failures = 326460, depth = 33, Exchange, neighbors = 995810, filtered neighbors = 324786, accepted neighbors = 236, memory used = 472.21 MB, limit = 54%)\n",
      "I0000 00:00:1711739491.696861 1100508 search.cc:282] Solution #280 (17669, maximum = 24078, time = 16553 ms, branches = 2626, failures = 326463, depth = 33, Exchange, neighbors = 995812, filtered neighbors = 324788, accepted neighbors = 237, memory used = 472.21 MB, limit = 63%)\n",
      "I0000 00:00:1711739500.557458 1100508 search.cc:282] Solution #281 (17643, maximum = 24078, time = 25413 ms, branches = 2630, failures = 330326, depth = 33, Exchange, neighbors = 1005544, filtered neighbors = 328650, accepted neighbors = 238, memory used = 472.21 MB, limit = 72%)\n"
     ]
    },
    {
     "data": {
      "text/html": [
       "<pre style=\"white-space:pre;overflow-x:auto;line-height:normal;font-family:Menlo,'DejaVu Sans Mono',consolas,'Courier New',monospace\">Solution #<span style=\"color: #008080; text-decoration-color: #008080; font-weight: bold\">240</span>  found as: <span style=\"color: #008080; text-decoration-color: #008080; font-weight: bold\">17638</span> Progress: <span style=\"color: #008080; text-decoration-color: #008080; font-weight: bold\">85</span>%  Branches: <span style=\"color: #008080; text-decoration-color: #008080; font-weight: bold\">2637</span> Accepted Neighbors: <span style=\"color: #008080; text-decoration-color: #008080; font-weight: bold\">239</span> Model Stamp <span style=\"color: #008080; text-decoration-color: #008080; font-weight: bold\">1429971</span> Wall Time:\n",
       "<span style=\"color: #008080; text-decoration-color: #008080; font-weight: bold\">779149</span>\n",
       "</pre>\n"
      ],
      "text/plain": [
       "Solution #\u001b[1;36m240\u001b[0m  found as: \u001b[1;36m17638\u001b[0m Progress: \u001b[1;36m85\u001b[0m%  Branches: \u001b[1;36m2637\u001b[0m Accepted Neighbors: \u001b[1;36m239\u001b[0m Model Stamp \u001b[1;36m1429971\u001b[0m Wall Time:\n",
       "\u001b[1;36m779149\u001b[0m\n"
      ]
     },
     "metadata": {},
     "output_type": "display_data"
    },
    {
     "name": "stderr",
     "output_type": "stream",
     "text": [
      "I0000 00:00:1711739506.784644 1100508 search.cc:282] Solution #282 (17638, maximum = 24078, time = 31641 ms, branches = 2637, failures = 333050, depth = 33, Exchange, neighbors = 1011385, filtered neighbors = 331373, accepted neighbors = 239, memory used = 472.21 MB, limit = 85%)\n",
      "I0000 00:00:1711739507.493157 1100508 search.cc:282] Solution #283 (17604, maximum = 24078, time = 32349 ms, branches = 2641, failures = 333355, depth = 33, Exchange, neighbors = 1011901, filtered neighbors = 331677, accepted neighbors = 240, memory used = 472.21 MB, limit = 90%)\n",
      "I0000 00:00:1711739512.138468 1100508 search.cc:282] Finished search tree (time = 36994 ms, branches = 2645, failures = 335387, neighbors = 1015594, filtered neighbors = 333674, accepted neigbors = 240, memory used = 472.21 MB)\n",
      "I0000 00:00:1711739512.142092 1100508 search.cc:282] End search (time = 36998 ms, branches = 2645, failures = 335387, memory used = 472.21 MB, speed = 71 branches/s)\n"
     ]
    },
    {
     "data": {
      "text/html": [
       "<pre style=\"white-space:pre;overflow-x:auto;line-height:normal;font-family:Menlo,'DejaVu Sans Mono',consolas,'Courier New',monospace\">Starting iteration <span style=\"color: #008080; text-decoration-color: #008080; font-weight: bold\">44</span> at <span style=\"color: #00ff00; text-decoration-color: #00ff00; font-weight: bold\">07:11:52</span> PM<span style=\"color: #808000; text-decoration-color: #808000\">...</span> Elapsed time: <span style=\"color: #00ff00; text-decoration-color: #00ff00; font-weight: bold\">0:12:40</span>.<span style=\"color: #008080; text-decoration-color: #008080; font-weight: bold\">561362</span>  Explore: <span style=\"color: #008080; text-decoration-color: #008080; font-weight: bold\">100000000000</span>  Objective: <span style=\"color: #008080; text-decoration-color: #008080; font-weight: bold\">17604</span>\n",
       "</pre>\n"
      ],
      "text/plain": [
       "Starting iteration \u001b[1;36m44\u001b[0m at \u001b[1;92m07:11:52\u001b[0m PM\u001b[33m...\u001b[0m Elapsed time: \u001b[1;92m0:12:40\u001b[0m.\u001b[1;36m561362\u001b[0m  Explore: \u001b[1;36m100000000000\u001b[0m  Objective: \u001b[1;36m17604\u001b[0m\n"
      ]
     },
     "metadata": {},
     "output_type": "display_data"
    },
    {
     "name": "stderr",
     "output_type": "stream",
     "text": [
      "I0000 00:00:1711739512.515035 1100508 search.cc:282] Start search (memory used = 473.17 MB)\n",
      "I0000 00:00:1711739512.519683 1100508 search.cc:282] Root node processed (time = 4 ms, constraints = 4799, memory used = 473.17 MB)\n",
      "I0000 00:00:1711739512.533011 1100508 search.cc:282] Solution #284 (17604, maximum = 24078, time = 17 ms, branches = 2678, failures = 335387, depth = 33, Exchange, neighbors = 1015594, filtered neighbors = 333674, accepted neighbors = 240, memory used = 473.17 MB, limit = 9%)\n",
      "I0000 00:00:1711739520.061580 1100508 search.cc:282] Solution #285 (17602, maximum = 24078, time = 7546 ms, branches = 2682, failures = 338709, depth = 33, Exchange, neighbors = 1021988, filtered neighbors = 336995, accepted neighbors = 241, memory used = 473.17 MB, limit = 20%)\n",
      "I0000 00:00:1711739528.723463 1100508 search.cc:282] Solution #286 (17597, maximum = 24078, time = 16208 ms, branches = 2687, failures = 342510, depth = 33, Exchange, neighbors = 1026965, filtered neighbors = 340795, accepted neighbors = 242, memory used = 473.17 MB, limit = 43%)\n",
      "I0000 00:00:1711739536.281458 1100508 search.cc:282] Solution #287 (17596, maximum = 24078, time = 23766 ms, branches = 2691, failures = 345846, depth = 33, Exchange, neighbors = 1032232, filtered neighbors = 344130, accepted neighbors = 243, memory used = 473.17 MB, limit = 64%)\n"
     ]
    },
    {
     "data": {
      "text/html": [
       "<pre style=\"white-space:pre;overflow-x:auto;line-height:normal;font-family:Menlo,'DejaVu Sans Mono',consolas,'Courier New',monospace\">Solution #<span style=\"color: #008080; text-decoration-color: #008080; font-weight: bold\">245</span>  found as: <span style=\"color: #008080; text-decoration-color: #008080; font-weight: bold\">17586</span> Progress: <span style=\"color: #008080; text-decoration-color: #008080; font-weight: bold\">65</span>%  Branches: <span style=\"color: #008080; text-decoration-color: #008080; font-weight: bold\">2697</span> Accepted Neighbors: <span style=\"color: #008080; text-decoration-color: #008080; font-weight: bold\">244</span> Model Stamp <span style=\"color: #008080; text-decoration-color: #008080; font-weight: bold\">1478716</span> Wall Time:\n",
       "<span style=\"color: #008080; text-decoration-color: #008080; font-weight: bold\">809165</span>\n",
       "</pre>\n"
      ],
      "text/plain": [
       "Solution #\u001b[1;36m245\u001b[0m  found as: \u001b[1;36m17586\u001b[0m Progress: \u001b[1;36m65\u001b[0m%  Branches: \u001b[1;36m2697\u001b[0m Accepted Neighbors: \u001b[1;36m244\u001b[0m Model Stamp \u001b[1;36m1478716\u001b[0m Wall Time:\n",
       "\u001b[1;36m809165\u001b[0m\n"
      ]
     },
     "metadata": {},
     "output_type": "display_data"
    },
    {
     "name": "stderr",
     "output_type": "stream",
     "text": [
      "I0000 00:00:1711739536.800453 1100508 search.cc:282] Solution #288 (17586, maximum = 24078, time = 24285 ms, branches = 2697, failures = 346072, depth = 33, Exchange, neighbors = 1032575, filtered neighbors = 344355, accepted neighbors = 244, memory used = 473.17 MB, limit = 65%)\n",
      "I0000 00:00:1711739536.808637 1100508 search.cc:282] Solution #289 (17585, maximum = 24078, time = 24293 ms, branches = 2701, failures = 346075, depth = 33, Exchange, neighbors = 1032577, filtered neighbors = 344357, accepted neighbors = 245, memory used = 473.17 MB, limit = 65%)\n",
      "I0000 00:00:1711739542.649743 1100508 search.cc:282] Solution #290 (17577, maximum = 24078, time = 30134 ms, branches = 2706, failures = 348657, depth = 33, Exchange, neighbors = 1037294, filtered neighbors = 346938, accepted neighbors = 246, memory used = 473.17 MB, limit = 81%)\n",
      "I0000 00:00:1711739549.510506 1100508 search.cc:282] Finished search tree (time = 36995 ms, branches = 2709, failures = 351701, neighbors = 1044592, filtered neighbors = 349948, accepted neigbors = 246, memory used = 473.17 MB)\n",
      "I0000 00:00:1711739549.514108 1100508 search.cc:282] End search (time = 36998 ms, branches = 2709, failures = 351701, memory used = 473.17 MB, speed = 73 branches/s)\n"
     ]
    },
    {
     "data": {
      "text/html": [
       "<pre style=\"white-space:pre;overflow-x:auto;line-height:normal;font-family:Menlo,'DejaVu Sans Mono',consolas,'Courier New',monospace\">Starting iteration <span style=\"color: #008080; text-decoration-color: #008080; font-weight: bold\">45</span> at <span style=\"color: #00ff00; text-decoration-color: #00ff00; font-weight: bold\">07:12:29</span> PM<span style=\"color: #808000; text-decoration-color: #808000\">...</span> Elapsed time: <span style=\"color: #00ff00; text-decoration-color: #00ff00; font-weight: bold\">0:13:17</span>.<span style=\"color: #008080; text-decoration-color: #008080; font-weight: bold\">934692</span>  Explore: <span style=\"color: #008080; text-decoration-color: #008080; font-weight: bold\">100000000000</span>  Objective: <span style=\"color: #008080; text-decoration-color: #008080; font-weight: bold\">17577</span>\n",
       "</pre>\n"
      ],
      "text/plain": [
       "Starting iteration \u001b[1;36m45\u001b[0m at \u001b[1;92m07:12:29\u001b[0m PM\u001b[33m...\u001b[0m Elapsed time: \u001b[1;92m0:13:17\u001b[0m.\u001b[1;36m934692\u001b[0m  Explore: \u001b[1;36m100000000000\u001b[0m  Objective: \u001b[1;36m17577\u001b[0m\n"
      ]
     },
     "metadata": {},
     "output_type": "display_data"
    },
    {
     "name": "stderr",
     "output_type": "stream",
     "text": [
      "I0000 00:00:1711739549.889359 1100508 search.cc:282] Start search (memory used = 474.11 MB)\n",
      "I0000 00:00:1711739549.894148 1100508 search.cc:282] Root node processed (time = 4 ms, constraints = 4799, memory used = 474.11 MB)\n",
      "I0000 00:00:1711739549.908822 1100508 search.cc:282] Solution #291 (17577, maximum = 24078, time = 19 ms, branches = 2742, failures = 351701, depth = 33, Exchange, neighbors = 1044592, filtered neighbors = 349948, accepted neighbors = 246, memory used = 474.11 MB, limit = 9%)\n",
      "I0000 00:00:1711739564.718038 1100508 search.cc:282] Solution #292 (17561, maximum = 24078, time = 14828 ms, branches = 2746, failures = 358207, depth = 33, Exchange, neighbors = 1055540, filtered neighbors = 356453, accepted neighbors = 247, memory used = 474.11 MB, limit = 39%)\n",
      "I0000 00:00:1711739565.489765 1100508 search.cc:282] Solution #293 (17559, maximum = 24078, time = 15600 ms, branches = 2751, failures = 358546, depth = 33, Exchange, neighbors = 1056133, filtered neighbors = 356791, accepted neighbors = 248, memory used = 474.11 MB, limit = 42%)\n"
     ]
    },
    {
     "data": {
      "text/html": [
       "<pre style=\"white-space:pre;overflow-x:auto;line-height:normal;font-family:Menlo,'DejaVu Sans Mono',consolas,'Courier New',monospace\">Solution #<span style=\"color: #008080; text-decoration-color: #008080; font-weight: bold\">250</span>  found as: <span style=\"color: #008080; text-decoration-color: #008080; font-weight: bold\">17550</span> Progress: <span style=\"color: #008080; text-decoration-color: #008080; font-weight: bold\">47</span>%  Branches: <span style=\"color: #008080; text-decoration-color: #008080; font-weight: bold\">2755</span> Accepted Neighbors: <span style=\"color: #008080; text-decoration-color: #008080; font-weight: bold\">249</span> Model Stamp <span style=\"color: #008080; text-decoration-color: #008080; font-weight: bold\">1528307</span> Wall Time:\n",
       "<span style=\"color: #008080; text-decoration-color: #008080; font-weight: bold\">839740</span>\n",
       "</pre>\n"
      ],
      "text/plain": [
       "Solution #\u001b[1;36m250\u001b[0m  found as: \u001b[1;36m17550\u001b[0m Progress: \u001b[1;36m47\u001b[0m%  Branches: \u001b[1;36m2755\u001b[0m Accepted Neighbors: \u001b[1;36m249\u001b[0m Model Stamp \u001b[1;36m1528307\u001b[0m Wall Time:\n",
       "\u001b[1;36m839740\u001b[0m\n"
      ]
     },
     "metadata": {},
     "output_type": "display_data"
    },
    {
     "name": "stderr",
     "output_type": "stream",
     "text": [
      "I0000 00:00:1711739567.375230 1100508 search.cc:282] Solution #294 (17550, maximum = 24078, time = 17485 ms, branches = 2755, failures = 359377, depth = 33, Exchange, neighbors = 1057323, filtered neighbors = 357621, accepted neighbors = 249, memory used = 474.11 MB, limit = 47%)\n",
      "I0000 00:00:1711739577.867567 1100508 search.cc:282] Solution #295 (17514, maximum = 24078, time = 27978 ms, branches = 2761, failures = 363948, depth = 33, Exchange, neighbors = 1065154, filtered neighbors = 362191, accepted neighbors = 250, memory used = 474.11 MB, limit = 75%)\n",
      "I0000 00:00:1711739580.847127 1100508 search.cc:282] Solution #296 (17498, maximum = 24078, time = 30957 ms, branches = 2765, failures = 365251, depth = 33, Exchange, neighbors = 1066694, filtered neighbors = 363493, accepted neighbors = 251, memory used = 474.11 MB, limit = 83%)\n",
      "I0000 00:00:1711739586.892828 1100508 search.cc:282] Finished search tree (time = 37003 ms, branches = 2769, failures = 367952, neighbors = 1072752, filtered neighbors = 366159, accepted neigbors = 251, memory used = 474.11 MB)\n",
      "I0000 00:00:1711739586.895437 1100508 search.cc:282] End search (time = 37006 ms, branches = 2769, failures = 367952, memory used = 474.11 MB, speed = 74 branches/s)\n"
     ]
    },
    {
     "data": {
      "text/html": [
       "<pre style=\"white-space:pre;overflow-x:auto;line-height:normal;font-family:Menlo,'DejaVu Sans Mono',consolas,'Courier New',monospace\">Starting iteration <span style=\"color: #008080; text-decoration-color: #008080; font-weight: bold\">46</span> at <span style=\"color: #00ff00; text-decoration-color: #00ff00; font-weight: bold\">07:13:07</span> PM<span style=\"color: #808000; text-decoration-color: #808000\">...</span> Elapsed time: <span style=\"color: #00ff00; text-decoration-color: #00ff00; font-weight: bold\">0:13:55</span>.<span style=\"color: #008080; text-decoration-color: #008080; font-weight: bold\">321545</span>  Explore: <span style=\"color: #008080; text-decoration-color: #008080; font-weight: bold\">100000000000</span>  Objective: <span style=\"color: #008080; text-decoration-color: #008080; font-weight: bold\">17498</span>\n",
       "</pre>\n"
      ],
      "text/plain": [
       "Starting iteration \u001b[1;36m46\u001b[0m at \u001b[1;92m07:13:07\u001b[0m PM\u001b[33m...\u001b[0m Elapsed time: \u001b[1;92m0:13:55\u001b[0m.\u001b[1;36m321545\u001b[0m  Explore: \u001b[1;36m100000000000\u001b[0m  Objective: \u001b[1;36m17498\u001b[0m\n"
      ]
     },
     "metadata": {},
     "output_type": "display_data"
    },
    {
     "name": "stderr",
     "output_type": "stream",
     "text": [
      "I0000 00:00:1711739587.275485 1100508 search.cc:282] Start search (memory used = 475.07 MB)\n",
      "I0000 00:00:1711739587.280486 1100508 search.cc:282] Root node processed (time = 4 ms, constraints = 4799, memory used = 475.07 MB)\n",
      "I0000 00:00:1711739587.293417 1100508 search.cc:282] Solution #297 (17498, maximum = 24078, time = 17 ms, branches = 2802, failures = 367952, depth = 33, Exchange, neighbors = 1072752, filtered neighbors = 366159, accepted neighbors = 251, memory used = 475.07 MB, limit = 9%)\n",
      "I0000 00:00:1711739591.440283 1100508 search.cc:282] Solution #298 (17496, maximum = 24078, time = 4164 ms, branches = 2806, failures = 369763, depth = 33, Exchange, neighbors = 1077560, filtered neighbors = 367969, accepted neighbors = 252, memory used = 475.07 MB, limit = 18%)\n",
      "I0000 00:00:1711739605.388004 1100508 search.cc:282] Solution #299 (17482, maximum = 24078, time = 18112 ms, branches = 2811, failures = 375918, depth = 33, Exchange, neighbors = 1087605, filtered neighbors = 374123, accepted neighbors = 253, memory used = 475.07 MB, limit = 48%)\n",
      "I0000 00:00:1711739624.274735 1100508 search.cc:282] Finished search tree (time = 36999 ms, branches = 2814, failures = 384250, neighbors = 1102469, filtered neighbors = 382420, accepted neigbors = 253, memory used = 475.07 MB)\n",
      "I0000 00:00:1711739624.277520 1100508 search.cc:282] End search (time = 37001 ms, branches = 2814, failures = 384250, memory used = 475.07 MB, speed = 76 branches/s)\n"
     ]
    },
    {
     "data": {
      "text/html": [
       "<pre style=\"white-space:pre;overflow-x:auto;line-height:normal;font-family:Menlo,'DejaVu Sans Mono',consolas,'Courier New',monospace\">Starting iteration <span style=\"color: #008080; text-decoration-color: #008080; font-weight: bold\">47</span> at <span style=\"color: #00ff00; text-decoration-color: #00ff00; font-weight: bold\">07:13:44</span> PM<span style=\"color: #808000; text-decoration-color: #808000\">...</span> Elapsed time: <span style=\"color: #00ff00; text-decoration-color: #00ff00; font-weight: bold\">0:14:32</span>.<span style=\"color: #008080; text-decoration-color: #008080; font-weight: bold\">701816</span>  Explore: <span style=\"color: #008080; text-decoration-color: #008080; font-weight: bold\">100000000000</span>  Objective: <span style=\"color: #008080; text-decoration-color: #008080; font-weight: bold\">17482</span>\n",
       "</pre>\n"
      ],
      "text/plain": [
       "Starting iteration \u001b[1;36m47\u001b[0m at \u001b[1;92m07:13:44\u001b[0m PM\u001b[33m...\u001b[0m Elapsed time: \u001b[1;92m0:14:32\u001b[0m.\u001b[1;36m701816\u001b[0m  Explore: \u001b[1;36m100000000000\u001b[0m  Objective: \u001b[1;36m17482\u001b[0m\n"
      ]
     },
     "metadata": {},
     "output_type": "display_data"
    },
    {
     "name": "stderr",
     "output_type": "stream",
     "text": [
      "I0000 00:00:1711739624.655437 1100508 search.cc:282] Start search (memory used = 476.01 MB)\n",
      "I0000 00:00:1711739624.660575 1100508 search.cc:282] Root node processed (time = 5 ms, constraints = 4799, memory used = 476.01 MB)\n",
      "I0000 00:00:1711739624.672671 1100508 search.cc:282] Solution #300 (17482, maximum = 24078, time = 17 ms, branches = 2847, failures = 384250, depth = 33, Exchange, neighbors = 1102469, filtered neighbors = 382420, accepted neighbors = 253, memory used = 476.01 MB, limit = 8%)\n"
     ]
    },
    {
     "data": {
      "text/html": [
       "<pre style=\"white-space:pre;overflow-x:auto;line-height:normal;font-family:Menlo,'DejaVu Sans Mono',consolas,'Courier New',monospace\">Solution #<span style=\"color: #008080; text-decoration-color: #008080; font-weight: bold\">255</span>  found as: <span style=\"color: #008080; text-decoration-color: #008080; font-weight: bold\">17457</span> Progress: <span style=\"color: #008080; text-decoration-color: #008080; font-weight: bold\">37</span>%  Branches: <span style=\"color: #008080; text-decoration-color: #008080; font-weight: bold\">2851</span> Accepted Neighbors: <span style=\"color: #008080; text-decoration-color: #008080; font-weight: bold\">254</span> Model Stamp <span style=\"color: #008080; text-decoration-color: #008080; font-weight: bold\">1641680</span> Wall Time:\n",
       "<span style=\"color: #008080; text-decoration-color: #008080; font-weight: bold\">911743</span>\n",
       "</pre>\n"
      ],
      "text/plain": [
       "Solution #\u001b[1;36m255\u001b[0m  found as: \u001b[1;36m17457\u001b[0m Progress: \u001b[1;36m37\u001b[0m%  Branches: \u001b[1;36m2851\u001b[0m Accepted Neighbors: \u001b[1;36m254\u001b[0m Model Stamp \u001b[1;36m1641680\u001b[0m Wall Time:\n",
       "\u001b[1;36m911743\u001b[0m\n"
      ]
     },
     "metadata": {},
     "output_type": "display_data"
    },
    {
     "name": "stderr",
     "output_type": "stream",
     "text": [
      "I0000 00:00:1711739639.378092 1100508 search.cc:282] Solution #301 (17457, maximum = 24078, time = 14722 ms, branches = 2851, failures = 390728, depth = 33, Relocate<1>, neighbors = 1112699, filtered neighbors = 388897, accepted neighbors = 254, memory used = 476.01 MB, limit = 37%)\n",
      "I0000 00:00:1711739639.629583 1100508 search.cc:282] Solution #302 (17451, maximum = 24078, time = 14974 ms, branches = 2856, failures = 390839, depth = 33, Relocate<1>, neighbors = 1112962, filtered neighbors = 389007, accepted neighbors = 255, memory used = 476.01 MB, limit = 38%)\n",
      "I0000 00:00:1711739644.542586 1100508 search.cc:282] Solution #303 (17450, maximum = 24078, time = 19887 ms, branches = 2860, failures = 392983, depth = 33, Exchange, neighbors = 1115504, filtered neighbors = 391150, accepted neighbors = 256, memory used = 476.01 MB, limit = 50%)\n",
      "I0000 00:00:1711739648.293011 1100508 search.cc:282] Solution #304 (17447, maximum = 24078, time = 23637 ms, branches = 2866, failures = 394600, depth = 33, Relocate<1>, neighbors = 1126444, filtered neighbors = 392766, accepted neighbors = 257, memory used = 476.01 MB, limit = 60%)\n",
      "I0000 00:00:1711739648.961255 1100508 search.cc:282] Solution #305 (17408, maximum = 24078, time = 24305 ms, branches = 2870, failures = 394880, depth = 33, Relocate<1>, neighbors = 1128903, filtered neighbors = 393045, accepted neighbors = 258, memory used = 476.01 MB, limit = 62%)\n"
     ]
    },
    {
     "data": {
      "text/html": [
       "<pre style=\"white-space:pre;overflow-x:auto;line-height:normal;font-family:Menlo,'DejaVu Sans Mono',consolas,'Courier New',monospace\">Solution #<span style=\"color: #008080; text-decoration-color: #008080; font-weight: bold\">260</span>  found as: <span style=\"color: #008080; text-decoration-color: #008080; font-weight: bold\">17406</span> Progress: <span style=\"color: #008080; text-decoration-color: #008080; font-weight: bold\">70</span>%  Branches: <span style=\"color: #008080; text-decoration-color: #008080; font-weight: bold\">2875</span> Accepted Neighbors: <span style=\"color: #008080; text-decoration-color: #008080; font-weight: bold\">259</span> Model Stamp <span style=\"color: #008080; text-decoration-color: #008080; font-weight: bold\">1658215</span> Wall Time:\n",
       "<span style=\"color: #008080; text-decoration-color: #008080; font-weight: bold\">924436</span>\n",
       "</pre>\n"
      ],
      "text/plain": [
       "Solution #\u001b[1;36m260\u001b[0m  found as: \u001b[1;36m17406\u001b[0m Progress: \u001b[1;36m70\u001b[0m%  Branches: \u001b[1;36m2875\u001b[0m Accepted Neighbors: \u001b[1;36m259\u001b[0m Model Stamp \u001b[1;36m1658215\u001b[0m Wall Time:\n",
       "\u001b[1;36m924436\u001b[0m\n"
      ]
     },
     "metadata": {},
     "output_type": "display_data"
    },
    {
     "name": "stderr",
     "output_type": "stream",
     "text": [
      "I0000 00:00:1711739652.071245 1100508 search.cc:282] Solution #306 (17406, maximum = 24078, time = 27415 ms, branches = 2875, failures = 396227, depth = 33, Relocate<1>, neighbors = 1136738, filtered neighbors = 394391, accepted neighbors = 259, memory used = 476.01 MB, limit = 70%)\n",
      "I0000 00:00:1711739655.034363 1100508 search.cc:282] Solution #307 (17377, maximum = 24078, time = 30378 ms, branches = 2879, failures = 397528, depth = 33, Relocate<1>, neighbors = 1143083, filtered neighbors = 395691, accepted neighbors = 260, memory used = 476.01 MB, limit = 77%)\n",
      "I0000 00:00:1711739655.132735 1100508 search.cc:282] Solution #308 (17366, maximum = 24078, time = 30477 ms, branches = 2886, failures = 397570, depth = 33, Relocate<1>, neighbors = 1143257, filtered neighbors = 395732, accepted neighbors = 261, memory used = 476.01 MB, limit = 77%)\n",
      "I0000 00:00:1711739655.276258 1100508 search.cc:282] Solution #309 (17326, maximum = 24078, time = 30620 ms, branches = 2890, failures = 397630, depth = 33, Relocate<1>, neighbors = 1143377, filtered neighbors = 395791, accepted neighbors = 262, memory used = 476.01 MB, limit = 83%)\n",
      "I0000 00:00:1711739655.516827 1100508 search.cc:282] Solution #310 (17265, maximum = 24078, time = 30861 ms, branches = 2895, failures = 397729, depth = 33, Relocate<1>, neighbors = 1145179, filtered neighbors = 395889, accepted neighbors = 263, memory used = 476.01 MB, limit = 91%)\n"
     ]
    },
    {
     "data": {
      "text/html": [
       "<pre style=\"white-space:pre;overflow-x:auto;line-height:normal;font-family:Menlo,'DejaVu Sans Mono',consolas,'Courier New',monospace\">Solution #<span style=\"color: #008080; text-decoration-color: #008080; font-weight: bold\">265</span>  found as: <span style=\"color: #008080; text-decoration-color: #008080; font-weight: bold\">17235</span> Progress: <span style=\"color: #008080; text-decoration-color: #008080; font-weight: bold\">100</span>%  Branches: <span style=\"color: #008080; text-decoration-color: #008080; font-weight: bold\">2899</span> Accepted Neighbors: <span style=\"color: #008080; text-decoration-color: #008080; font-weight: bold\">264</span> Model Stamp <span style=\"color: #008080; text-decoration-color: #008080; font-weight: bold\">1665192</span> Wall \n",
       "Time: <span style=\"color: #008080; text-decoration-color: #008080; font-weight: bold\">929754</span>\n",
       "</pre>\n"
      ],
      "text/plain": [
       "Solution #\u001b[1;36m265\u001b[0m  found as: \u001b[1;36m17235\u001b[0m Progress: \u001b[1;36m100\u001b[0m%  Branches: \u001b[1;36m2899\u001b[0m Accepted Neighbors: \u001b[1;36m264\u001b[0m Model Stamp \u001b[1;36m1665192\u001b[0m Wall \n",
       "Time: \u001b[1;36m929754\u001b[0m\n"
      ]
     },
     "metadata": {},
     "output_type": "display_data"
    },
    {
     "name": "stderr",
     "output_type": "stream",
     "text": [
      "I0000 00:00:1711739657.388881 1100508 search.cc:282] Solution #311 (17235, maximum = 24078, time = 32733 ms, branches = 2899, failures = 398540, depth = 33, Relocate<1>, neighbors = 1151083, filtered neighbors = 396699, accepted neighbors = 264, memory used = 476.01 MB, limit = 100%)\n",
      "I0000 00:00:1711739657.389193 1100508 search.cc:282] Finished search tree (time = 32733 ms, branches = 2899, failures = 398571, neighbors = 1151083, filtered neighbors = 396699, accepted neigbors = 264, memory used = 476.01 MB)\n",
      "I0000 00:00:1711739657.390876 1100508 search.cc:282] End search (time = 32735 ms, branches = 2899, failures = 398571, memory used = 476.01 MB, speed = 88 branches/s)\n"
     ]
    },
    {
     "data": {
      "text/html": [
       "<pre style=\"white-space:pre;overflow-x:auto;line-height:normal;font-family:Menlo,'DejaVu Sans Mono',consolas,'Courier New',monospace\">Starting iteration <span style=\"color: #008080; text-decoration-color: #008080; font-weight: bold\">48</span> at <span style=\"color: #00ff00; text-decoration-color: #00ff00; font-weight: bold\">07:14:18</span> PM<span style=\"color: #808000; text-decoration-color: #808000\">...</span> Elapsed time: <span style=\"color: #00ff00; text-decoration-color: #00ff00; font-weight: bold\">0:15:06</span>.<span style=\"color: #008080; text-decoration-color: #008080; font-weight: bold\">060978</span>  Explore: <span style=\"color: #008080; text-decoration-color: #008080; font-weight: bold\">0</span>  Objective: <span style=\"color: #008080; text-decoration-color: #008080; font-weight: bold\">17235</span>\n",
       "</pre>\n"
      ],
      "text/plain": [
       "Starting iteration \u001b[1;36m48\u001b[0m at \u001b[1;92m07:14:18\u001b[0m PM\u001b[33m...\u001b[0m Elapsed time: \u001b[1;92m0:15:06\u001b[0m.\u001b[1;36m060978\u001b[0m  Explore: \u001b[1;36m0\u001b[0m  Objective: \u001b[1;36m17235\u001b[0m\n"
      ]
     },
     "metadata": {},
     "output_type": "display_data"
    },
    {
     "name": "stderr",
     "output_type": "stream",
     "text": [
      "I0000 00:00:1711739658.014810 1100508 search.cc:282] Start search (memory used = 476.96 MB)\n",
      "I0000 00:00:1711739658.020086 1100508 search.cc:282] Root node processed (time = 5 ms, constraints = 4799, memory used = 476.96 MB)\n",
      "I0000 00:00:1711739658.032745 1100508 search.cc:282] Solution #312 (17235, maximum = 24078, time = 17 ms, branches = 2932, failures = 398571, depth = 33, Relocate<1>, neighbors = 1151083, filtered neighbors = 396699, accepted neighbors = 264, memory used = 476.96 MB, limit = 8%)\n",
      "I0000 00:00:1711739679.413269 1100508 search.cc:282] Solution #313 (17207, maximum = 24078, time = 21398 ms, branches = 2936, failures = 407834, depth = 33, Relocate<1>, neighbors = 1222725, filtered neighbors = 405961, accepted neighbors = 265, memory used = 476.96 MB, limit = 54%)\n",
      "I0000 00:00:1711739679.879260 1100508 search.cc:282] Solution #314 (17202, maximum = 24078, time = 21864 ms, branches = 2941, failures = 408035, depth = 33, Relocate<1>, neighbors = 1223310, filtered neighbors = 406161, accepted neighbors = 266, memory used = 476.96 MB, limit = 55%)\n",
      "I0000 00:00:1711739694.729340 1100508 search.cc:282] Solution #315 (17190, maximum = 24078, time = 36714 ms, branches = 2945, failures = 414500, depth = 33, Relocate<1>, neighbors = 1259536, filtered neighbors = 412625, accepted neighbors = 267, memory used = 476.96 MB, limit = 94%)\n",
      "I0000 00:00:1711739697.075698 1100508 search.cc:282] Finished search tree (time = 39060 ms, branches = 2950, failures = 415573, neighbors = 1260830, filtered neighbors = 413662, accepted neigbors = 267, memory used = 476.96 MB)\n",
      "I0000 00:00:1711739697.078547 1100508 search.cc:282] End search (time = 39063 ms, branches = 2950, failures = 415573, memory used = 476.96 MB, speed = 75 branches/s)\n"
     ]
    },
    {
     "data": {
      "text/html": [
       "<pre style=\"white-space:pre;overflow-x:auto;line-height:normal;font-family:Menlo,'DejaVu Sans Mono',consolas,'Courier New',monospace\">Starting iteration <span style=\"color: #008080; text-decoration-color: #008080; font-weight: bold\">49</span> at <span style=\"color: #00ff00; text-decoration-color: #00ff00; font-weight: bold\">07:14:57</span> PM<span style=\"color: #808000; text-decoration-color: #808000\">...</span> Elapsed time: <span style=\"color: #00ff00; text-decoration-color: #00ff00; font-weight: bold\">0:15:45</span>.<span style=\"color: #008080; text-decoration-color: #008080; font-weight: bold\">492855</span>  Explore: <span style=\"color: #008080; text-decoration-color: #008080; font-weight: bold\">100000000000</span>  Objective: <span style=\"color: #008080; text-decoration-color: #008080; font-weight: bold\">17190</span>\n",
       "</pre>\n"
      ],
      "text/plain": [
       "Starting iteration \u001b[1;36m49\u001b[0m at \u001b[1;92m07:14:57\u001b[0m PM\u001b[33m...\u001b[0m Elapsed time: \u001b[1;92m0:15:45\u001b[0m.\u001b[1;36m492855\u001b[0m  Explore: \u001b[1;36m100000000000\u001b[0m  Objective: \u001b[1;36m17190\u001b[0m\n"
      ]
     },
     "metadata": {},
     "output_type": "display_data"
    },
    {
     "name": "stderr",
     "output_type": "stream",
     "text": [
      "I0000 00:00:1711739697.446622 1100508 search.cc:282] Start search (memory used = 477.91 MB)\n",
      "I0000 00:00:1711739697.451199 1100508 search.cc:282] Root node processed (time = 4 ms, constraints = 4799, memory used = 477.91 MB)\n",
      "I0000 00:00:1711739697.463333 1100508 search.cc:282] Solution #316 (17190, maximum = 24078, time = 16 ms, branches = 2983, failures = 415573, depth = 33, Relocate<1>, neighbors = 1260830, filtered neighbors = 413662, accepted neighbors = 267, memory used = 477.91 MB, limit = 8%)\n",
      "I0000 00:00:1711739699.100501 1100508 search.cc:282] Solution #317 (17183, maximum = 24078, time = 1653 ms, branches = 2987, failures = 416298, depth = 33, Exchange, neighbors = 1261686, filtered neighbors = 414386, accepted neighbors = 268, memory used = 477.91 MB, limit = 16%)\n"
     ]
    },
    {
     "data": {
      "text/html": [
       "<pre style=\"white-space:pre;overflow-x:auto;line-height:normal;font-family:Menlo,'DejaVu Sans Mono',consolas,'Courier New',monospace\">Solution #<span style=\"color: #008080; text-decoration-color: #008080; font-weight: bold\">270</span>  found as: <span style=\"color: #008080; text-decoration-color: #008080; font-weight: bold\">17170</span> Progress: <span style=\"color: #008080; text-decoration-color: #008080; font-weight: bold\">25</span>%  Branches: <span style=\"color: #008080; text-decoration-color: #008080; font-weight: bold\">2992</span> Accepted Neighbors: <span style=\"color: #008080; text-decoration-color: #008080; font-weight: bold\">269</span> Model Stamp <span style=\"color: #008080; text-decoration-color: #008080; font-weight: bold\">1737865</span> Wall Time:\n",
       "<span style=\"color: #008080; text-decoration-color: #008080; font-weight: bold\">971529</span>\n",
       "</pre>\n"
      ],
      "text/plain": [
       "Solution #\u001b[1;36m270\u001b[0m  found as: \u001b[1;36m17170\u001b[0m Progress: \u001b[1;36m25\u001b[0m%  Branches: \u001b[1;36m2992\u001b[0m Accepted Neighbors: \u001b[1;36m269\u001b[0m Model Stamp \u001b[1;36m1737865\u001b[0m Wall Time:\n",
       "\u001b[1;36m971529\u001b[0m\n"
      ]
     },
     "metadata": {},
     "output_type": "display_data"
    },
    {
     "name": "stderr",
     "output_type": "stream",
     "text": [
      "I0000 00:00:1711739699.163661 1100508 search.cc:282] Solution #318 (17170, maximum = 24078, time = 1716 ms, branches = 2992, failures = 416324, depth = 33, Relocate<1>, neighbors = 1261885, filtered neighbors = 414411, accepted neighbors = 269, memory used = 477.91 MB, limit = 25%)\n",
      "I0000 00:00:1711739715.998787 1100508 search.cc:282] Solution #319 (17169, maximum = 24078, time = 18552 ms, branches = 2996, failures = 423644, depth = 33, Exchange, neighbors = 1275924, filtered neighbors = 421730, accepted neighbors = 270, memory used = 477.91 MB, limit = 47%)\n",
      "I0000 00:00:1711739717.884069 1100508 search.cc:282] Solution #320 (17167, maximum = 24078, time = 20437 ms, branches = 3002, failures = 424443, depth = 33, Relocate<1>, neighbors = 1283469, filtered neighbors = 422528, accepted neighbors = 271, memory used = 477.91 MB, limit = 52%)\n",
      "I0000 00:00:1711739721.391797 1100508 search.cc:282] Solution #321 (17149, maximum = 24078, time = 23945 ms, branches = 3006, failures = 425968, depth = 33, Relocate<1>, neighbors = 1292961, filtered neighbors = 424052, accepted neighbors = 272, memory used = 477.91 MB, limit = 61%)\n",
      "I0000 00:00:1711739722.132106 1100508 search.cc:282] Solution #322 (17116, maximum = 24078, time = 24685 ms, branches = 3011, failures = 426291, depth = 33, Relocate<1>, neighbors = 1294505, filtered neighbors = 424374, accepted neighbors = 273, memory used = 477.91 MB, limit = 63%)\n"
     ]
    },
    {
     "data": {
      "text/html": [
       "<pre style=\"white-space:pre;overflow-x:auto;line-height:normal;font-family:Menlo,'DejaVu Sans Mono',consolas,'Courier New',monospace\">Solution #<span style=\"color: #008080; text-decoration-color: #008080; font-weight: bold\">275</span>  found as: <span style=\"color: #008080; text-decoration-color: #008080; font-weight: bold\">17087</span> Progress: <span style=\"color: #008080; text-decoration-color: #008080; font-weight: bold\">66</span>%  Branches: <span style=\"color: #008080; text-decoration-color: #008080; font-weight: bold\">3015</span> Accepted Neighbors: <span style=\"color: #008080; text-decoration-color: #008080; font-weight: bold\">274</span> Model Stamp <span style=\"color: #008080; text-decoration-color: #008080; font-weight: bold\">1768297</span> Wall Time:\n",
       "<span style=\"color: #008080; text-decoration-color: #008080; font-weight: bold\">994885</span>\n",
       "</pre>\n"
      ],
      "text/plain": [
       "Solution #\u001b[1;36m275\u001b[0m  found as: \u001b[1;36m17087\u001b[0m Progress: \u001b[1;36m66\u001b[0m%  Branches: \u001b[1;36m3015\u001b[0m Accepted Neighbors: \u001b[1;36m274\u001b[0m Model Stamp \u001b[1;36m1768297\u001b[0m Wall Time:\n",
       "\u001b[1;36m994885\u001b[0m\n"
      ]
     },
     "metadata": {},
     "output_type": "display_data"
    },
    {
     "name": "stderr",
     "output_type": "stream",
     "text": [
      "I0000 00:00:1711739722.519283 1100508 search.cc:282] Solution #323 (17087, maximum = 24078, time = 25072 ms, branches = 3015, failures = 426456, depth = 33, Relocate<1>, neighbors = 1295964, filtered neighbors = 424538, accepted neighbors = 274, memory used = 477.91 MB, limit = 66%)\n",
      "I0000 00:00:1711739722.531685 1100508 search.cc:282] Solution #324 (17082, maximum = 24078, time = 25084 ms, branches = 3022, failures = 426461, depth = 33, Relocate<1>, neighbors = 1295968, filtered neighbors = 424542, accepted neighbors = 275, memory used = 477.91 MB, limit = 75%)\n",
      "I0000 00:00:1711739722.626612 1100508 search.cc:282] Solution #325 (17035, maximum = 24078, time = 25179 ms, branches = 3026, failures = 426501, depth = 33, Relocate<1>, neighbors = 1296171, filtered neighbors = 424581, accepted neighbors = 276, memory used = 477.91 MB, limit = 83%)\n",
      "I0000 00:00:1711739724.005276 1100508 search.cc:282] Solution #326 (17034, maximum = 24078, time = 26558 ms, branches = 3031, failures = 427098, depth = 33, Relocate<1>, neighbors = 1301454, filtered neighbors = 425177, accepted neighbors = 277, memory used = 477.91 MB, limit = 91%)\n",
      "I0000 00:00:1711739724.666789 1100508 search.cc:282] Solution #327 (17032, maximum = 24078, time = 27220 ms, branches = 3035, failures = 427386, depth = 33, Relocate<1>, neighbors = 1303163, filtered neighbors = 425464, accepted neighbors = 278, memory used = 477.91 MB, limit = 100%)\n",
      "I0000 00:00:1711739724.667079 1100508 search.cc:282] Finished search tree (time = 27220 ms, branches = 3035, failures = 427417, neighbors = 1303163, filtered neighbors = 425464, accepted neigbors = 278, memory used = 477.91 MB)\n",
      "I0000 00:00:1711739724.669835 1100508 search.cc:282] End search (time = 27223 ms, branches = 3035, failures = 427417, memory used = 477.91 MB, speed = 111 branches/s)\n"
     ]
    },
    {
     "data": {
      "text/html": [
       "<pre style=\"white-space:pre;overflow-x:auto;line-height:normal;font-family:Menlo,'DejaVu Sans Mono',consolas,'Courier New',monospace\">Starting iteration <span style=\"color: #008080; text-decoration-color: #008080; font-weight: bold\">50</span> at <span style=\"color: #00ff00; text-decoration-color: #00ff00; font-weight: bold\">07:15:25</span> PM<span style=\"color: #808000; text-decoration-color: #808000\">...</span> Elapsed time: <span style=\"color: #00ff00; text-decoration-color: #00ff00; font-weight: bold\">0:16:13</span>.<span style=\"color: #008080; text-decoration-color: #008080; font-weight: bold\">103981</span>  Explore: <span style=\"color: #008080; text-decoration-color: #008080; font-weight: bold\">100000000000</span>  Objective: <span style=\"color: #008080; text-decoration-color: #008080; font-weight: bold\">17032</span>\n",
       "</pre>\n"
      ],
      "text/plain": [
       "Starting iteration \u001b[1;36m50\u001b[0m at \u001b[1;92m07:15:25\u001b[0m PM\u001b[33m...\u001b[0m Elapsed time: \u001b[1;92m0:16:13\u001b[0m.\u001b[1;36m103981\u001b[0m  Explore: \u001b[1;36m100000000000\u001b[0m  Objective: \u001b[1;36m17032\u001b[0m\n"
      ]
     },
     "metadata": {},
     "output_type": "display_data"
    },
    {
     "name": "stderr",
     "output_type": "stream",
     "text": [
      "I0000 00:00:1711739725.057734 1100508 search.cc:282] Start search (memory used = 478.87 MB)\n",
      "I0000 00:00:1711739725.062683 1100508 search.cc:282] Root node processed (time = 4 ms, constraints = 4799, memory used = 478.87 MB)\n",
      "I0000 00:00:1711739725.075201 1100508 search.cc:282] Solution #328 (17032, maximum = 24078, time = 17 ms, branches = 3068, failures = 427417, depth = 33, Relocate<1>, neighbors = 1303163, filtered neighbors = 425464, accepted neighbors = 278, memory used = 478.87 MB, limit = 8%)\n"
     ]
    },
    {
     "data": {
      "text/html": [
       "<pre style=\"white-space:pre;overflow-x:auto;line-height:normal;font-family:Menlo,'DejaVu Sans Mono',consolas,'Courier New',monospace\">Solution #<span style=\"color: #008080; text-decoration-color: #008080; font-weight: bold\">280</span>  found as: <span style=\"color: #008080; text-decoration-color: #008080; font-weight: bold\">17027</span> Progress: <span style=\"color: #008080; text-decoration-color: #008080; font-weight: bold\">16</span>%  Branches: <span style=\"color: #008080; text-decoration-color: #008080; font-weight: bold\">3072</span> Accepted Neighbors: <span style=\"color: #008080; text-decoration-color: #008080; font-weight: bold\">279</span> Model Stamp <span style=\"color: #008080; text-decoration-color: #008080; font-weight: bold\">1783780</span> Wall Time:\n",
       "<span style=\"color: #008080; text-decoration-color: #008080; font-weight: bold\">999666</span>\n",
       "</pre>\n"
      ],
      "text/plain": [
       "Solution #\u001b[1;36m280\u001b[0m  found as: \u001b[1;36m17027\u001b[0m Progress: \u001b[1;36m16\u001b[0m%  Branches: \u001b[1;36m3072\u001b[0m Accepted Neighbors: \u001b[1;36m279\u001b[0m Model Stamp \u001b[1;36m1783780\u001b[0m Wall Time:\n",
       "\u001b[1;36m999666\u001b[0m\n"
      ]
     },
     "metadata": {},
     "output_type": "display_data"
    },
    {
     "name": "stderr",
     "output_type": "stream",
     "text": [
      "I0000 00:00:1711739727.300729 1100508 search.cc:282] Solution #329 (17027, maximum = 24078, time = 2242 ms, branches = 3072, failures = 428390, depth = 33, Relocate<1>, neighbors = 1307365, filtered neighbors = 426436, accepted neighbors = 279, memory used = 478.87 MB, limit = 16%)\n",
      "I0000 00:00:1711739731.460334 1100508 search.cc:282] Solution #330 (17024, maximum = 24078, time = 6402 ms, branches = 3077, failures = 430186, depth = 33, Relocate<1>, neighbors = 1317065, filtered neighbors = 428231, accepted neighbors = 280, memory used = 478.87 MB, limit = 25%)\n",
      "I0000 00:00:1711739735.902110 1100508 search.cc:282] Solution #331 (17011, maximum = 24078, time = 10844 ms, branches = 3081, failures = 432106, depth = 33, Relocate<1>, neighbors = 1325742, filtered neighbors = 430150, accepted neighbors = 281, memory used = 478.87 MB, limit = 33%)\n",
      "I0000 00:00:1711739736.861363 1100508 search.cc:282] Solution #332 (16992, maximum = 24078, time = 11803 ms, branches = 3087, failures = 432528, depth = 33, Relocate<1>, neighbors = 1326866, filtered neighbors = 430571, accepted neighbors = 282, memory used = 478.87 MB, limit = 41%)\n",
      "I0000 00:00:1711739764.095402 1100508 search.cc:282] Finished search tree (time = 39037 ms, branches = 3090, failures = 444440, neighbors = 1359178, filtered neighbors = 442448, accepted neigbors = 282, memory used = 478.87 MB)\n",
      "I0000 00:00:1711739764.098509 1100508 search.cc:282] End search (time = 39040 ms, branches = 3090, failures = 444440, memory used = 478.87 MB, speed = 79 branches/s)\n"
     ]
    },
    {
     "data": {
      "text/html": [
       "<pre style=\"white-space:pre;overflow-x:auto;line-height:normal;font-family:Menlo,'DejaVu Sans Mono',consolas,'Courier New',monospace\">Starting iteration <span style=\"color: #008080; text-decoration-color: #008080; font-weight: bold\">51</span> at <span style=\"color: #00ff00; text-decoration-color: #00ff00; font-weight: bold\">07:16:04</span> PM<span style=\"color: #808000; text-decoration-color: #808000\">...</span> Elapsed time: <span style=\"color: #00ff00; text-decoration-color: #00ff00; font-weight: bold\">0:16:52</span>.<span style=\"color: #008080; text-decoration-color: #008080; font-weight: bold\">525498</span>  Explore: <span style=\"color: #008080; text-decoration-color: #008080; font-weight: bold\">100000000000</span>  Objective: <span style=\"color: #008080; text-decoration-color: #008080; font-weight: bold\">16992</span>\n",
       "</pre>\n"
      ],
      "text/plain": [
       "Starting iteration \u001b[1;36m51\u001b[0m at \u001b[1;92m07:16:04\u001b[0m PM\u001b[33m...\u001b[0m Elapsed time: \u001b[1;92m0:16:52\u001b[0m.\u001b[1;36m525498\u001b[0m  Explore: \u001b[1;36m100000000000\u001b[0m  Objective: \u001b[1;36m16992\u001b[0m\n"
      ]
     },
     "metadata": {},
     "output_type": "display_data"
    },
    {
     "name": "stderr",
     "output_type": "stream",
     "text": [
      "I0000 00:00:1711739764.479545 1100508 search.cc:282] Start search (memory used = 479.81 MB)\n",
      "I0000 00:00:1711739764.485300 1100508 search.cc:282] Root node processed (time = 5 ms, constraints = 4799, memory used = 479.81 MB)\n",
      "I0000 00:00:1711739764.501691 1100508 search.cc:282] Solution #333 (16992, maximum = 24078, time = 22 ms, branches = 3123, failures = 444440, depth = 33, Relocate<1>, neighbors = 1359178, filtered neighbors = 442448, accepted neighbors = 282, memory used = 479.81 MB, limit = 8%)\n",
      "I0000 00:00:1711739766.970892 1100508 search.cc:282] Solution #334 (16987, maximum = 24078, time = 2491 ms, branches = 3127, failures = 445520, depth = 33, Exchange, neighbors = 1360545, filtered neighbors = 443527, accepted neighbors = 283, memory used = 479.81 MB, limit = 16%)\n"
     ]
    },
    {
     "data": {
      "text/html": [
       "<pre style=\"white-space:pre;overflow-x:auto;line-height:normal;font-family:Menlo,'DejaVu Sans Mono',consolas,'Courier New',monospace\">Solution #<span style=\"color: #008080; text-decoration-color: #008080; font-weight: bold\">285</span>  found as: <span style=\"color: #008080; text-decoration-color: #008080; font-weight: bold\">16984</span> Progress: <span style=\"color: #008080; text-decoration-color: #008080; font-weight: bold\">25</span>%  Branches: <span style=\"color: #008080; text-decoration-color: #008080; font-weight: bold\">3132</span> Accepted Neighbors: <span style=\"color: #008080; text-decoration-color: #008080; font-weight: bold\">284</span> Model Stamp <span style=\"color: #008080; text-decoration-color: #008080; font-weight: bold\">1846538</span> Wall Time:\n",
       "<span style=\"color: #008080; text-decoration-color: #008080; font-weight: bold\">1040621</span>\n",
       "</pre>\n"
      ],
      "text/plain": [
       "Solution #\u001b[1;36m285\u001b[0m  found as: \u001b[1;36m16984\u001b[0m Progress: \u001b[1;36m25\u001b[0m%  Branches: \u001b[1;36m3132\u001b[0m Accepted Neighbors: \u001b[1;36m284\u001b[0m Model Stamp \u001b[1;36m1846538\u001b[0m Wall Time:\n",
       "\u001b[1;36m1040621\u001b[0m\n"
      ]
     },
     "metadata": {},
     "output_type": "display_data"
    },
    {
     "name": "stderr",
     "output_type": "stream",
     "text": [
      "I0000 00:00:1711739768.255820 1100508 search.cc:282] Solution #335 (16984, maximum = 24078, time = 3776 ms, branches = 3132, failures = 446083, depth = 33, Exchange, neighbors = 1361248, filtered neighbors = 444089, accepted neighbors = 284, memory used = 479.81 MB, limit = 25%)\n",
      "I0000 00:00:1711739768.385466 1100508 search.cc:282] Solution #336 (16970, maximum = 24078, time = 3905 ms, branches = 3136, failures = 446138, depth = 33, Relocate<1>, neighbors = 1361422, filtered neighbors = 444143, accepted neighbors = 285, memory used = 479.81 MB, limit = 33%)\n",
      "I0000 00:00:1711739768.445360 1100508 search.cc:282] Solution #337 (16968, maximum = 24078, time = 3965 ms, branches = 3142, failures = 446164, depth = 33, Relocate<1>, neighbors = 1361497, filtered neighbors = 444168, accepted neighbors = 286, memory used = 479.81 MB, limit = 41%)\n",
      "I0000 00:00:1711739771.838823 1100508 search.cc:282] Solution #338 (16966, maximum = 24078, time = 7359 ms, branches = 3146, failures = 447661, depth = 33, Exchange, neighbors = 1363639, filtered neighbors = 445664, accepted neighbors = 287, memory used = 479.81 MB, limit = 50%)\n",
      "I0000 00:00:1711739772.518411 1100508 search.cc:282] Solution #339 (16944, maximum = 24078, time = 8038 ms, branches = 3151, failures = 447956, depth = 33, Relocate<1>, neighbors = 1364934, filtered neighbors = 445958, accepted neighbors = 288, memory used = 479.81 MB, limit = 58%)\n"
     ]
    },
    {
     "data": {
      "text/html": [
       "<pre style=\"white-space:pre;overflow-x:auto;line-height:normal;font-family:Menlo,'DejaVu Sans Mono',consolas,'Courier New',monospace\">Solution #<span style=\"color: #008080; text-decoration-color: #008080; font-weight: bold\">290</span>  found as: <span style=\"color: #008080; text-decoration-color: #008080; font-weight: bold\">16937</span> Progress: <span style=\"color: #008080; text-decoration-color: #008080; font-weight: bold\">66</span>%  Branches: <span style=\"color: #008080; text-decoration-color: #008080; font-weight: bold\">3155</span> Accepted Neighbors: <span style=\"color: #008080; text-decoration-color: #008080; font-weight: bold\">289</span> Model Stamp <span style=\"color: #008080; text-decoration-color: #008080; font-weight: bold\">1854653</span> Wall Time:\n",
       "<span style=\"color: #008080; text-decoration-color: #008080; font-weight: bold\">1046745</span>\n",
       "</pre>\n"
      ],
      "text/plain": [
       "Solution #\u001b[1;36m290\u001b[0m  found as: \u001b[1;36m16937\u001b[0m Progress: \u001b[1;36m66\u001b[0m%  Branches: \u001b[1;36m3155\u001b[0m Accepted Neighbors: \u001b[1;36m289\u001b[0m Model Stamp \u001b[1;36m1854653\u001b[0m Wall Time:\n",
       "\u001b[1;36m1046745\u001b[0m\n"
      ]
     },
     "metadata": {},
     "output_type": "display_data"
    },
    {
     "name": "stderr",
     "output_type": "stream",
     "text": [
      "I0000 00:00:1711739774.380073 1100508 search.cc:282] Solution #340 (16937, maximum = 24078, time = 9900 ms, branches = 3155, failures = 448776, depth = 33, Relocate<1>, neighbors = 1368926, filtered neighbors = 446777, accepted neighbors = 289, memory used = 479.81 MB, limit = 66%)\n",
      "I0000 00:00:1711739775.140166 1100508 search.cc:282] Solution #341 (16929, maximum = 24078, time = 10660 ms, branches = 3162, failures = 449104, depth = 33, Relocate<1>, neighbors = 1371761, filtered neighbors = 447104, accepted neighbors = 290, memory used = 479.81 MB, limit = 75%)\n",
      "I0000 00:00:1711739776.048980 1100508 search.cc:282] Solution #342 (16927, maximum = 24078, time = 11569 ms, branches = 3166, failures = 449505, depth = 33, Relocate<1>, neighbors = 1373730, filtered neighbors = 447504, accepted neighbors = 291, memory used = 479.81 MB, limit = 83%)\n",
      "I0000 00:00:1711739776.056572 1100508 search.cc:282] Solution #343 (16926, maximum = 24078, time = 11576 ms, branches = 3171, failures = 449508, depth = 33, Relocate<1>, neighbors = 1373732, filtered neighbors = 447506, accepted neighbors = 292, memory used = 479.81 MB, limit = 91%)\n",
      "I0000 00:00:1711739781.462138 1100508 search.cc:282] Solution #344 (16922, maximum = 24078, time = 16982 ms, branches = 3175, failures = 451871, depth = 33, Exchange, neighbors = 1377814, filtered neighbors = 449868, accepted neighbors = 293, memory used = 479.81 MB, limit = 100%)\n",
      "I0000 00:00:1711739781.462525 1100508 search.cc:282] Finished search tree (time = 16982 ms, branches = 3175, failures = 451902, neighbors = 1377814, filtered neighbors = 449868, accepted neigbors = 293, memory used = 479.81 MB)\n",
      "I0000 00:00:1711739781.464106 1100508 search.cc:282] End search (time = 16984 ms, branches = 3175, failures = 451902, memory used = 479.81 MB, speed = 186 branches/s)\n"
     ]
    },
    {
     "data": {
      "text/html": [
       "<pre style=\"white-space:pre;overflow-x:auto;line-height:normal;font-family:Menlo,'DejaVu Sans Mono',consolas,'Courier New',monospace\">Starting iteration <span style=\"color: #008080; text-decoration-color: #008080; font-weight: bold\">52</span> at <span style=\"color: #00ff00; text-decoration-color: #00ff00; font-weight: bold\">07:16:21</span> PM<span style=\"color: #808000; text-decoration-color: #808000\">...</span> Elapsed time: <span style=\"color: #00ff00; text-decoration-color: #00ff00; font-weight: bold\">0:17:09</span>.<span style=\"color: #008080; text-decoration-color: #008080; font-weight: bold\">888341</span>  Explore: <span style=\"color: #008080; text-decoration-color: #008080; font-weight: bold\">100000000000</span>  Objective: <span style=\"color: #008080; text-decoration-color: #008080; font-weight: bold\">16922</span>\n",
       "</pre>\n"
      ],
      "text/plain": [
       "Starting iteration \u001b[1;36m52\u001b[0m at \u001b[1;92m07:16:21\u001b[0m PM\u001b[33m...\u001b[0m Elapsed time: \u001b[1;92m0:17:09\u001b[0m.\u001b[1;36m888341\u001b[0m  Explore: \u001b[1;36m100000000000\u001b[0m  Objective: \u001b[1;36m16922\u001b[0m\n"
      ]
     },
     "metadata": {},
     "output_type": "display_data"
    },
    {
     "name": "stderr",
     "output_type": "stream",
     "text": [
      "I0000 00:00:1711739781.842026 1100508 search.cc:282] Start search (memory used = 480.77 MB)\n",
      "I0000 00:00:1711739781.847010 1100508 search.cc:282] Root node processed (time = 4 ms, constraints = 4799, memory used = 480.77 MB)\n",
      "I0000 00:00:1711739781.859817 1100508 search.cc:282] Solution #345 (16922, maximum = 24078, time = 17 ms, branches = 3208, failures = 451902, depth = 33, Exchange, neighbors = 1377814, filtered neighbors = 449868, accepted neighbors = 293, memory used = 480.77 MB, limit = 7%)\n"
     ]
    },
    {
     "data": {
      "text/html": [
       "<pre style=\"white-space:pre;overflow-x:auto;line-height:normal;font-family:Menlo,'DejaVu Sans Mono',consolas,'Courier New',monospace\">Solution #<span style=\"color: #008080; text-decoration-color: #008080; font-weight: bold\">295</span>  found as: <span style=\"color: #008080; text-decoration-color: #008080; font-weight: bold\">16836</span> Progress: <span style=\"color: #008080; text-decoration-color: #008080; font-weight: bold\">33</span>%  Branches: <span style=\"color: #008080; text-decoration-color: #008080; font-weight: bold\">3212</span> Accepted Neighbors: <span style=\"color: #008080; text-decoration-color: #008080; font-weight: bold\">294</span> Model Stamp <span style=\"color: #008080; text-decoration-color: #008080; font-weight: bold\">1891568</span> Wall Time:\n",
       "<span style=\"color: #008080; text-decoration-color: #008080; font-weight: bold\">1067852</span>\n",
       "</pre>\n"
      ],
      "text/plain": [
       "Solution #\u001b[1;36m295\u001b[0m  found as: \u001b[1;36m16836\u001b[0m Progress: \u001b[1;36m33\u001b[0m%  Branches: \u001b[1;36m3212\u001b[0m Accepted Neighbors: \u001b[1;36m294\u001b[0m Model Stamp \u001b[1;36m1891568\u001b[0m Wall Time:\n",
       "\u001b[1;36m1067852\u001b[0m\n"
      ]
     },
     "metadata": {},
     "output_type": "display_data"
    },
    {
     "name": "stderr",
     "output_type": "stream",
     "text": [
      "I0000 00:00:1711739795.486821 1100508 search.cc:282] Solution #346 (16836, maximum = 24078, time = 13644 ms, branches = 3212, failures = 457854, depth = 33, Exchange, neighbors = 1389970, filtered neighbors = 455819, accepted neighbors = 294, memory used = 480.77 MB, limit = 33%)\n",
      "I0000 00:00:1711739822.836443 1100508 search.cc:282] Finished search tree (time = 40994 ms, branches = 3216, failures = 469921, neighbors = 1409450, filtered neighbors = 467850, accepted neigbors = 294, memory used = 480.77 MB)\n",
      "I0000 00:00:1711739822.840416 1100508 search.cc:282] End search (time = 40998 ms, branches = 3216, failures = 469921, memory used = 480.77 MB, speed = 78 branches/s)\n"
     ]
    },
    {
     "data": {
      "text/html": [
       "<pre style=\"white-space:pre;overflow-x:auto;line-height:normal;font-family:Menlo,'DejaVu Sans Mono',consolas,'Courier New',monospace\">Starting iteration <span style=\"color: #008080; text-decoration-color: #008080; font-weight: bold\">53</span> at <span style=\"color: #00ff00; text-decoration-color: #00ff00; font-weight: bold\">07:17:03</span> PM<span style=\"color: #808000; text-decoration-color: #808000\">...</span> Elapsed time: <span style=\"color: #00ff00; text-decoration-color: #00ff00; font-weight: bold\">0:17:51</span>.<span style=\"color: #008080; text-decoration-color: #008080; font-weight: bold\">271081</span>  Explore: <span style=\"color: #008080; text-decoration-color: #008080; font-weight: bold\">100000000000</span>  Objective: <span style=\"color: #008080; text-decoration-color: #008080; font-weight: bold\">16836</span>\n",
       "</pre>\n"
      ],
      "text/plain": [
       "Starting iteration \u001b[1;36m53\u001b[0m at \u001b[1;92m07:17:03\u001b[0m PM\u001b[33m...\u001b[0m Elapsed time: \u001b[1;92m0:17:51\u001b[0m.\u001b[1;36m271081\u001b[0m  Explore: \u001b[1;36m100000000000\u001b[0m  Objective: \u001b[1;36m16836\u001b[0m\n"
      ]
     },
     "metadata": {},
     "output_type": "display_data"
    },
    {
     "name": "stderr",
     "output_type": "stream",
     "text": [
      "I0000 00:00:1711739823.225120 1100508 search.cc:282] Start search (memory used = 481.71 MB)\n",
      "I0000 00:00:1711739823.230191 1100508 search.cc:282] Root node processed (time = 4 ms, constraints = 4799, memory used = 481.71 MB)\n",
      "I0000 00:00:1711739823.242543 1100508 search.cc:282] Solution #347 (16836, maximum = 24078, time = 17 ms, branches = 3249, failures = 469921, depth = 33, Exchange, neighbors = 1409450, filtered neighbors = 467850, accepted neighbors = 294, memory used = 481.71 MB, limit = 7%)\n",
      "I0000 00:00:1711739844.010459 1100508 search.cc:282] Solution #348 (16833, maximum = 24078, time = 20785 ms, branches = 3253, failures = 478846, depth = 33, Exchange, neighbors = 1428670, filtered neighbors = 476774, accepted neighbors = 295, memory used = 481.71 MB, limit = 50%)\n",
      "I0000 00:00:1711739845.018450 1100508 search.cc:282] Solution #349 (16754, maximum = 24078, time = 21793 ms, branches = 3258, failures = 479280, depth = 33, Exchange, neighbors = 1429199, filtered neighbors = 477207, accepted neighbors = 296, memory used = 481.71 MB, limit = 52%)\n",
      "I0000 00:00:1711739845.028755 1100508 search.cc:282] Solution #350 (16634, maximum = 24078, time = 21803 ms, branches = 3262, failures = 479284, depth = 33, Exchange, neighbors = 1429204, filtered neighbors = 477210, accepted neighbors = 297, memory used = 481.71 MB, limit = 53%)\n",
      "I0000 00:00:1711739858.321878 1100508 search.cc:282] Solution #351 (16630, maximum = 24078, time = 35096 ms, branches = 3268, failures = 485016, depth = 33, Exchange, neighbors = 1438161, filtered neighbors = 482941, accepted neighbors = 298, memory used = 481.71 MB, limit = 85%)\n",
      "I0000 00:00:1711739864.233699 1100508 search.cc:282] Finished search tree (time = 41008 ms, branches = 3271, failures = 487624, neighbors = 1441800, filtered neighbors = 485514, accepted neigbors = 298, memory used = 481.71 MB)\n",
      "I0000 00:00:1711739864.237407 1100508 search.cc:282] End search (time = 41012 ms, branches = 3271, failures = 487624, memory used = 481.71 MB, speed = 79 branches/s)\n"
     ]
    },
    {
     "data": {
      "text/html": [
       "<pre style=\"white-space:pre;overflow-x:auto;line-height:normal;font-family:Menlo,'DejaVu Sans Mono',consolas,'Courier New',monospace\">Starting iteration <span style=\"color: #008080; text-decoration-color: #008080; font-weight: bold\">54</span> at <span style=\"color: #00ff00; text-decoration-color: #00ff00; font-weight: bold\">07:17:44</span> PM<span style=\"color: #808000; text-decoration-color: #808000\">...</span> Elapsed time: <span style=\"color: #00ff00; text-decoration-color: #00ff00; font-weight: bold\">0:18:32</span>.<span style=\"color: #008080; text-decoration-color: #008080; font-weight: bold\">658804</span>  Explore: <span style=\"color: #008080; text-decoration-color: #008080; font-weight: bold\">100000000000</span>  Objective: <span style=\"color: #008080; text-decoration-color: #008080; font-weight: bold\">16630</span>\n",
       "</pre>\n"
      ],
      "text/plain": [
       "Starting iteration \u001b[1;36m54\u001b[0m at \u001b[1;92m07:17:44\u001b[0m PM\u001b[33m...\u001b[0m Elapsed time: \u001b[1;92m0:18:32\u001b[0m.\u001b[1;36m658804\u001b[0m  Explore: \u001b[1;36m100000000000\u001b[0m  Objective: \u001b[1;36m16630\u001b[0m\n"
      ]
     },
     "metadata": {},
     "output_type": "display_data"
    },
    {
     "name": "stderr",
     "output_type": "stream",
     "text": [
      "I0000 00:00:1711739864.613891 1100508 search.cc:282] Start search (memory used = 482.64 MB)\n",
      "I0000 00:00:1711739864.618846 1100508 search.cc:282] Root node processed (time = 4 ms, constraints = 4799, memory used = 482.64 MB)\n",
      "I0000 00:00:1711739864.632679 1100508 search.cc:282] Solution #352 (16630, maximum = 24078, time = 18 ms, branches = 3304, failures = 487624, depth = 33, Exchange, neighbors = 1441800, filtered neighbors = 485514, accepted neighbors = 298, memory used = 482.64 MB, limit = 7%)\n"
     ]
    },
    {
     "data": {
      "text/html": [
       "<pre style=\"white-space:pre;overflow-x:auto;line-height:normal;font-family:Menlo,'DejaVu Sans Mono',consolas,'Courier New',monospace\">Solution #<span style=\"color: #008080; text-decoration-color: #008080; font-weight: bold\">300</span>  found as: <span style=\"color: #008080; text-decoration-color: #008080; font-weight: bold\">16626</span> Progress: <span style=\"color: #008080; text-decoration-color: #008080; font-weight: bold\">15</span>%  Branches: <span style=\"color: #008080; text-decoration-color: #008080; font-weight: bold\">3308</span> Accepted Neighbors: <span style=\"color: #008080; text-decoration-color: #008080; font-weight: bold\">299</span> Model Stamp <span style=\"color: #008080; text-decoration-color: #008080; font-weight: bold\">2003581</span> Wall Time:\n",
       "<span style=\"color: #008080; text-decoration-color: #008080; font-weight: bold\">1139593</span>\n",
       "</pre>\n"
      ],
      "text/plain": [
       "Solution #\u001b[1;36m300\u001b[0m  found as: \u001b[1;36m16626\u001b[0m Progress: \u001b[1;36m15\u001b[0m%  Branches: \u001b[1;36m3308\u001b[0m Accepted Neighbors: \u001b[1;36m299\u001b[0m Model Stamp \u001b[1;36m2003581\u001b[0m Wall Time:\n",
       "\u001b[1;36m1139593\u001b[0m\n"
      ]
     },
     "metadata": {},
     "output_type": "display_data"
    },
    {
     "name": "stderr",
     "output_type": "stream",
     "text": [
      "I0000 00:00:1711739867.227880 1100508 search.cc:282] Solution #353 (16626, maximum = 24078, time = 2613 ms, branches = 3308, failures = 488752, depth = 33, Exchange, neighbors = 1443825, filtered neighbors = 486641, accepted neighbors = 299, memory used = 482.64 MB, limit = 15%)\n",
      "I0000 00:00:1711739870.308510 1100508 search.cc:282] Solution #354 (16619, maximum = 24078, time = 5694 ms, branches = 3313, failures = 490084, depth = 33, Exchange, neighbors = 1446798, filtered neighbors = 487972, accepted neighbors = 300, memory used = 482.64 MB, limit = 23%)\n",
      "I0000 00:00:1711739870.328154 1100508 search.cc:282] Solution #355 (16613, maximum = 24078, time = 5714 ms, branches = 3317, failures = 490092, depth = 33, Exchange, neighbors = 1446817, filtered neighbors = 487979, accepted neighbors = 301, memory used = 482.64 MB, limit = 30%)\n",
      "I0000 00:00:1711739875.389851 1100508 search.cc:282] Solution #356 (16574, maximum = 24078, time = 10775 ms, branches = 3323, failures = 492254, depth = 33, Exchange, neighbors = 1450369, filtered neighbors = 490140, accepted neighbors = 302, memory used = 482.64 MB, limit = 38%)\n",
      "I0000 00:00:1711739886.997197 1100508 search.cc:282] Solution #357 (16572, maximum = 24078, time = 22383 ms, branches = 3327, failures = 497287, depth = 33, Exchange, neighbors = 1458269, filtered neighbors = 495172, accepted neighbors = 303, memory used = 482.64 MB, limit = 54%)\n"
     ]
    },
    {
     "data": {
      "text/html": [
       "<pre style=\"white-space:pre;overflow-x:auto;line-height:normal;font-family:Menlo,'DejaVu Sans Mono',consolas,'Courier New',monospace\">Solution #<span style=\"color: #008080; text-decoration-color: #008080; font-weight: bold\">305</span>  found as: <span style=\"color: #008080; text-decoration-color: #008080; font-weight: bold\">16570</span> Progress: <span style=\"color: #008080; text-decoration-color: #008080; font-weight: bold\">54</span>%  Branches: <span style=\"color: #008080; text-decoration-color: #008080; font-weight: bold\">3332</span> Accepted Neighbors: <span style=\"color: #008080; text-decoration-color: #008080; font-weight: bold\">304</span> Model Stamp <span style=\"color: #008080; text-decoration-color: #008080; font-weight: bold\">2029233</span> Wall Time:\n",
       "<span style=\"color: #008080; text-decoration-color: #008080; font-weight: bold\">1159374</span>\n",
       "</pre>\n"
      ],
      "text/plain": [
       "Solution #\u001b[1;36m305\u001b[0m  found as: \u001b[1;36m16570\u001b[0m Progress: \u001b[1;36m54\u001b[0m%  Branches: \u001b[1;36m3332\u001b[0m Accepted Neighbors: \u001b[1;36m304\u001b[0m Model Stamp \u001b[1;36m2029233\u001b[0m Wall Time:\n",
       "\u001b[1;36m1159374\u001b[0m\n"
      ]
     },
     "metadata": {},
     "output_type": "display_data"
    },
    {
     "name": "stderr",
     "output_type": "stream",
     "text": [
      "I0000 00:00:1711739887.008929 1100508 search.cc:282] Solution #358 (16570, maximum = 24078, time = 22394 ms, branches = 3332, failures = 497290, depth = 33, Exchange, neighbors = 1458271, filtered neighbors = 495174, accepted neighbors = 304, memory used = 482.64 MB, limit = 54%)\n",
      "I0000 00:00:1711739892.058143 1100508 search.cc:282] Solution #359 (16556, maximum = 24078, time = 27444 ms, branches = 3336, failures = 499470, depth = 33, Exchange, neighbors = 1462260, filtered neighbors = 497353, accepted neighbors = 305, memory used = 482.64 MB, limit = 66%)\n",
      "I0000 00:00:1711739905.633709 1100508 search.cc:282] Finished search tree (time = 41019 ms, branches = 3342, failures = 505438, neighbors = 1473211, filtered neighbors = 503285, accepted neigbors = 305, memory used = 482.64 MB)\n",
      "I0000 00:00:1711739905.635525 1100508 search.cc:282] End search (time = 41021 ms, branches = 3342, failures = 505438, memory used = 482.64 MB, speed = 81 branches/s)\n"
     ]
    },
    {
     "data": {
      "text/html": [
       "<pre style=\"white-space:pre;overflow-x:auto;line-height:normal;font-family:Menlo,'DejaVu Sans Mono',consolas,'Courier New',monospace\">Starting iteration <span style=\"color: #008080; text-decoration-color: #008080; font-weight: bold\">55</span> at <span style=\"color: #00ff00; text-decoration-color: #00ff00; font-weight: bold\">07:18:26</span> PM<span style=\"color: #808000; text-decoration-color: #808000\">...</span> Elapsed time: <span style=\"color: #00ff00; text-decoration-color: #00ff00; font-weight: bold\">0:19:14</span>.<span style=\"color: #008080; text-decoration-color: #008080; font-weight: bold\">072156</span>  Explore: <span style=\"color: #008080; text-decoration-color: #008080; font-weight: bold\">100000000000</span>  Objective: <span style=\"color: #008080; text-decoration-color: #008080; font-weight: bold\">16556</span>\n",
       "</pre>\n"
      ],
      "text/plain": [
       "Starting iteration \u001b[1;36m55\u001b[0m at \u001b[1;92m07:18:26\u001b[0m PM\u001b[33m...\u001b[0m Elapsed time: \u001b[1;92m0:19:14\u001b[0m.\u001b[1;36m072156\u001b[0m  Explore: \u001b[1;36m100000000000\u001b[0m  Objective: \u001b[1;36m16556\u001b[0m\n"
      ]
     },
     "metadata": {},
     "output_type": "display_data"
    },
    {
     "name": "stderr",
     "output_type": "stream",
     "text": [
      "I0000 00:00:1711739906.026184 1100508 search.cc:282] Start search (memory used = 483.61 MB)\n",
      "I0000 00:00:1711739906.031073 1100508 search.cc:282] Root node processed (time = 4 ms, constraints = 4799, memory used = 483.61 MB)\n",
      "I0000 00:00:1711739906.044800 1100508 search.cc:282] Solution #360 (16556, maximum = 24078, time = 18 ms, branches = 3375, failures = 505438, depth = 33, Exchange, neighbors = 1473211, filtered neighbors = 503285, accepted neighbors = 305, memory used = 483.61 MB, limit = 7%)\n",
      "I0000 00:00:1711739910.419229 1100508 search.cc:282] Solution #361 (16554, maximum = 24078, time = 4392 ms, branches = 3379, failures = 507275, depth = 33, Exchange, neighbors = 1475652, filtered neighbors = 505121, accepted neighbors = 306, memory used = 483.61 MB, limit = 15%)\n",
      "I0000 00:00:1711739910.441018 1100508 search.cc:282] Solution #362 (16552, maximum = 24078, time = 4414 ms, branches = 3384, failures = 507284, depth = 33, Exchange, neighbors = 1475662, filtered neighbors = 505129, accepted neighbors = 307, memory used = 483.61 MB, limit = 23%)\n",
      "I0000 00:00:1711739915.660602 1100508 search.cc:282] Solution #363 (16549, maximum = 24078, time = 9634 ms, branches = 3388, failures = 509567, depth = 33, Exchange, neighbors = 1478819, filtered neighbors = 507411, accepted neighbors = 308, memory used = 483.61 MB, limit = 30%)\n"
     ]
    },
    {
     "data": {
      "text/html": [
       "<pre style=\"white-space:pre;overflow-x:auto;line-height:normal;font-family:Menlo,'DejaVu Sans Mono',consolas,'Courier New',monospace\">Solution #<span style=\"color: #008080; text-decoration-color: #008080; font-weight: bold\">310</span>  found as: <span style=\"color: #008080; text-decoration-color: #008080; font-weight: bold\">16547</span> Progress: <span style=\"color: #008080; text-decoration-color: #008080; font-weight: bold\">38</span>%  Branches: <span style=\"color: #008080; text-decoration-color: #008080; font-weight: bold\">3394</span> Accepted Neighbors: <span style=\"color: #008080; text-decoration-color: #008080; font-weight: bold\">309</span> Model Stamp <span style=\"color: #008080; text-decoration-color: #008080; font-weight: bold\">2075878</span> Wall Time:\n",
       "<span style=\"color: #008080; text-decoration-color: #008080; font-weight: bold\">1188130</span>\n",
       "</pre>\n"
      ],
      "text/plain": [
       "Solution #\u001b[1;36m310\u001b[0m  found as: \u001b[1;36m16547\u001b[0m Progress: \u001b[1;36m38\u001b[0m%  Branches: \u001b[1;36m3394\u001b[0m Accepted Neighbors: \u001b[1;36m309\u001b[0m Model Stamp \u001b[1;36m2075878\u001b[0m Wall Time:\n",
       "\u001b[1;36m1188130\u001b[0m\n"
      ]
     },
     "metadata": {},
     "output_type": "display_data"
    },
    {
     "name": "stderr",
     "output_type": "stream",
     "text": [
      "I0000 00:00:1711739915.765146 1100508 search.cc:282] Solution #364 (16547, maximum = 24078, time = 9738 ms, branches = 3394, failures = 509611, depth = 33, Exchange, neighbors = 1478906, filtered neighbors = 507454, accepted neighbors = 309, memory used = 483.61 MB, limit = 38%)\n",
      "I0000 00:00:1711739927.071173 1100508 search.cc:282] Solution #365 (16545, maximum = 24078, time = 21044 ms, branches = 3398, failures = 514498, depth = 33, Exchange, neighbors = 1489232, filtered neighbors = 512340, accepted neighbors = 310, memory used = 483.61 MB, limit = 51%)\n",
      "I0000 00:00:1711739947.048607 1100508 search.cc:282] Finished search tree (time = 41022 ms, branches = 3402, failures = 523182, neighbors = 1506221, filtered neighbors = 520989, accepted neigbors = 310, memory used = 483.61 MB)\n",
      "I0000 00:00:1711739947.052025 1100508 search.cc:282] End search (time = 41025 ms, branches = 3402, failures = 523182, memory used = 483.61 MB, speed = 82 branches/s)\n"
     ]
    },
    {
     "data": {
      "text/html": [
       "<pre style=\"white-space:pre;overflow-x:auto;line-height:normal;font-family:Menlo,'DejaVu Sans Mono',consolas,'Courier New',monospace\">Starting iteration <span style=\"color: #008080; text-decoration-color: #008080; font-weight: bold\">56</span> at <span style=\"color: #00ff00; text-decoration-color: #00ff00; font-weight: bold\">07:19:07</span> PM<span style=\"color: #808000; text-decoration-color: #808000\">...</span> Elapsed time: <span style=\"color: #00ff00; text-decoration-color: #00ff00; font-weight: bold\">0:19:55</span>.<span style=\"color: #008080; text-decoration-color: #008080; font-weight: bold\">477696</span>  Explore: <span style=\"color: #008080; text-decoration-color: #008080; font-weight: bold\">100000000000</span>  Objective: <span style=\"color: #008080; text-decoration-color: #008080; font-weight: bold\">16545</span>\n",
       "</pre>\n"
      ],
      "text/plain": [
       "Starting iteration \u001b[1;36m56\u001b[0m at \u001b[1;92m07:19:07\u001b[0m PM\u001b[33m...\u001b[0m Elapsed time: \u001b[1;92m0:19:55\u001b[0m.\u001b[1;36m477696\u001b[0m  Explore: \u001b[1;36m100000000000\u001b[0m  Objective: \u001b[1;36m16545\u001b[0m\n"
      ]
     },
     "metadata": {},
     "output_type": "display_data"
    },
    {
     "name": "stderr",
     "output_type": "stream",
     "text": [
      "I0000 00:00:1711739947.431644 1100508 search.cc:282] Start search (memory used = 484.54 MB)\n",
      "I0000 00:00:1711739947.436525 1100508 search.cc:282] Root node processed (time = 4 ms, constraints = 4799, memory used = 484.54 MB)\n",
      "I0000 00:00:1711739947.449915 1100508 search.cc:282] Solution #366 (16545, maximum = 24078, time = 18 ms, branches = 3435, failures = 523182, depth = 33, Exchange, neighbors = 1506221, filtered neighbors = 520989, accepted neighbors = 310, memory used = 484.54 MB, limit = 7%)\n",
      "I0000 00:00:1711739952.023992 1100508 search.cc:282] Solution #367 (16541, maximum = 24078, time = 4592 ms, branches = 3439, failures = 525171, depth = 33, Exchange, neighbors = 1509291, filtered neighbors = 522977, accepted neighbors = 311, memory used = 484.54 MB, limit = 15%)\n",
      "I0000 00:00:1711739971.947644 1100508 search.cc:282] Solution #368 (16518, maximum = 24078, time = 24515 ms, branches = 3444, failures = 533899, depth = 33, Relocate<1>, neighbors = 1526670, filtered neighbors = 531704, accepted neighbors = 312, memory used = 484.54 MB, limit = 59%)\n",
      "I0000 00:00:1711739985.022219 1100508 search.cc:282] Solution #369 (16517, maximum = 24078, time = 37590 ms, branches = 3448, failures = 539586, depth = 33, Relocate<1>, neighbors = 1560907, filtered neighbors = 537390, accepted neighbors = 313, memory used = 484.54 MB, limit = 91%)\n"
     ]
    },
    {
     "data": {
      "text/html": [
       "<pre style=\"white-space:pre;overflow-x:auto;line-height:normal;font-family:Menlo,'DejaVu Sans Mono',consolas,'Courier New',monospace\">Solution #<span style=\"color: #008080; text-decoration-color: #008080; font-weight: bold\">315</span>  found as: <span style=\"color: #008080; text-decoration-color: #008080; font-weight: bold\">16505</span> Progress: <span style=\"color: #008080; text-decoration-color: #008080; font-weight: bold\">94</span>%  Branches: <span style=\"color: #008080; text-decoration-color: #008080; font-weight: bold\">3454</span> Accepted Neighbors: <span style=\"color: #008080; text-decoration-color: #008080; font-weight: bold\">314</span> Model Stamp <span style=\"color: #008080; text-decoration-color: #008080; font-weight: bold\">2176937</span> Wall Time:\n",
       "<span style=\"color: #008080; text-decoration-color: #008080; font-weight: bold\">1258501</span>\n",
       "</pre>\n"
      ],
      "text/plain": [
       "Solution #\u001b[1;36m315\u001b[0m  found as: \u001b[1;36m16505\u001b[0m Progress: \u001b[1;36m94\u001b[0m%  Branches: \u001b[1;36m3454\u001b[0m Accepted Neighbors: \u001b[1;36m314\u001b[0m Model Stamp \u001b[1;36m2176937\u001b[0m Wall Time:\n",
       "\u001b[1;36m1258501\u001b[0m\n"
      ]
     },
     "metadata": {},
     "output_type": "display_data"
    },
    {
     "name": "stderr",
     "output_type": "stream",
     "text": [
      "I0000 00:00:1711739986.136250 1100508 search.cc:282] Solution #370 (16505, maximum = 24078, time = 38704 ms, branches = 3454, failures = 540071, depth = 33, Relocate<1>, neighbors = 1564242, filtered neighbors = 537874, accepted neighbors = 314, memory used = 484.54 MB, limit = 94%)\n",
      "I0000 00:00:1711739986.404590 1100508 search.cc:282] Solution #371 (16504, maximum = 24078, time = 38972 ms, branches = 3458, failures = 540186, depth = 33, Relocate<1>, neighbors = 1564656, filtered neighbors = 537988, accepted neighbors = 315, memory used = 484.54 MB, limit = 95%)\n",
      "I0000 00:00:1711739986.763103 1100508 search.cc:282] Solution #372 (16501, maximum = 24078, time = 39331 ms, branches = 3463, failures = 540342, depth = 33, Exchange, neighbors = 1564844, filtered neighbors = 538143, accepted neighbors = 316, memory used = 484.54 MB, limit = 95%)\n",
      "I0000 00:00:1711739987.291382 1100508 search.cc:282] Solution #373 (16487, maximum = 24078, time = 39859 ms, branches = 3467, failures = 540571, depth = 33, Relocate<1>, neighbors = 1565833, filtered neighbors = 538371, accepted neighbors = 317, memory used = 484.54 MB, limit = 97%)\n",
      "I0000 00:00:1711739987.390100 1100508 search.cc:282] Solution #374 (16453, maximum = 24078, time = 39958 ms, branches = 3474, failures = 540614, depth = 33, Relocate<1>, neighbors = 1565934, filtered neighbors = 538413, accepted neighbors = 318, memory used = 484.54 MB, limit = 97%)\n"
     ]
    },
    {
     "data": {
      "text/html": [
       "<pre style=\"white-space:pre;overflow-x:auto;line-height:normal;font-family:Menlo,'DejaVu Sans Mono',consolas,'Courier New',monospace\">Solution #<span style=\"color: #008080; text-decoration-color: #008080; font-weight: bold\">320</span>  found as: <span style=\"color: #008080; text-decoration-color: #008080; font-weight: bold\">16442</span> Progress: <span style=\"color: #008080; text-decoration-color: #008080; font-weight: bold\">98</span>%  Branches: <span style=\"color: #008080; text-decoration-color: #008080; font-weight: bold\">3478</span> Accepted Neighbors: <span style=\"color: #008080; text-decoration-color: #008080; font-weight: bold\">319</span> Model Stamp <span style=\"color: #008080; text-decoration-color: #008080; font-weight: bold\">2179102</span> Wall Time:\n",
       "<span style=\"color: #008080; text-decoration-color: #008080; font-weight: bold\">1260144</span>\n",
       "</pre>\n"
      ],
      "text/plain": [
       "Solution #\u001b[1;36m320\u001b[0m  found as: \u001b[1;36m16442\u001b[0m Progress: \u001b[1;36m98\u001b[0m%  Branches: \u001b[1;36m3478\u001b[0m Accepted Neighbors: \u001b[1;36m319\u001b[0m Model Stamp \u001b[1;36m2179102\u001b[0m Wall Time:\n",
       "\u001b[1;36m1260144\u001b[0m\n"
      ]
     },
     "metadata": {},
     "output_type": "display_data"
    },
    {
     "name": "stderr",
     "output_type": "stream",
     "text": [
      "I0000 00:00:1711739987.779085 1100508 search.cc:282] Solution #375 (16442, maximum = 24078, time = 40347 ms, branches = 3478, failures = 540780, depth = 33, Relocate<1>, neighbors = 1566789, filtered neighbors = 538578, accepted neighbors = 319, memory used = 484.54 MB, limit = 98%)\n",
      "I0000 00:00:1711739988.425873 1100508 search.cc:282] Finished search tree (time = 40994 ms, branches = 3482, failures = 541092, neighbors = 1569014, filtered neighbors = 538855, accepted neigbors = 319, memory used = 484.54 MB)\n",
      "I0000 00:00:1711739988.428761 1100508 search.cc:282] End search (time = 40997 ms, branches = 3482, failures = 541092, memory used = 484.54 MB, speed = 84 branches/s)\n"
     ]
    },
    {
     "data": {
      "text/html": [
       "<pre style=\"white-space:pre;overflow-x:auto;line-height:normal;font-family:Menlo,'DejaVu Sans Mono',consolas,'Courier New',monospace\">Starting iteration <span style=\"color: #008080; text-decoration-color: #008080; font-weight: bold\">57</span> at <span style=\"color: #00ff00; text-decoration-color: #00ff00; font-weight: bold\">07:19:48</span> PM<span style=\"color: #808000; text-decoration-color: #808000\">...</span> Elapsed time: <span style=\"color: #00ff00; text-decoration-color: #00ff00; font-weight: bold\">0:20:36</span>.<span style=\"color: #008080; text-decoration-color: #008080; font-weight: bold\">860149</span>  Explore: <span style=\"color: #008080; text-decoration-color: #008080; font-weight: bold\">100000000000</span>  Objective: <span style=\"color: #008080; text-decoration-color: #008080; font-weight: bold\">16442</span>\n",
       "</pre>\n"
      ],
      "text/plain": [
       "Starting iteration \u001b[1;36m57\u001b[0m at \u001b[1;92m07:19:48\u001b[0m PM\u001b[33m...\u001b[0m Elapsed time: \u001b[1;92m0:20:36\u001b[0m.\u001b[1;36m860149\u001b[0m  Explore: \u001b[1;36m100000000000\u001b[0m  Objective: \u001b[1;36m16442\u001b[0m\n"
      ]
     },
     "metadata": {},
     "output_type": "display_data"
    },
    {
     "name": "stderr",
     "output_type": "stream",
     "text": [
      "I0000 00:00:1711739988.814761 1100508 search.cc:282] Start search (memory used = 485.51 MB)\n",
      "I0000 00:00:1711739988.819517 1100508 search.cc:282] Root node processed (time = 4 ms, constraints = 4799, memory used = 485.51 MB)\n",
      "I0000 00:00:1711739988.831990 1100508 search.cc:282] Solution #376 (16442, maximum = 24078, time = 17 ms, branches = 3515, failures = 541092, depth = 33, Relocate<1>, neighbors = 1569014, filtered neighbors = 538855, accepted neighbors = 319, memory used = 485.51 MB, limit = 7%)\n",
      "I0000 00:00:1711739993.345546 1100508 search.cc:282] Solution #377 (16411, maximum = 24078, time = 4530 ms, branches = 3519, failures = 543048, depth = 33, Relocate<1>, neighbors = 1580131, filtered neighbors = 540810, accepted neighbors = 320, memory used = 485.51 MB, limit = 14%)\n",
      "I0000 00:00:1711739995.685996 1100508 search.cc:282] Solution #378 (16397, maximum = 24078, time = 6871 ms, branches = 3524, failures = 544057, depth = 33, Relocate<1>, neighbors = 1587295, filtered neighbors = 541818, accepted neighbors = 321, memory used = 485.51 MB, limit = 21%)\n",
      "I0000 00:00:1711739996.539973 1100508 search.cc:282] Solution #379 (16396, maximum = 24078, time = 7725 ms, branches = 3528, failures = 544422, depth = 33, Relocate<1>, neighbors = 1589576, filtered neighbors = 542182, accepted neighbors = 322, memory used = 485.51 MB, limit = 28%)\n",
      "I0000 00:00:1711740015.752494 1100508 search.cc:282] Solution #380 (16383, maximum = 24078, time = 26937 ms, branches = 3534, failures = 552769, depth = 33, Relocate<1>, neighbors = 1628826, filtered neighbors = 550528, accepted neighbors = 323, memory used = 485.51 MB, limit = 62%)\n"
     ]
    },
    {
     "data": {
      "text/html": [
       "<pre style=\"white-space:pre;overflow-x:auto;line-height:normal;font-family:Menlo,'DejaVu Sans Mono',consolas,'Courier New',monospace\">Solution #<span style=\"color: #008080; text-decoration-color: #008080; font-weight: bold\">325</span>  found as: <span style=\"color: #008080; text-decoration-color: #008080; font-weight: bold\">16364</span> Progress: <span style=\"color: #008080; text-decoration-color: #008080; font-weight: bold\">63</span>%  Branches: <span style=\"color: #008080; text-decoration-color: #008080; font-weight: bold\">3538</span> Accepted Neighbors: <span style=\"color: #008080; text-decoration-color: #008080; font-weight: bold\">324</span> Model Stamp <span style=\"color: #008080; text-decoration-color: #008080; font-weight: bold\">2225117</span> Wall Time:\n",
       "<span style=\"color: #008080; text-decoration-color: #008080; font-weight: bold\">1288418</span>\n",
       "</pre>\n"
      ],
      "text/plain": [
       "Solution #\u001b[1;36m325\u001b[0m  found as: \u001b[1;36m16364\u001b[0m Progress: \u001b[1;36m63\u001b[0m%  Branches: \u001b[1;36m3538\u001b[0m Accepted Neighbors: \u001b[1;36m324\u001b[0m Model Stamp \u001b[1;36m2225117\u001b[0m Wall Time:\n",
       "\u001b[1;36m1288418\u001b[0m\n"
      ]
     },
     "metadata": {},
     "output_type": "display_data"
    },
    {
     "name": "stderr",
     "output_type": "stream",
     "text": [
      "I0000 00:00:1711740016.052632 1100508 search.cc:282] Solution #381 (16364, maximum = 24078, time = 27237 ms, branches = 3538, failures = 552892, depth = 33, Relocate<1>, neighbors = 1630307, filtered neighbors = 550650, accepted neighbors = 324, memory used = 485.51 MB, limit = 63%)\n",
      "I0000 00:00:1711740018.231551 1100508 search.cc:282] Solution #382 (16359, maximum = 24078, time = 29416 ms, branches = 3543, failures = 553836, depth = 33, Relocate<1>, neighbors = 1636470, filtered neighbors = 551593, accepted neighbors = 325, memory used = 485.51 MB, limit = 68%)\n",
      "I0000 00:00:1711740031.805186 1100508 search.cc:282] Solution #383 (16306, maximum = 24078, time = 42990 ms, branches = 3547, failures = 559707, depth = 33, Relocate<1>, neighbors = 1664656, filtered neighbors = 557463, accepted neighbors = 326, memory used = 485.51 MB, limit = 99%)\n",
      "I0000 00:00:1711740031.817313 1100508 search.cc:282] Finished search tree (time = 43002 ms, branches = 3553, failures = 559748, neighbors = 1664661, filtered neighbors = 557468, accepted neigbors = 326, memory used = 485.51 MB)\n",
      "I0000 00:00:1711740031.819941 1100508 search.cc:282] End search (time = 43005 ms, branches = 3553, failures = 559748, memory used = 485.51 MB, speed = 82 branches/s)\n"
     ]
    },
    {
     "data": {
      "text/html": [
       "<pre style=\"white-space:pre;overflow-x:auto;line-height:normal;font-family:Menlo,'DejaVu Sans Mono',consolas,'Courier New',monospace\">Starting iteration <span style=\"color: #008080; text-decoration-color: #008080; font-weight: bold\">58</span> at <span style=\"color: #00ff00; text-decoration-color: #00ff00; font-weight: bold\">07:20:32</span> PM<span style=\"color: #808000; text-decoration-color: #808000\">...</span> Elapsed time: <span style=\"color: #00ff00; text-decoration-color: #00ff00; font-weight: bold\">0:21:20</span>.<span style=\"color: #008080; text-decoration-color: #008080; font-weight: bold\">254187</span>  Explore: <span style=\"color: #008080; text-decoration-color: #008080; font-weight: bold\">0</span>  Objective: <span style=\"color: #008080; text-decoration-color: #008080; font-weight: bold\">16306</span>\n",
       "</pre>\n"
      ],
      "text/plain": [
       "Starting iteration \u001b[1;36m58\u001b[0m at \u001b[1;92m07:20:32\u001b[0m PM\u001b[33m...\u001b[0m Elapsed time: \u001b[1;92m0:21:20\u001b[0m.\u001b[1;36m254187\u001b[0m  Explore: \u001b[1;36m0\u001b[0m  Objective: \u001b[1;36m16306\u001b[0m\n"
      ]
     },
     "metadata": {},
     "output_type": "display_data"
    },
    {
     "name": "stderr",
     "output_type": "stream",
     "text": [
      "I0000 00:00:1711740032.208330 1100508 search.cc:282] Start search (memory used = 486.45 MB)\n",
      "I0000 00:00:1711740032.213136 1100508 search.cc:282] Root node processed (time = 4 ms, constraints = 4799, memory used = 486.45 MB)\n",
      "I0000 00:00:1711740032.225615 1100508 search.cc:282] Solution #384 (16306, maximum = 24078, time = 17 ms, branches = 3586, failures = 559748, depth = 33, Relocate<1>, neighbors = 1664661, filtered neighbors = 557468, accepted neighbors = 326, memory used = 486.45 MB, limit = 7%)\n",
      "I0000 00:00:1711740034.036395 1100508 search.cc:282] Solution #385 (16305, maximum = 24078, time = 1827 ms, branches = 3590, failures = 560538, depth = 33, Relocate<1>, neighbors = 1668258, filtered neighbors = 558257, accepted neighbors = 327, memory used = 486.45 MB, limit = 14%)\n",
      "I0000 00:00:1711740034.973442 1100508 search.cc:282] Solution #386 (16294, maximum = 24078, time = 2764 ms, branches = 3595, failures = 560944, depth = 33, Relocate<1>, neighbors = 1670138, filtered neighbors = 558662, accepted neighbors = 328, memory used = 486.45 MB, limit = 21%)\n"
     ]
    },
    {
     "data": {
      "text/html": [
       "<pre style=\"white-space:pre;overflow-x:auto;line-height:normal;font-family:Menlo,'DejaVu Sans Mono',consolas,'Courier New',monospace\">Solution #<span style=\"color: #008080; text-decoration-color: #008080; font-weight: bold\">330</span>  found as: <span style=\"color: #008080; text-decoration-color: #008080; font-weight: bold\">16286</span> Progress: <span style=\"color: #008080; text-decoration-color: #008080; font-weight: bold\">28</span>%  Branches: <span style=\"color: #008080; text-decoration-color: #008080; font-weight: bold\">3599</span> Accepted Neighbors: <span style=\"color: #008080; text-decoration-color: #008080; font-weight: bold\">329</span> Model Stamp <span style=\"color: #008080; text-decoration-color: #008080; font-weight: bold\">2267470</span> Wall Time:\n",
       "<span style=\"color: #008080; text-decoration-color: #008080; font-weight: bold\">1313898</span>\n",
       "</pre>\n"
      ],
      "text/plain": [
       "Solution #\u001b[1;36m330\u001b[0m  found as: \u001b[1;36m16286\u001b[0m Progress: \u001b[1;36m28\u001b[0m%  Branches: \u001b[1;36m3599\u001b[0m Accepted Neighbors: \u001b[1;36m329\u001b[0m Model Stamp \u001b[1;36m2267470\u001b[0m Wall Time:\n",
       "\u001b[1;36m1313898\u001b[0m\n"
      ]
     },
     "metadata": {},
     "output_type": "display_data"
    },
    {
     "name": "stderr",
     "output_type": "stream",
     "text": [
      "I0000 00:00:1711740041.533676 1100508 search.cc:282] Solution #387 (16286, maximum = 24078, time = 9325 ms, branches = 3599, failures = 563783, depth = 33, Relocate<1>, neighbors = 1682151, filtered neighbors = 561500, accepted neighbors = 329, memory used = 486.45 MB, limit = 28%)\n",
      "I0000 00:00:1711740044.233082 1100508 search.cc:282] Solution #388 (16276, maximum = 24078, time = 12024 ms, branches = 3605, failures = 564952, depth = 33, Relocate<1>, neighbors = 1687541, filtered neighbors = 562668, accepted neighbors = 330, memory used = 486.45 MB, limit = 35%)\n",
      "I0000 00:00:1711740048.835484 1100508 search.cc:282] Solution #389 (16272, maximum = 24078, time = 16627 ms, branches = 3609, failures = 566950, depth = 33, Relocate<1>, neighbors = 1698000, filtered neighbors = 564665, accepted neighbors = 331, memory used = 486.45 MB, limit = 42%)\n",
      "I0000 00:00:1711740052.789245 1100508 search.cc:282] Solution #390 (16242, maximum = 24078, time = 20580 ms, branches = 3614, failures = 568650, depth = 33, Relocate<1>, neighbors = 1708523, filtered neighbors = 566364, accepted neighbors = 332, memory used = 486.45 MB, limit = 50%)\n",
      "I0000 00:00:1711740054.143452 1100508 search.cc:282] Solution #391 (16239, maximum = 24078, time = 21934 ms, branches = 3618, failures = 569230, depth = 33, Relocate<1>, neighbors = 1711213, filtered neighbors = 566943, accepted neighbors = 333, memory used = 486.45 MB, limit = 57%)\n"
     ]
    },
    {
     "data": {
      "text/html": [
       "<pre style=\"white-space:pre;overflow-x:auto;line-height:normal;font-family:Menlo,'DejaVu Sans Mono',consolas,'Courier New',monospace\">Solution #<span style=\"color: #008080; text-decoration-color: #008080; font-weight: bold\">335</span>  found as: <span style=\"color: #008080; text-decoration-color: #008080; font-weight: bold\">16237</span> Progress: <span style=\"color: #008080; text-decoration-color: #008080; font-weight: bold\">64</span>%  Branches: <span style=\"color: #008080; text-decoration-color: #008080; font-weight: bold\">3625</span> Accepted Neighbors: <span style=\"color: #008080; text-decoration-color: #008080; font-weight: bold\">334</span> Model Stamp <span style=\"color: #008080; text-decoration-color: #008080; font-weight: bold\">2285155</span> Wall Time:\n",
       "<span style=\"color: #008080; text-decoration-color: #008080; font-weight: bold\">1327529</span>\n",
       "</pre>\n"
      ],
      "text/plain": [
       "Solution #\u001b[1;36m335\u001b[0m  found as: \u001b[1;36m16237\u001b[0m Progress: \u001b[1;36m64\u001b[0m%  Branches: \u001b[1;36m3625\u001b[0m Accepted Neighbors: \u001b[1;36m334\u001b[0m Model Stamp \u001b[1;36m2285155\u001b[0m Wall Time:\n",
       "\u001b[1;36m1327529\u001b[0m\n"
      ]
     },
     "metadata": {},
     "output_type": "display_data"
    },
    {
     "name": "stderr",
     "output_type": "stream",
     "text": [
      "I0000 00:00:1711740055.166095 1100508 search.cc:282] Solution #392 (16237, maximum = 24078, time = 22957 ms, branches = 3625, failures = 569664, depth = 33, Relocate<1>, neighbors = 1713034, filtered neighbors = 567376, accepted neighbors = 334, memory used = 486.45 MB, limit = 64%)\n",
      "I0000 00:00:1711740057.626225 1100508 search.cc:282] Solution #393 (16223, maximum = 24078, time = 25417 ms, branches = 3629, failures = 570731, depth = 33, Relocate<1>, neighbors = 1717966, filtered neighbors = 568442, accepted neighbors = 335, memory used = 486.45 MB, limit = 71%)\n",
      "I0000 00:00:1711740058.657477 1100508 search.cc:282] Solution #394 (16153, maximum = 24078, time = 26449 ms, branches = 3634, failures = 571188, depth = 33, Relocate<1>, neighbors = 1720044, filtered neighbors = 568898, accepted neighbors = 336, memory used = 486.45 MB, limit = 78%)\n",
      "I0000 00:00:1711740064.019908 1100508 search.cc:282] Solution #395 (16152, maximum = 24078, time = 31811 ms, branches = 3638, failures = 573508, depth = 33, Relocate<1>, neighbors = 1731617, filtered neighbors = 571217, accepted neighbors = 337, memory used = 486.45 MB, limit = 85%)\n",
      "I0000 00:00:1711740066.752108 1100508 search.cc:282] Solution #396 (16149, maximum = 24078, time = 34543 ms, branches = 3644, failures = 574698, depth = 33, Relocate<1>, neighbors = 1738426, filtered neighbors = 572406, accepted neighbors = 338, memory used = 486.45 MB, limit = 92%)\n"
     ]
    },
    {
     "data": {
      "text/html": [
       "<pre style=\"white-space:pre;overflow-x:auto;line-height:normal;font-family:Menlo,'DejaVu Sans Mono',consolas,'Courier New',monospace\">Solution #<span style=\"color: #008080; text-decoration-color: #008080; font-weight: bold\">340</span>  found as: <span style=\"color: #008080; text-decoration-color: #008080; font-weight: bold\">16136</span> Progress: <span style=\"color: #008080; text-decoration-color: #008080; font-weight: bold\">100</span>%  Branches: <span style=\"color: #008080; text-decoration-color: #008080; font-weight: bold\">3648</span> Accepted Neighbors: <span style=\"color: #008080; text-decoration-color: #008080; font-weight: bold\">339</span> Model Stamp <span style=\"color: #008080; text-decoration-color: #008080; font-weight: bold\">2304253</span> Wall \n",
       "Time: <span style=\"color: #008080; text-decoration-color: #008080; font-weight: bold\">1342138</span>\n",
       "</pre>\n"
      ],
      "text/plain": [
       "Solution #\u001b[1;36m340\u001b[0m  found as: \u001b[1;36m16136\u001b[0m Progress: \u001b[1;36m100\u001b[0m%  Branches: \u001b[1;36m3648\u001b[0m Accepted Neighbors: \u001b[1;36m339\u001b[0m Model Stamp \u001b[1;36m2304253\u001b[0m Wall \n",
       "Time: \u001b[1;36m1342138\u001b[0m\n"
      ]
     },
     "metadata": {},
     "output_type": "display_data"
    },
    {
     "name": "stderr",
     "output_type": "stream",
     "text": [
      "I0000 00:00:1711740069.772677 1100508 search.cc:282] Solution #397 (16136, maximum = 24078, time = 37564 ms, branches = 3648, failures = 576018, depth = 33, Relocate<1>, neighbors = 1748575, filtered neighbors = 573725, accepted neighbors = 339, memory used = 486.45 MB, limit = 100%)\n",
      "I0000 00:00:1711740069.773010 1100508 search.cc:282] Finished search tree (time = 37564 ms, branches = 3648, failures = 576049, neighbors = 1748575, filtered neighbors = 573725, accepted neigbors = 339, memory used = 486.45 MB)\n",
      "I0000 00:00:1711740069.775405 1100508 search.cc:282] End search (time = 37567 ms, branches = 3648, failures = 576049, memory used = 486.45 MB, speed = 97 branches/s)\n"
     ]
    },
    {
     "data": {
      "text/html": [
       "<pre style=\"white-space:pre;overflow-x:auto;line-height:normal;font-family:Menlo,'DejaVu Sans Mono',consolas,'Courier New',monospace\">Starting iteration <span style=\"color: #008080; text-decoration-color: #008080; font-weight: bold\">59</span> at <span style=\"color: #00ff00; text-decoration-color: #00ff00; font-weight: bold\">07:21:10</span> PM<span style=\"color: #808000; text-decoration-color: #808000\">...</span> Elapsed time: <span style=\"color: #00ff00; text-decoration-color: #00ff00; font-weight: bold\">0:21:58</span>.<span style=\"color: #008080; text-decoration-color: #008080; font-weight: bold\">195050</span>  Explore: <span style=\"color: #008080; text-decoration-color: #008080; font-weight: bold\">0</span>  Objective: <span style=\"color: #008080; text-decoration-color: #008080; font-weight: bold\">16136</span>\n",
       "</pre>\n"
      ],
      "text/plain": [
       "Starting iteration \u001b[1;36m59\u001b[0m at \u001b[1;92m07:21:10\u001b[0m PM\u001b[33m...\u001b[0m Elapsed time: \u001b[1;92m0:21:58\u001b[0m.\u001b[1;36m195050\u001b[0m  Explore: \u001b[1;36m0\u001b[0m  Objective: \u001b[1;36m16136\u001b[0m\n"
      ]
     },
     "metadata": {},
     "output_type": "display_data"
    },
    {
     "name": "stderr",
     "output_type": "stream",
     "text": [
      "I0000 00:00:1711740070.149434 1100508 search.cc:282] Start search (memory used = 487.40 MB)\n",
      "I0000 00:00:1711740070.154198 1100508 search.cc:282] Root node processed (time = 4 ms, constraints = 4799, memory used = 487.40 MB)\n",
      "I0000 00:00:1711740070.166399 1100508 search.cc:282] Solution #398 (16136, maximum = 24078, time = 16 ms, branches = 3681, failures = 576049, depth = 33, Relocate<1>, neighbors = 1748575, filtered neighbors = 573725, accepted neighbors = 339, memory used = 487.40 MB, limit = 7%)\n",
      "I0000 00:00:1711740099.707366 1100508 search.cc:282] Solution #399 (16133, maximum = 24078, time = 29557 ms, branches = 3685, failures = 588921, depth = 33, Exchange, neighbors = 1782928, filtered neighbors = 586596, accepted neighbors = 340, memory used = 487.40 MB, limit = 68%)\n",
      "I0000 00:00:1711740110.920481 1100508 search.cc:282] Solution #400 (16132, maximum = 24078, time = 40770 ms, branches = 3690, failures = 593817, depth = 33, Exchange, neighbors = 1789198, filtered neighbors = 591491, accepted neighbors = 341, memory used = 487.40 MB, limit = 94%)\n",
      "I0000 00:00:1711740112.413143 1100508 search.cc:282] Solution #401 (16119, maximum = 24078, time = 42263 ms, branches = 3694, failures = 594464, depth = 33, Relocate<1>, neighbors = 1794053, filtered neighbors = 592137, accepted neighbors = 342, memory used = 487.40 MB, limit = 98%)\n",
      "I0000 00:00:1711740113.152259 1100508 search.cc:282] Finished search tree (time = 43002 ms, branches = 3699, failures = 594823, neighbors = 1795509, filtered neighbors = 592460, accepted neigbors = 342, memory used = 487.40 MB)\n",
      "I0000 00:00:1711740113.155361 1100508 search.cc:282] End search (time = 43005 ms, branches = 3699, failures = 594823, memory used = 487.40 MB, speed = 86 branches/s)\n"
     ]
    },
    {
     "data": {
      "text/html": [
       "<pre style=\"white-space:pre;overflow-x:auto;line-height:normal;font-family:Menlo,'DejaVu Sans Mono',consolas,'Courier New',monospace\">Starting iteration <span style=\"color: #008080; text-decoration-color: #008080; font-weight: bold\">60</span> at <span style=\"color: #00ff00; text-decoration-color: #00ff00; font-weight: bold\">07:21:53</span> PM<span style=\"color: #808000; text-decoration-color: #808000\">...</span> Elapsed time: <span style=\"color: #00ff00; text-decoration-color: #00ff00; font-weight: bold\">0:22:41</span>.<span style=\"color: #008080; text-decoration-color: #008080; font-weight: bold\">584292</span>  Explore: <span style=\"color: #008080; text-decoration-color: #008080; font-weight: bold\">100000000000</span>  Objective: <span style=\"color: #008080; text-decoration-color: #008080; font-weight: bold\">16119</span>\n",
       "</pre>\n"
      ],
      "text/plain": [
       "Starting iteration \u001b[1;36m60\u001b[0m at \u001b[1;92m07:21:53\u001b[0m PM\u001b[33m...\u001b[0m Elapsed time: \u001b[1;92m0:22:41\u001b[0m.\u001b[1;36m584292\u001b[0m  Explore: \u001b[1;36m100000000000\u001b[0m  Objective: \u001b[1;36m16119\u001b[0m\n"
      ]
     },
     "metadata": {},
     "output_type": "display_data"
    },
    {
     "name": "stderr",
     "output_type": "stream",
     "text": [
      "I0000 00:00:1711740113.538553 1100508 search.cc:282] Start search (memory used = 488.36 MB)\n",
      "I0000 00:00:1711740113.543752 1100508 search.cc:282] Root node processed (time = 5 ms, constraints = 4799, memory used = 488.36 MB)\n",
      "I0000 00:00:1711740113.556972 1100508 search.cc:282] Solution #402 (16119, maximum = 24078, time = 18 ms, branches = 3732, failures = 594823, depth = 33, Relocate<1>, neighbors = 1795509, filtered neighbors = 592460, accepted neighbors = 342, memory used = 488.36 MB, limit = 7%)\n",
      "I0000 00:00:1711740121.968918 1100508 search.cc:282] Solution #403 (16116, maximum = 24078, time = 8430 ms, branches = 3736, failures = 598445, depth = 33, Relocate<1>, neighbors = 1817590, filtered neighbors = 596081, accepted neighbors = 343, memory used = 488.36 MB, limit = 19%)\n"
     ]
    },
    {
     "data": {
      "text/html": [
       "<pre style=\"white-space:pre;overflow-x:auto;line-height:normal;font-family:Menlo,'DejaVu Sans Mono',consolas,'Courier New',monospace\">Solution #<span style=\"color: #008080; text-decoration-color: #008080; font-weight: bold\">345</span>  found as: <span style=\"color: #008080; text-decoration-color: #008080; font-weight: bold\">16098</span> Progress: <span style=\"color: #008080; text-decoration-color: #008080; font-weight: bold\">21</span>%  Branches: <span style=\"color: #008080; text-decoration-color: #008080; font-weight: bold\">3741</span> Accepted Neighbors: <span style=\"color: #008080; text-decoration-color: #008080; font-weight: bold\">344</span> Model Stamp <span style=\"color: #008080; text-decoration-color: #008080; font-weight: bold\">2391911</span> Wall Time:\n",
       "<span style=\"color: #008080; text-decoration-color: #008080; font-weight: bold\">1395154</span>\n",
       "</pre>\n"
      ],
      "text/plain": [
       "Solution #\u001b[1;36m345\u001b[0m  found as: \u001b[1;36m16098\u001b[0m Progress: \u001b[1;36m21\u001b[0m%  Branches: \u001b[1;36m3741\u001b[0m Accepted Neighbors: \u001b[1;36m344\u001b[0m Model Stamp \u001b[1;36m2391911\u001b[0m Wall Time:\n",
       "\u001b[1;36m1395154\u001b[0m\n"
      ]
     },
     "metadata": {},
     "output_type": "display_data"
    },
    {
     "name": "stderr",
     "output_type": "stream",
     "text": [
      "I0000 00:00:1711740122.789555 1100508 search.cc:282] Solution #404 (16098, maximum = 24078, time = 9250 ms, branches = 3741, failures = 598797, depth = 33, Relocate<1>, neighbors = 1819451, filtered neighbors = 596432, accepted neighbors = 344, memory used = 488.36 MB, limit = 21%)\n",
      "I0000 00:00:1711740124.789252 1100508 search.cc:282] Solution #405 (16065, maximum = 24078, time = 11250 ms, branches = 3745, failures = 599660, depth = 33, Relocate<1>, neighbors = 1824804, filtered neighbors = 597294, accepted neighbors = 345, memory used = 488.36 MB, limit = 28%)\n",
      "I0000 00:00:1711740131.772336 1100508 search.cc:282] Solution #406 (16064, maximum = 24078, time = 18233 ms, branches = 3751, failures = 602683, depth = 33, Exchange, neighbors = 1846812, filtered neighbors = 600316, accepted neighbors = 346, memory used = 488.36 MB, limit = 42%)\n",
      "I0000 00:00:1711740134.659969 1100508 search.cc:282] Solution #407 (16060, maximum = 24078, time = 21121 ms, branches = 3755, failures = 603924, depth = 33, Exchange, neighbors = 1859693, filtered neighbors = 601556, accepted neighbors = 347, memory used = 488.36 MB, limit = 49%)\n",
      "I0000 00:00:1711740138.003175 1100508 search.cc:282] Solution #408 (16057, maximum = 24078, time = 24464 ms, branches = 3760, failures = 605359, depth = 33, Exchange, neighbors = 1872952, filtered neighbors = 602990, accepted neighbors = 348, memory used = 488.36 MB, limit = 56%)\n"
     ]
    },
    {
     "data": {
      "text/html": [
       "<pre style=\"white-space:pre;overflow-x:auto;line-height:normal;font-family:Menlo,'DejaVu Sans Mono',consolas,'Courier New',monospace\">Solution #<span style=\"color: #008080; text-decoration-color: #008080; font-weight: bold\">350</span>  found as: <span style=\"color: #008080; text-decoration-color: #008080; font-weight: bold\">16056</span> Progress: <span style=\"color: #008080; text-decoration-color: #008080; font-weight: bold\">61</span>%  Branches: <span style=\"color: #008080; text-decoration-color: #008080; font-weight: bold\">3764</span> Accepted Neighbors: <span style=\"color: #008080; text-decoration-color: #008080; font-weight: bold\">349</span> Model Stamp <span style=\"color: #008080; text-decoration-color: #008080; font-weight: bold\">2414276</span> Wall Time:\n",
       "<span style=\"color: #008080; text-decoration-color: #008080; font-weight: bold\">1412457</span>\n",
       "</pre>\n"
      ],
      "text/plain": [
       "Solution #\u001b[1;36m350\u001b[0m  found as: \u001b[1;36m16056\u001b[0m Progress: \u001b[1;36m61\u001b[0m%  Branches: \u001b[1;36m3764\u001b[0m Accepted Neighbors: \u001b[1;36m349\u001b[0m Model Stamp \u001b[1;36m2414276\u001b[0m Wall Time:\n",
       "\u001b[1;36m1412457\u001b[0m\n"
      ]
     },
     "metadata": {},
     "output_type": "display_data"
    },
    {
     "name": "stderr",
     "output_type": "stream",
     "text": [
      "I0000 00:00:1711740140.091225 1100508 search.cc:282] Solution #409 (16056, maximum = 24078, time = 26552 ms, branches = 3764, failures = 606240, depth = 33, Exchange, neighbors = 1885552, filtered neighbors = 603870, accepted neighbors = 349, memory used = 488.36 MB, limit = 61%)\n",
      "I0000 00:00:1711740152.673682 1100508 search.cc:282] Solution #410 (16047, maximum = 24078, time = 39134 ms, branches = 3771, failures = 611765, depth = 33, Exchange, neighbors = 1905833, filtered neighbors = 609394, accepted neighbors = 350, memory used = 488.36 MB, limit = 90%)\n",
      "I0000 00:00:1711740156.545273 1100508 search.cc:282] Finished search tree (time = 43006 ms, branches = 3774, failures = 613477, neighbors = 1920305, filtered neighbors = 611071, accepted neigbors = 350, memory used = 488.36 MB)\n",
      "I0000 00:00:1711740156.549334 1100508 search.cc:282] End search (time = 43010 ms, branches = 3774, failures = 613477, memory used = 488.36 MB, speed = 87 branches/s)\n"
     ]
    },
    {
     "data": {
      "text/html": [
       "<pre style=\"white-space:pre;overflow-x:auto;line-height:normal;font-family:Menlo,'DejaVu Sans Mono',consolas,'Courier New',monospace\">Starting iteration <span style=\"color: #008080; text-decoration-color: #008080; font-weight: bold\">61</span> at <span style=\"color: #00ff00; text-decoration-color: #00ff00; font-weight: bold\">07:22:36</span> PM<span style=\"color: #808000; text-decoration-color: #808000\">...</span> Elapsed time: <span style=\"color: #00ff00; text-decoration-color: #00ff00; font-weight: bold\">0:23:24</span>.<span style=\"color: #008080; text-decoration-color: #008080; font-weight: bold\">982880</span>  Explore: <span style=\"color: #008080; text-decoration-color: #008080; font-weight: bold\">100000000000</span>  Objective: <span style=\"color: #008080; text-decoration-color: #008080; font-weight: bold\">16047</span>\n",
       "</pre>\n"
      ],
      "text/plain": [
       "Starting iteration \u001b[1;36m61\u001b[0m at \u001b[1;92m07:22:36\u001b[0m PM\u001b[33m...\u001b[0m Elapsed time: \u001b[1;92m0:23:24\u001b[0m.\u001b[1;36m982880\u001b[0m  Explore: \u001b[1;36m100000000000\u001b[0m  Objective: \u001b[1;36m16047\u001b[0m\n"
      ]
     },
     "metadata": {},
     "output_type": "display_data"
    },
    {
     "name": "stderr",
     "output_type": "stream",
     "text": [
      "I0000 00:00:1711740156.938977 1100508 search.cc:282] Start search (memory used = 489.31 MB)\n",
      "I0000 00:00:1711740156.943989 1100508 search.cc:282] Root node processed (time = 4 ms, constraints = 4799, memory used = 489.31 MB)\n",
      "I0000 00:00:1711740156.957907 1100508 search.cc:282] Solution #411 (16047, maximum = 24078, time = 18 ms, branches = 3807, failures = 613477, depth = 33, Exchange, neighbors = 1920305, filtered neighbors = 611071, accepted neighbors = 350, memory used = 489.31 MB, limit = 7%)\n",
      "I0000 00:00:1711740168.105248 1100508 search.cc:282] Solution #412 (16046, maximum = 24078, time = 11166 ms, branches = 3811, failures = 618366, depth = 33, Exchange, neighbors = 1930604, filtered neighbors = 615959, accepted neighbors = 351, memory used = 489.31 MB, limit = 25%)\n",
      "I0000 00:00:1711740171.964524 1100508 search.cc:282] Solution #413 (16036, maximum = 24078, time = 15025 ms, branches = 3816, failures = 620028, depth = 33, Exchange, neighbors = 1944235, filtered neighbors = 617620, accepted neighbors = 352, memory used = 489.31 MB, limit = 34%)\n",
      "I0000 00:00:1711740174.294485 1100508 search.cc:282] Solution #414 (16027, maximum = 24078, time = 17355 ms, branches = 3820, failures = 621021, depth = 33, Exchange, neighbors = 1956729, filtered neighbors = 618612, accepted neighbors = 353, memory used = 489.31 MB, limit = 40%)\n"
     ]
    },
    {
     "data": {
      "text/html": [
       "<pre style=\"white-space:pre;overflow-x:auto;line-height:normal;font-family:Menlo,'DejaVu Sans Mono',consolas,'Courier New',monospace\">Solution #<span style=\"color: #008080; text-decoration-color: #008080; font-weight: bold\">355</span>  found as: <span style=\"color: #008080; text-decoration-color: #008080; font-weight: bold\">16024</span> Progress: <span style=\"color: #008080; text-decoration-color: #008080; font-weight: bold\">97</span>%  Branches: <span style=\"color: #008080; text-decoration-color: #008080; font-weight: bold\">3826</span> Accepted Neighbors: <span style=\"color: #008080; text-decoration-color: #008080; font-weight: bold\">354</span> Model Stamp <span style=\"color: #008080; text-decoration-color: #008080; font-weight: bold\">2500612</span> Wall Time:\n",
       "<span style=\"color: #008080; text-decoration-color: #008080; font-weight: bold\">1471273</span>\n",
       "</pre>\n"
      ],
      "text/plain": [
       "Solution #\u001b[1;36m355\u001b[0m  found as: \u001b[1;36m16024\u001b[0m Progress: \u001b[1;36m97\u001b[0m%  Branches: \u001b[1;36m3826\u001b[0m Accepted Neighbors: \u001b[1;36m354\u001b[0m Model Stamp \u001b[1;36m2500612\u001b[0m Wall Time:\n",
       "\u001b[1;36m1471273\u001b[0m\n"
      ]
     },
     "metadata": {},
     "output_type": "display_data"
    },
    {
     "name": "stderr",
     "output_type": "stream",
     "text": [
      "I0000 00:00:1711740198.908553 1100508 search.cc:282] Solution #415 (16024, maximum = 24078, time = 41969 ms, branches = 3826, failures = 631791, depth = 33, Exchange, neighbors = 1984429, filtered neighbors = 629381, accepted neighbors = 354, memory used = 489.31 MB, limit = 97%)\n",
      "I0000 00:00:1711740199.934640 1100508 search.cc:282] Finished search tree (time = 42995 ms, branches = 3829, failures = 632266, neighbors = 1990645, filtered neighbors = 629821, accepted neigbors = 354, memory used = 489.31 MB)\n",
      "I0000 00:00:1711740199.937831 1100508 search.cc:282] End search (time = 42998 ms, branches = 3829, failures = 632266, memory used = 489.31 MB, speed = 89 branches/s)\n"
     ]
    },
    {
     "data": {
      "text/html": [
       "<pre style=\"white-space:pre;overflow-x:auto;line-height:normal;font-family:Menlo,'DejaVu Sans Mono',consolas,'Courier New',monospace\">Starting iteration <span style=\"color: #008080; text-decoration-color: #008080; font-weight: bold\">62</span> at <span style=\"color: #00ff00; text-decoration-color: #00ff00; font-weight: bold\">07:23:20</span> PM<span style=\"color: #808000; text-decoration-color: #808000\">...</span> Elapsed time: <span style=\"color: #00ff00; text-decoration-color: #00ff00; font-weight: bold\">0:24:08</span>.<span style=\"color: #008080; text-decoration-color: #008080; font-weight: bold\">357494</span>  Explore: <span style=\"color: #008080; text-decoration-color: #008080; font-weight: bold\">100000000000</span>  Objective: <span style=\"color: #008080; text-decoration-color: #008080; font-weight: bold\">16024</span>\n",
       "</pre>\n"
      ],
      "text/plain": [
       "Starting iteration \u001b[1;36m62\u001b[0m at \u001b[1;92m07:23:20\u001b[0m PM\u001b[33m...\u001b[0m Elapsed time: \u001b[1;92m0:24:08\u001b[0m.\u001b[1;36m357494\u001b[0m  Explore: \u001b[1;36m100000000000\u001b[0m  Objective: \u001b[1;36m16024\u001b[0m\n"
      ]
     },
     "metadata": {},
     "output_type": "display_data"
    },
    {
     "name": "stderr",
     "output_type": "stream",
     "text": [
      "I0000 00:00:1711740200.311612 1100508 search.cc:282] Start search (memory used = 490.26 MB)\n",
      "I0000 00:00:1711740200.316419 1100508 search.cc:282] Root node processed (time = 4 ms, constraints = 4799, memory used = 490.26 MB)\n",
      "I0000 00:00:1711740200.328997 1100508 search.cc:282] Solution #416 (16024, maximum = 24078, time = 17 ms, branches = 3862, failures = 632266, depth = 33, Exchange, neighbors = 1990645, filtered neighbors = 629821, accepted neighbors = 354, memory used = 490.26 MB, limit = 6%)\n",
      "I0000 00:00:1711740245.311592 1100508 search.cc:282] Finished search tree (time = 44999 ms, branches = 3865, failures = 651928, neighbors = 2026631, filtered neighbors = 649447, accepted neigbors = 354, memory used = 490.26 MB)\n",
      "I0000 00:00:1711740245.314916 1100508 search.cc:282] End search (time = 45003 ms, branches = 3865, failures = 651928, memory used = 490.26 MB, speed = 85 branches/s)\n"
     ]
    },
    {
     "data": {
      "text/html": [
       "<pre style=\"white-space:pre;overflow-x:auto;line-height:normal;font-family:Menlo,'DejaVu Sans Mono',consolas,'Courier New',monospace\">Starting iteration <span style=\"color: #008080; text-decoration-color: #008080; font-weight: bold\">63</span> at <span style=\"color: #00ff00; text-decoration-color: #00ff00; font-weight: bold\">07:24:05</span> PM<span style=\"color: #808000; text-decoration-color: #808000\">...</span> Elapsed time: <span style=\"color: #00ff00; text-decoration-color: #00ff00; font-weight: bold\">0:24:53</span>.<span style=\"color: #008080; text-decoration-color: #008080; font-weight: bold\">463911</span>  Explore: <span style=\"color: #008080; text-decoration-color: #008080; font-weight: bold\">100000000000</span>  Objective: <span style=\"color: #008080; text-decoration-color: #008080; font-weight: bold\">16024</span>\n",
       "</pre>\n"
      ],
      "text/plain": [
       "Starting iteration \u001b[1;36m63\u001b[0m at \u001b[1;92m07:24:05\u001b[0m PM\u001b[33m...\u001b[0m Elapsed time: \u001b[1;92m0:24:53\u001b[0m.\u001b[1;36m463911\u001b[0m  Explore: \u001b[1;36m100000000000\u001b[0m  Objective: \u001b[1;36m16024\u001b[0m\n"
      ]
     },
     "metadata": {},
     "output_type": "display_data"
    },
    {
     "name": "stderr",
     "output_type": "stream",
     "text": [
      "I0000 00:00:1711740245.418515 1100508 search.cc:282] Start search (memory used = 490.26 MB)\n",
      "I0000 00:00:1711740245.423116 1100508 search.cc:282] Root node processed (time = 4 ms, constraints = 4799, memory used = 490.26 MB)\n",
      "I0000 00:00:1711740245.439757 1100508 search.cc:282] Solution #417 (16024, maximum = 24078, time = 21 ms, branches = 3898, failures = 651928, depth = 33, Exchange, neighbors = 2026631, filtered neighbors = 649447, accepted neighbors = 354, memory used = 490.26 MB, limit = 6%)\n",
      "I0000 00:00:1711740267.165097 1100508 search.cc:282] Solution #418 (16023, maximum = 24078, time = 21746 ms, branches = 3902, failures = 661335, depth = 33, Cross, neighbors = 2043613, filtered neighbors = 658853, accepted neighbors = 355, memory used = 490.26 MB, limit = 48%)\n",
      "I0000 00:00:1711740270.034320 1100508 search.cc:282] Solution #419 (15999, maximum = 24078, time = 24615 ms, branches = 3907, failures = 662540, depth = 33, Exchange, neighbors = 2059718, filtered neighbors = 660057, accepted neighbors = 356, memory used = 490.26 MB, limit = 54%)\n",
      "I0000 00:00:1711740279.491132 1100508 search.cc:282] Solution #420 (15998, maximum = 24078, time = 34072 ms, branches = 3911, failures = 666611, depth = 33, Cross, neighbors = 2098205, filtered neighbors = 664127, accepted neighbors = 357, memory used = 490.26 MB, limit = 75%)\n",
      "I0000 00:00:1711740282.956276 1100508 search.cc:282] Solution #421 (15942, maximum = 24078, time = 37537 ms, branches = 3917, failures = 668140, depth = 33, Relocate<1>, neighbors = 2100504, filtered neighbors = 665655, accepted neighbors = 358, memory used = 490.26 MB, limit = 83%)\n"
     ]
    },
    {
     "data": {
      "text/html": [
       "<pre style=\"white-space:pre;overflow-x:auto;line-height:normal;font-family:Menlo,'DejaVu Sans Mono',consolas,'Courier New',monospace\">Solution #<span style=\"color: #008080; text-decoration-color: #008080; font-weight: bold\">360</span>  found as: <span style=\"color: #008080; text-decoration-color: #008080; font-weight: bold\">15904</span> Progress: <span style=\"color: #008080; text-decoration-color: #008080; font-weight: bold\">94</span>%  Branches: <span style=\"color: #008080; text-decoration-color: #008080; font-weight: bold\">3921</span> Accepted Neighbors: <span style=\"color: #008080; text-decoration-color: #008080; font-weight: bold\">359</span> Model Stamp <span style=\"color: #008080; text-decoration-color: #008080; font-weight: bold\">2635354</span> Wall Time:\n",
       "<span style=\"color: #008080; text-decoration-color: #008080; font-weight: bold\">1560147</span>\n",
       "</pre>\n"
      ],
      "text/plain": [
       "Solution #\u001b[1;36m360\u001b[0m  found as: \u001b[1;36m15904\u001b[0m Progress: \u001b[1;36m94\u001b[0m%  Branches: \u001b[1;36m3921\u001b[0m Accepted Neighbors: \u001b[1;36m359\u001b[0m Model Stamp \u001b[1;36m2635354\u001b[0m Wall Time:\n",
       "\u001b[1;36m1560147\u001b[0m\n"
      ]
     },
     "metadata": {},
     "output_type": "display_data"
    },
    {
     "name": "stderr",
     "output_type": "stream",
     "text": [
      "I0000 00:00:1711740287.783156 1100508 search.cc:282] Solution #422 (15904, maximum = 24078, time = 42364 ms, branches = 3921, failures = 670266, depth = 33, Relocate<1>, neighbors = 2107886, filtered neighbors = 667780, accepted neighbors = 359, memory used = 490.26 MB, limit = 94%)\n",
      "I0000 00:00:1711740287.975052 1100508 search.cc:282] Solution #423 (15793, maximum = 24078, time = 42556 ms, branches = 3926, failures = 670346, depth = 33, Relocate<1>, neighbors = 2109012, filtered neighbors = 667859, accepted neighbors = 360, memory used = 490.26 MB, limit = 94%)\n",
      "I0000 00:00:1711740290.422213 1100508 search.cc:282] Finished search tree (time = 45003 ms, branches = 3929, failures = 671445, neighbors = 2112975, filtered neighbors = 668924, accepted neigbors = 360, memory used = 490.26 MB)\n",
      "I0000 00:00:1711740290.424886 1100508 search.cc:282] End search (time = 45006 ms, branches = 3929, failures = 671445, memory used = 490.26 MB, speed = 87 branches/s)\n"
     ]
    },
    {
     "data": {
      "text/html": [
       "<pre style=\"white-space:pre;overflow-x:auto;line-height:normal;font-family:Menlo,'DejaVu Sans Mono',consolas,'Courier New',monospace\">Starting iteration <span style=\"color: #008080; text-decoration-color: #008080; font-weight: bold\">64</span> at <span style=\"color: #00ff00; text-decoration-color: #00ff00; font-weight: bold\">07:24:51</span> PM<span style=\"color: #808000; text-decoration-color: #808000\">...</span> Elapsed time: <span style=\"color: #00ff00; text-decoration-color: #00ff00; font-weight: bold\">0:25:39</span>.<span style=\"color: #008080; text-decoration-color: #008080; font-weight: bold\">119622</span>  Explore: <span style=\"color: #008080; text-decoration-color: #008080; font-weight: bold\">100000000000</span>  Objective: <span style=\"color: #008080; text-decoration-color: #008080; font-weight: bold\">15793</span>\n",
       "</pre>\n"
      ],
      "text/plain": [
       "Starting iteration \u001b[1;36m64\u001b[0m at \u001b[1;92m07:24:51\u001b[0m PM\u001b[33m...\u001b[0m Elapsed time: \u001b[1;92m0:25:39\u001b[0m.\u001b[1;36m119622\u001b[0m  Explore: \u001b[1;36m100000000000\u001b[0m  Objective: \u001b[1;36m15793\u001b[0m\n"
      ]
     },
     "metadata": {},
     "output_type": "display_data"
    },
    {
     "name": "stderr",
     "output_type": "stream",
     "text": [
      "I0000 00:00:1711740291.072989 1100508 search.cc:282] Start search (memory used = 491.29 MB)\n",
      "I0000 00:00:1711740291.077898 1100508 search.cc:282] Root node processed (time = 4 ms, constraints = 4799, memory used = 491.29 MB)\n",
      "I0000 00:00:1711740291.090729 1100508 search.cc:282] Solution #424 (15793, maximum = 24078, time = 17 ms, branches = 3962, failures = 671445, depth = 33, Relocate<1>, neighbors = 2112975, filtered neighbors = 668924, accepted neighbors = 360, memory used = 491.29 MB, limit = 6%)\n",
      "I0000 00:00:1711740291.699439 1100508 search.cc:282] Solution #425 (15776, maximum = 24078, time = 626 ms, branches = 3966, failures = 671712, depth = 33, Relocate<1>, neighbors = 2114994, filtered neighbors = 669190, accepted neighbors = 361, memory used = 491.29 MB, limit = 13%)\n",
      "I0000 00:00:1711740300.622349 1100508 search.cc:282] Solution #426 (15769, maximum = 24078, time = 9549 ms, branches = 3971, failures = 675674, depth = 33, Exchange, neighbors = 2129508, filtered neighbors = 673151, accepted neighbors = 362, memory used = 491.29 MB, limit = 21%)\n",
      "I0000 00:00:1711740305.052589 1100508 search.cc:282] Solution #427 (15768, maximum = 24078, time = 13979 ms, branches = 3975, failures = 677623, depth = 33, Relocate<1>, neighbors = 2135599, filtered neighbors = 675099, accepted neighbors = 363, memory used = 491.29 MB, limit = 30%)\n"
     ]
    },
    {
     "data": {
      "text/html": [
       "<pre style=\"white-space:pre;overflow-x:auto;line-height:normal;font-family:Menlo,'DejaVu Sans Mono',consolas,'Courier New',monospace\">Solution #<span style=\"color: #008080; text-decoration-color: #008080; font-weight: bold\">365</span>  found as: <span style=\"color: #008080; text-decoration-color: #008080; font-weight: bold\">15767</span> Progress: <span style=\"color: #008080; text-decoration-color: #008080; font-weight: bold\">33</span>%  Branches: <span style=\"color: #008080; text-decoration-color: #008080; font-weight: bold\">3981</span> Accepted Neighbors: <span style=\"color: #008080; text-decoration-color: #008080; font-weight: bold\">364</span> Model Stamp <span style=\"color: #008080; text-decoration-color: #008080; font-weight: bold\">2667111</span> Wall Time:\n",
       "<span style=\"color: #008080; text-decoration-color: #008080; font-weight: bold\">1577426</span>\n",
       "</pre>\n"
      ],
      "text/plain": [
       "Solution #\u001b[1;36m365\u001b[0m  found as: \u001b[1;36m15767\u001b[0m Progress: \u001b[1;36m33\u001b[0m%  Branches: \u001b[1;36m3981\u001b[0m Accepted Neighbors: \u001b[1;36m364\u001b[0m Model Stamp \u001b[1;36m2667111\u001b[0m Wall Time:\n",
       "\u001b[1;36m1577426\u001b[0m\n"
      ]
     },
     "metadata": {},
     "output_type": "display_data"
    },
    {
     "name": "stderr",
     "output_type": "stream",
     "text": [
      "I0000 00:00:1711740305.060332 1100508 search.cc:282] Solution #428 (15767, maximum = 24078, time = 13987 ms, branches = 3981, failures = 677625, depth = 33, Exchange, neighbors = 2135601, filtered neighbors = 675100, accepted neighbors = 364, memory used = 491.29 MB, limit = 33%)\n",
      "I0000 00:00:1711740305.217466 1100508 search.cc:282] Solution #429 (15763, maximum = 24078, time = 14144 ms, branches = 3985, failures = 677692, depth = 33, Relocate<1>, neighbors = 2136116, filtered neighbors = 675166, accepted neighbors = 365, memory used = 491.29 MB, limit = 40%)\n",
      "I0000 00:00:1711740336.114756 1100508 search.cc:282] Finished search tree (time = 45041 ms, branches = 3989, failures = 691325, neighbors = 2170924, filtered neighbors = 688764, accepted neigbors = 365, memory used = 491.29 MB)\n",
      "I0000 00:00:1711740336.116704 1100508 search.cc:282] End search (time = 45043 ms, branches = 3989, failures = 691325, memory used = 491.29 MB, speed = 88 branches/s)\n"
     ]
    },
    {
     "data": {
      "text/html": [
       "<pre style=\"white-space:pre;overflow-x:auto;line-height:normal;font-family:Menlo,'DejaVu Sans Mono',consolas,'Courier New',monospace\">Starting iteration <span style=\"color: #008080; text-decoration-color: #008080; font-weight: bold\">65</span> at <span style=\"color: #00ff00; text-decoration-color: #00ff00; font-weight: bold\">07:25:36</span> PM<span style=\"color: #808000; text-decoration-color: #808000\">...</span> Elapsed time: <span style=\"color: #00ff00; text-decoration-color: #00ff00; font-weight: bold\">0:26:24</span>.<span style=\"color: #008080; text-decoration-color: #008080; font-weight: bold\">537857</span>  Explore: <span style=\"color: #008080; text-decoration-color: #008080; font-weight: bold\">100000000000</span>  Objective: <span style=\"color: #008080; text-decoration-color: #008080; font-weight: bold\">15763</span>\n",
       "</pre>\n"
      ],
      "text/plain": [
       "Starting iteration \u001b[1;36m65\u001b[0m at \u001b[1;92m07:25:36\u001b[0m PM\u001b[33m...\u001b[0m Elapsed time: \u001b[1;92m0:26:24\u001b[0m.\u001b[1;36m537857\u001b[0m  Explore: \u001b[1;36m100000000000\u001b[0m  Objective: \u001b[1;36m15763\u001b[0m\n"
      ]
     },
     "metadata": {},
     "output_type": "display_data"
    },
    {
     "name": "stderr",
     "output_type": "stream",
     "text": [
      "I0000 00:00:1711740336.491664 1100508 search.cc:282] Start search (memory used = 492.23 MB)\n",
      "I0000 00:00:1711740336.496315 1100508 search.cc:282] Root node processed (time = 4 ms, constraints = 4799, memory used = 492.23 MB)\n",
      "I0000 00:00:1711740336.508575 1100508 search.cc:282] Solution #430 (15763, maximum = 24078, time = 16 ms, branches = 4022, failures = 691325, depth = 33, Relocate<1>, neighbors = 2170924, filtered neighbors = 688764, accepted neighbors = 365, memory used = 492.23 MB, limit = 6%)\n",
      "I0000 00:00:1711740357.619843 1100508 search.cc:282] Solution #431 (15753, maximum = 24078, time = 21128 ms, branches = 4026, failures = 700548, depth = 33, Cross, neighbors = 2190953, filtered neighbors = 697986, accepted neighbors = 366, memory used = 492.23 MB, limit = 46%)\n",
      "I0000 00:00:1711740359.738451 1100508 search.cc:282] Solution #432 (15748, maximum = 24078, time = 23246 ms, branches = 4031, failures = 701445, depth = 33, Cross, neighbors = 2201120, filtered neighbors = 698882, accepted neighbors = 367, memory used = 492.23 MB, limit = 51%)\n",
      "I0000 00:00:1711740359.761065 1100508 search.cc:282] Solution #433 (15746, maximum = 24078, time = 23269 ms, branches = 4035, failures = 701454, depth = 33, Cross, neighbors = 2201191, filtered neighbors = 698890, accepted neighbors = 368, memory used = 492.23 MB, limit = 51%)\n",
      "I0000 00:00:1711740381.519666 1100508 search.cc:282] Finished search tree (time = 45027 ms, branches = 4040, failures = 710925, neighbors = 2238728, filtered neighbors = 708325, accepted neigbors = 368, memory used = 492.23 MB)\n",
      "I0000 00:00:1711740381.522211 1100508 search.cc:282] End search (time = 45030 ms, branches = 4040, failures = 710925, memory used = 492.23 MB, speed = 89 branches/s)\n"
     ]
    },
    {
     "data": {
      "text/html": [
       "<pre style=\"white-space:pre;overflow-x:auto;line-height:normal;font-family:Menlo,'DejaVu Sans Mono',consolas,'Courier New',monospace\">Starting iteration <span style=\"color: #008080; text-decoration-color: #008080; font-weight: bold\">66</span> at <span style=\"color: #00ff00; text-decoration-color: #00ff00; font-weight: bold\">07:26:21</span> PM<span style=\"color: #808000; text-decoration-color: #808000\">...</span> Elapsed time: <span style=\"color: #00ff00; text-decoration-color: #00ff00; font-weight: bold\">0:27:09</span>.<span style=\"color: #008080; text-decoration-color: #008080; font-weight: bold\">946639</span>  Explore: <span style=\"color: #008080; text-decoration-color: #008080; font-weight: bold\">100000000000</span>  Objective: <span style=\"color: #008080; text-decoration-color: #008080; font-weight: bold\">15746</span>\n",
       "</pre>\n"
      ],
      "text/plain": [
       "Starting iteration \u001b[1;36m66\u001b[0m at \u001b[1;92m07:26:21\u001b[0m PM\u001b[33m...\u001b[0m Elapsed time: \u001b[1;92m0:27:09\u001b[0m.\u001b[1;36m946639\u001b[0m  Explore: \u001b[1;36m100000000000\u001b[0m  Objective: \u001b[1;36m15746\u001b[0m\n"
      ]
     },
     "metadata": {},
     "output_type": "display_data"
    },
    {
     "name": "stderr",
     "output_type": "stream",
     "text": [
      "I0000 00:00:1711740381.900331 1100508 search.cc:282] Start search (memory used = 493.19 MB)\n",
      "I0000 00:00:1711740381.904972 1100508 search.cc:282] Root node processed (time = 4 ms, constraints = 4799, memory used = 493.19 MB)\n",
      "I0000 00:00:1711740381.917466 1100508 search.cc:282] Solution #434 (15746, maximum = 24078, time = 17 ms, branches = 4073, failures = 710925, depth = 33, Cross, neighbors = 2238728, filtered neighbors = 708325, accepted neighbors = 368, memory used = 493.19 MB, limit = 6%)\n"
     ]
    }
   ],
   "source": [
    "# The Loop #This is it ### Click ## HERE\n",
    "\n",
    "# import the rich library progress bar\n",
    "from rich.progress import track\n",
    "from rich import print\n",
    "\n",
    "\n",
    "from rich.console import Console\n",
    "from rich.table import Table\n",
    "from rich.progress import track\n",
    "from rich.panel import Panel\n",
    "from rich.text import Text\n",
    "from rich import box\n",
    "from rich import color\n",
    "from time import sleep\n",
    "import datetime\n",
    "import random\n",
    "from rich.progress import track, Progress, ProgressColumn, TextColumn, SpinnerColumn, TimeElapsedColumn\n",
    "old_objective = solution.ObjectiveValue() + 1\n",
    "\n",
    "gtg = False\n",
    "# save the current time to a variable\n",
    "start_time = datetime.datetime.now()\n",
    "\n",
    "\n",
    "for i in range(loops):\n",
    "\n",
    "    # solution_limit += 1\n",
    "    end_time = datetime.datetime.now()\n",
    "    elapsed_time = end_time - start_time\n",
    "    now = datetime.datetime.now()\n",
    "    # print the current time in a human readable format\n",
    "    now = now.strftime('%I:%M:%S %p')\n",
    "    print(\n",
    "        f\"Starting iteration {i+1} at {now}... Elapsed time: {elapsed_time}  Explore: {explore_coefficient}  Objective: {solution.ObjectiveValue()}\")\n",
    "    # explore_coefficient = 0#10000000000#int(explore_coefficient / starting_explore_factor)\n",
    "    # if memory_coefficient <= 0.92:\n",
    "    #     memory_coefficient += 0.03\n",
    "    # max_retry = 1\n",
    "    # if gtg and solution.ObjectiveValue() == old_objective:\n",
    "    #     seconds_per_iter = int((seconds_per_iter+1)*1.05)\n",
    "    #     for p in range(max_retry):\n",
    "    #         p_start_time = datetime.datetime.now()\n",
    "    #         rand_decimal = random.uniform(0.01, 0.9)\n",
    "    #         rand_exp = random.randint(2, 9)\n",
    "    #         # rand_int = random.randint(100, 1000)*11**rand_exp\n",
    "    #         rand_int = 0#100000000000000\n",
    "    #         search_parameters = set_search_parameters(search_parameters, solve_minutes=1, explore_coefficient=int(rand_int), memory_coefficient=(rand_decimal), log_search=False, seconds_per_iter=27, solution_limit=solution_limit)\n",
    "\n",
    "    #         print(f\"Iteration: {p} Explore: {rand_int} Memory: {rand_decimal} Objective: {old_objective} New Objective: {solution.ObjectiveValue()}\")\n",
    "    #         old_objective = solution.ObjectiveValue()\n",
    "    #         search_parameters.solution_limit = solution_limit\n",
    "    #         solution = routing.SolveFromAssignmentWithParameters(solution, search_parameters)\n",
    "    #         gtg = False\n",
    "    #         p_end_time = datetime.datetime.now()\n",
    "    #         p_duration = p_end_time - p_start_time\n",
    "    #         print(f\"Elapsed time for iteration {i} is {p_duration} with value {solution.ObjectiveValue()}\")\n",
    "    #         if old_objective != solution.ObjectiveValue():\n",
    "    #             # memory_coefficient = rand_decimal\n",
    "    #             # explore_coefficient = rand_int\n",
    "    #             gtg = True\n",
    "    #             break\n",
    "    # else:\n",
    "    # if True:\n",
    "    search_parameters = set_search_parameters(search_parameters, solve_minutes=solve_minutes, explore_coefficient=int(\n",
    "        explore_coefficient), memory_coefficient=memory_coefficient, log_search=False, seconds_per_iter=seconds_per_iter, solution_limit=solution_limit)\n",
    "    old_objective = solution.ObjectiveValue()\n",
    "    # set a limit for the number of solutions find\n",
    "    search_parameters.solution_limit = solution_limit\n",
    "    search_parameters.time_limit.seconds = seconds_per_iter\n",
    "    search_parameters.use_depth_first_search = pywrapcp.BOOL_TRUE\n",
    "\n",
    "    search_parameters.multi_armed_bandit_compound_operator_exploration_coefficient = explore_coefficient\n",
    "    last_obj = solution.ObjectiveValue()\n",
    "    solution = routing.SolveFromAssignmentWithParameters(\n",
    "        solution, search_parameters)\n",
    "    gtg = True\n",
    "    dataset = assign_new_rts(data, manager, routing, solution, dataset)\n",
    "    # dset = combined_tracker_and_statistics(solution, filename, dataset, data, manager, routing, search_parameters)\n",
    "    average_new_dist = (\n",
    "        dataset.groupby([\"NEW RT\", \"NEW DAY\", \"NEW STOP\"])[\"NEW DIST\"]\n",
    "        .sum()\n",
    "        .quantile(0.92)\n",
    "    )\n",
    "    #  Random condition that is True 20% of the time\n",
    "    if random.random() < 0.2:\n",
    "        explore_coefficient = 0\n",
    "    else:\n",
    "        explore_coefficient = 100_000_000_000\n",
    "    # split the routes into days\n",
    "    dataset = set_days_for_routes(\n",
    "        dataset,\n",
    "        min_stops=5,\n",
    "        max_stops=9,\n",
    "        distance_threshold=average_new_dist,\n",
    "        day_factor=4,\n",
    "    )\n",
    "    # if memory_coefficient > .9:\n",
    "    #     memory_coefficient = 0.01\n",
    "    # solve_minutes *= 1.05\n",
    "    # starting_explore_factor += 0.1\n",
    "\n",
    "    # if old_objective == solution.ObjectiveValue():\n",
    "    #     # explore_coefficient *= 4\n",
    "    #     seconds_per_iter = int((seconds_per_iter+1)*1.05)\n",
    "    #     if memory_coefficient >= 0.1:\n",
    "    #         memory_coefficient -= 0.1\n",
    "    # create animation every 4th iter of i\n",
    "    if last_obj != solution.ObjectiveValue():\n",
    "        fname = create_final_route_frame(dataset)  # Display the final frame\n",
    "        filenames.append(fname)\n",
    "    # display(final_fig[i])\n",
    "    if i % 5 == 0:\n",
    "        seconds_per_iter += 2\n",
    "        solution_limit += 1\n",
    "\n",
    "\n",
    "dataset = assign_new_rts(data, manager, routing, solution, dataset)\n",
    "\n",
    "dataset = set_days_for_routes(\n",
    "    dataset,\n",
    "    min_stops=5,\n",
    "    max_stops=8,\n",
    "    distance_threshold=average_new_dist,\n",
    "    day_factor=2,\n",
    ")\n",
    "# _ = combined_tracker_and_statistics(solution, filename, dataset, data, manager, routing, search_parameters)\n",
    "# m = create_map_with_accessible_tooltips(dataset)\n",
    "# display(m)\n",
    "# create_video_from_filenames(filenames)\n",
    "\n",
    "\n",
    "def display_video_in_notebook(video_path):\n",
    "    \"\"\"\n",
    "    Display a video file in a Jupyter Notebook.\n",
    "\n",
    "    Args:\n",
    "        video_path (str): The path to the video file to display.\n",
    "    \"\"\"\n",
    "    video_html = HTML(f\"\"\"\n",
    "        <video width=\"640\" height=\"480\" controls>\n",
    "          <source src=\"{video_path}\" type=\"video/mp4\">\n",
    "        Your browser does not support the video tag.\n",
    "        </video>\n",
    "    \"\"\")\n",
    "    display(video_html)\n",
    "\n",
    "\n",
    "create_video_from_filenames(\n",
    "    filenames, fps=fps, output_filename=f\"rtev{solution.ObjectiveValue()}.mp4\")\n",
    "display_video_in_notebook(f\"rtev{solution.ObjectiveValue()}.mp4\")\n"
   ]
  },
  {
   "cell_type": "code",
   "execution_count": null,
   "metadata": {
    "notebookRunGroups": {
     "groupValue": "2"
    }
   },
   "outputs": [],
   "source": [
    "create_video_from_filenames(\n",
    "    filenames[60:], fps=2, output_filename=f\"rtevakSA{solution.ObjectiveValue()}.mp4\")\n",
    "display_video_in_notebook(f\"rtevakSA{solution.ObjectiveValue()}.mp4\")\n"
   ]
  },
  {
   "cell_type": "code",
   "execution_count": null,
   "metadata": {
    "notebookRunGroups": {
     "groupValue": "2"
    }
   },
   "outputs": [],
   "source": [
    "create_map_with_accessible_tooltips(dataset)\n"
   ]
  },
  {
   "cell_type": "code",
   "execution_count": null,
   "metadata": {},
   "outputs": [],
   "source": [
    "dataset.to_csv(\"final_dataset5.csv\", index=False)\n"
   ]
  },
  {
   "cell_type": "markdown",
   "metadata": {},
   "source": [
    "## old stuff\n"
   ]
  },
  {
   "cell_type": "code",
   "execution_count": null,
   "metadata": {},
   "outputs": [],
   "source": [
    "create_video_from_filenames(\n",
    "    filenames, fps=5, output_filename=f\"dog{solution.ObjectiveValue()}.mp4\")\n",
    "display_video_in_notebook(f\"dog{solution.ObjectiveValue()}.mp4\")\n"
   ]
  },
  {
   "cell_type": "code",
   "execution_count": null,
   "metadata": {},
   "outputs": [],
   "source": [
    "create_video_from_filenames(filenames, fps=3,)\n",
    "display_video_in_notebook('route_animation.mp4')\n"
   ]
  },
  {
   "cell_type": "code",
   "execution_count": null,
   "metadata": {},
   "outputs": [],
   "source": [
    "import os\n",
    "import glob\n",
    "\n",
    "\n",
    "def clear_image_output_directory(directory):\n",
    "    \"\"\"\n",
    "    Deletes all files in the specified directory.\n",
    "\n",
    "    Args:\n",
    "        directory (str): The path to the directory from which to delete files.\n",
    "    \"\"\"\n",
    "    # Construct a path pattern to match all files in the directory\n",
    "    file_pattern = os.path.join(directory, '*')\n",
    "    # List all files matching the pattern\n",
    "    files = glob.glob(file_pattern)\n",
    "    # Loop over the list of filepaths & remove each file.\n",
    "    for file in files:\n",
    "        os.remove(file)\n",
    "    print(f\"All files removed from {directory}\")\n",
    "\n",
    "\n",
    "# Assuming your output directory is named 'route_snapshots'\n",
    "clear_image_output_directory('route_snapshots')\n"
   ]
  },
  {
   "cell_type": "code",
   "execution_count": null,
   "metadata": {},
   "outputs": [],
   "source": [
    "create_map_with_accessible_tooltips(dataset)\n"
   ]
  }
 ],
 "metadata": {
  "kernelspec": {
   "display_name": "python3",
   "language": "python",
   "name": "python3"
  },
  "language_info": {
   "codemirror_mode": {
    "name": "ipython",
    "version": 3
   },
   "file_extension": ".py",
   "mimetype": "text/x-python",
   "name": "python",
   "nbconvert_exporter": "python",
   "pygments_lexer": "ipython3",
   "version": "3.10.13"
  }
 },
 "nbformat": 4,
 "nbformat_minor": 4
}
